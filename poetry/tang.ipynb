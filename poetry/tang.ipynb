{
 "cells": [
  {
   "cell_type": "code",
   "execution_count": null,
   "id": "c7d2e825",
   "metadata": {},
   "outputs": [],
   "source": [
    "import json\n",
    "import os\n",
    "from collections import Counter\n",
    "\n",
    "DATAS_CONFIG = \"./datas.json\"\n",
    "\n",
    "def count_elements(lst):\n",
    "    element_counts = Counter(lst)\n",
    "    return dict(element_counts)\n",
    "\n",
    "def count_and_sort_elements(lst:list, sort_up:bool=True) -> dict:\n",
    "    element_counts = Counter(lst)\n",
    "    return dict(sorted(element_counts.items(), key=lambda x: x[1], reverse=sort_up))\n",
    "\n",
    "\n",
    "class PlainDataLoader():\n",
    "    def __init__(self, config_path: str=DATAS_CONFIG) -> None:\n",
    "        '''使用提供的jason文件初始化'''\n",
    "        self._path = config_path\n",
    "        with open(config_path, 'r', encoding='utf-8') as config:\n",
    "            data = json.load(config)\n",
    "            self.top_level_path:str = data[\"cp_path\"]\n",
    "            self.datasets:dict = data[\"datasets\"]\n",
    "            self.id_table = {\n",
    "                v[\"id\"]: k for (k, v) in self.datasets.items()\n",
    "            }\n",
    "    def target_path(self, target: str) -> str:\n",
    "        '''return target path'''\n",
    "        if target not in self.datasets:\n",
    "            print(f\"{target} is not included in datas.json as a dataset\")\n",
    "            return None\n",
    "        configs = self.datasets[target]\n",
    "        full_path = os.path.join(self.top_level_path, configs[\"path\"])\n",
    "        return full_path\n",
    "    \n",
    "    def body_extractor(self, target: str, extractor_tag: str = 'paragraphs') -> list:\n",
    "        full_path = self.target_path(target)\n",
    "        configs = self.datasets[target]\n",
    "        tag = configs[extractor_tag]\n",
    "        body = []  # may get a bit huge... \n",
    "        \n",
    "        # single file json\n",
    "        if os.path.isfile(full_path): \n",
    "            with open(full_path, mode='r', encoding='utf-8') as file:\n",
    "                data = json.load(file)\n",
    "                for item in data:\n",
    "                    body += item[tag]\n",
    "            return body\n",
    "        \n",
    "        # a dir, probably with a skip list\n",
    "        subpaths = os.listdir(full_path)\n",
    "        for filename in subpaths:\n",
    "            if filename in configs[\"excludes\"]:\n",
    "                print(f\"neglect {filename} as it is excluded in jason config\")\n",
    "                continue\n",
    "            with open(os.path.join(full_path, filename), mode='r', encoding='utf-8') as file:\n",
    "#                 print(f\"check {file}...\")\n",
    "                data = json.load(file)\n",
    "                for item in data:\n",
    "                    body += item[tag]\n",
    "        return body\n",
    "\n",
    "\n",
    "    def author_from_poem(self, target: str) -> list:\n",
    "        full_path = self.target_path(target)\n",
    "        configs = self.datasets[target]\n",
    "        tag = configs['author']\n",
    "        body = []  # may get a bit huge... \n",
    "        \n",
    "        # a dir, probably with a skip list\n",
    "        subpaths = os.listdir(full_path)\n",
    "        for filename in subpaths:\n",
    "            if filename in configs[\"excludes\"]:\n",
    "                print(f\"neglect {filename} as it is excluded in jason config\")\n",
    "                continue\n",
    "            with open(os.path.join(full_path, filename), mode='r', encoding='utf-8') as file:\n",
    "#                 print(f\"check {file}...\")\n",
    "                data = json.load(file)\n",
    "                for item in data:\n",
    "#                     print(f\"item is {item[tag]}\")\n",
    "                    body.append(item[tag])\n",
    "        \n",
    "        return body  \n",
    "        \n",
    "\n",
    "    def extract_from_multiple(self, targets: list) -> list:\n",
    "        results = []\n",
    "        for target in targets:\n",
    "            results += self.body_extractor(target)\n",
    "        return results\n",
    "    \n",
    "    def extract_with_ids(self, ids: list) -> list:\n",
    "        results = []\n",
    "        for id in ids:\n",
    "            results += self.body_extractor(\n",
    "                self.id_table[id]\n",
    "            )\n",
    "        return results"
   ]
  },
  {
   "cell_type": "code",
   "execution_count": null,
   "id": "2b3cb580",
   "metadata": {},
   "outputs": [],
   "source": [
    "cfg_path = './datas.json'\n",
    "loader = PlainDataLoader(cfg_path)"
   ]
  },
  {
   "cell_type": "code",
   "execution_count": null,
   "id": "cbaed2d2",
   "metadata": {},
   "outputs": [],
   "source": [
    "print(loader.id_table)\n",
    "# print(loader.datasets)"
   ]
  },
  {
   "cell_type": "code",
   "execution_count": null,
   "id": "c59da715",
   "metadata": {},
   "outputs": [],
   "source": [
    "# loader.body_extractor(\"wudai-huajianji\")\n",
    "print(    loader.body_extractor(\"wudai-huajianji\")[-1] )\n",
    "# print(    len(loader.extract_from_multiple([\"wudai-huajianji\", \"wudai-nantang\"])))\n",
    "# print(    loader.extract_with_ids([0]) )"
   ]
  },
  {
   "cell_type": "markdown",
   "id": "476a6254",
   "metadata": {},
   "source": [
    "---"
   ]
  },
  {
   "cell_type": "code",
   "execution_count": null,
   "id": "fd8ef608",
   "metadata": {},
   "outputs": [],
   "source": [
    "print(loader.author_from_poem(\"wudai-huajianji\")[-1])"
   ]
  },
  {
   "cell_type": "code",
   "execution_count": null,
   "id": "25385202",
   "metadata": {},
   "outputs": [],
   "source": [
    "author_list = loader.author_from_poem(\"tangsong\")"
   ]
  },
  {
   "cell_type": "code",
   "execution_count": null,
   "id": "e63dba1a",
   "metadata": {},
   "outputs": [],
   "source": [
    "print(count_elements(author_list))"
   ]
  },
  {
   "cell_type": "code",
   "execution_count": null,
   "id": "a99c60b9",
   "metadata": {},
   "outputs": [],
   "source": [
    "print(count_and_sort_elements(author_list))"
   ]
  },
  {
   "cell_type": "code",
   "execution_count": null,
   "id": "39a35028",
   "metadata": {},
   "outputs": [],
   "source": []
  }
 ],
 "metadata": {
  "kernelspec": {
   "display_name": "Python 3 (ipykernel)",
   "language": "python",
   "name": "python3"
  },
  "language_info": {
   "codemirror_mode": {
    "name": "ipython",
    "version": 3
   },
   "file_extension": ".py",
   "mimetype": "text/x-python",
   "name": "python",
   "nbconvert_exporter": "python",
   "pygments_lexer": "ipython3",
   "version": "3.9.16"
  }
 },
 "nbformat": 4,
 "nbformat_minor": 5
}
