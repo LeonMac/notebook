{
 "cells": [
  {
   "cell_type": "code",
   "execution_count": 1,
   "id": "e0488a31",
   "metadata": {
    "execution": {
     "iopub.execute_input": "2024-12-07T05:53:48.137655Z",
     "iopub.status.busy": "2024-12-07T05:53:48.136860Z",
     "iopub.status.idle": "2024-12-07T05:53:48.148594Z",
     "shell.execute_reply": "2024-12-07T05:53:48.146655Z"
    }
   },
   "outputs": [
    {
     "name": "stdout",
     "output_type": "stream",
     "text": [
      "An exception occurred\n"
     ]
    }
   ],
   "source": [
    "try:\n",
    "  print(x)\n",
    "except:\n",
    "  print(\"An exception occurred\")"
   ]
  },
  {
   "cell_type": "code",
   "execution_count": 2,
   "id": "27de362a",
   "metadata": {
    "execution": {
     "iopub.execute_input": "2024-12-07T05:53:48.157598Z",
     "iopub.status.busy": "2024-12-07T05:53:48.156874Z",
     "iopub.status.idle": "2024-12-07T05:53:48.167046Z",
     "shell.execute_reply": "2024-12-07T05:53:48.165328Z"
    }
   },
   "outputs": [
    {
     "name": "stdout",
     "output_type": "stream",
     "text": [
      "Variable x is not defined\n"
     ]
    }
   ],
   "source": [
    "try:\n",
    "  print(x)\n",
    "except NameError:\n",
    "  print(\"Variable x is not defined\")\n",
    "except:\n",
    "  print(\"Something else went wrong\")"
   ]
  },
  {
   "cell_type": "code",
   "execution_count": 3,
   "id": "8242270e",
   "metadata": {
    "execution": {
     "iopub.execute_input": "2024-12-07T05:53:48.176825Z",
     "iopub.status.busy": "2024-12-07T05:53:48.176109Z",
     "iopub.status.idle": "2024-12-07T05:53:48.185287Z",
     "shell.execute_reply": "2024-12-07T05:53:48.183549Z"
    }
   },
   "outputs": [
    {
     "name": "stdout",
     "output_type": "stream",
     "text": [
      "Hello\n",
      "Nothing went wrong\n"
     ]
    }
   ],
   "source": [
    "try:\n",
    "  print(\"Hello\")\n",
    "except:\n",
    "  print(\"Something went wrong\")\n",
    "else:\n",
    "  print(\"Nothing went wrong\")"
   ]
  },
  {
   "cell_type": "code",
   "execution_count": 4,
   "id": "8faebbcd",
   "metadata": {
    "execution": {
     "iopub.execute_input": "2024-12-07T05:53:48.195978Z",
     "iopub.status.busy": "2024-12-07T05:53:48.195372Z",
     "iopub.status.idle": "2024-12-07T05:53:48.204230Z",
     "shell.execute_reply": "2024-12-07T05:53:48.202468Z"
    }
   },
   "outputs": [
    {
     "name": "stdout",
     "output_type": "stream",
     "text": [
      "Something went wrong\n",
      "The 'try except' is finished\n"
     ]
    }
   ],
   "source": [
    "try:\n",
    "  print(x)\n",
    "except:\n",
    "  print(\"Something went wrong\")\n",
    "finally:\n",
    "  print(\"The 'try except' is finished\")"
   ]
  },
  {
   "cell_type": "code",
   "execution_count": 5,
   "id": "2ba5c2ab",
   "metadata": {
    "execution": {
     "iopub.execute_input": "2024-12-07T05:53:48.213126Z",
     "iopub.status.busy": "2024-12-07T05:53:48.212421Z",
     "iopub.status.idle": "2024-12-07T05:53:48.222670Z",
     "shell.execute_reply": "2024-12-07T05:53:48.220828Z"
    }
   },
   "outputs": [
    {
     "name": "stdout",
     "output_type": "stream",
     "text": [
      "Something went wrong when opening the file\n"
     ]
    }
   ],
   "source": [
    "# Try to open and write to a file that is not writable:\n",
    "try: # try open\n",
    "  f = open(\"demofile.txt\")\n",
    "  try:  # if open is success, then try write\n",
    "    f.write(\"Lorum Ipsum\")\n",
    "  except: # if write is NOT success\n",
    "    print(\"Something went wrong when writing to the file\")\n",
    "  finally:  #clean up resources:\n",
    "    f.close()\n",
    "except: # if open is failed\n",
    "  print(\"Something went wrong when opening the file\")"
   ]
  },
  {
   "cell_type": "code",
   "execution_count": null,
   "id": "b2412750",
   "metadata": {},
   "outputs": [],
   "source": []
  }
 ],
 "metadata": {
  "kernelspec": {
   "display_name": "Python 3 (ipykernel)",
   "language": "python",
   "name": "python3"
  },
  "language_info": {
   "codemirror_mode": {
    "name": "ipython",
    "version": 3
   },
   "file_extension": ".py",
   "mimetype": "text/x-python",
   "name": "python",
   "nbconvert_exporter": "python",
   "pygments_lexer": "ipython3",
   "version": "3.12.2"
  }
 },
 "nbformat": 4,
 "nbformat_minor": 5
}
