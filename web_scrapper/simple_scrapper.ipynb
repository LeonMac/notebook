{
 "cells": [
  {
   "cell_type": "code",
   "execution_count": 1,
   "id": "440c12a2",
   "metadata": {},
   "outputs": [],
   "source": [
    "from requests_html import HTMLSession, HTML\n",
    "\n",
    "END_STR = \"完。\"\n",
    "\n",
    "# File_Name= '刘李世民.txt'\n",
    "# BASE_URL = 'https://m.fkxs.net/book/236625/MTE0NTM1MTM5.html?page='\n",
    "\n",
    "# File_Name= '赵阿斗.txt'\n",
    "# BASE_URL = 'https://m.fkxs.net/book/236625/MTEzNTAzNTY2.html?page='\n",
    "\n",
    "File_Name= '刘大构.txt'\n",
    "BASE_URL = 'https://m.fkxs.net/book/236625/MTE1MjM5MDgy.html?page='"
   ]
  },
  {
   "cell_type": "code",
   "execution_count": 2,
   "id": "97722c30",
   "metadata": {},
   "outputs": [],
   "source": [
    "session = HTMLSession()\n",
    "\n",
    "# asession = AsyncHTMLSession()"
   ]
  },
  {
   "cell_type": "code",
   "execution_count": 3,
   "id": "c3580bb9",
   "metadata": {},
   "outputs": [],
   "source": [
    "def create_url(page_num):\n",
    "    return  BASE_URL + str(page_num)"
   ]
  },
  {
   "cell_type": "code",
   "execution_count": 4,
   "id": "c257c84a",
   "metadata": {},
   "outputs": [],
   "source": [
    "def try_get_text(this_session, url):\n",
    "    r = None\n",
    "    # Try to open and fetch url text\n",
    "    try: # try getting url\n",
    "        r = this_session.get(url)\n",
    "    except: # if getting url is failed\n",
    "        print(f\"Something went wrong for getting the url:{url}\")\n",
    "    finally:\n",
    "        return r"
   ]
  },
  {
   "cell_type": "code",
   "execution_count": 5,
   "id": "54fbf2b7",
   "metadata": {},
   "outputs": [],
   "source": [
    "def get_html_text(this_session, num):\n",
    "    url = create_url(num)\n",
    "    return try_get_text(this_session, url)\n",
    "    "
   ]
  },
  {
   "cell_type": "code",
   "execution_count": 8,
   "id": "16ad1282",
   "metadata": {},
   "outputs": [],
   "source": [
    "def get_each_text(this_session, num):\n",
    "    Finish = None\n",
    "    r = get_html_text (this_session, num)\n",
    "    # print(r.html.text)\n",
    "    if r != None :\n",
    "        # search and return the text inside html\n",
    "        html_str = r.html.search('反馈{}注意：')[0]\n",
    "        # print(html_str)\n",
    "        # construct a temp html\n",
    "        html =  HTML(html=html_str)\n",
    "        # finding all <p> tags\n",
    "        p_tags= html.find('p')\n",
    "        # print(p_tags)\n",
    "        # extracting text from all <p> tags\n",
    "        text=''\n",
    "        for tag in p_tags:\n",
    "            \n",
    "            text = text + '\\n' + tag.text\n",
    "            #text.append(tag.text)\n",
    "        \n",
    "        if text.find(END_STR) == -1:\n",
    "            Finish = False\n",
    "        else:\n",
    "            print(f\"{text}\")\n",
    "            #print(f'find {END_STR}')\n",
    "            Finish = True\n",
    "            \n",
    "        return text , Finish\n",
    "    else:\n",
    "        pass\n",
    "        "
   ]
  },
  {
   "cell_type": "code",
   "execution_count": 9,
   "id": "b0a4d58d",
   "metadata": {},
   "outputs": [
    {
     "name": "stdout",
     "output_type": "stream",
     "text": [
      "Done process page 1\n",
      "Done process page 2\n",
      "Done process page 3\n",
      "Done process page 4\n",
      "Done process page 5\n",
      "Done process page 6\n",
      "Done process page 7\n",
      "Done process page 8\n",
      "Done process page 9\n",
      "Done process page 10\n",
      "Done process page 11\n",
      "Done process page 12\n",
      "Done process page 13\n",
      "Done process page 14\n",
      "Done process page 15\n",
      "Done process page 16\n",
      "Done process page 17\n",
      "Done process page 18\n",
      "Done process page 19\n",
      "Done process page 20\n",
      "Done process page 21\n",
      "Done process page 22\n",
      "Done process page 23\n",
      "Done process page 24\n",
      "Done process page 25\n",
      "Done process page 26\n",
      "Done process page 27\n",
      "Done process page 28\n",
      "\n",
      "挠的烈火遇见力挽狂澜的机会，是九死不悔的游侠意气难平而拔剑。\n",
      "已然年迈的岳飞望见这种目光，仍旧会想起大理寺狱中的初见。\n",
      "如今想来，那才是他们君臣的初见。\n",
      "大宋的江山与生民，都在这道目光里，这里不会有被辜负的忠良，不会有被放弃的理想。\n",
      "酒劲上涌，岳飞忽然一笑，说官家，臣斗胆，要不臣致仕之后，真结拜吧？\n",
      "赵玄德来了兴致，拉着岳飞，说致仕干嘛，来啊，现在就拜啊！\n",
      "汴京城皇宫的后院里，桃花正缤纷，君臣一同叩这天地，叩这千百年不曾磨灭的英灵。\n",
      "完。\n",
      "\n",
      "\n"
     ]
    }
   ],
   "source": [
    "with  open(File_Name, 'a') as f:\n",
    "    for i in range (1, 100):\n",
    "        text, end = get_each_text(session, i)\n",
    "        if not end:\n",
    "            f.write(text)\n",
    "            print(f\"Done process page {i}\")\n",
    "        else:\n",
    "            f.write(text)\n",
    "            break\n",
    "    f.close()"
   ]
  },
  {
   "cell_type": "code",
   "execution_count": null,
   "id": "c7caa353",
   "metadata": {},
   "outputs": [],
   "source": []
  },
  {
   "cell_type": "code",
   "execution_count": null,
   "id": "abc02fc1",
   "metadata": {},
   "outputs": [],
   "source": [
    "# doc = \"\"\"<td>\n",
    "#     <a href=\"\">There</a> <a href=\"\">are</a> <a href=\"\">some</a> <a href=\"\">links/</a> The text that we are looking for.\n",
    "# <td>\"\"\"\n",
    "# html = HTML(html=doc)\n",
    "# # the list will contain all the whitespaces \"between\" <a> tags\n",
    "# text_list = html.xpath('//td/text()')\n",
    "# # join the list and strip the whitespaces\n",
    "# print(''.join(text_list).strip())  # The text that we are looking for."
   ]
  },
  {
   "cell_type": "code",
   "execution_count": null,
   "id": "df7ebf91",
   "metadata": {},
   "outputs": [],
   "source": [
    "!ls"
   ]
  },
  {
   "cell_type": "code",
   "execution_count": null,
   "id": "b62933fa",
   "metadata": {},
   "outputs": [],
   "source": [
    "txt = \"醉酒之后，一手提剑一手拿把羽扇，又哭又笑，说父皇，相父，我还有那么一点点勇气，我还没丢光你们的脸，割舍三分繁华梦，抛却七分怯懦心，我北伐中原成功了，我兴复汉室，还于旧都了，你们看呐……你们看呐……完。\"\n",
    "\n",
    "x = txt.find(\"完。\")\n",
    "\n",
    "print(x)"
   ]
  },
  {
   "cell_type": "code",
   "execution_count": null,
   "id": "bb855689",
   "metadata": {},
   "outputs": [],
   "source": []
  }
 ],
 "metadata": {
  "kernelspec": {
   "display_name": "Python 3 (ipykernel)",
   "language": "python",
   "name": "python3"
  },
  "language_info": {
   "codemirror_mode": {
    "name": "ipython",
    "version": 3
   },
   "file_extension": ".py",
   "mimetype": "text/x-python",
   "name": "python",
   "nbconvert_exporter": "python",
   "pygments_lexer": "ipython3",
   "version": "3.9.16"
  }
 },
 "nbformat": 4,
 "nbformat_minor": 5
}
