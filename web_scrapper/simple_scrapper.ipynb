{
 "cells": [
  {
   "cell_type": "code",
   "execution_count": 1,
   "id": "440c12a2",
   "metadata": {},
   "outputs": [],
   "source": [
    "#https://zhuanlan.zhihu.com/p/34206711\n",
    "from requests_html import HTMLSession, HTML\n",
    "\n",
    "BASE_URL = 'https://m.fkxs.net/book/236625/MTE0NTM1MTM5.html?page='"
   ]
  },
  {
   "cell_type": "code",
   "execution_count": 2,
   "id": "97722c30",
   "metadata": {},
   "outputs": [],
   "source": [
    "session = HTMLSession()\n",
    "\n",
    "# asession = AsyncHTMLSession()"
   ]
  },
  {
   "cell_type": "code",
   "execution_count": 3,
   "id": "75a138cc",
   "metadata": {},
   "outputs": [],
   "source": [
    "# 找到它的网址，存储到url变量名中。\n",
    "\n",
    "# url1 = 'https://m.fkxs.net/book/236625/MTE0NTM1MTM5.html?page=1'\n",
    "# url2 = 'https://m.fkxs.net/book/236625/MTE0NTM1MTM5.html?page=2'\n",
    "\n",
    "# url_err = 'https://m.fkxs.net/book/236625/MTE0NTM1MTM5.html?page=122'"
   ]
  },
  {
   "cell_type": "code",
   "execution_count": 4,
   "id": "c3580bb9",
   "metadata": {},
   "outputs": [],
   "source": [
    "def create_url(page_num):\n",
    "    return  BASE_URL + str(page_num)"
   ]
  },
  {
   "cell_type": "code",
   "execution_count": 5,
   "id": "d04f7fdc",
   "metadata": {},
   "outputs": [
    {
     "name": "stdout",
     "output_type": "stream",
     "text": [
      "https://m.fkxs.net/book/236625/MTE0NTM1MTM5.html?page=1\n"
     ]
    }
   ],
   "source": [
    "url = create_url(1)\n",
    "print (url)"
   ]
  },
  {
   "cell_type": "code",
   "execution_count": 12,
   "id": "c257c84a",
   "metadata": {},
   "outputs": [],
   "source": [
    "def try_get_text(this_session, url):\n",
    "    r = None\n",
    "    # Try to open and fetch url text\n",
    "    try: # try getting url\n",
    "        r = this_session.get(url)\n",
    "    except: # if getting url is failed\n",
    "        print(f\"Something went wrong for getting the url:{url}\")\n",
    "    finally:\n",
    "        return r"
   ]
  },
  {
   "cell_type": "code",
   "execution_count": 7,
   "id": "54fbf2b7",
   "metadata": {},
   "outputs": [],
   "source": [
    "def get_html_text(this_session, num):\n",
    "    url = create_url(num)\n",
    "    return try_get_text(this_session, url)\n",
    "    "
   ]
  },
  {
   "cell_type": "code",
   "execution_count": 8,
   "id": "1d6bf0e9",
   "metadata": {},
   "outputs": [],
   "source": [
    "#r = get_html_text (session, 1)\n",
    "#print(r.html.text)"
   ]
  },
  {
   "cell_type": "code",
   "execution_count": 9,
   "id": "df1b17f1",
   "metadata": {},
   "outputs": [],
   "source": [
    "# search and return the text inside html\n",
    "# html_str = r.html.search('反馈{}注意：')[0]\n",
    "# # construct a temp html\n",
    "# html =  HTML(html=html_str)\n",
    "# # finding all <p> tags\n",
    "# p_tags= html.find('p')\n",
    "# print(p_tags)\n",
    "# # extracting text from all <p> tags\n",
    "# text=[]\n",
    "# for tag in p_tags:\n",
    "#     #print(tag.text)\n",
    "#     text.append(tag.text)"
   ]
  },
  {
   "cell_type": "code",
   "execution_count": 13,
   "id": "16ad1282",
   "metadata": {},
   "outputs": [],
   "source": [
    "def get_each_text(this_session, num):\n",
    "    r = get_html_text (this_session, num)\n",
    "    if r != None :\n",
    "        # search and return the text inside html\n",
    "        html_str = r.html.search('反馈{}注意：')[0]\n",
    "        # construct a temp html\n",
    "        html =  HTML(html=html_str)\n",
    "        # finding all <p> tags\n",
    "        p_tags= html.find('p')\n",
    "        print(p_tags)\n",
    "        # extracting text from all <p> tags\n",
    "        text=[]\n",
    "        for tag in p_tags:\n",
    "            #print(tag.text)\n",
    "            text.append(tag.text)\n",
    "        return text\n",
    "    else:\n",
    "        pass\n",
    "        "
   ]
  },
  {
   "cell_type": "code",
   "execution_count": 14,
   "id": "40c3ea78",
   "metadata": {},
   "outputs": [
    {
     "name": "stdout",
     "output_type": "stream",
     "text": [
      "Something went wrong for getting the url:https://m.fkxs.net/book/236625/MTE0NTM1MTM5.html?page=1\n"
     ]
    }
   ],
   "source": [
    "text_1 = get_each_text(session, 1)"
   ]
  },
  {
   "cell_type": "code",
   "execution_count": null,
   "id": "95093a73",
   "metadata": {},
   "outputs": [],
   "source": []
  },
  {
   "cell_type": "code",
   "execution_count": null,
   "id": "b0a4d58d",
   "metadata": {},
   "outputs": [],
   "source": []
  },
  {
   "cell_type": "code",
   "execution_count": null,
   "id": "c7caa353",
   "metadata": {},
   "outputs": [],
   "source": []
  },
  {
   "cell_type": "code",
   "execution_count": null,
   "id": "abc02fc1",
   "metadata": {},
   "outputs": [],
   "source": [
    "doc = \"\"\"<td>\n",
    "    <a href=\"\">There</a> <a href=\"\">are</a> <a href=\"\">some</a> <a href=\"\">links/</a> The text that we are looking for.\n",
    "<td>\"\"\"\n",
    "html = HTML(html=doc)\n",
    "# the list will contain all the whitespaces \"between\" <a> tags\n",
    "text_list = html.xpath('//td/text()')\n",
    "# join the list and strip the whitespaces\n",
    "print(''.join(text_list).strip())  # The text that we are looking for."
   ]
  },
  {
   "cell_type": "code",
   "execution_count": null,
   "id": "df7ebf91",
   "metadata": {},
   "outputs": [],
   "source": []
  }
 ],
 "metadata": {
  "kernelspec": {
   "display_name": "Python 3 (ipykernel)",
   "language": "python",
   "name": "python3"
  },
  "language_info": {
   "codemirror_mode": {
    "name": "ipython",
    "version": 3
   },
   "file_extension": ".py",
   "mimetype": "text/x-python",
   "name": "python",
   "nbconvert_exporter": "python",
   "pygments_lexer": "ipython3",
   "version": "3.9.0"
  }
 },
 "nbformat": 4,
 "nbformat_minor": 5
}
