{
 "cells": [
  {
   "cell_type": "code",
   "execution_count": 1,
   "id": "d9e287cc-3209-491b-ac22-ccb5cef4070e",
   "metadata": {
    "execution": {
     "iopub.execute_input": "2024-12-07T05:54:07.727265Z",
     "iopub.status.busy": "2024-12-07T05:54:07.726652Z",
     "iopub.status.idle": "2024-12-07T05:54:08.603882Z",
     "shell.execute_reply": "2024-12-07T05:54:08.602057Z"
    }
   },
   "outputs": [
    {
     "ename": "ModuleNotFoundError",
     "evalue": "No module named 'torch'",
     "output_type": "error",
     "traceback": [
      "\u001b[0;31m---------------------------------------------------------------------------\u001b[0m",
      "\u001b[0;31mModuleNotFoundError\u001b[0m                       Traceback (most recent call last)",
      "Cell \u001b[0;32mIn[1], line 1\u001b[0m\n\u001b[0;32m----> 1\u001b[0m \u001b[38;5;28;01mimport\u001b[39;00m \u001b[38;5;21;01mtorch\u001b[39;00m\n\u001b[1;32m      2\u001b[0m \u001b[38;5;28;01mimport\u001b[39;00m \u001b[38;5;21;01mmatplotlib\u001b[39;00m\u001b[38;5;21;01m.\u001b[39;00m\u001b[38;5;21;01mpyplot\u001b[39;00m \u001b[38;5;28;01mas\u001b[39;00m \u001b[38;5;21;01mplt\u001b[39;00m\n\u001b[1;32m      3\u001b[0m \u001b[38;5;28;01mfrom\u001b[39;00m \u001b[38;5;21;01mtqdm\u001b[39;00m \u001b[38;5;28;01mimport\u001b[39;00m tqdm\n",
      "\u001b[0;31mModuleNotFoundError\u001b[0m: No module named 'torch'"
     ]
    }
   ],
   "source": [
    "import torch\n",
    "import matplotlib.pyplot as plt\n",
    "from tqdm import tqdm\n",
    "\n",
    "# List of vectors in some dimension, with many\n",
    "# more vectors than there are dimensions\n",
    "num_vectors = 100\n",
    "vector_len = 10\n",
    "init_matrix = torch.randn(num_vectors, vector_len)\n",
    "init_matrix /= init_matrix.norm(p=2, dim=1, keepdim=True)  # Normalize\n",
    "init_matrix.requires_grad_(True)\n",
    "\n",
    "def draw_orthogonality(matrix):\n",
    "    n_row = matrix.shape[0]\n",
    "    # Angle distribution\n",
    "    dot_products = matrix @ matrix.T\n",
    "    # 计算了 matrix 中每个向量的范数\n",
    "    norms = torch.sqrt(torch.diag(dot_products))\n",
    "    normed_dot_products = dot_products / torch.outer(norms, norms)\n",
    "    # 反余弦计算 matrix 中所有向量之间的角度\n",
    "    angles_degrees = torch.rad2deg(torch.acos(normed_dot_products.detach()))\n",
    "\n",
    "    # ignore self-orthogonality.\n",
    "    self_orthogonality_mask = ~(torch.eye(n_row, n_row).bool())\n",
    "    self_orthogonality_mask = self_orthogonality_mask.view(n_row, n_row)  # 确保是二维的\n",
    "    plt.hist(angles_degrees[self_orthogonality_mask].numpy().ravel(), bins=1000, range=(0, 180))\n",
    "    plt.grid(1)\n",
    "    plt.show()\n",
    "\n",
    "draw_orthogonality(init_matrix)\n"
   ]
  },
  {
   "cell_type": "code",
   "execution_count": null,
   "id": "f672edaf-a199-48e9-ad91-f95399a2947d",
   "metadata": {},
   "outputs": [],
   "source": []
  },
  {
   "cell_type": "code",
   "execution_count": null,
   "id": "2517817a-dcf2-4f59-9bcd-a83db964d0a5",
   "metadata": {},
   "outputs": [],
   "source": [
    "def optimiz(matrix, n_iter):\n",
    "    \n",
    "    # Set up an Adam Optimization loop to create nearly-orthogonal vectors\n",
    "    optimizer = torch.optim.Adam([matrix], lr=0.01)  # 将big_matrix放入列表中\n",
    "    \n",
    "    n_row = matrix.shape[0]\n",
    "    losses = []\n",
    "    \n",
    "    dot_diff_cutoff = 0.01\n",
    "    \n",
    "    # 一个二维的单位矩阵（identity matrix），即完美正交矩阵\n",
    "    big_iden = torch.eye(n_row, n_row)\n",
    "    \n",
    "    for step_num in tqdm(range(n_iter)):\n",
    "        optimizer.zero_grad()\n",
    "    \n",
    "        dot_products = matrix @ matrix.T\n",
    "        \n",
    "        # Punish deviation from orthogonal\n",
    "        diff = dot_products - big_iden\n",
    "        loss = (diff.abs() - dot_diff_cutoff).relu().sum()\n",
    "    \n",
    "        # Extra incentive to keep rows normalized\n",
    "        loss += n_row * diff.diag().pow(2).sum()\n",
    "    \n",
    "        loss.backward()\n",
    "        optimizer.step()\n",
    "        losses.append(loss.item())\n",
    "\n",
    "    # Loss curve\n",
    "    plt.plot(losses)\n",
    "    plt.grid(True)\n",
    "    plt.show()\n",
    "\n",
    "    return matrix\n",
    "\n"
   ]
  },
  {
   "cell_type": "code",
   "execution_count": null,
   "id": "560ee794-c68a-4c55-b44c-8ef8b9c8efad",
   "metadata": {},
   "outputs": [],
   "source": [
    "num_steps = 100\n",
    "\n",
    "opt_matrix = optimiz(init_matrix,  num_steps)"
   ]
  },
  {
   "cell_type": "code",
   "execution_count": null,
   "id": "8d575a2a-8b73-4467-86f9-a32935bc6e1d",
   "metadata": {},
   "outputs": [],
   "source": [
    "draw_orthogonality(opt_matrix)"
   ]
  },
  {
   "cell_type": "markdown",
   "id": "a759cad6-6c7e-446d-8e96-d4ce9805a308",
   "metadata": {},
   "source": [
    "## Origin code"
   ]
  },
  {
   "cell_type": "code",
   "execution_count": null,
   "id": "b54b8c32-0858-4563-af95-d84a15def679",
   "metadata": {},
   "outputs": [],
   "source": [
    "\n",
    "# losses = []\n",
    "\n",
    "# dot_diff_cutoff = 0.01\n",
    "\n",
    "# # 一个二维的单位矩阵（identity matrix），即完美正交矩阵\n",
    "# big_iden = torch.eye(num_vectors, num_vectors)\n",
    "\n",
    "# for step_num in tqdm(range(num_steps)):\n",
    "#     optimizer.zero_grad()\n",
    "\n",
    "#     dot_products = big_matrix @ big_matrix.T\n",
    "    \n",
    "#     # Punish deviation from orthogonal\n",
    "#     diff = dot_products - big_iden\n",
    "#     loss = (diff.abs() - dot_diff_cutoff).relu().sum()\n",
    "\n",
    "#     # Extra incentive to keep rows normalized\n",
    "#     loss += num_vectors * diff.diag().pow(2).sum()\n",
    "\n",
    "#     loss.backward()\n",
    "#     optimizer.step()\n",
    "#     losses.append(loss.item())\n",
    "\n",
    "# # Loss curve\n",
    "# plt.plot(losses)\n",
    "# plt.grid(True)\n",
    "# plt.show()\n",
    "\n",
    "# # Angle distribution\n",
    "# dot_products = big_matrix @ big_matrix.T\n",
    "# norms = torch.sqrt(torch.diag(dot_products))\n",
    "# normed_dot_products = dot_products / torch.outer(norms, norms)\n",
    "# angles_degrees = torch.rad2deg(torch.acos(normed_dot_products.detach()))\n",
    "\n",
    "# # Use this to ignore self-orthogonality.\n",
    "# self_orthogonality_mask = ~(torch.eye(num_vectors, num_vectors).bool())\n",
    "# self_orthogonality_mask = self_orthogonality_mask.view(num_vectors, num_vectors)  # 确保是二维的\n",
    "# plt.hist(angles_degrees[self_orthogonality_mask].numpy().ravel(), bins=1000, range=(0, 180))\n",
    "# plt.grid(1)\n",
    "# plt.show()"
   ]
  }
 ],
 "metadata": {
  "kernelspec": {
   "display_name": "Python 3 (ipykernel)",
   "language": "python",
   "name": "python3"
  },
  "language_info": {
   "codemirror_mode": {
    "name": "ipython",
    "version": 3
   },
   "file_extension": ".py",
   "mimetype": "text/x-python",
   "name": "python",
   "nbconvert_exporter": "python",
   "pygments_lexer": "ipython3",
   "version": "3.12.2"
  }
 },
 "nbformat": 4,
 "nbformat_minor": 5
}
