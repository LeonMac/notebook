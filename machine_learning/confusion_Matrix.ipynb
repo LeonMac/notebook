{
 "cells": [
  {
   "cell_type": "code",
   "execution_count": 1,
   "id": "198b1b17",
   "metadata": {
    "execution": {
     "iopub.execute_input": "2024-12-07T05:55:02.527781Z",
     "iopub.status.busy": "2024-12-07T05:55:02.527063Z",
     "iopub.status.idle": "2024-12-07T05:55:03.709151Z",
     "shell.execute_reply": "2024-12-07T05:55:03.707744Z"
    }
   },
   "outputs": [],
   "source": [
    "from sklearn import metrics\n",
    "from sklearn.metrics import precision_score\n",
    "from sklearn.metrics import recall_score\n",
    "from sklearn.metrics import f1_score\n",
    "from sklearn.metrics import confusion_matrix\n",
    "#from sklearn.metrics import roc\n",
    "from sklearn.metrics import auc\n",
    "from sklearn.metrics import mean_squared_error\n",
    "from sklearn.metrics import mean_absolute_error, median_absolute_error\n",
    "from sklearn.metrics import r2_score\n",
    "\n",
    "from sklearn import metrics\n",
    "import numpy as np\n"
   ]
  },
  {
   "cell_type": "code",
   "execution_count": 2,
   "id": "128bdb7a",
   "metadata": {
    "execution": {
     "iopub.execute_input": "2024-12-07T05:55:03.715003Z",
     "iopub.status.busy": "2024-12-07T05:55:03.714394Z",
     "iopub.status.idle": "2024-12-07T05:55:03.724822Z",
     "shell.execute_reply": "2024-12-07T05:55:03.723423Z"
    }
   },
   "outputs": [],
   "source": [
    "y = np.array([1, 1, 2, 2])\n",
    "scores = np.array([0.1, 0.4, 0.35, 0.8])\n",
    "fpr, tpr, thresholds = metrics.roc_curve(y, scores, pos_label=2)"
   ]
  },
  {
   "cell_type": "code",
   "execution_count": 3,
   "id": "72dbe3eb",
   "metadata": {
    "execution": {
     "iopub.execute_input": "2024-12-07T05:55:03.730255Z",
     "iopub.status.busy": "2024-12-07T05:55:03.729759Z",
     "iopub.status.idle": "2024-12-07T05:55:03.742044Z",
     "shell.execute_reply": "2024-12-07T05:55:03.740784Z"
    }
   },
   "outputs": [
    {
     "data": {
      "text/plain": [
       "array([1, 1, 2, 2])"
      ]
     },
     "execution_count": 3,
     "metadata": {},
     "output_type": "execute_result"
    }
   ],
   "source": [
    "y"
   ]
  },
  {
   "cell_type": "code",
   "execution_count": 4,
   "id": "d348590a",
   "metadata": {
    "execution": {
     "iopub.execute_input": "2024-12-07T05:55:03.747958Z",
     "iopub.status.busy": "2024-12-07T05:55:03.746764Z",
     "iopub.status.idle": "2024-12-07T05:55:03.755912Z",
     "shell.execute_reply": "2024-12-07T05:55:03.754299Z"
    }
   },
   "outputs": [
    {
     "data": {
      "text/plain": [
       "array([0.1 , 0.4 , 0.35, 0.8 ])"
      ]
     },
     "execution_count": 4,
     "metadata": {},
     "output_type": "execute_result"
    }
   ],
   "source": [
    "scores"
   ]
  },
  {
   "cell_type": "code",
   "execution_count": 5,
   "id": "bc26086d",
   "metadata": {
    "execution": {
     "iopub.execute_input": "2024-12-07T05:55:03.761446Z",
     "iopub.status.busy": "2024-12-07T05:55:03.760956Z",
     "iopub.status.idle": "2024-12-07T05:55:03.769250Z",
     "shell.execute_reply": "2024-12-07T05:55:03.767851Z"
    }
   },
   "outputs": [
    {
     "data": {
      "text/plain": [
       "array([0. , 0. , 0.5, 0.5, 1. ])"
      ]
     },
     "execution_count": 5,
     "metadata": {},
     "output_type": "execute_result"
    }
   ],
   "source": [
    "fpr"
   ]
  },
  {
   "cell_type": "code",
   "execution_count": 6,
   "id": "b6435022",
   "metadata": {
    "execution": {
     "iopub.execute_input": "2024-12-07T05:55:03.774779Z",
     "iopub.status.busy": "2024-12-07T05:55:03.774319Z",
     "iopub.status.idle": "2024-12-07T05:55:03.782057Z",
     "shell.execute_reply": "2024-12-07T05:55:03.780825Z"
    }
   },
   "outputs": [
    {
     "data": {
      "text/plain": [
       "array([0. , 0.5, 0.5, 1. , 1. ])"
      ]
     },
     "execution_count": 6,
     "metadata": {},
     "output_type": "execute_result"
    }
   ],
   "source": [
    "tpr"
   ]
  },
  {
   "cell_type": "code",
   "execution_count": 7,
   "id": "93e654fb",
   "metadata": {
    "execution": {
     "iopub.execute_input": "2024-12-07T05:55:03.787361Z",
     "iopub.status.busy": "2024-12-07T05:55:03.786922Z",
     "iopub.status.idle": "2024-12-07T05:55:03.796593Z",
     "shell.execute_reply": "2024-12-07T05:55:03.795018Z"
    }
   },
   "outputs": [
    {
     "data": {
      "text/plain": [
       "array([ inf, 0.8 , 0.4 , 0.35, 0.1 ])"
      ]
     },
     "execution_count": 7,
     "metadata": {},
     "output_type": "execute_result"
    }
   ],
   "source": [
    "thresholds #截断点"
   ]
  },
  {
   "cell_type": "markdown",
   "id": "7709f2b1",
   "metadata": {},
   "source": [
    "# 理解ROC"
   ]
  },
  {
   "cell_type": "markdown",
   "id": "4d8c292c",
   "metadata": {},
   "source": [
    "https://www.plob.org/article/12476.html\n",
    "ROC的全称是“接收机工作特征”（Receiver Operating Characteristic）曲线，首先是由二战中的电子工程师和雷达工程师发明的，用来侦测战场上的敌军载具（飞机、船舰），也就是信号检测理论。之后很快就被引入了心理学来进行信号的知觉检测。此后被引入机器学习领域，用来评判分类、检测结果的好坏。因此，ROC曲线是非常重要和常见的统计分析方法。\n",
    "\n"
   ]
  },
  {
   "cell_type": "code",
   "execution_count": 8,
   "id": "a0be8924",
   "metadata": {
    "execution": {
     "iopub.execute_input": "2024-12-07T05:55:03.805860Z",
     "iopub.status.busy": "2024-12-07T05:55:03.805116Z",
     "iopub.status.idle": "2024-12-07T05:55:03.813748Z",
     "shell.execute_reply": "2024-12-07T05:55:03.812001Z"
    }
   },
   "outputs": [],
   "source": [
    "# https://www.plob.org/article/22905.html\n",
    "#y是一个一维数组（样本的真实分类）。数组值表示类别（一共有两类，1和2）。我们假设y中的1表示反例，2表示正例。即将y重写为：\n",
    "y_true = [0, 0, 1, 1]\n",
    "# score是各个样本输入模型后，模型输出属于正例的概率--概率越高（接近1)意思是模型预测此样本更加接近于正例，反之则是反例"
   ]
  },
  {
   "cell_type": "code",
   "execution_count": 9,
   "id": "a694f4dc",
   "metadata": {
    "execution": {
     "iopub.execute_input": "2024-12-07T05:55:03.821808Z",
     "iopub.status.busy": "2024-12-07T05:55:03.821135Z",
     "iopub.status.idle": "2024-12-07T05:55:03.831706Z",
     "shell.execute_reply": "2024-12-07T05:55:03.829692Z"
    }
   },
   "outputs": [
    {
     "data": {
      "text/plain": [
       "[0, 0, 1, 1]"
      ]
     },
     "execution_count": 9,
     "metadata": {},
     "output_type": "execute_result"
    }
   ],
   "source": [
    "y_true"
   ]
  },
  {
   "attachments": {
    "image.png": {
     "image/png": "[encoded data removed]"
    }
   },
   "cell_type": "markdown",
   "id": "f2ebe53e",
   "metadata": {},
   "source": [
    "针对score，将数据重新排序\n",
    "![image.png](attachment:image.png)\n",
    "\n",
    "将截断点依次取值为0.1,0.35,0.4,0.8时，计算TPR和FPR的结果。"
   ]
  },
  {
   "attachments": {
    "image-2.png": {
     "image/png": "[encoded data removed]"
    },
    "image-3.png": {
     "image/png": "[encoded data removed]"
    },
    "image-4.png": {
     "image/png": "[encoded data removed]"
    },
    "image-5.png": {
     "image/png": "[encoded data removed]"
    },
    "image.png": {
     "image/png": "[encoded data removed]"
    }
   },
   "cell_type": "markdown",
   "id": "42e48b14",
   "metadata": {},
   "source": [
    "截断点为0.1：意思是只要每个样本的score>=0.1，它的预测类别就是正例。\n",
    "此时，因为4个样本的score都大于等于0.1，所以，所有样本的预测类别都为P。\n",
    "TPR = TP/(TP+FN) = 1\n",
    "FPR = FP/(TN+FP) = 1\n",
    "这是ROC最右边的点（1,1）\n",
    "![image.png](attachment:image.png)\n",
    "\n",
    "截断点为0.35：意思是只要每个样本的score>=0.35，它的预测类别就是P。\n",
    "此时，因为4个样本的score有3个大于等于0.35。所以，所有样本的预测类有3个为P（2个预测正确，1一个预测错误）；1个样本被预测为N（预测正确）。\n",
    "TPR = TP/(TP+FN) = 1\n",
    "FPR = FP/(TN+FP) = 0.5\n",
    "![image-2.png](attachment:image-2.png)\n",
    "\n",
    "截断点为0.4：说明只要score>=0.4，它的预测类别就是P。\n",
    "此时，因为4个样本的score有2个大于等于0.4。所以，所有样本的预测类有2个为P（1个预测正确，1一个预测错误）；2个样本被预测为N（1个预测正确，1一个预测错误）。\n",
    "TPR = TP/(TP+FN) = 0.5\n",
    "FPR = FP/(TN+FP) = 0.5\n",
    "![image-3.png](attachment:image-3.png)\n",
    "\n",
    "截断点为0.8\n",
    "说明只要score>=0.8，它的预测类别就是P。所以，所有样本的预测类有1个为P（1个预测正确）；3个样本被预测为N（2个预测正确，1一个预测错误）。\n",
    "TPR = TP/(TP+FN) = 0.5\n",
    "FPR = FP/(TN+FP) = 0\n",
    "![image-4.png](attachment:image-4.png)\n",
    "\n",
    "最终的ROC\n",
    "\n",
    "![image-5.png](attachment:image-5.png)"
   ]
  },
  {
   "cell_type": "code",
   "execution_count": null,
   "id": "e163e0d3",
   "metadata": {},
   "outputs": [],
   "source": []
  }
 ],
 "metadata": {
  "kernelspec": {
   "display_name": "Python 3 (ipykernel)",
   "language": "python",
   "name": "python3"
  },
  "language_info": {
   "codemirror_mode": {
    "name": "ipython",
    "version": 3
   },
   "file_extension": ".py",
   "mimetype": "text/x-python",
   "name": "python",
   "nbconvert_exporter": "python",
   "pygments_lexer": "ipython3",
   "version": "3.12.2"
  }
 },
 "nbformat": 4,
 "nbformat_minor": 5
}
