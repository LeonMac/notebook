{
 "cells": [
  {
   "cell_type": "markdown",
   "id": "a8707ddc-c7c3-45da-8abc-5688de21bb03",
   "metadata": {},
   "source": [
    "## 可视化一维正态分布："
   ]
  },
  {
   "cell_type": "code",
   "execution_count": null,
   "id": "d9e287cc-3209-491b-ac22-ccb5cef4070e",
   "metadata": {},
   "outputs": [],
   "source": [
    "import numpy as np\n",
    "import matplotlib.pyplot as plt\n",
    "\n",
    "# 一维正态分布参数\n",
    "mu = 0  # 均值\n",
    "sigma = 1  # 标准差\n",
    "\n",
    "# 生成数据\n",
    "n_ = 100\n",
    "x = np.linspace(mu - 3*sigma, mu + 3*sigma, n_)\n",
    "y = (1/(sigma * np.sqrt(2 * np.pi))) * np.exp(-0.5 * ((x - mu) / sigma) ** 2)\n",
    "\n",
    "# 绘制\n",
    "plt.plot(x, y, label='1D Normal Distribution')\n",
    "plt.title('1D Normal Distribution')\n",
    "plt.legend()\n",
    "plt.show()"
   ]
  },
  {
   "cell_type": "markdown",
   "id": "c81deb2d-db4a-425f-a118-a087f7530b42",
   "metadata": {},
   "source": [
    "## 可视化二维正态分布："
   ]
  },
  {
   "cell_type": "code",
   "execution_count": null,
   "id": "4ac5ebc6-a608-410c-8b66-da1cf88b6329",
   "metadata": {},
   "outputs": [],
   "source": [
    "import numpy as np\n",
    "import matplotlib.pyplot as plt\n",
    "\n",
    "# 二维正态分布参数\n",
    "mu = [0, 0]  # 均值向量\n",
    "cov = [[1, 0], [0, 1]]  # 协方差矩阵\n",
    "\n",
    "# 生成数据\n",
    "n_ = 100000\n",
    "x, y = np.meshgrid(np.linspace(-3, 3, 100), np.linspace(-3, 3, 100))\n",
    "pos = np.dstack((x, y))\n",
    "rv = np.random.multivariate_normal(mu, cov, n_)\n",
    "\n",
    "# 绘制\n",
    "plt.scatter(rv[:, 0], rv[:, 1], label='2D Normal Distribution')\n",
    "plt.title('2D Normal Distribution')\n",
    "plt.legend()\n",
    "plt.show()"
   ]
  },
  {
   "cell_type": "markdown",
   "id": "3a0a85c4-8820-43bd-95d6-3a5f22ffe403",
   "metadata": {},
   "source": [
    "二维正态分布，也称为双变量正态分布或二元正态分布，是一种连续概率分布，描述了两个随机变量X和Y的联合分布。在二维正态分布的图形中，我们通常看到以下特征：\n",
    "\n",
    "椭圆轮廓：\n",
    "\n",
    "二维正态分布的等高线（概率密度相同的点的连线）是椭圆形的。这些椭圆的主轴方向和长短轴长度由协方差矩阵决定。\n",
    "如果两个变量是独立的，它们的协方差为0，椭圆将退化成两个圆，分别代表各自变量的正态分布。\n",
    "\n",
    "\n",
    "椭圆的主轴方向表示数据分布的主要方向，即变量变化最大的方向。这个方向由协方差矩阵的特征向量决定。\n",
    "总的来说，二维正态分布的图形提供了两个随机变量之间关系的直观表示，包括它们的位置、形状、方向和相关性。通过观察图形，我们可以快速理解两个变量的联合分布特性。"
   ]
  },
  {
   "cell_type": "code",
   "execution_count": null,
   "id": "15c3d94a-0acf-45f1-94a7-7dc989f3c6d7",
   "metadata": {},
   "outputs": [],
   "source": [
    "## 可视化三维正态分布："
   ]
  },
  {
   "cell_type": "code",
   "execution_count": null,
   "id": "ee74a2e2-b103-405e-a2ae-7bae607f0cc3",
   "metadata": {},
   "outputs": [],
   "source": [
    "import numpy as np\n",
    "import matplotlib.pyplot as plt\n",
    "from mpl_toolkits.mplot3d import Axes3D\n",
    "\n",
    "# 三维正态分布参数\n",
    "n_ = 100000\n",
    "mu = [0, 0, 0]  # 均值向量\n",
    "cov = [[1, 0, 0], [0, 1, 0], [0, 0, 1]]  # 协方差矩阵\n",
    "\n",
    "# 生成数据\n",
    "rv = np.random.multivariate_normal(mu, cov, n_)\n",
    "\n",
    "# 绘制\n",
    "fig = plt.figure()\n",
    "ax = fig.add_subplot(111, projection='3d')\n",
    "ax.scatter(rv[:, 0], rv[:, 1], rv[:, 2], label='3D Normal Distribution')\n",
    "ax.set_title('3D Normal Distribution')\n",
    "plt.legend()\n",
    "plt.show()"
   ]
  },
  {
   "cell_type": "code",
   "execution_count": null,
   "id": "b9ffb575-c706-4fc1-8235-aed78b190e41",
   "metadata": {},
   "outputs": [],
   "source": []
  }
 ],
 "metadata": {
  "kernelspec": {
   "display_name": "Python 3 (ipykernel)",
   "language": "python",
   "name": "python3"
  },
  "language_info": {
   "codemirror_mode": {
    "name": "ipython",
    "version": 3
   },
   "file_extension": ".py",
   "mimetype": "text/x-python",
   "name": "python",
   "nbconvert_exporter": "python",
   "pygments_lexer": "ipython3",
   "version": "3.9.20"
  }
 },
 "nbformat": 4,
 "nbformat_minor": 5
}
