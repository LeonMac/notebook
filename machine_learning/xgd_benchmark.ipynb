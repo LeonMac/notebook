{
 "cells": [
  {
   "cell_type": "markdown",
   "metadata": {},
   "source": [
    "original post\n",
    "https://medium.com/analytics-vidhya/implementing-gradient-descent-for-multi-linear-regression-from-scratch-3e31c114ae12"
   ]
  },
  {
   "cell_type": "code",
   "execution_count": 1,
   "metadata": {
    "execution": {
     "iopub.execute_input": "2024-12-07T05:54:25.703135Z",
     "iopub.status.busy": "2024-12-07T05:54:25.702125Z",
     "iopub.status.idle": "2024-12-07T05:54:26.645761Z",
     "shell.execute_reply": "2024-12-07T05:54:26.644469Z"
    }
   },
   "outputs": [],
   "source": [
    "import numpy as np\n",
    "import matplotlib.pyplot as plt\n",
    "%matplotlib inline \n",
    "\n",
    "import random\n",
    "from decimal import Decimal\n",
    "import timeit\n",
    "\n",
    "DS_NAME = 'Boston' # 'Boston' / 'California' / 'Ames'(Not Work yet, need further data-cleaning)\n",
    "\n",
    "LR      = 0.005    # learning rate\n",
    "EPOCH   = 500      # epochs for train\n",
    "LOG     = 100      # log print Modular, i.e. pint log for each LOG iteration\n",
    "N_BATCH = 5        # number of Batch, only valid for mini-batch SGD\n",
    "Test_split = 0.2   # dataset train-test split threshold\n",
    "SEED    = 2022     # seed for split\n"
   ]
  },
  {
   "cell_type": "markdown",
   "metadata": {},
   "source": [
    "## Dataset prepare"
   ]
  },
  {
   "cell_type": "code",
   "execution_count": 2,
   "metadata": {
    "execution": {
     "iopub.execute_input": "2024-12-07T05:54:26.654042Z",
     "iopub.status.busy": "2024-12-07T05:54:26.652608Z",
     "iopub.status.idle": "2024-12-07T05:54:29.278153Z",
     "shell.execute_reply": "2024-12-07T05:54:29.276336Z"
    }
   },
   "outputs": [
    {
     "name": "stderr",
     "output_type": "stream",
     "text": [
      "<>:6: SyntaxWarning: invalid escape sequence '\\s'\n",
      "<>:6: SyntaxWarning: invalid escape sequence '\\s'\n",
      "/tmp/ipykernel_26050/3085580519.py:6: SyntaxWarning: invalid escape sequence '\\s'\n",
      "  housing   = pd.read_csv(data_url, sep=\"\\s+\", skiprows=22, header=None)\n"
     ]
    },
    {
     "name": "stdout",
     "output_type": "stream",
     "text": [
      "dataset summary:\n",
      "             0      1      2    3      4      5     6       7    8      9   \\\n",
      "0       0.00632  18.00   2.31  0.0  0.538  6.575  65.2  4.0900  1.0  296.0   \n",
      "1     396.90000   4.98  24.00  NaN    NaN    NaN   NaN     NaN  NaN    NaN   \n",
      "2       0.02731   0.00   7.07  0.0  0.469  6.421  78.9  4.9671  2.0  242.0   \n",
      "3     396.90000   9.14  21.60  NaN    NaN    NaN   NaN     NaN  NaN    NaN   \n",
      "4       0.02729   0.00   7.07  0.0  0.469  7.185  61.1  4.9671  2.0  242.0   \n",
      "...         ...    ...    ...  ...    ...    ...   ...     ...  ...    ...   \n",
      "1007  396.90000   5.64  23.90  NaN    NaN    NaN   NaN     NaN  NaN    NaN   \n",
      "1008    0.10959   0.00  11.93  0.0  0.573  6.794  89.3  2.3889  1.0  273.0   \n",
      "1009  393.45000   6.48  22.00  NaN    NaN    NaN   NaN     NaN  NaN    NaN   \n",
      "1010    0.04741   0.00  11.93  0.0  0.573  6.030  80.8  2.5050  1.0  273.0   \n",
      "1011  396.90000   7.88  11.90  NaN    NaN    NaN   NaN     NaN  NaN    NaN   \n",
      "\n",
      "        10  \n",
      "0     15.3  \n",
      "1      NaN  \n",
      "2     17.8  \n",
      "3      NaN  \n",
      "4     17.8  \n",
      "...    ...  \n",
      "1007   NaN  \n",
      "1008  21.0  \n",
      "1009   NaN  \n",
      "1010  21.0  \n",
      "1011   NaN  \n",
      "\n",
      "[1012 rows x 11 columns]\n"
     ]
    }
   ],
   "source": [
    "if   DS_NAME == 'Boston': # data-set prepare Boston housing dataset\n",
    "    import pandas as pd\n",
    "    import numpy as np\n",
    "\n",
    "    data_url  = \"http://lib.stat.cmu.edu/datasets/boston\"\n",
    "    housing   = pd.read_csv(data_url, sep=\"\\s+\", skiprows=22, header=None)\n",
    "    X_orginal = np.hstack([housing.values[::2, :], housing.values[1::2, :2]])\n",
    "    y_full    = housing.values[1::2, 2]\n",
    "    \n",
    "    N_BATCH   = 5\n",
    "    \n",
    "\n",
    "elif DS_NAME == 'California':    # data-set prepare California housing dataset\n",
    "    from sklearn.datasets import fetch_california_housing\n",
    "    housing   = fetch_california_housing()\n",
    "    X_orginal = housing.data\n",
    "    y_full    = housing.target\n",
    "    \n",
    "    N_BATCH   = 10\n",
    "    \n",
    "    \n",
    "elif DS_NAME == 'Ames':    # data-set prepare Ames housing dataset, not working yet.\n",
    "    from sklearn.datasets import fetch_openml\n",
    "    housing   = fetch_openml(name=\"house_prices\", as_frame=True)\n",
    "    X_orginal = housing.data\n",
    "    y_full    = housing.target\n",
    "\n",
    "    N_BATCH   = 10\n",
    "else:\n",
    "    print (f\"ERRO: not recognized DS NAME {DS_NAME}\")\n",
    "\n",
    "print(\"dataset summary:\")\n",
    "print(f\"{housing}\")"
   ]
  },
  {
   "cell_type": "code",
   "execution_count": 3,
   "metadata": {
    "execution": {
     "iopub.execute_input": "2024-12-07T05:54:29.285775Z",
     "iopub.status.busy": "2024-12-07T05:54:29.285160Z",
     "iopub.status.idle": "2024-12-07T05:54:30.304200Z",
     "shell.execute_reply": "2024-12-07T05:54:30.302814Z"
    }
   },
   "outputs": [
    {
     "name": "stdout",
     "output_type": "stream",
     "text": [
      "X shape = (404, 13), y shape = (404,)\n",
      "Train dataset sample number=404, Test dataset sample number=102\n"
     ]
    }
   ],
   "source": [
    "# data rescaling\n",
    "from sklearn.preprocessing import StandardScaler \n",
    "sc = StandardScaler()\n",
    "X_full  = sc.fit_transform(X_orginal)\n",
    "TOTAL_SAMPLE = len(X_full)\n",
    "\n",
    "# data-set partition\n",
    "from sklearn.model_selection import train_test_split\n",
    "\n",
    "X_train, X_test, y_train, y_test=train_test_split(X_full, y_full, test_size=Test_split, random_state=SEED)\n",
    "\n",
    "# M = len(X_train[0]) # features number\n",
    "# N = len(X_train)    # samples number\n",
    "BATCH_SZ = int (TOTAL_SAMPLE/N_BATCH)  # batch size, only for mb-SGD\n",
    "\n",
    "print(f\"X shape = {X_train.shape}, y shape = {y_train.shape}\")\n",
    "print(f\"Train dataset sample number={len(X_train)}, Test dataset sample number={len(X_test)}\")"
   ]
  },
  {
   "cell_type": "markdown",
   "metadata": {},
   "source": [
    "## Equation of linear regression"
   ]
  },
  {
   "cell_type": "code",
   "execution_count": null,
   "metadata": {},
   "outputs": [],
   "source": []
  },
  {
   "cell_type": "markdown",
   "metadata": {},
   "source": [
    "\n",
    "$$\n",
    "y_{pred}=w_{1}x_{1}+w_{2}x_{2}+...+w_{m}x_{m}=W*X+b  -- eq(1)\n",
    "$$\n",
    "$$\n",
    "l_{j}=(y_{j}-y_{j_{-}pred})^{2}  -- eq(2)\n",
    "$$\n",
    "\n",
    "$$\n",
    "l_{mse}=\\frac{1}{n}\\sum_{j=1}^{n}l_{j}=\\frac{1}{n}\\sum_{j=1}^{n}(y_{j}-y_{j_{-}pred})^{2}=\\frac{1} {n}\\sum_{j=1}^{n}[y_{j}-(W*X_{j}+b)]^{2} -- eq(3)\n",
    "$$\n",
    "\n",
    "$$\n",
    "\\frac{dl_{mse}}{dW}=\\frac{2}{n}\\sum_{j=1}^{n}[-X_{j}(y_{j}-(W*X_{j}+b))]    -- eq(4)\n",
    "$$\n",
    "\n",
    "$$\n",
    "\\frac{dl_{mse}}{db}=\\frac{2}{n}\\sum_{j=1}^{n}[-(y_{j}-(W*X_{j}+b))]    -- eq(5)\n",
    "$$\n",
    "\n",
    "$$\n",
    "W_{update}=W_{old}-lr*\\sum_{j=1}^{n}\\frac{dl_{j}}{dW}   -- eq (6)\n",
    "$$\n",
    "$$\n",
    "b_{update}=b_{old}-lr*\\sum_{j=1}^{n}\\frac{dl_{j}}{db}   -- eq(7)\n",
    "$$\n",
    "\n"
   ]
  },
  {
   "cell_type": "code",
   "execution_count": 4,
   "metadata": {
    "execution": {
     "iopub.execute_input": "2024-12-07T05:54:30.311004Z",
     "iopub.status.busy": "2024-12-07T05:54:30.310415Z",
     "iopub.status.idle": "2024-12-07T05:54:30.323818Z",
     "shell.execute_reply": "2024-12-07T05:54:30.322767Z"
    }
   },
   "outputs": [],
   "source": [
    "# Equation\n",
    "def pred_onesample (W, X, b):   # eq(1)单样本输出\n",
    "    return W@X + b\n",
    "\n",
    "def predicted_y(W, X, b):       # eq(1)的多样本计算\n",
    "    y_list=[]\n",
    "    for j in range(len(X)):\n",
    "        y_list.append(pred_onesample(W, X[j], b))  \n",
    "    return np.array(y_list)\n",
    "\n",
    "def mse_onesample (y, ypred):   # eq(2)单样本的mse计算\n",
    "    return (y - ypred)**2\n",
    "\n",
    "def loss_mse(y, ypred):         # eq(3)多样本mse计算\n",
    "    loss_sum = 0.0\n",
    "    n = len(y)\n",
    "    for j in range(n):\n",
    "        loss_sum += mse_onesample (y[j], ypred[j])\n",
    "    return loss_sum/n \n",
    "\n",
    "def loss_wrt_W_onesample(X, y, ypred):   # dl/dw 单样本计算\n",
    "    return -1*X*(y - ypred)\n",
    "\n",
    "def loss_wrt_W(X, y, ypred):             # eq(4) dl/dw 多样本计算\n",
    "    s = 0\n",
    "    n = len(y)\n",
    "    for i in range(n):\n",
    "        s += loss_wrt_W_onesample(X[i], y[i], ypred[i])\n",
    "    return (2/n)*s\n",
    "\n",
    "def loss_wrt_b_onesample(y, ypred):      # dl/db 单样本计算\n",
    "    return -1*(y - ypred)\n",
    "\n",
    "def loss_wrt_b(y, y_pred):               # eq(5) dl/db 多样本计算\n",
    "    n=len(y)\n",
    "    s=0\n",
    "    for i in range(len(y)):\n",
    "         s += loss_wrt_b_onesample(y[i], y_pred[i])\n",
    "    return (2/n) * s\n"
   ]
  },
  {
   "cell_type": "code",
   "execution_count": 5,
   "metadata": {
    "execution": {
     "iopub.execute_input": "2024-12-07T05:54:30.329496Z",
     "iopub.status.busy": "2024-12-07T05:54:30.329048Z",
     "iopub.status.idle": "2024-12-07T05:54:30.341611Z",
     "shell.execute_reply": "2024-12-07T05:54:30.336490Z"
    }
   },
   "outputs": [],
   "source": [
    "def predict(Xin, W, b):\n",
    "    \"\"\"Based on input Data Xin, using Model (W,b) for prediction\"\"\"\n",
    "    y_lst=[]\n",
    "    for i in range(len(Xin)):\n",
    "        y_lst.append( W@Xin[i] + b )\n",
    "    return np.array(y_lst)\n",
    "\n",
    "def mse_loss(predict_lst, target_lst):\n",
    "    return loss_mse(predict_lst, target_lst)\n",
    "\n",
    "def test(Xin, yin, W, b):\n",
    "    ypred_lst = predict (Xin, W, b)\n",
    "    test_mse  = mse_loss(ypred_lst, yin)\n",
    "    d = Decimal(str(test_mse)).quantize(Decimal(\"0.001\"), rounding = \"ROUND_HALF_UP\")\n",
    "    d_str = f\"test loss: {d}\"\n",
    "    return d_str\n",
    "    "
   ]
  },
  {
   "cell_type": "code",
   "execution_count": 6,
   "metadata": {
    "execution": {
     "iopub.execute_input": "2024-12-07T05:54:30.347888Z",
     "iopub.status.busy": "2024-12-07T05:54:30.347327Z",
     "iopub.status.idle": "2024-12-07T05:54:30.355937Z",
     "shell.execute_reply": "2024-12-07T05:54:30.354619Z"
    }
   },
   "outputs": [],
   "source": [
    "## timing decorator\n",
    "def timing(func):\n",
    "    \"\"\"decoration for timing calculation\"\"\"\n",
    "    def get_timing(*args, **kwargs):\n",
    "        _begin = timeit.default_timer()\n",
    "        result = func(*args, **kwargs)\n",
    "        duration = timeit.default_timer() - _begin\n",
    "        d = Decimal(str(duration)).quantize(Decimal(\"0.001\"), rounding = \"ROUND_HALF_UP\")\n",
    "        d_str = f\"time: {d} sec\"\n",
    "        print(f\"{func.__name__} takes {d_str} seconds\\n\")\n",
    "        return result, d_str\n",
    "    return get_timing"
   ]
  },
  {
   "cell_type": "code",
   "execution_count": 7,
   "metadata": {
    "execution": {
     "iopub.execute_input": "2024-12-07T05:54:30.361821Z",
     "iopub.status.busy": "2024-12-07T05:54:30.361350Z",
     "iopub.status.idle": "2024-12-07T05:54:30.371311Z",
     "shell.execute_reply": "2024-12-07T05:54:30.370196Z"
    }
   },
   "outputs": [],
   "source": [
    "# [GD] within each epoch, using all samples to compute and update the mean of result\n",
    "@timing\n",
    "def gradient_descent(X_l, y_l, epochs):\n",
    "\n",
    "    W = np.random.randn(X_l.shape[1])\n",
    "    b = np.random.rand()\n",
    "    mse_loss_list=[]\n",
    "    lr = LR\n",
    "\n",
    "    for e in range(1, epochs+1):\n",
    "       \n",
    "        y_lpred = predicted_y(W, X_l, b)\n",
    "        \n",
    "        W = W - lr * loss_wrt_W(X_l, y_l, y_lpred) # W regression\n",
    "        \n",
    "        b = b - lr * loss_wrt_b(y_l, y_lpred)      # b regression\n",
    "        \n",
    "        loss = loss_mse(y_l, y_lpred)\n",
    "        \n",
    "        if e % LOG == 0: \n",
    "            print(f\"[   GD] | epoch: [{e} / {epochs}] | loss = {loss:.4f}\")\n",
    "        \n",
    "        mse_loss_list.append(loss)\n",
    "            \n",
    "#     plot_xy(np.arange(1, epochs), mse_loss_list[1:], \"[GD]epoch\", \"loss\")\n",
    "   \n",
    "    return W, b, np.arange(1, epochs), mse_loss_list[1:]"
   ]
  },
  {
   "cell_type": "code",
   "execution_count": 8,
   "metadata": {
    "execution": {
     "iopub.execute_input": "2024-12-07T05:54:30.376986Z",
     "iopub.status.busy": "2024-12-07T05:54:30.376341Z",
     "iopub.status.idle": "2024-12-07T05:54:30.389692Z",
     "shell.execute_reply": "2024-12-07T05:54:30.388218Z"
    }
   },
   "outputs": [],
   "source": [
    "# [SGD] experiment, using multiple sample inside SGD epoch\n",
    "SAMPLE_RATE = 0.5   # SAMPLE_RATE = 0, degradiate to the classic SGD, Max = 1.0\n",
    "@timing\n",
    "def stocastic_gradient_descent_sampling(X, y, epochs):\n",
    "    W = np.random.randn(X.shape[1]) \n",
    "    b = np.random.rand()\n",
    "    mse_loss_list=[]\n",
    "    lr = LR\n",
    "    \n",
    "    n  = len(X)  # number of sample\n",
    "    \n",
    "    M  = int (n*SAMPLE_RATE) # iteration times inside a SGD loop, at least 1\n",
    "    M  = 1 if M < 1 else M   # M = 1 classic SGD\n",
    "    print(f\"[  SGD] | Computing {M} samples per epoch:\")\n",
    "    \n",
    "    n_iter = []\n",
    "    c_iter = 1\n",
    "    \n",
    "    for e in range(1, epochs+1):\n",
    "        loss_j = 0.0\n",
    "        y_l = []\n",
    "        y_pred_l = []\n",
    "        \n",
    "        for j in range(M):\n",
    "            rand_ind = random.randint(0, n-1)        \n",
    "            X_onesample = X[rand_ind]\n",
    "            y_onesample = y[rand_ind]\n",
    "            \n",
    "            # update of weight and bias for only one sample\n",
    "            y_pred = pred_onesample(W, X_onesample, b)\n",
    "            \n",
    "            # weight and b are still need to be scale down by /n, to preventing overflow happen\n",
    "            W = W - lr * loss_wrt_W_onesample(X_onesample, y_onesample, y_pred)*2/n\n",
    "            b = b - lr * loss_wrt_b_onesample(y_onesample, y_pred)*2/n\n",
    "            \n",
    "            y_l.append(y_onesample)\n",
    "            y_pred_l.append(y_pred)\n",
    "            n_iter.append(c_iter)\n",
    "            c_iter += 1\n",
    "            \n",
    "        mse_loss_list.append(loss_mse(y_l, y_pred_l))\n",
    "        \n",
    "        if e % LOG == 0: \n",
    "            print(f\"[  SGD] | epoch: [{e} / {epochs}], compute using sample[{rand_ind}] randomly\")\n",
    "        \n",
    "#     plot_xy(np.arange(1, epochs), mse_loss_list[1:], \"[SGD]epoch\", \"loss\")\n",
    "\n",
    "    return W, b, np.arange(1, epochs), mse_loss_list[1:]\n",
    "#     return W, b, n_iter, mse_loss_list[1:]"
   ]
  },
  {
   "cell_type": "code",
   "execution_count": 9,
   "metadata": {
    "execution": {
     "iopub.execute_input": "2024-12-07T05:54:30.395924Z",
     "iopub.status.busy": "2024-12-07T05:54:30.395047Z",
     "iopub.status.idle": "2024-12-07T05:54:30.406612Z",
     "shell.execute_reply": "2024-12-07T05:54:30.405163Z"
    }
   },
   "outputs": [],
   "source": [
    "# [mbSGD] within each epoch, divide whole dataset to some sub-set(batch), using all samples in the batch(batch_size) to compute and update the mean of result\n",
    "@timing\n",
    "def mb_stocastic_gradient_descent(X, y, epochs):\n",
    "    W = np.random.randn(X.shape[1])\n",
    "    b = np.random.rand()\n",
    "    mse_loss_list=[]\n",
    "    lr = LR\n",
    "    \n",
    "    n  = len(X)\n",
    "\n",
    "    n_iter = []\n",
    "    c_iter = 1\n",
    "    batch_size=101\n",
    "    \n",
    "    for e in range(1, epochs+1):\n",
    "        iter_per_epoch = int(n/batch_size)\n",
    "        for j in range(iter_per_epoch):\n",
    "            # generate a batch index list by random selection\n",
    "            rand_ind_list = np.random.choice(X.shape[0], batch_size, replace=False)\n",
    "            X_samples = X[rand_ind_list]\n",
    "            y_samples = y[rand_ind_list]\n",
    "            y_pred    = predicted_y(W, X_samples, b)\n",
    "            \n",
    "            # updation of weight and bias for every  one batch\n",
    "            W = W - lr * loss_wrt_W(X_samples, y_samples, y_pred) \n",
    "            b = b - lr * loss_wrt_b(y_samples, y_pred)\n",
    "            \n",
    "            mse_loss_list.append(loss_mse(y_samples, y_pred)) \n",
    "            n_iter.append(c_iter)\n",
    "            c_iter += 1\n",
    "            \n",
    "        if e % LOG == 0: \n",
    "            print(f\"[mbSGD] | epoch: [{e} / {epochs}], batch_szie: {len(rand_ind_list)}, {iter_per_epoch} iterations per epoch\")\n",
    "        \n",
    "#     plot_xy(n_iter, mse_loss_list, \"[mbSGD]total_iteration\", \"loss\")\n",
    "    \n",
    "    return W, b, n_iter, mse_loss_list"
   ]
  },
  {
   "cell_type": "code",
   "execution_count": 10,
   "metadata": {
    "execution": {
     "iopub.execute_input": "2024-12-07T05:54:30.412105Z",
     "iopub.status.busy": "2024-12-07T05:54:30.411622Z",
     "iopub.status.idle": "2024-12-07T05:54:30.424350Z",
     "shell.execute_reply": "2024-12-07T05:54:30.423043Z"
    }
   },
   "outputs": [],
   "source": [
    "## plot functions\n",
    "\n",
    "def plot_xy (plot_x, plot_y, x_label, y_label, msg_lst, show=True, position=111):\n",
    "    if position == None:  # init chart, only plot suptitle\n",
    "        fig, _ = plt.subplots(111)\n",
    "        #fig.suptitle(msg_lst, fontsize=30)\n",
    "        fig.suptitle(msg_lst, fontsize='xx-large',fontweight='heavy') \n",
    "        return\n",
    "    \n",
    "    plt.subplot(position)\n",
    "    ann_x  = 0.8 * max(plot_x)\n",
    "    ann_y1 = 1.0 * max(plot_y)\n",
    "    ann_y2 = 0.9 * max(plot_y)\n",
    "\n",
    "    plt.annotate(msg_lst[0], xy = (ann_x, ann_y1), va = 'top', ha = 'center')\n",
    "    plt.annotate(msg_lst[1], xy = (ann_x, ann_y2), va = 'top', ha = 'center')\n",
    "    plt.plot(plot_x, plot_y)\n",
    "    plt.xlabel(x_label)\n",
    "    plt.ylabel(y_label)\n",
    "    \n",
    "    if show:\n",
    "        plt.show()\n",
    "\n",
    "def plot_mult_xy(plot_name, plot_x, plot_y, x_label, y_label, msg_lst):\n",
    "    \"\"\"put result of three kinds algo all in same chart\"\"\"\n",
    "    if   plot_name == 'Init':\n",
    "        plt.rcParams[\"figure.figsize\"] = (1024/72., 4.8)\n",
    "        plot_position = None\n",
    "        \n",
    "    elif plot_name == 'GD':\n",
    "        plot_position = 131\n",
    "        \n",
    "    elif plot_name == 'SGD':\n",
    "        plot_position = 132    \n",
    "        \n",
    "    elif plot_name == 'mbSGD':\n",
    "        plot_position = 133\n",
    "\n",
    "    plot_xy (plot_x, plot_y, x_label, y_label, msg_lst, False, plot_position)\n",
    "    \n",
    "    if  plot_name == 'mbSGD':\n",
    "        plt.show()"
   ]
  },
  {
   "cell_type": "code",
   "execution_count": 11,
   "metadata": {
    "execution": {
     "iopub.execute_input": "2024-12-07T05:54:30.429611Z",
     "iopub.status.busy": "2024-12-07T05:54:30.429183Z",
     "iopub.status.idle": "2024-12-07T05:54:30.440468Z",
     "shell.execute_reply": "2024-12-07T05:54:30.438930Z"
    }
   },
   "outputs": [],
   "source": [
    "def fit_and_plot(X_train, y_train, X_test, y_test, EPOCH):\n",
    "    \"\"\"using the same dataset and same epoch for benchmark test, plot the data\"\"\"\n",
    "    msg_lst = ['','']\n",
    "    \n",
    "    Title = 'Benchmark GD vs SGD vs mbSGD' + ' | ' + 'Dataset Name: [' + DS_NAME + ' Housing Price]'\n",
    "    plot_mult_xy(\"Init\", None, None, None, None, Title)\n",
    "    \n",
    "    (W_GD,  b_GD,  xlb_GD,  loss_hist_GD),  msg_lst[0] = gradient_descent(X_train, y_train, EPOCH)\n",
    "    msg_lst[1] = test(X_test, y_test, W_GD, b_GD)\n",
    "    plot_mult_xy(\"GD\", xlb_GD,  loss_hist_GD, \"[GD] epoch\", \"loss\", msg_lst)\n",
    "    \n",
    "    \n",
    "    (W_SGD, b_SGD, xlb_SGD, loss_hist_SGD), msg_lst[0]  = stocastic_gradient_descent_sampling(X_train, y_train, EPOCH)\n",
    "    msg_lst[1] = test(X_test, y_test, W_SGD, b_SGD)\n",
    "    plot_mult_xy(\"SGD\", xlb_SGD, loss_hist_SGD, \"[SGD] iteraion\", \"loss\", msg_lst)\n",
    "       \n",
    "    (W_mb,  b_mb,   xlb_mb,  loss_hist_mb), msg_lst[0] = mb_stocastic_gradient_descent(X_train, y_train, EPOCH)\n",
    "    msg_lst[1] = test(X_test, y_test, W_mb, b_mb)\n",
    "\n",
    "    plot_mult_xy(\"mbSGD\", xlb_mb,  loss_hist_mb, \"[mbSGD] iteraion\", \"loss\", msg_lst)"
   ]
  },
  {
   "cell_type": "code",
   "execution_count": 12,
   "metadata": {
    "execution": {
     "iopub.execute_input": "2024-12-07T05:54:30.447808Z",
     "iopub.status.busy": "2024-12-07T05:54:30.447193Z",
     "iopub.status.idle": "2024-12-07T05:54:58.118013Z",
     "shell.execute_reply": "2024-12-07T05:54:58.116594Z"
    }
   },
   "outputs": [
    {
     "name": "stdout",
     "output_type": "stream",
     "text": [
      "[   GD] | epoch: [100 / 500] | loss = 94.2563\n"
     ]
    },
    {
     "name": "stdout",
     "output_type": "stream",
     "text": [
      "[   GD] | epoch: [200 / 500] | loss = 32.2727\n"
     ]
    },
    {
     "name": "stdout",
     "output_type": "stream",
     "text": [
      "[   GD] | epoch: [300 / 500] | loss = 23.7251\n"
     ]
    },
    {
     "name": "stdout",
     "output_type": "stream",
     "text": [
      "[   GD] | epoch: [400 / 500] | loss = 22.2818\n"
     ]
    },
    {
     "name": "stdout",
     "output_type": "stream",
     "text": [
      "[   GD] | epoch: [500 / 500] | loss = 21.8783\n",
      "gradient_descent takes time: 2.921 sec seconds\n",
      "\n",
      "[  SGD] | Computing 202 samples per epoch:\n"
     ]
    },
    {
     "name": "stdout",
     "output_type": "stream",
     "text": [
      "[  SGD] | epoch: [100 / 500], compute using sample[132] randomly\n"
     ]
    },
    {
     "name": "stdout",
     "output_type": "stream",
     "text": [
      "[  SGD] | epoch: [200 / 500], compute using sample[174] randomly\n"
     ]
    },
    {
     "name": "stdout",
     "output_type": "stream",
     "text": [
      "[  SGD] | epoch: [300 / 500], compute using sample[228] randomly\n"
     ]
    },
    {
     "name": "stdout",
     "output_type": "stream",
     "text": [
      "[  SGD] | epoch: [400 / 500], compute using sample[362] randomly\n"
     ]
    },
    {
     "name": "stdout",
     "output_type": "stream",
     "text": [
      "[  SGD] | epoch: [500 / 500], compute using sample[28] randomly\n",
      "stocastic_gradient_descent_sampling takes time: 2.978 sec seconds\n",
      "\n"
     ]
    },
    {
     "name": "stdout",
     "output_type": "stream",
     "text": [
      "[mbSGD] | epoch: [100 / 500], batch_szie: 101, 4 iterations per epoch\n"
     ]
    },
    {
     "name": "stdout",
     "output_type": "stream",
     "text": [
      "[mbSGD] | epoch: [200 / 500], batch_szie: 101, 4 iterations per epoch\n"
     ]
    },
    {
     "name": "stdout",
     "output_type": "stream",
     "text": [
      "[mbSGD] | epoch: [300 / 500], batch_szie: 101, 4 iterations per epoch\n"
     ]
    },
    {
     "name": "stdout",
     "output_type": "stream",
     "text": [
      "[mbSGD] | epoch: [400 / 500], batch_szie: 101, 4 iterations per epoch\n"
     ]
    },
    {
     "name": "stdout",
     "output_type": "stream",
     "text": [
      "[mbSGD] | epoch: [500 / 500], batch_szie: 101, 4 iterations per epoch\n",
      "mb_stocastic_gradient_descent takes time: 3.285 sec seconds\n",
      "\n"
     ]
    },
    {
     "data": {
      "image/png": "[encoded data removed]",
      "text/plain": [
       "<Figure size 1422.22x480 with 114 Axes>"
      ]
     },
     "metadata": {},
     "output_type": "display_data"
    }
   ],
   "source": [
    "fit_and_plot(X_train, y_train, X_test, y_test, EPOCH)"
   ]
  },
  {
   "cell_type": "markdown",
   "metadata": {},
   "source": [
    "# Benchmark: by using sklearn　SGDRegressor"
   ]
  },
  {
   "cell_type": "code",
   "execution_count": 13,
   "metadata": {
    "execution": {
     "iopub.execute_input": "2024-12-07T05:54:58.126350Z",
     "iopub.status.busy": "2024-12-07T05:54:58.125849Z",
     "iopub.status.idle": "2024-12-07T05:54:58.195257Z",
     "shell.execute_reply": "2024-12-07T05:54:58.193815Z"
    }
   },
   "outputs": [],
   "source": [
    "from sklearn.linear_model import SGDRegressor\n",
    "from sklearn.metrics import mean_squared_error\n",
    "\n",
    "@timing\n",
    "def skl_SGD(verbose):\n",
    "    model=SGDRegressor(alpha=0,learning_rate=\"constant\",eta0=0.001)\n",
    "    model.fit(X_train, y_train)\n",
    "    ypred = model.predict(X_test)\n",
    "    mse   = mean_squared_error(y_test, ypred)\n",
    "    rmse  = mse**(1/2.0)\n",
    "    if verbose:\n",
    "        print(f\"sklearn Weight vector: {model.coef_}\\n interception: {model.intercept_}\")\n",
    "        print(\"R-squared:\", model.score(X_test, y_test))\n",
    "    \n",
    "    print(f\"MSE:  {mse:.3f}\", )\n",
    "    print(f\"RMSE: {rmse:.3f}\") "
   ]
  },
  {
   "cell_type": "code",
   "execution_count": 14,
   "metadata": {
    "execution": {
     "iopub.execute_input": "2024-12-07T05:54:58.202464Z",
     "iopub.status.busy": "2024-12-07T05:54:58.201176Z",
     "iopub.status.idle": "2024-12-07T05:54:58.216099Z",
     "shell.execute_reply": "2024-12-07T05:54:58.214750Z"
    }
   },
   "outputs": [
    {
     "name": "stdout",
     "output_type": "stream",
     "text": [
      "MSE:  27.252\n",
      "RMSE: 5.220\n",
      "skl_SGD takes time: 0.006 sec seconds\n",
      "\n"
     ]
    },
    {
     "data": {
      "text/plain": [
       "(None, 'time: 0.006 sec')"
      ]
     },
     "execution_count": 14,
     "metadata": {},
     "output_type": "execute_result"
    }
   ],
   "source": [
    "skl_SGD(False)"
   ]
  },
  {
   "cell_type": "code",
   "execution_count": null,
   "metadata": {},
   "outputs": [],
   "source": []
  }
 ],
 "metadata": {
  "kernelspec": {
   "display_name": "Python 3 (ipykernel)",
   "language": "python",
   "name": "python3"
  },
  "language_info": {
   "codemirror_mode": {
    "name": "ipython",
    "version": 3
   },
   "file_extension": ".py",
   "mimetype": "text/x-python",
   "name": "python",
   "nbconvert_exporter": "python",
   "pygments_lexer": "ipython3",
   "version": "3.12.2"
  }
 },
 "nbformat": 4,
 "nbformat_minor": 4
}
