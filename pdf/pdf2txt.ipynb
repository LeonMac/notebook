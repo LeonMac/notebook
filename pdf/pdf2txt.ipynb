{
 "cells": [
  {
   "cell_type": "code",
   "execution_count": 1,
   "id": "a5cde1e8",
   "metadata": {
    "execution": {
     "iopub.execute_input": "2024-12-07T05:56:46.378022Z",
     "iopub.status.busy": "2024-12-07T05:56:46.377090Z",
     "iopub.status.idle": "2024-12-07T05:56:47.315378Z",
     "shell.execute_reply": "2024-12-07T05:56:47.313554Z"
    }
   },
   "outputs": [
    {
     "ename": "ModuleNotFoundError",
     "evalue": "No module named 'fitz'",
     "output_type": "error",
     "traceback": [
      "\u001b[0;31m---------------------------------------------------------------------------\u001b[0m",
      "\u001b[0;31mModuleNotFoundError\u001b[0m                       Traceback (most recent call last)",
      "Cell \u001b[0;32mIn[1], line 1\u001b[0m\n\u001b[0;32m----> 1\u001b[0m \u001b[38;5;28;01mimport\u001b[39;00m \u001b[38;5;21;01mfitz\u001b[39;00m  \u001b[38;5;66;03m# PyMuPDF\u001b[39;00m\n\u001b[1;32m      2\u001b[0m \u001b[38;5;28;01mimport\u001b[39;00m \u001b[38;5;21;01mos\u001b[39;00m\n\u001b[1;32m      4\u001b[0m \u001b[38;5;28;01mdef\u001b[39;00m \u001b[38;5;21mextract_text_from_pdf\u001b[39m(pdf_path, txt_path):\n",
      "\u001b[0;31mModuleNotFoundError\u001b[0m: No module named 'fitz'"
     ]
    }
   ],
   "source": [
    "import fitz  # PyMuPDF\n",
    "import os\n",
    "\n",
    "def extract_text_from_pdf(pdf_path, txt_path):\n",
    "    try:\n",
    "        # Open the PDF file\n",
    "        pdf_document = fitz.open(pdf_path)\n",
    "\n",
    "        # Create a text file for writing\n",
    "        with open(txt_path, 'w', encoding='utf-8') as txt_file:\n",
    "            # Iterate through each page in the PDF\n",
    "            for page_number in range(pdf_document.page_count):\n",
    "                # Get the page\n",
    "                page = pdf_document[page_number]\n",
    "\n",
    "                # Extract text from the page\n",
    "                page_text = page.get_text(\"text\")\n",
    "\n",
    "                # Write the text to the text file\n",
    "                txt_file.write(page_text)\n",
    "\n",
    "        print(f\"Text extracted from '{pdf_path}' and saved to '{txt_path}'.\")\n",
    "\n",
    "    except Exception as e:\n",
    "        print(f\"Error: {e}\")\n",
    "\n",
    "if __name__ == \"__main__\":\n",
    "    # Specify your PDF file path\n",
    "    pdf_file_path = './GEB.pdf'\n",
    "\n",
    "    # Specify the path for the output text file\n",
    "    txt_file_path = './GEB.txt'\n",
    "\n",
    "    # Call the function to extract text from PDF and save it to a text file\n",
    "    extract_text_from_pdf(pdf_file_path, txt_file_path)\n"
   ]
  },
  {
   "cell_type": "code",
   "execution_count": null,
   "id": "8eb3fe03",
   "metadata": {},
   "outputs": [],
   "source": []
  },
  {
   "cell_type": "code",
   "execution_count": null,
   "id": "b41ee430",
   "metadata": {},
   "outputs": [],
   "source": []
  },
  {
   "cell_type": "code",
   "execution_count": null,
   "id": "806e78a8",
   "metadata": {},
   "outputs": [],
   "source": []
  }
 ],
 "metadata": {
  "kernelspec": {
   "display_name": "Python 3 (ipykernel)",
   "language": "python",
   "name": "python3"
  },
  "language_info": {
   "codemirror_mode": {
    "name": "ipython",
    "version": 3
   },
   "file_extension": ".py",
   "mimetype": "text/x-python",
   "name": "python",
   "nbconvert_exporter": "python",
   "pygments_lexer": "ipython3",
   "version": "3.12.2"
  }
 },
 "nbformat": 4,
 "nbformat_minor": 5
}
