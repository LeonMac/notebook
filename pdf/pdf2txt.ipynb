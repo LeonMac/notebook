{
 "cells": [
  {
   "cell_type": "code",
   "execution_count": 5,
   "id": "a5cde1e8",
   "metadata": {},
   "outputs": [
    {
     "name": "stdout",
     "output_type": "stream",
     "text": [
      "Text extracted from './Statistics.pdf' and saved to './Statistics.txt'.\n"
     ]
    }
   ],
   "source": [
    "import fitz  # PyMuPDF\n",
    "import os\n",
    "\n",
    "def extract_text_from_pdf(pdf_path, txt_path):\n",
    "    try:\n",
    "        # Open the PDF file\n",
    "        pdf_document = fitz.open(pdf_path)\n",
    "\n",
    "        # Create a text file for writing\n",
    "        with open(txt_path, 'w', encoding='utf-8') as txt_file:\n",
    "            # Iterate through each page in the PDF\n",
    "            for page_number in range(pdf_document.page_count):\n",
    "                # Get the page\n",
    "                page = pdf_document[page_number]\n",
    "\n",
    "                # Extract text from the page\n",
    "                page_text = page.get_text(\"text\")\n",
    "\n",
    "                # Write the text to the text file\n",
    "                txt_file.write(page_text)\n",
    "\n",
    "        print(f\"Text extracted from '{pdf_path}' and saved to '{txt_path}'.\")\n",
    "\n",
    "    except Exception as e:\n",
    "        print(f\"Error: {e}\")\n",
    "\n",
    "if __name__ == \"__main__\":\n",
    "    # Specify your PDF file path\n",
    "    pdf_file_path = './GEB.pdf'\n",
    "\n",
    "    # Specify the path for the output text file\n",
    "    txt_file_path = './GEB.txt'\n",
    "\n",
    "    # Call the function to extract text from PDF and save it to a text file\n",
    "    extract_text_from_pdf(pdf_file_path, txt_file_path)\n"
   ]
  },
  {
   "cell_type": "code",
   "execution_count": null,
   "id": "8eb3fe03",
   "metadata": {},
   "outputs": [],
   "source": []
  },
  {
   "cell_type": "code",
   "execution_count": null,
   "id": "b41ee430",
   "metadata": {},
   "outputs": [],
   "source": []
  },
  {
   "cell_type": "code",
   "execution_count": null,
   "id": "806e78a8",
   "metadata": {},
   "outputs": [],
   "source": []
  }
 ],
 "metadata": {
  "kernelspec": {
   "display_name": "Python 3 (ipykernel)",
   "language": "python",
   "name": "python3"
  },
  "language_info": {
   "codemirror_mode": {
    "name": "ipython",
    "version": 3
   },
   "file_extension": ".py",
   "mimetype": "text/x-python",
   "name": "python",
   "nbconvert_exporter": "python",
   "pygments_lexer": "ipython3",
   "version": "3.9.0"
  }
 },
 "nbformat": 4,
 "nbformat_minor": 5
}
