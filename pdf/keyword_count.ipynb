{
 "cells": [
  {
   "cell_type": "code",
   "execution_count": 1,
   "id": "a5cde1e8",
   "metadata": {
    "execution": {
     "iopub.execute_input": "2024-12-07T05:56:49.454280Z",
     "iopub.status.busy": "2024-12-07T05:56:49.453817Z",
     "iopub.status.idle": "2024-12-07T05:56:50.397621Z",
     "shell.execute_reply": "2024-12-07T05:56:50.395775Z"
    }
   },
   "outputs": [
    {
     "ename": "ModuleNotFoundError",
     "evalue": "No module named 'PyPDF2'",
     "output_type": "error",
     "traceback": [
      "\u001b[0;31m---------------------------------------------------------------------------\u001b[0m",
      "\u001b[0;31mModuleNotFoundError\u001b[0m                       Traceback (most recent call last)",
      "Cell \u001b[0;32mIn[1], line 1\u001b[0m\n\u001b[0;32m----> 1\u001b[0m \u001b[38;5;28;01mimport\u001b[39;00m \u001b[38;5;21;01mPyPDF2\u001b[39;00m\n\u001b[1;32m      2\u001b[0m \u001b[38;5;28;01mimport\u001b[39;00m \u001b[38;5;21;01mre\u001b[39;00m\n\u001b[1;32m      4\u001b[0m \u001b[38;5;66;03m# 打开PDF文件并读取内容\u001b[39;00m\n",
      "\u001b[0;31mModuleNotFoundError\u001b[0m: No module named 'PyPDF2'"
     ]
    }
   ],
   "source": [
    "import PyPDF2\n",
    "import re\n",
    "\n",
    "# 打开PDF文件并读取内容\n",
    "with open('./Proceedings.pdf', 'rb') as pdf_file:\n",
    "    pdf_reader  = PyPDF2.PdfReader(pdf_file)\n",
    "    text = \"\"\n",
    "    for i in range(len(pdf_reader.pages)):\n",
    "        page = pdf_reader.pages[i]\n",
    "        text += page.extract_text()\n",
    "\n",
    "print(f\"Done parsing the files\")\n"
   ]
  },
  {
   "cell_type": "code",
   "execution_count": null,
   "id": "8eb3fe03",
   "metadata": {},
   "outputs": [],
   "source": [
    "from PyPDF2.generic import IndirectObject\n",
    "# 定义关键词列表\n",
    "keywords = [\"machine learning\", \"deep learning\"]\n",
    "\n",
    "# 遍历每个关键词并统计其出现次数\n",
    "for keyword in keywords:\n",
    "    # 使用正则表达式查找关键词并统计其出现次数\n",
    "\n",
    "    matches = re.findall(rf\"\\b{keyword}\\b\", text)\n",
    "    page_nums = set()\n",
    "    \n",
    "    print(f\"working on the key words: {keyword}, found {len(matches)} matches\")\n",
    "    ## debugging\n",
    "#     for match in matches:\n",
    "#         for i in range(len(match)-1):\n",
    "#             print(f\"match[{i}] = {match[i]}\")\n",
    "#             if match[i].isdigit() and match[i+1].isdigit():\n",
    "#                 try:\n",
    "#                     obj = pdf_reader.get_object(IndirectObject(int(match[i]), int(match[i+1]), pdf_reader))\n",
    "#                 except IndexError:\n",
    "#                     pass\n",
    "#                 direct_obj = pdf_reader.get_object(obj.reference)\n",
    "#                 print(f\"direct_obj = {direct_obj}\")\n",
    "#                 if direct_obj:\n",
    "#                     print(\"----direct_obj----\")\n",
    "#                     page_nums.add(pdf_reader.get_page_number(direct_obj.resolve()))\n",
    "#     print(f\"{keyword} found on pages: {list(page_nums)}\")\n",
    "    print(\"Keyword '{}': Total count = {}, Total pages = {}\".format(keyword, len(matches), len(page_nums)))"
   ]
  },
  {
   "cell_type": "code",
   "execution_count": null,
   "id": "b41ee430",
   "metadata": {},
   "outputs": [],
   "source": []
  },
  {
   "cell_type": "code",
   "execution_count": null,
   "id": "806e78a8",
   "metadata": {},
   "outputs": [],
   "source": []
  }
 ],
 "metadata": {
  "kernelspec": {
   "display_name": "Python 3 (ipykernel)",
   "language": "python",
   "name": "python3"
  },
  "language_info": {
   "codemirror_mode": {
    "name": "ipython",
    "version": 3
   },
   "file_extension": ".py",
   "mimetype": "text/x-python",
   "name": "python",
   "nbconvert_exporter": "python",
   "pygments_lexer": "ipython3",
   "version": "3.12.2"
  }
 },
 "nbformat": 4,
 "nbformat_minor": 5
}
