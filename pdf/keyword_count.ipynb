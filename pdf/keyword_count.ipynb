{
 "cells": [
  {
   "cell_type": "code",
   "execution_count": null,
   "id": "a5cde1e8",
   "metadata": {},
   "outputs": [],
   "source": [
    "import PyPDF2\n",
    "import re\n",
    "\n",
    "# 打开PDF文件并读取内容\n",
    "with open('./Proceedings.pdf', 'rb') as pdf_file:\n",
    "    pdf_reader  = PyPDF2.PdfReader(pdf_file)\n",
    "    text = \"\"\n",
    "    for i in range(len(pdf_reader.pages)):\n",
    "        page = pdf_reader.pages[i]\n",
    "        text += page.extract_text()\n",
    "\n",
    "print(f\"Done parsing the files\")\n"
   ]
  },
  {
   "cell_type": "code",
   "execution_count": null,
   "id": "8eb3fe03",
   "metadata": {},
   "outputs": [],
   "source": [
    "from PyPDF2.generic import IndirectObject\n",
    "# 定义关键词列表\n",
    "keywords = [\"machine learning\", \"deep learning\"]\n",
    "\n",
    "# 遍历每个关键词并统计其出现次数\n",
    "for keyword in keywords:\n",
    "    # 使用正则表达式查找关键词并统计其出现次数\n",
    "\n",
    "    matches = re.findall(rf\"\\b{keyword}\\b\", text)\n",
    "    page_nums = set()\n",
    "    \n",
    "    print(f\"working on the key words: {keyword}, found {len(matches)} matches\")\n",
    "    ## debugging\n",
    "#     for match in matches:\n",
    "#         for i in range(len(match)-1):\n",
    "#             print(f\"match[{i}] = {match[i]}\")\n",
    "#             if match[i].isdigit() and match[i+1].isdigit():\n",
    "#                 try:\n",
    "#                     obj = pdf_reader.get_object(IndirectObject(int(match[i]), int(match[i+1]), pdf_reader))\n",
    "#                 except IndexError:\n",
    "#                     pass\n",
    "#                 direct_obj = pdf_reader.get_object(obj.reference)\n",
    "#                 print(f\"direct_obj = {direct_obj}\")\n",
    "#                 if direct_obj:\n",
    "#                     print(\"----direct_obj----\")\n",
    "#                     page_nums.add(pdf_reader.get_page_number(direct_obj.resolve()))\n",
    "#     print(f\"{keyword} found on pages: {list(page_nums)}\")\n",
    "    print(\"Keyword '{}': Total count = {}, Total pages = {}\".format(keyword, len(matches), len(page_nums)))"
   ]
  },
  {
   "cell_type": "code",
   "execution_count": null,
   "id": "b41ee430",
   "metadata": {},
   "outputs": [],
   "source": []
  },
  {
   "cell_type": "code",
   "execution_count": null,
   "id": "806e78a8",
   "metadata": {},
   "outputs": [],
   "source": []
  }
 ],
 "metadata": {
  "kernelspec": {
   "display_name": "Python 3 (ipykernel)",
   "language": "python",
   "name": "python3"
  },
  "language_info": {
   "codemirror_mode": {
    "name": "ipython",
    "version": 3
   },
   "file_extension": ".py",
   "mimetype": "text/x-python",
   "name": "python",
   "nbconvert_exporter": "python",
   "pygments_lexer": "ipython3",
   "version": "3.9.0"
  }
 },
 "nbformat": 4,
 "nbformat_minor": 5
}
