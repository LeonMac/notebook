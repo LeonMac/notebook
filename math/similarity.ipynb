{
 "cells": [
  {
   "cell_type": "markdown",
   "id": "6021753a",
   "metadata": {},
   "source": [
    "# 1. 目标相似度--向量的余弦相似度"
   ]
  },
  {
   "cell_type": "code",
   "execution_count": 1,
   "id": "5f10c685",
   "metadata": {},
   "outputs": [],
   "source": [
    "import numpy as np\n",
    "import pandas as pd\n",
    "import sklearn\n",
    "# 生成一些示例向量。 这里我们有三个用户, 5本书\n",
    "vector_user1 = np.array([1, 2, 3, 4, 5])\n",
    "vector_user2 = np.array([2, 3, 4, 5, 6])\n",
    "vector_user3 = np.array([5, 4, 3, 2, 1])"
   ]
  },
  {
   "cell_type": "markdown",
   "id": "6cacfe04",
   "metadata": {},
   "source": [
    "## 例子1： 面向用户，把用户对物品的喜好向量化，这可以用来计算用户之间的相似度\n",
    "\n",
    "例如：一个向量，有5个值，代表**一个用户对于5本书的打分。**"
   ]
  },
  {
   "cell_type": "code",
   "execution_count": 2,
   "id": "7ddf0d76",
   "metadata": {},
   "outputs": [],
   "source": [
    "import numpy as np\n",
    "import pandas as pd\n",
    "import numpy\n",
    "# 生成一些示例向量。 这里我们有三个用户\n",
    "vector_user1 = np.array([1, 2, 3, 4, 5])\n",
    "vector_user2 = np.array([2, 3, 4, 5, 6])\n",
    "vector_user3 = np.array([5, 4, 3, 2, 1])\n",
    "\n",
    "# 生成一些示例向量和标签\n",
    "user_vectors = {\n",
    "    'vector_user1': vector_user1,\n",
    "    'vector_user2': vector_user2,\n",
    "    'vector_user3': vector_user3\n",
    "}"
   ]
  },
  {
   "cell_type": "code",
   "execution_count": 3,
   "id": "b61409d6",
   "metadata": {},
   "outputs": [],
   "source": [
    "def cosine_similarity(vector1, vector2):\n",
    "    dot_product = np.dot(vector1, vector2)  #点积\n",
    "    norm_vector1 = np.linalg.norm(vector1)  #模1\n",
    "    norm_vector2 = np.linalg.norm(vector2)  #模2\n",
    "\n",
    "    similarity = dot_product / (norm_vector1 * norm_vector2)\n",
    "    return similarity"
   ]
  },
  {
   "cell_type": "code",
   "execution_count": 4,
   "id": "6f01966f",
   "metadata": {},
   "outputs": [],
   "source": [
    "def numpy_cos_similar(vectors):\n",
    "    # 计算余弦相似度矩阵\n",
    "    vector_array = np.array(list(vectors.values()))\n",
    "    vector_labels = list(vectors.keys())\n",
    "\n",
    "    num_vectors = len(vector_array)\n",
    "    similarity_matrix = np.zeros((num_vectors, num_vectors))\n",
    "\n",
    "    for i in range(num_vectors):\n",
    "        for j in range(num_vectors):\n",
    "            similarity_matrix[i, j] = cosine_similarity(vector_array[i], vector_array[j])\n",
    "\n",
    "    # 将相似度矩阵包装成DataFrame\n",
    "    similarity_df = pd.DataFrame(similarity_matrix, index=vector_labels, columns=vector_labels)\n",
    "\n",
    "    # 打印结果\n",
    "    print(\"User Vectors:\")\n",
    "    print(pd.DataFrame(vector_array, index=vector_labels))\n",
    "    print(\"\\nCosine Similarity Matrix:\")\n",
    "    print(similarity_df)"
   ]
  },
  {
   "cell_type": "code",
   "execution_count": 5,
   "id": "d953dd8c",
   "metadata": {},
   "outputs": [
    {
     "name": "stdout",
     "output_type": "stream",
     "text": [
      "User Vectors:\n",
      "              0  1  2  3  4\n",
      "vector_user1  1  2  3  4  5\n",
      "vector_user2  2  3  4  5  6\n",
      "vector_user3  5  4  3  2  1\n",
      "\n",
      "Cosine Similarity Matrix:\n",
      "              vector_user1  vector_user2  vector_user3\n",
      "vector_user1      1.000000      0.994937      0.636364\n",
      "vector_user2      0.994937      1.000000      0.710669\n",
      "vector_user3      0.636364      0.710669      1.000000\n"
     ]
    }
   ],
   "source": [
    "numpy_cos_similar(user_vectors)"
   ]
  },
  {
   "cell_type": "markdown",
   "id": "db6d888c",
   "metadata": {},
   "source": [
    "## 使用Numpy 库"
   ]
  },
  {
   "cell_type": "code",
   "execution_count": null,
   "id": "c95b102e",
   "metadata": {},
   "outputs": [],
   "source": [
    "from sklearn.metrics.pairwise import cosine_similarity\n",
    "\n",
    "# 将向量组合成矩阵\n",
    "matrix = np.vstack([vector_user1, vector_user2, vector_user3])\n",
    "\n",
    "# 计算余弦相似度\n",
    "similarity_matrix = cosine_similarity(matrix)\n",
    "\n",
    "# 打印结果\n",
    "print(\"Vectors:\")\n",
    "print(matrix)\n",
    "print(\"\\nCosine Similarity Matrix:\")\n",
    "print(similarity_matrix)"
   ]
  },
  {
   "cell_type": "markdown",
   "id": "57af330e",
   "metadata": {},
   "source": [
    "## 使用Pandas库"
   ]
  },
  {
   "cell_type": "code",
   "execution_count": null,
   "id": "ae604f4e",
   "metadata": {},
   "outputs": [],
   "source": [
    "\n",
    "from sklearn.metrics.pairwise import cosine_similarity\n",
    "\n",
    "\n",
    "# 将向量和标签组合成DataFrame\n",
    "df = pd.DataFrame(user_vectors)\n",
    "\n",
    "# 计算余弦相似度\n",
    "similarity_matrix = cosine_similarity(df.T)\n",
    "\n",
    "# 将标签添加到相似度矩阵\n",
    "similarity_df = pd.DataFrame(similarity_matrix, index=df.columns, columns=df.columns)\n",
    "\n",
    "# 打印结果\n",
    "print(\"User Vectors:\")\n",
    "print(df)\n",
    "print(\"\\nCosine Similarity Matrix:\")\n",
    "print(similarity_df)"
   ]
  },
  {
   "cell_type": "markdown",
   "id": "78cd98c6",
   "metadata": {},
   "source": [
    "## 例子2： 面向物品，把用户对物品的喜好向量化，用来计算物品之间的相似度\n",
    "\n",
    "例如：一个向量，有3个值，代表**3个用户对于1本书的打分。**\n",
    "我们简单把上文的所有user_vector 做转至：\n"
   ]
  },
  {
   "cell_type": "code",
   "execution_count": 7,
   "id": "7c742447",
   "metadata": {},
   "outputs": [],
   "source": [
    "def get_item_vector(user_vectors):\n",
    "    item_vectors = {}\n",
    "    item_num = len(user_vectors[0])  # Assuming all vectors have the same length\n",
    "\n",
    "    for i in range(item_num):\n",
    "        new_vector_i = np.array([user_vector[i] for user_vector in user_vectors])\n",
    "        item_vectors[f'item_{i+1}'] = new_vector_i\n",
    "        print(f'Item {i+1} Vector:', new_vector_i)\n",
    "\n",
    "    return item_vectors\n",
    "    "
   ]
  },
  {
   "cell_type": "code",
   "execution_count": 8,
   "id": "a6f9e041",
   "metadata": {},
   "outputs": [
    {
     "ename": "KeyError",
     "evalue": "0",
     "output_type": "error",
     "traceback": [
      "\u001b[0;31m---------------------------------------------------------------------------\u001b[0m",
      "\u001b[0;31mKeyError\u001b[0m                                  Traceback (most recent call last)",
      "Cell \u001b[0;32mIn[8], line 1\u001b[0m\n\u001b[0;32m----> 1\u001b[0m item_vectors \u001b[38;5;241m=\u001b[39m \u001b[43mget_item_vector\u001b[49m\u001b[43m(\u001b[49m\u001b[43muser_vectors\u001b[49m\u001b[43m)\u001b[49m\n",
      "Cell \u001b[0;32mIn[7], line 3\u001b[0m, in \u001b[0;36mget_item_vector\u001b[0;34m(user_vectors)\u001b[0m\n\u001b[1;32m      1\u001b[0m \u001b[38;5;28;01mdef\u001b[39;00m \u001b[38;5;21mget_item_vector\u001b[39m(user_vectors):\n\u001b[1;32m      2\u001b[0m     item_vectors \u001b[38;5;241m=\u001b[39m {}\n\u001b[0;32m----> 3\u001b[0m     item_num \u001b[38;5;241m=\u001b[39m \u001b[38;5;28mlen\u001b[39m(\u001b[43muser_vectors\u001b[49m\u001b[43m[\u001b[49m\u001b[38;5;241;43m0\u001b[39;49m\u001b[43m]\u001b[49m)  \u001b[38;5;66;03m# Assuming all vectors have the same length\u001b[39;00m\n\u001b[1;32m      5\u001b[0m     \u001b[38;5;28;01mfor\u001b[39;00m i \u001b[38;5;129;01min\u001b[39;00m \u001b[38;5;28mrange\u001b[39m(item_num):\n\u001b[1;32m      6\u001b[0m         new_vector_i \u001b[38;5;241m=\u001b[39m np\u001b[38;5;241m.\u001b[39marray([user_vector[i] \u001b[38;5;28;01mfor\u001b[39;00m user_vector \u001b[38;5;129;01min\u001b[39;00m user_vectors])\n",
      "\u001b[0;31mKeyError\u001b[0m: 0"
     ]
    }
   ],
   "source": [
    "item_vectors = get_item_vector(user_vectors)"
   ]
  },
  {
   "cell_type": "code",
   "execution_count": null,
   "id": "21fb86f7",
   "metadata": {},
   "outputs": [],
   "source": [
    "item_vectors"
   ]
  },
  {
   "cell_type": "code",
   "execution_count": null,
   "id": "c4e0b933",
   "metadata": {},
   "outputs": [],
   "source": []
  },
  {
   "cell_type": "markdown",
   "id": "c004b419",
   "metadata": {},
   "source": [
    "# 2.基于相似度做产品推荐度计算 \n",
    "\n",
    "## 2.1 User CF :基于用户的协同过滤算法\n",
    "\n",
    "User-Based Collaborative Filtering (User-Based CF):\n",
    "\n",
    "In User-Based CF, recommendations are made based on the preferences and behaviors of users who are similar to the target user. The idea is that if two users have similar tastes or preferences, and one user likes an item that the other has not yet interacted with, it's likely that the second user will also like that item. The similarity between users is typically measured using metrics such as cosine similarity or Pearson correlation.\n",
    "\n",
    "The steps involved in User-Based CF are as follows:\n",
    "\n",
    "User Similarity Calculation: Compute the similarity between the target user and other users in the system.\n",
    "Neighborhood Selection: Identify a set of users (neighborhood) who are most similar to the target user.\n",
    "Rating Prediction: Predict the target user's preference for items by aggregating the ratings of the items from the selected neighborhood.\n",
    "One drawback of User-Based CF is the scalability issue. As the number of users grows, calculating user similarities for all pairs can become computationally expensive.\n",
    "\n",
    "问题：我们知道了用户A的喜好向量，我们想为A推荐“潜在地符合他的喜好的产品，该怎么做”？\n",
    "\n",
    "合理假设：用户兴趣相似，那么他们对于同一个产品的评价应该类似。\n",
    "\n",
    "思路：其它相似用户，如果他们已经使用过产品，并对产品有了评分，那么我们可以通过计算他们的加权分数，作为用户A对于该产品可能的喜好度的“推测值”。而权重，就是他们和用户A之间的相似度（见上文，余弦相似度）。\n",
    "\n"
   ]
  },
  {
   "cell_type": "code",
   "execution_count": null,
   "id": "59758d71",
   "metadata": {},
   "outputs": [],
   "source": []
  }
 ],
 "metadata": {
  "kernelspec": {
   "display_name": "Python 3 (ipykernel)",
   "language": "python",
   "name": "python3"
  },
  "language_info": {
   "codemirror_mode": {
    "name": "ipython",
    "version": 3
   },
   "file_extension": ".py",
   "mimetype": "text/x-python",
   "name": "python",
   "nbconvert_exporter": "python",
   "pygments_lexer": "ipython3",
   "version": "3.9.0"
  }
 },
 "nbformat": 4,
 "nbformat_minor": 5
}
