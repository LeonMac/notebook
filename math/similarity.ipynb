{
 "cells": [
  {
   "cell_type": "markdown",
   "id": "6021753a",
   "metadata": {},
   "source": [
    "# 1. 目标相似度--向量的余弦相似度"
   ]
  },
  {
   "cell_type": "code",
   "execution_count": 10,
   "id": "e3a9e1ee",
   "metadata": {},
   "outputs": [
    {
     "data": {
      "text/html": [
       "<style>.container{width:100% !important;}</style>"
      ],
      "text/plain": [
       "<IPython.core.display.HTML object>"
      ]
     },
     "metadata": {},
     "output_type": "display_data"
    }
   ],
   "source": [
    "# 让notebook宽屏显示\n",
    "from IPython.display import display, HTML\n",
    "display(HTML('<style>.container{width:100% !important;}</style>'))"
   ]
  },
  {
   "cell_type": "code",
   "execution_count": 11,
   "id": "5f10c685",
   "metadata": {},
   "outputs": [],
   "source": [
    "import numpy as np\n",
    "import pandas as pd\n",
    "import sklearn\n",
    "\n",
    "# 生成一些示例向量。 这里我们有4个用户, 6本书\n",
    "user_num = 3\n",
    "item_num = 5\n",
    "user_vector1 = np.array([4, 3, 0, 0, 5, 0])\n",
    "user_vector2 = np.array([5, 0, 4, 0, 4, 0])\n",
    "user_vector3 = np.array([4, 0, 5, 3, 4, 0])\n",
    "user_vector4 = np.array([0, 0, 2, 4, 0, 5])\n",
    "\n",
    "user_matrix = np.vstack([user_vector1, user_vector2, user_vector3, user_vector4])\n",
    "item_matrix = user_matrix.T\n"
   ]
  },
  {
   "cell_type": "code",
   "execution_count": 12,
   "id": "b5e171ac",
   "metadata": {},
   "outputs": [],
   "source": [
    "def form_vectors(label_str: str, matrix):\n",
    "    if label_str == 'user':\n",
    "        label_prefix = 'vector_user'\n",
    "    elif label_str == 'item':\n",
    "        label_prefix = 'vector_item'\n",
    "    else:\n",
    "        assert False, f\"wrong label\"\n",
    "    \n",
    "    vector_num = len(matrix)\n",
    "    vectors = {}\n",
    "    \n",
    "    for i in range(vector_num):\n",
    "        new_vector_i = np.array(matrix[i])\n",
    "        vectors[f'{label_prefix}{i+1}'] = new_vector_i\n",
    "    \n",
    "    print(vectors)\n",
    "        \n",
    "    return vectors\n"
   ]
  },
  {
   "cell_type": "markdown",
   "id": "562b355f",
   "metadata": {},
   "source": [
    "## 例1： 面向用户，把用户对物品的喜好向量化，这可以用来计算用户之间的相似度\n",
    "\n",
    "### 例如：一个向量有6个值，代表**1个用户对于6本书的打分。**\n"
   ]
  },
  {
   "cell_type": "code",
   "execution_count": 13,
   "id": "382598ff",
   "metadata": {},
   "outputs": [
    {
     "name": "stdout",
     "output_type": "stream",
     "text": [
      "{'vector_user1': array([4, 3, 0, 0, 5, 0]), 'vector_user2': array([5, 0, 4, 0, 4, 0]), 'vector_user3': array([4, 0, 5, 3, 4, 0]), 'vector_user4': array([0, 0, 2, 4, 0, 5])}\n"
     ]
    }
   ],
   "source": [
    "user_vectors = form_vectors('user', user_matrix)"
   ]
  },
  {
   "cell_type": "markdown",
   "id": "42b7dfcf",
   "metadata": {},
   "source": [
    "## 例2： 面向物品，把用户对物品的喜好向量化，用来计算物品之间的相似度\n",
    "\n",
    "### 例如：一个向量，有4个值，代表**4个用户对于1本书的打分。**\n"
   ]
  },
  {
   "cell_type": "code",
   "execution_count": 14,
   "id": "5398975d",
   "metadata": {},
   "outputs": [
    {
     "name": "stdout",
     "output_type": "stream",
     "text": [
      "{'vector_item1': array([4, 5, 4, 0]), 'vector_item2': array([3, 0, 0, 0]), 'vector_item3': array([0, 4, 5, 2]), 'vector_item4': array([0, 0, 3, 4]), 'vector_item5': array([5, 4, 4, 0]), 'vector_item6': array([0, 0, 0, 5])}\n"
     ]
    }
   ],
   "source": [
    "item_vectors = form_vectors('item', item_matrix)"
   ]
  },
  {
   "cell_type": "code",
   "execution_count": 15,
   "id": "b61409d6",
   "metadata": {},
   "outputs": [],
   "source": [
    "def cosine_similarity(vector1, vector2):\n",
    "    ### 实际上就是计算两个单位向量之间的点积\n",
    "    dot_product = np.dot(vector1, vector2)  #点积\n",
    "    norm_vector1 = np.linalg.norm(vector1)  #模1\n",
    "    norm_vector2 = np.linalg.norm(vector2)  #模2\n",
    "\n",
    "    similarity = dot_product / (norm_vector1 * norm_vector2)\n",
    "    return similarity"
   ]
  },
  {
   "cell_type": "code",
   "execution_count": 16,
   "id": "6f01966f",
   "metadata": {},
   "outputs": [],
   "source": [
    "def numpy_cos_similar(vectors):\n",
    "    # 计算余弦相似度矩阵\n",
    "    vector_array = np.array(list(vectors.values()))\n",
    "    vector_labels = list(vectors.keys())\n",
    "\n",
    "    num_vectors = len(vector_array)\n",
    "    similarity_matrix = np.zeros((num_vectors, num_vectors))\n",
    "\n",
    "    for i in range(num_vectors):\n",
    "        for j in range(num_vectors):\n",
    "            similarity_matrix[i, j] = cosine_similarity(vector_array[i], vector_array[j])\n",
    "\n",
    "    # 将相似度矩阵包装成DataFrame\n",
    "    similarity_df = pd.DataFrame(similarity_matrix, index=vector_labels, columns=vector_labels)\n",
    "\n",
    "    # 打印结果\n",
    "    print(\"Vectors:\")\n",
    "    print(pd.DataFrame(vector_array, index=vector_labels))\n",
    "    print(\"\\nCosine Similarity Matrix:\")\n",
    "    print(similarity_df)"
   ]
  },
  {
   "cell_type": "code",
   "execution_count": 17,
   "id": "d953dd8c",
   "metadata": {},
   "outputs": [
    {
     "name": "stdout",
     "output_type": "stream",
     "text": [
      "Vectors:\n",
      "              0  1  2  3  4  5\n",
      "vector_user1  4  3  0  0  5  0\n",
      "vector_user2  5  0  4  0  4  0\n",
      "vector_user3  4  0  5  3  4  0\n",
      "vector_user4  0  0  2  4  0  5\n",
      "\n",
      "Cosine Similarity Matrix:\n",
      "              vector_user1  vector_user2  vector_user3  vector_user4\n",
      "vector_user1      1.000000      0.749269      0.626680      0.000000\n",
      "vector_user2      0.749269      1.000000      0.913017      0.157960\n",
      "vector_user3      0.626680      0.913017      1.000000      0.403687\n",
      "vector_user4      0.000000      0.157960      0.403687      1.000000\n"
     ]
    }
   ],
   "source": [
    "user_similarity = numpy_cos_similar(user_vectors)"
   ]
  },
  {
   "cell_type": "markdown",
   "id": "f9f835f5",
   "metadata": {},
   "source": [
    "计算得到了user1 和 user2/3/4 之间的（对items)的喜好相似度 user_similarity, user_similarity 告诉我们， user1 和 user2 之间的相似度是0.749,  user1 和 user3 之间的相似度是0.627,  user1 和 user4 之间的相似度是0。 "
   ]
  },
  {
   "cell_type": "code",
   "execution_count": 18,
   "id": "ca2742a4",
   "metadata": {},
   "outputs": [
    {
     "name": "stdout",
     "output_type": "stream",
     "text": [
      "Vectors:\n",
      "              0  1  2  3\n",
      "vector_item1  4  5  4  0\n",
      "vector_item2  3  0  0  0\n",
      "vector_item3  0  4  5  2\n",
      "vector_item4  0  0  3  4\n",
      "vector_item5  5  4  4  0\n",
      "vector_item6  0  0  0  5\n",
      "\n",
      "Cosine Similarity Matrix:\n",
      "              vector_item1  vector_item2  vector_item3  vector_item4  \\\n",
      "vector_item1      1.000000      0.529813      0.789799      0.317888   \n",
      "vector_item2      0.529813      1.000000      0.000000      0.000000   \n",
      "vector_item3      0.789799      0.000000      1.000000      0.685728   \n",
      "vector_item4      0.317888      0.000000      0.685728      1.000000   \n",
      "vector_item5      0.982456      0.662266      0.710819      0.317888   \n",
      "vector_item6      0.000000      0.000000      0.298142      0.800000   \n",
      "\n",
      "              vector_item5  vector_item6  \n",
      "vector_item1      0.982456      0.000000  \n",
      "vector_item2      0.662266      0.000000  \n",
      "vector_item3      0.710819      0.298142  \n",
      "vector_item4      0.317888      0.800000  \n",
      "vector_item5      1.000000      0.000000  \n",
      "vector_item6      0.000000      1.000000  \n"
     ]
    }
   ],
   "source": [
    "item_similarity = numpy_cos_similar(item_vectors)"
   ]
  },
  {
   "cell_type": "markdown",
   "id": "2772558d",
   "metadata": {},
   "source": [
    "我们看到user2（利表中的第1列）对于item1/3/4/5的评分分别是5,4,0,4. user3（利表中的第2列）对于item1/3/4/5的评分分别是4,5,3,4."
   ]
  },
  {
   "cell_type": "markdown",
   "id": "db6d888c",
   "metadata": {},
   "source": [
    "## 使用Numpy 库"
   ]
  },
  {
   "cell_type": "code",
   "execution_count": null,
   "id": "c95b102e",
   "metadata": {},
   "outputs": [],
   "source": [
    "from sklearn.metrics.pairwise import cosine_similarity\n",
    "def numpy_cosine_similar(matrix):\n",
    "# # 将向量组合成矩阵\n",
    "# matrix = np.vstack([vector_user1, vector_user2, vector_user3])\n",
    "    # 计算余弦相似度\n",
    "    similarity_matrix = cosine_similarity(matrix)\n",
    "\n",
    "    # 打印结果\n",
    "    print(\"Vectors:\")\n",
    "    print(matrix)\n",
    "    print(\"\\nCosine Similarity Matrix:\")\n",
    "    print(similarity_matrix)"
   ]
  },
  {
   "cell_type": "code",
   "execution_count": null,
   "id": "c6eeac3e",
   "metadata": {},
   "outputs": [],
   "source": [
    "numpy_cosine_similar(user_matrix)"
   ]
  },
  {
   "cell_type": "code",
   "execution_count": null,
   "id": "81ce9778",
   "metadata": {},
   "outputs": [],
   "source": [
    "numpy_cosine_similar(item_matrix)"
   ]
  },
  {
   "cell_type": "markdown",
   "id": "57af330e",
   "metadata": {},
   "source": [
    "## 使用Pandas库"
   ]
  },
  {
   "cell_type": "code",
   "execution_count": null,
   "id": "ae604f4e",
   "metadata": {},
   "outputs": [],
   "source": [
    "def pandas_cosine_similar(vectors):\n",
    "    # 将向量和标签组合成DataFrame\n",
    "    df = pd.DataFrame(vectors)\n",
    "\n",
    "    # 计算余弦相似度\n",
    "    similarity_matrix = cosine_similarity(df.T)\n",
    "\n",
    "    # 将标签添加到相似度矩阵\n",
    "    similarity_df = pd.DataFrame(similarity_matrix, index=df.columns, columns=df.columns)\n",
    "\n",
    "    # 打印结果\n",
    "    print(\"Vectors:\")\n",
    "    print(df)\n",
    "    print(\"\\nCosine Similarity Matrix:\")\n",
    "    print(similarity_df)"
   ]
  },
  {
   "cell_type": "code",
   "execution_count": null,
   "id": "2142048d",
   "metadata": {},
   "outputs": [],
   "source": [
    "pandas_cosine_similar(user_vectors)"
   ]
  },
  {
   "cell_type": "code",
   "execution_count": null,
   "id": "7c742447",
   "metadata": {},
   "outputs": [],
   "source": [
    "pandas_cosine_similar(item_vectors)"
   ]
  },
  {
   "cell_type": "markdown",
   "id": "c004b419",
   "metadata": {},
   "source": [
    "# 2.基于相似度做产品推荐度计算 \n",
    "\n",
    "## 2.1 User-based CF :基于用户的协同过滤算法\n",
    "\n",
    "User-Based Collaborative Filtering (User-Based CF):\n",
    "\n",
    "In User-Based CF, recommendations are made based on the preferences and behaviors of users who are similar to the target user. The idea is that if two users have similar tastes or preferences, and one user likes an item that the other has not yet interacted with, it's likely that the second user will also like that item. The similarity between users is typically measured using metrics such as cosine similarity or Pearson correlation.\n",
    "\n",
    "The steps involved in User-Based CF are as follows:\n",
    "\n",
    "User Similarity Calculation: Compute the similarity between the target user and other users in the system.\n",
    "Neighborhood Selection: Identify a set of users (neighborhood) who are most similar to the target user.\n",
    "Rating Prediction: Predict the target user's preference for items by aggregating the ratings of the items from the selected neighborhood.\n",
    "One drawback of User-Based CF is the scalability issue. As the number of users grows, calculating user similarities for all pairs can become computationally expensive.\n",
    "\n",
    "问题：我们知道了用户A的喜好向量，我们想为A推荐“潜在地符合他的喜好的产品，该怎么做”？\n",
    "\n",
    "合理假设：用户兴趣相似，那么他们对于同一个产品的评价应该类似。\n",
    "\n",
    "思路：其它相似用户，如果他们已经使用过产品，并对产品有了评分，那么我们可以通过计算他们的加权分数，作为用户A对于该产品可能的喜好度的“推测值”。而权重，就是他们和用户A之间的相似度（见上文，余弦相似度）。\n",
    "\n",
    "\n",
    "例如，我们已经计算得到了，user1 和 user2/3/4 之间的（对items)的喜好相似度 user_similarity, user_similarity 告诉我们， user1 和 user2 之间的相似度是0.749,  user1 和 user3 之间的相似度是0.627,  user1 和 user4 之间的相似度是0。 \n",
    "\n",
    "我们看到user2（利表中的第1列）对于item1/3/4/5的评分分别是5,4,0,4. user3（利表中的第2列）对于item1/3/4/5的评分分别是4,5,3,4.\n",
    "此时，我们想知道user1（读过Item1/5,没有读过item3/4)对于item3/4可能的评分。我们可以利用user2/3已有的数据来预测（因为user2/3和user1很相似）-- User-Based CF。\n",
    "那么， 我们这样预测user1可能对于item3的喜好度：(0.749*4+0.627*5)/(0.749+0.627) ~= 4.5\n",
    "我们这样预测user1可能对于item4的喜好度：0.627*3 /0.627 = 3\n"
   ]
  },
  {
   "cell_type": "markdown",
   "id": "715d064f",
   "metadata": {},
   "source": [
    "## 2.1 Item-based CF :基于产品的协同过滤算法\n",
    "\n",
    "思路类似，但是前提是不一样的。\n",
    "\n"
   ]
  },
  {
   "cell_type": "code",
   "execution_count": null,
   "id": "ce8098be",
   "metadata": {},
   "outputs": [],
   "source": []
  }
 ],
 "metadata": {
  "kernelspec": {
   "display_name": "Python 3 (ipykernel)",
   "language": "python",
   "name": "python3"
  },
  "language_info": {
   "codemirror_mode": {
    "name": "ipython",
    "version": 3
   },
   "file_extension": ".py",
   "mimetype": "text/x-python",
   "name": "python",
   "nbconvert_exporter": "python",
   "pygments_lexer": "ipython3",
   "version": "3.9.0"
  }
 },
 "nbformat": 4,
 "nbformat_minor": 5
}
