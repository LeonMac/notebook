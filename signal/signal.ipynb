{
 "cells": [
  {
   "cell_type": "code",
   "execution_count": 1,
   "id": "1d4714e7",
   "metadata": {
    "execution": {
     "iopub.execute_input": "2024-12-07T05:56:06.722345Z",
     "iopub.status.busy": "2024-12-07T05:56:06.720194Z",
     "iopub.status.idle": "2024-12-07T05:56:08.431899Z",
     "shell.execute_reply": "2024-12-07T05:56:08.429991Z"
    }
   },
   "outputs": [],
   "source": [
    "import numpy as np\n",
    "import matplotlib.pyplot as plt\n",
    "import scipy.signal as signal"
   ]
  },
  {
   "cell_type": "code",
   "execution_count": 2,
   "id": "1496c3ac",
   "metadata": {
    "execution": {
     "iopub.execute_input": "2024-12-07T05:56:08.439258Z",
     "iopub.status.busy": "2024-12-07T05:56:08.438529Z",
     "iopub.status.idle": "2024-12-07T05:56:08.450835Z",
     "shell.execute_reply": "2024-12-07T05:56:08.449029Z"
    }
   },
   "outputs": [],
   "source": [
    "'''predefine '''\n",
    "VALID_MOD = ['bpsk', 'qpsk', '8psk']\n",
    "\n",
    "BPSK_SYM = np.array([-1+0j,1+0j])\n",
    "# QPSK_SYM = (np.sqrt(2) / 2) * np.array([1+1j, 1-1j, -1+1j, -1-1j])\n",
    "\n",
    "QPSK_SYM = np.array([\n",
    "    np.exp(1j * np.pi / 4),      # 45 degrees\n",
    "    np.exp(1j * 3 * np.pi / 4),  # 135 degrees\n",
    "    np.exp(1j * 5 * np.pi / 4),  # 225 degrees\n",
    "    np.exp(1j * 7 * np.pi / 4),  # 315 degrees\n",
    "])\n",
    "\n",
    "EPSK_SYM = np.array([\n",
    "    np.exp(1j * np.pi     / 4),  # 45 degrees\n",
    "    np.exp(1j * 3 * np.pi / 4),  # 135 degrees\n",
    "    np.exp(1j * 5 * np.pi / 4),  # 225 degrees\n",
    "    np.exp(1j * 7 * np.pi / 4),  # 315 degrees\n",
    "    np.exp(1j * np.pi     / 12),     # 15 degrees\n",
    "    np.exp(1j * 5 * np.pi / 12),  # 75 degrees\n",
    "    np.exp(1j * 9 * np.pi / 12),  # 135 degrees\n",
    "    np.exp(1j * 13 *np.pi / 12)  # 195 degrees\n",
    "])\n",
    "\n",
    "# todo add QAM\n"
   ]
  },
  {
   "cell_type": "code",
   "execution_count": 3,
   "id": "ca42a797",
   "metadata": {
    "execution": {
     "iopub.execute_input": "2024-12-07T05:56:08.457503Z",
     "iopub.status.busy": "2024-12-07T05:56:08.456753Z",
     "iopub.status.idle": "2024-12-07T05:56:08.463880Z",
     "shell.execute_reply": "2024-12-07T05:56:08.461984Z"
    }
   },
   "outputs": [],
   "source": [
    "def _valid_check(mod_typ:str):\n",
    "    '''check if the modulation type are supported'''\n",
    "    assert mod_typ in VALID_MOD, f\"not supported mode type {mod_typ}\"\n",
    "    pass"
   ]
  },
  {
   "cell_type": "code",
   "execution_count": 4,
   "id": "ec435758",
   "metadata": {
    "execution": {
     "iopub.execute_input": "2024-12-07T05:56:08.471613Z",
     "iopub.status.busy": "2024-12-07T05:56:08.470869Z",
     "iopub.status.idle": "2024-12-07T05:56:08.478508Z",
     "shell.execute_reply": "2024-12-07T05:56:08.477299Z"
    }
   },
   "outputs": [],
   "source": [
    "def symbol_rate (mod_typ = 'bpsk'):\n",
    "    if    mod_typ == 'bpsk': return 2\n",
    "    elif  mod_typ == 'qpsk': return 4\n",
    "    elif  mod_typ == '8psk': return 6\n",
    "    else:  return None"
   ]
  },
  {
   "cell_type": "code",
   "execution_count": 5,
   "id": "f5d8f977",
   "metadata": {
    "execution": {
     "iopub.execute_input": "2024-12-07T05:56:08.485463Z",
     "iopub.status.busy": "2024-12-07T05:56:08.484736Z",
     "iopub.status.idle": "2024-12-07T05:56:08.492757Z",
     "shell.execute_reply": "2024-12-07T05:56:08.491347Z"
    }
   },
   "outputs": [],
   "source": [
    "def gen_pattern (mod_typ = 'bpsk'):\n",
    "    if    mod_typ == 'bpsk': return BPSK_SYM\n",
    "    elif  mod_typ == 'qpsk': return QPSK_SYM\n",
    "    elif  mod_typ == '8psk': return EPSK_SYM\n",
    "    else:  return None"
   ]
  },
  {
   "cell_type": "code",
   "execution_count": 6,
   "id": "69d63ca1",
   "metadata": {
    "execution": {
     "iopub.execute_input": "2024-12-07T05:56:08.499385Z",
     "iopub.status.busy": "2024-12-07T05:56:08.498586Z",
     "iopub.status.idle": "2024-12-07T05:56:08.513119Z",
     "shell.execute_reply": "2024-12-07T05:56:08.511318Z"
    }
   },
   "outputs": [],
   "source": [
    "def bits_to_symbols(bits, mod_type='bpsk'):\n",
    "    _valid_check(mod_type)\n",
    "    bit_num_per_symbol = symbol_rate (mod_type)\n",
    "    if mod_type == 'bpsk':   target_symbols = BPSK_SYM\n",
    "    elif mod_type == 'qpsk': target_symbols = QPSK_SYM\n",
    "    elif mod_type == '8psk': target_symbols = EPSK_SYM\n",
    "    else:\n",
    "        pass\n",
    "    \n",
    "    symbols = []\n",
    "    for i in range(0, len(bits), bit_num_per_symbol):\n",
    "        symbol_bits = bits[i:i+bit_num_per_symbol]\n",
    "        if mod_type == 'bpsk':\n",
    "            symbol = np.array([-1 + 0j]) if symbol_bits[0] else np.array([1 + 0j])\n",
    "        elif mod_type == 'qpsk':\n",
    "            phase  = np.pi / 4 * (2 * symbol_bits[0] + symbol_bits[1])\n",
    "            symbol = np.array([np.exp(1j * phase)])\n",
    "        elif mod_type == '8psk':\n",
    "            gray_code = symbol_bits.dot(2 ** np.arange(len(symbol_bits)))\n",
    "            phase = 2 * np.pi * gray_code / 8\n",
    "            symbol = np.array([np.exp(1j * phase)])\n",
    "        symbols.append(symbol)\n",
    "    \n",
    "    return symbols\n",
    "\n",
    "    "
   ]
  },
  {
   "cell_type": "code",
   "execution_count": 7,
   "id": "a00ba947",
   "metadata": {
    "execution": {
     "iopub.execute_input": "2024-12-07T05:56:08.519734Z",
     "iopub.status.busy": "2024-12-07T05:56:08.518831Z",
     "iopub.status.idle": "2024-12-07T05:56:08.528488Z",
     "shell.execute_reply": "2024-12-07T05:56:08.526958Z"
    }
   },
   "outputs": [],
   "source": [
    "def gen_binary_signal(num_bits, pattern=None):\n",
    "    if pattern is None:\n",
    "        signal = np.random.randint(0, 2, num_bits)\n",
    "    else:\n",
    "        pattern_len = len(pattern)\n",
    "        repetitions = num_bits // pattern_len\n",
    "        signal = np.tile(pattern, repetitions)\n",
    "        remainder = num_bits % pattern_len\n",
    "        signal = np.concatenate((signal, pattern[:remainder]))\n",
    "    return signal"
   ]
  },
  {
   "cell_type": "code",
   "execution_count": 8,
   "id": "294f8ea3",
   "metadata": {
    "execution": {
     "iopub.execute_input": "2024-12-07T05:56:08.535360Z",
     "iopub.status.busy": "2024-12-07T05:56:08.534628Z",
     "iopub.status.idle": "2024-12-07T05:56:08.544614Z",
     "shell.execute_reply": "2024-12-07T05:56:08.543363Z"
    }
   },
   "outputs": [
    {
     "name": "stdout",
     "output_type": "stream",
     "text": [
      "Random Pattern: [1 0 0 1]\n",
      "Custom Pattern: [0. 1. 0. 1.]\n"
     ]
    }
   ],
   "source": [
    "# Example usage:\n",
    "num_bits = 4\n",
    "\n",
    "# Generate a signal with a random pattern\n",
    "random_binary_signal = gen_binary_signal(num_bits)\n",
    "print(\"Random Pattern:\", random_binary_signal)\n",
    "\n",
    "# Generate a signal with a specified pattern\n",
    "custom_pattern = [0, 1]\n",
    "custom_binary_signal = gen_binary_signal(num_bits, pattern=custom_pattern)\n",
    "print(\"Custom Pattern:\", custom_binary_signal)"
   ]
  },
  {
   "cell_type": "code",
   "execution_count": 9,
   "id": "b8df938b",
   "metadata": {
    "execution": {
     "iopub.execute_input": "2024-12-07T05:56:08.553585Z",
     "iopub.status.busy": "2024-12-07T05:56:08.551969Z",
     "iopub.status.idle": "2024-12-07T05:56:08.559899Z",
     "shell.execute_reply": "2024-12-07T05:56:08.558472Z"
    }
   },
   "outputs": [],
   "source": [
    "def gen_raw_signal(num_symbs, pattern=None, mod_typ='bpsk'):\n",
    "    _valid_check(mod_typ)\n",
    "    bit_num_per_symbol = symbol_rate (mod_typ)\n",
    "    num_bits = num_symbs * bit_num_per_symbol\n",
    "    bin_signal = gen_binary_signal(num_bits, pattern)\n",
    "    symbols = bits_to_symbols(bin_signal, mod_typ)\n",
    "#     print(symbols)\n",
    "    \n",
    "    return symbols\n",
    "    "
   ]
  },
  {
   "cell_type": "code",
   "execution_count": 10,
   "id": "d0d22fd8",
   "metadata": {
    "execution": {
     "iopub.execute_input": "2024-12-07T05:56:08.567633Z",
     "iopub.status.busy": "2024-12-07T05:56:08.566901Z",
     "iopub.status.idle": "2024-12-07T05:56:08.581600Z",
     "shell.execute_reply": "2024-12-07T05:56:08.580178Z"
    }
   },
   "outputs": [
    {
     "name": "stdout",
     "output_type": "stream",
     "text": [
      "Random Pattern: [array([6.123234e-17+1.j]), array([6.123234e-17+1.j]), array([-0.70710678+0.70710678j]), array([0.70710678+0.70710678j])]\n",
      "Length = 4\n",
      "\n",
      "Custom Pattern: [array([0.70710678+0.70710678j]), array([0.70710678+0.70710678j]), array([0.70710678+0.70710678j]), array([0.70710678+0.70710678j])]\n",
      "Length = 4\n"
     ]
    }
   ],
   "source": [
    "# Example usage:\n",
    "num_symbls = 4\n",
    "\n",
    "# Generate a signal with a random pattern\n",
    "random_symbol_signal = gen_raw_signal(num_symbls, None, 'qpsk')\n",
    "print(\"Random Pattern:\", random_symbol_signal)\n",
    "print(f\"Length = {len(random_symbol_signal)}\\n\")\n",
    "\n",
    "# Generate a signal with a specified pattern\n",
    "custom_pattern = [0, 1]\n",
    "custom_binary_signal = gen_raw_signal(num_symbls, custom_pattern, 'qpsk')\n",
    "print(\"Custom Pattern:\", custom_binary_signal)\n",
    "print(f\"Length = {len(custom_binary_signal)}\")"
   ]
  },
  {
   "cell_type": "code",
   "execution_count": null,
   "id": "e1513a59",
   "metadata": {},
   "outputs": [],
   "source": []
  },
  {
   "cell_type": "code",
   "execution_count": null,
   "id": "963be700",
   "metadata": {},
   "outputs": [],
   "source": []
  },
  {
   "cell_type": "code",
   "execution_count": 11,
   "id": "c78111e4",
   "metadata": {
    "execution": {
     "iopub.execute_input": "2024-12-07T05:56:08.589519Z",
     "iopub.status.busy": "2024-12-07T05:56:08.589013Z",
     "iopub.status.idle": "2024-12-07T05:56:08.598782Z",
     "shell.execute_reply": "2024-12-07T05:56:08.596738Z"
    }
   },
   "outputs": [],
   "source": [
    "def bb_gen_1(duration, random_pattern=True, mod_typ = 'bpsk'):\n",
    "    \"\"\"\n",
    "    Generate a BPSK signal.\n",
    "\n",
    "    Parameters:\n",
    "        duration (float): Duration of the signal in seconds.\n",
    "        random_pattern (True or False): If True, generate a list of 0s and 1s randomly, otherwise by [0,1].\n",
    "\n",
    "    Returns:\n",
    "        np.array: BPSK signal values.\n",
    "    \"\"\"\n",
    "    symbol_rate = cal_symbol_rate(mod_typ)\n",
    "\n",
    "    num_symbols = int(duration * symbol_rate)\n",
    "    \n",
    "    symbol_pattern = gen_pattern(mod_typ)\n",
    "    \n",
    "    if random_pattern:\n",
    "        \n",
    "        signal = np.random.choice(symbol_pattern, num_symbols)\n",
    "    else:\n",
    "        signal = np.tile(symbol_pattern, num_symbols // len(symbol_pattern))\n",
    "\n",
    "    return signal"
   ]
  },
  {
   "cell_type": "code",
   "execution_count": 12,
   "id": "827bacb9",
   "metadata": {
    "execution": {
     "iopub.execute_input": "2024-12-07T05:56:08.605831Z",
     "iopub.status.busy": "2024-12-07T05:56:08.605180Z",
     "iopub.status.idle": "2024-12-07T05:56:08.613588Z",
     "shell.execute_reply": "2024-12-07T05:56:08.611610Z"
    }
   },
   "outputs": [],
   "source": [
    "def bpsk_gen(duration, symbol_rate, random_pattern=True, fixed_pattern = [0, 1]):\n",
    "    \"\"\"\n",
    "    Generate a BPSK signal.\n",
    "\n",
    "    Parameters:\n",
    "        duration (float): Duration of the signal in seconds.\n",
    "        symbol_rate (float): Symbol rate in symbols per second.\n",
    "        random_pattern (True or False): If True, generate a list of 0s and 1s randomly, otherwise by [0,1].\n",
    "\n",
    "    Returns:\n",
    "        np.array: BPSK signal values.\n",
    "    \"\"\"\n",
    "    num_symbols = int(duration * symbol_rate)\n",
    "    if random_pattern:\n",
    "        \n",
    "        signal = np.random.choice([0, 1], num_symbols)\n",
    "    else:\n",
    "        \n",
    "        signal = np.tile(fixed_pattern, num_symbols // len(fixed_pattern))\n",
    "\n",
    "    return signal"
   ]
  },
  {
   "cell_type": "code",
   "execution_count": 13,
   "id": "80ee8386",
   "metadata": {
    "execution": {
     "iopub.execute_input": "2024-12-07T05:56:08.620268Z",
     "iopub.status.busy": "2024-12-07T05:56:08.619449Z",
     "iopub.status.idle": "2024-12-07T05:56:08.629212Z",
     "shell.execute_reply": "2024-12-07T05:56:08.627450Z"
    }
   },
   "outputs": [],
   "source": [
    "def upsample_bpsk_gen(duration, symbol_rate, random_pattern, upsample_factor=4, constant_value=1):\n",
    "    \"\"\"\n",
    "    Generate an up-sampled BPSK signal with a constant value.\n",
    "\n",
    "    Parameters:\n",
    "        duration (float): Duration of the signal in seconds.\n",
    "        symbol_rate (float): Symbol rate in symbols per second.\n",
    "        random_pattern (True or False): If True, generate a list of 0s and 1s randomly, otherwise by [0,1].\n",
    "        upsample_factor (int): Factor by which to up-sample the signal.\n",
    "        constant_value (int): The constant value to use for the up-sampled signal.\n",
    "\n",
    "    Returns:\n",
    "        np.array: Up-sampled BPSK signal values.\n",
    "    \"\"\"\n",
    "    signal = bpsk_gen(duration, symbol_rate, random_pattern)\n",
    "    \n",
    "    print(signal)\n",
    "    \n",
    "    upsampled_signal = np.repeat(signal, upsample_factor)\n",
    "    \n",
    "    print(upsampled_signal)\n",
    "    \n",
    "#     # Replace all values with the constant_value\n",
    "#     upsampled_signal = np.where(upsampled_signal == 0, constant_value, upsampled_signal)\n",
    "#     print(upsampled_signal)\n",
    "    \n",
    "    return upsampled_signal"
   ]
  },
  {
   "cell_type": "code",
   "execution_count": 14,
   "id": "22d34095",
   "metadata": {
    "execution": {
     "iopub.execute_input": "2024-12-07T05:56:08.635422Z",
     "iopub.status.busy": "2024-12-07T05:56:08.634813Z",
     "iopub.status.idle": "2024-12-07T05:56:08.643144Z",
     "shell.execute_reply": "2024-12-07T05:56:08.641545Z"
    }
   },
   "outputs": [],
   "source": [
    "def plot_timing(signal, symbol_rate):\n",
    "    \"\"\"\n",
    "    Plot the BPSK signal over time.\n",
    "\n",
    "    Parameters:\n",
    "        signal (np.array): BPSK signal values.\n",
    "        symbol_rate (float): Symbol rate in symbols per second.\n",
    "    \"\"\"\n",
    "    plt.figure(figsize=(10, 3))\n",
    "    time = np.arange(0, len(signal)) / symbol_rate\n",
    "    plt.plot(time, signal)\n",
    "    plt.xlabel(\"Time (s)\")\n",
    "    plt.ylabel(\"Amplitude\")\n",
    "    plt.title(\"BPSK Signal\")\n",
    "    plt.grid(True)\n",
    "    plt.show()"
   ]
  },
  {
   "cell_type": "code",
   "execution_count": 15,
   "id": "594fefac",
   "metadata": {
    "execution": {
     "iopub.execute_input": "2024-12-07T05:56:08.650863Z",
     "iopub.status.busy": "2024-12-07T05:56:08.649074Z",
     "iopub.status.idle": "2024-12-07T05:56:08.656361Z",
     "shell.execute_reply": "2024-12-07T05:56:08.654552Z"
    }
   },
   "outputs": [],
   "source": [
    "# duration = 10  # Signal duration in seconds\n",
    "# symbol_rate = 2  # Symbol rate in symbols per second\n",
    "# random_pattern = False  # Use None for random pattern, or provide a fixed pattern as a list\n",
    "# upsample_factor = 4\n",
    "\n",
    "# # signal = upsample_bpsk_gen(duration, symbol_rate, random_pattern)\n",
    "# signal = bb_gen(duration, random_pattern, 'qpsk')\n",
    "# plot_timing(signal, symbol_rate)"
   ]
  },
  {
   "cell_type": "code",
   "execution_count": 16,
   "id": "b258c5a3",
   "metadata": {
    "execution": {
     "iopub.execute_input": "2024-12-07T05:56:08.662343Z",
     "iopub.status.busy": "2024-12-07T05:56:08.661711Z",
     "iopub.status.idle": "2024-12-07T05:56:08.668721Z",
     "shell.execute_reply": "2024-12-07T05:56:08.667516Z"
    }
   },
   "outputs": [],
   "source": [
    "# Create the QPSK symbol map:\n",
    "# https://www.wavewalkerdsp.com/2022/06/08/building-a-psk-and-qam-modulator-in-python/\n",
    "# QPSKMapper =(np.sqrt(2) / 2) * np.array([1+1j, 1-1j, -1+1j, -1-1j])\n",
    "\n",
    "SymbolMapper = gen_pattern('qpsk')"
   ]
  },
  {
   "cell_type": "code",
   "execution_count": 17,
   "id": "af1fcdcc",
   "metadata": {
    "execution": {
     "iopub.execute_input": "2024-12-07T05:56:08.676219Z",
     "iopub.status.busy": "2024-12-07T05:56:08.675760Z",
     "iopub.status.idle": "2024-12-07T05:56:08.684076Z",
     "shell.execute_reply": "2024-12-07T05:56:08.682593Z"
    }
   },
   "outputs": [],
   "source": [
    "def generate_rrc_filter(N, alpha):\n",
    "    n = np.arange(-N/2, N/2)\n",
    "    h = np.sinc(n) * np.cos(np.pi * alpha * n) / (1 - (2 * alpha * n)**2)\n",
    "    return h / np.sum(h)"
   ]
  },
  {
   "cell_type": "code",
   "execution_count": 18,
   "id": "6ed3b0cb",
   "metadata": {
    "execution": {
     "iopub.execute_input": "2024-12-07T05:56:08.690230Z",
     "iopub.status.busy": "2024-12-07T05:56:08.689726Z",
     "iopub.status.idle": "2024-12-07T05:56:08.698681Z",
     "shell.execute_reply": "2024-12-07T05:56:08.696452Z"
    }
   },
   "outputs": [
    {
     "ename": "SyntaxError",
     "evalue": "expected ':' (4237541674.py, line 1)",
     "output_type": "error",
     "traceback": [
      "\u001b[0;36m  Cell \u001b[0;32mIn[18], line 1\u001b[0;36m\u001b[0m\n\u001b[0;31m    def filer_gen(type_n: str = 'rrc')\u001b[0m\n\u001b[0m                                      ^\u001b[0m\n\u001b[0;31mSyntaxError\u001b[0m\u001b[0;31m:\u001b[0m expected ':'\n"
     ]
    }
   ],
   "source": [
    "def filer_gen(type_n: str = 'rrc')\n",
    "    if type_n == 'rrc': pass\n",
    "#     pulseShape"
   ]
  },
  {
   "cell_type": "code",
   "execution_count": null,
   "id": "93aaa4c8",
   "metadata": {},
   "outputs": [],
   "source": [
    "def bb_gen_bak(symbol_num: int, upsample: int = 4):\n",
    "\n",
    "    # Randomly generate some QPSK symbols:\n",
    "#     ns = 16\n",
    "    mapIndex = np.random.randint(0, len(SymbolMapper), symbol_num) \n",
    "    print(f\"mapIndex={mapIndex}\")\n",
    "    Symbols = SymbolMapper[mapIndex]\n",
    "    print(f\"Symbols={Symbols}\")\n",
    "    # Define the samples per symbol, which is also the pulse shaping filter length:\n",
    "#     upsample = 4\n",
    "    # Upsample the symbols:\n",
    "\n",
    "    SymbolsUpsampled = np.zeros(symbol_num*upsample, dtype = complex)\n",
    "\n",
    "    print(f\"SymbolsUpsampled = {SymbolsUpsampled}\")\n",
    "    SymbolsUpsampled[::upsample] = Symbols\n",
    "    print(f\"SymbolsUpsampled = {SymbolsUpsampled}\")\n",
    "    #Define the pulse shaping filter:\n",
    "\n",
    "#     pulseShape = np.ones(upsample)\n",
    "    \n",
    "#     # Apply the pulse shaping filter:\n",
    "#     Signal = np.convolve(SymbolsUpsampled, pulseShape)\n",
    "    \n",
    "    # Define the raised cosine pulse shaping filter\n",
    "\n",
    "    alpha = 0.35  # Adjust alpha based on your needs\n",
    "    num_symbols = symbol_num * upsample\n",
    "    rrc_filter = generate_rrc_filter(num_symbols, alpha)\n",
    "    print(f'rrc_filter = {rrc_filter}')\n",
    "    Signal = np.convolve(SymbolsUpsampled, rrc_filter, mode='full')[:len(SymbolsUpsampled)]\n",
    "    \n",
    "    return Signal"
   ]
  },
  {
   "cell_type": "code",
   "execution_count": null,
   "id": "d9faebc7",
   "metadata": {},
   "outputs": [],
   "source": [
    "def bb_gen(symbol_num: int, upsample: int = 4):\n",
    "    \"\"\"\n",
    "    Generate a Baseband digital modulated signal.\n",
    "\n",
    "    Parameters:\n",
    "        duration (float): Duration of the signal in seconds.\n",
    "        symbol_rate (float): Symbol rate in symbols per second.\n",
    "        random_pattern (True or False): If True, generate a list of 0s and 1s randomly, otherwise by [0,1].\n",
    "\n",
    "    Returns:\n",
    "        np.array: BPSK signal values.\n",
    "    \"\"\"\n",
    "    # Randomly generate some QPSK symbols:\n",
    "#     ns = 16\n",
    "    mapIndex = np.random.randint(0, len(SymbolMapper), symbol_num) \n",
    "    print(f\"mapIndex={mapIndex}\")\n",
    "    Symbols = SymbolMapper[mapIndex]\n",
    "    print(f\"Symbols={Symbols}\")\n",
    "    # Define the samples per symbol, which is also the pulse shaping filter length:\n",
    "#     upsample = 4\n",
    "    # Upsample the symbols:\n",
    "\n",
    "    SymbolsUpsampled = np.zeros(symbol_num*upsample, dtype = complex)\n",
    "\n",
    "    print(f\"SymbolsUpsampled = {SymbolsUpsampled}\")\n",
    "    SymbolsUpsampled[::upsample] = Symbols\n",
    "    print(f\"SymbolsUpsampled = {SymbolsUpsampled}\")\n",
    "    #Define the pulse shaping filter:\n",
    "\n",
    "#     pulseShape = np.ones(upsample)\n",
    "    \n",
    "#     # Apply the pulse shaping filter:\n",
    "#     Signal = np.convolve(SymbolsUpsampled, pulseShape)\n",
    "    \n",
    "    # Define the raised cosine pulse shaping filter\n",
    "\n",
    "    alpha = 0.35  # Adjust alpha based on your needs\n",
    "    num_symbols = symbol_num * upsample\n",
    "    rrc_filter = generate_rrc_filter(num_symbols, alpha)\n",
    "    print(f'rrc_filter = {rrc_filter}')\n",
    "    Signal = np.convolve(SymbolsUpsampled, rrc_filter, mode='full')[:len(SymbolsUpsampled)]\n",
    "    \n",
    "    return Signal"
   ]
  },
  {
   "cell_type": "code",
   "execution_count": null,
   "id": "e46fcee6",
   "metadata": {},
   "outputs": [],
   "source": [
    "complex_signal = bb_gen(8, 4)"
   ]
  },
  {
   "cell_type": "code",
   "execution_count": null,
   "id": "abdf4eb8",
   "metadata": {},
   "outputs": [],
   "source": [
    "complex_signal"
   ]
  },
  {
   "cell_type": "code",
   "execution_count": 11,
   "id": "46ca01f0",
   "metadata": {},
   "outputs": [],
   "source": [
    "def plot_complex(complex_signal):\n",
    "    # Separate the real and imaginary parts\n",
    "    real_part = np.real(complex_signal)\n",
    "    imaginary_part = np.imag(complex_signal)\n",
    "\n",
    "    # Create timing bins (assuming 16 bins for your data)\n",
    "    timing_bins = range(len(complex_signal))\n",
    "\n",
    "    # Create two subplots\n",
    "    fig, (ax1, ax2) = plt.subplots(2, 1, figsize=(10, 8))\n",
    "\n",
    "    # Plot the real part with \"*\" markers\n",
    "    ax1.plot(timing_bins, real_part, label='Real Part', color='blue', marker='*')\n",
    "    ax1.set_ylabel('Real Part')\n",
    "    ax1.legend()\n",
    "    ax1.grid(True)\n",
    "    ax1.set_title('Real Part vs. Timing Bin')\n",
    "\n",
    "    # Plot the imaginary part with \"*\" markers\n",
    "    ax2.plot(timing_bins, imaginary_part, label='Imaginary Part', color='orange', marker='*')\n",
    "    ax2.set_xlabel('Timing Bin')\n",
    "    ax2.set_ylabel('Imaginary Part')\n",
    "    ax2.legend()\n",
    "    ax2.grid(True)\n",
    "    ax2.set_title('Imaginary Part vs. Timing Bin')\n",
    "\n",
    "    plt.tight_layout()\n",
    "    plt.show()"
   ]
  },
  {
   "cell_type": "code",
   "execution_count": 12,
   "id": "9c93130b",
   "metadata": {},
   "outputs": [],
   "source": [
    "def plot_const(complex_signal):\n",
    "    # Separate the real and imaginary parts\n",
    "    real_part = np.real(complex_signal)\n",
    "    imaginary_part = np.imag(complex_signal)\n",
    "    print(f\"number of signal bin: {len(real_part)}\")\n",
    "    \n",
    "    # Create a constellation plot\n",
    "    plt.figure(figsize=(6, 6))\n",
    "    plt.scatter(real_part, imaginary_part, marker='o', color='r')\n",
    "    plt.xlabel('Real Part')\n",
    "    plt.ylabel('Imaginary Part')\n",
    "    plt.title('Constellation Diagram')\n",
    "    plt.grid(True)\n",
    "    plt.show()"
   ]
  },
  {
   "cell_type": "code",
   "execution_count": 16,
   "id": "94f8d44b",
   "metadata": {},
   "outputs": [
    {
     "data": {
      "image/png": "[encoded data removed]",
      "text/plain": [
       "<Figure size 1000x800 with 2 Axes>"
      ]
     },
     "metadata": {},
     "output_type": "display_data"
    }
   ],
   "source": [
    "plot_complex(custom_binary_signal)"
   ]
  },
  {
   "cell_type": "code",
   "execution_count": 17,
   "id": "0d209f3a",
   "metadata": {},
   "outputs": [
    {
     "name": "stdout",
     "output_type": "stream",
     "text": [
      "number of signal bin: 16\n"
     ]
    },
    {
     "data": {
      "image/png": "[encoded data removed]",
      "text/plain": [
       "<Figure size 600x600 with 1 Axes>"
      ]
     },
     "metadata": {},
     "output_type": "display_data"
    }
   ],
   "source": [
    "plot_const(custom_binary_signal)"
   ]
  },
  {
   "cell_type": "code",
   "execution_count": null,
   "id": "919d497a",
   "metadata": {},
   "outputs": [],
   "source": []
  }
 ],
 "metadata": {
  "kernelspec": {
   "display_name": "Python 3 (ipykernel)",
   "language": "python",
   "name": "python3"
  },
  "language_info": {
   "codemirror_mode": {
    "name": "ipython",
    "version": 3
   },
   "file_extension": ".py",
   "mimetype": "text/x-python",
   "name": "python",
   "nbconvert_exporter": "python",
   "pygments_lexer": "ipython3",
   "version": "3.12.2"
  }
 },
 "nbformat": 4,
 "nbformat_minor": 5
}
