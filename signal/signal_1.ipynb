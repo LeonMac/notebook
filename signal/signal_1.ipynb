{
 "cells": [
  {
   "cell_type": "code",
   "execution_count": 2,
   "id": "1d4714e7",
   "metadata": {},
   "outputs": [],
   "source": [
    "import numpy as np\n",
    "import matplotlib.pyplot as plt\n",
    "import scipy.signal as signal"
   ]
  },
  {
   "cell_type": "code",
   "execution_count": 13,
   "id": "1496c3ac",
   "metadata": {},
   "outputs": [
    {
     "name": "stdout",
     "output_type": "stream",
     "text": [
      "BPSK Symbol: (-1+0j) Mapped Bits: (0,)\n",
      "QPSK Symbol: (-0.7071067811865477-0.7071067811865475j) Mapped Bits: (1, 0)\n",
      "8PSK Symbol: (0.7071067811865476+0.7071067811865475j) Mapped Bits: (0, 0, 1)\n",
      "8PSK Bits: (0, 0, 1) Mapped Symbol: (0.7071067811865476+0.7071067811865475j)\n"
     ]
    }
   ],
   "source": [
    "# Mod type key and value\n",
    "BPSK = 'bpsk'\n",
    "QPSK = 'qpsk'\n",
    "EPSK = '8psk'\n",
    "\n",
    "VALID_MOD = [BPSK, QPSK, EPSK]\n",
    "\n",
    "BPSK_SYM = np.array([-1+0j,1+0j])\n",
    "# QPSK_SYM = (np.sqrt(2) / 2) * np.array([1+1j, 1-1j, -1+1j, -1-1j])\n",
    "\n",
    "QPSK_SYM = np.array([\n",
    "    np.exp(1j * np.pi / 4),      # 45 degrees\n",
    "    np.exp(1j * 3 * np.pi / 4),  # 135 degrees\n",
    "    np.exp(1j * 5 * np.pi / 4),  # 225 degrees\n",
    "    np.exp(1j * 7 * np.pi / 4),  # 315 degrees\n",
    "])\n",
    "\n",
    "EPSK_SYM = np.array([\n",
    "    np.exp(1j * 0),          # 0 degrees\n",
    "    np.exp(1j * np.pi / 4),  # 45 degrees\n",
    "    np.exp(1j * np.pi / 2),  # 90 degrees\n",
    "    np.exp(1j * 3 * np.pi / 4),  # 135 degrees\n",
    "    np.exp(1j * np.pi),      # 180 degrees\n",
    "    np.exp(1j * 5 * np.pi / 4),  # 225 degrees\n",
    "    np.exp(1j * 3 * np.pi / 2),  # 270 degrees\n",
    "    np.exp(1j * 7 * np.pi / 4)  # 315 degrees\n",
    "])\n",
    "\n",
    "# todo add QAM\n",
    "\n",
    "# Create a mapping dictionary\n",
    "symbol_to_bits = {\n",
    "    BPSK: {BPSK_SYM[0]: (0,),   BPSK_SYM[1]: (1,)},\n",
    "    QPSK: {QPSK_SYM[0]: (0, 0), QPSK_SYM[1]: (0, 1), QPSK_SYM[2]: (1, 0), QPSK_SYM[3]: (1, 1)},\n",
    "    EPSK: {\n",
    "        EPSK_SYM[0]: (0, 0, 0),\n",
    "        EPSK_SYM[1]: (0, 0, 1),\n",
    "        EPSK_SYM[2]: (0, 1, 0),\n",
    "        EPSK_SYM[3]: (0, 1, 1),\n",
    "        EPSK_SYM[4]: (1, 0, 0),\n",
    "        EPSK_SYM[5]: (1, 0, 1),\n",
    "        EPSK_SYM[6]: (1, 1, 0),\n",
    "        EPSK_SYM[7]: (1, 1, 1),\n",
    "          }\n",
    "    }\n",
    "\n",
    "# Example usage:\n",
    "bpsk_symbol = BPSK_SYM[0]\n",
    "qpsk_symbol = QPSK_SYM[2]\n",
    "epsk_symbol = EPSK_SYM[1]\n",
    "\n",
    "bits_bpsk = symbol_to_bits[BPSK][bpsk_symbol]\n",
    "bits_qpsk = symbol_to_bits[QPSK][qpsk_symbol]\n",
    "bits_epsk = symbol_to_bits[EPSK][epsk_symbol]\n",
    "\n",
    "print(\"BPSK Symbol:\", bpsk_symbol, \"Mapped Bits:\", bits_bpsk)\n",
    "print(\"QPSK Symbol:\", qpsk_symbol, \"Mapped Bits:\", bits_qpsk)\n",
    "print(\"8PSK Symbol:\", epsk_symbol, \"Mapped Bits:\", bits_epsk)\n",
    "\n",
    "# Reverse the symbol-to-bit mapping for BPSK\n",
    "bits_to_symbol_bpsk = {v: k for k, v in symbol_to_bits[BPSK].items()}\n",
    "\n",
    "# Reverse the symbol-to-bit mapping for QPSK\n",
    "bits_to_symbol_qpsk = {v: k for k, v in symbol_to_bits[QPSK].items()}\n",
    "\n",
    "# Reverse the symbol-to-bit mapping for 8PSK\n",
    "bits_to_symbol_epsk = {v: k for k, v in symbol_to_bits[EPSK].items()}\n",
    "\n",
    "# Combine the bit-to-symbol mappings into a single dictionary\n",
    "bit_to_symbol_map = {\n",
    "    BPSK: bits_to_symbol_bpsk,\n",
    "    QPSK: bits_to_symbol_qpsk,\n",
    "    EPSK: bits_to_symbol_epsk,\n",
    "}\n",
    "\n",
    "# Example usage:\n",
    "bits_bpsk = (0,)\n",
    "bits_qpsk = (1, 0)\n",
    "bits_epsk = (0, 0, 1)\n",
    "# symbol_bpsk = bit_to_symbol_map[BPSK][bits_bpsk]\n",
    "# symbol_qpsk = bit_to_symbol_map[QPSK][bits_qpsk]\n",
    "symbol_epsk = bit_to_symbol_map[EPSK][bits_epsk]\n",
    "\n",
    "# print(\"BPSK Bits:\", bits_bpsk, \"Mapped Symbol:\", symbol_bpsk)\n",
    "# print(\"QPSK Bits:\", bits_qpsk, \"Mapped Symbol:\", symbol_qpsk)\n",
    "print(\"8PSK Bits:\", bits_epsk, \"Mapped Symbol:\", symbol_epsk)\n"
   ]
  },
  {
   "cell_type": "code",
   "execution_count": 15,
   "id": "fff4fe03",
   "metadata": {},
   "outputs": [
    {
     "name": "stdout",
     "output_type": "stream",
     "text": [
      "8PSK Bits: (0, 0, 0) mapped symbol: (1+0j)\n",
      "8PSK Bits: (0, 0, 1) mapped symbol: (0.7071067811865476+0.7071067811865475j)\n",
      "8PSK Bits: (0, 1, 0) mapped symbol: (6.123233995736766e-17+1j)\n",
      "8PSK Bits: (0, 1, 1) mapped symbol: (-0.7071067811865475+0.7071067811865476j)\n",
      "8PSK Bits: (1, 0, 0) mapped symbol: (-1+1.2246467991473532e-16j)\n",
      "8PSK Bits: (1, 0, 1) mapped symbol: (-0.7071067811865477-0.7071067811865475j)\n",
      "8PSK Bits: (1, 1, 0) mapped symbol: (-1.8369701987210297e-16-1j)\n",
      "8PSK Bits: (1, 1, 1) mapped symbol: (0.7071067811865474-0.7071067811865477j)\n"
     ]
    }
   ],
   "source": [
    "for i in range (2):\n",
    "    for j in range (2):\n",
    "        for k in range (2):\n",
    "            bits_epsk = (i, j, k)\n",
    "            try:\n",
    "                symbol_epsk = bit_to_symbol_map[EPSK][bits_epsk]\n",
    "                print(f\"8PSK Bits: {bits_epsk} mapped symbol: {symbol_epsk}\")\n",
    "            except Exception as e:\n",
    "                print(f\"8PSK Bits: {bits_epsk} mapped symbol error: {e}\")"
   ]
  },
  {
   "cell_type": "code",
   "execution_count": 16,
   "id": "ca42a797",
   "metadata": {},
   "outputs": [],
   "source": [
    "def _valid_check(mod_typ:str):\n",
    "    '''check if the modulation type are supported'''\n",
    "    assert mod_typ in VALID_MOD, f\"not supported mode type {mod_typ}\"\n",
    "    pass"
   ]
  },
  {
   "cell_type": "code",
   "execution_count": 17,
   "id": "ec435758",
   "metadata": {},
   "outputs": [],
   "source": [
    "def symbol_rate (mod_typ = BPSK):\n",
    "    if    mod_typ == BPSK: return 1\n",
    "    elif  mod_typ == QPSK: return 2\n",
    "    elif  mod_typ == EPSK: return 3\n",
    "    else:  return None"
   ]
  },
  {
   "cell_type": "code",
   "execution_count": 18,
   "id": "f5d8f977",
   "metadata": {},
   "outputs": [],
   "source": [
    "def gen_pattern (mod_typ = BPSK):\n",
    "    if    mod_typ == BPSK: return BPSK_SYM\n",
    "    elif  mod_typ == QPSK: return QPSK_SYM\n",
    "    elif  mod_typ == EPSK: return EPSK_SYM\n",
    "    else:  return None"
   ]
  },
  {
   "cell_type": "code",
   "execution_count": 19,
   "id": "69d63ca1",
   "metadata": {},
   "outputs": [],
   "source": [
    "def bits_to_symbols(bits, mod_type=BPSK):\n",
    "    _valid_check(mod_type)\n",
    "    bit_num_per_symbol = symbol_rate (mod_type)\n",
    "\n",
    "    symbols = []\n",
    "    for i in range(0, len(bits), bit_num_per_symbol):\n",
    "        symbol_bits = bits[i:i+bit_num_per_symbol]\n",
    "        if mod_type == BPSK:\n",
    "            symbol = np.array([-1 + 0j]) if symbol_bits[0] else np.array([1 + 0j])\n",
    "        elif mod_type == QPSK:\n",
    "            phase  = np.pi / 4 * (2 * symbol_bits[0] + symbol_bits[1])\n",
    "            symbol = np.array([np.exp(1j * phase)])\n",
    "        elif mod_type == EPSK:\n",
    "            gray_code = symbol_bits.dot(2 ** np.arange(len(symbol_bits)))\n",
    "            phase = 2 * np.pi * gray_code / 8\n",
    "            symbol = np.array([np.exp(1j * phase)])\n",
    "        symbols.append(symbol)\n",
    "    \n",
    "    return symbols\n",
    "\n",
    "    "
   ]
  },
  {
   "cell_type": "code",
   "execution_count": 20,
   "id": "ccb72e19",
   "metadata": {},
   "outputs": [],
   "source": [
    "def bits_to_symbols_1(bits, mod_type=BPSK):\n",
    "    _valid_check(mod_type)\n",
    "    bit_num_per_symbol = symbol_rate (mod_type)\n",
    "    \n",
    "    symbols = []\n",
    "    for i in range(0, len(bits), bit_num_per_symbol):\n",
    "        symbol_bits = tuple(bits[i:i+bit_num_per_symbol])\n",
    "        print(f\"len(symbol_bits)= {len(symbol_bits)}\")\n",
    "        if   mod_type == BPSK:\n",
    "            symbol = bit_to_symbol_map[BPSK][symbol_bits]\n",
    "        elif mod_type == QPSK:\n",
    "            symbol = bit_to_symbol_map[QPSK][symbol_bits]\n",
    "        elif mod_type == EPSK:\n",
    "            symbol = bit_to_symbol_map[EPSK][symbol_bits]\n",
    "\n",
    "        symbols.append(symbol)\n",
    "    \n",
    "    return symbols"
   ]
  },
  {
   "cell_type": "code",
   "execution_count": 21,
   "id": "a00ba947",
   "metadata": {},
   "outputs": [],
   "source": [
    "def gen_binary_signal(num_bits, pattern=None):\n",
    "    if pattern is None:\n",
    "        signal = np.random.randint(0, 2, num_bits)\n",
    "    else:\n",
    "        pattern_len = len(pattern)\n",
    "        repetitions = num_bits // pattern_len\n",
    "        signal = np.tile(pattern, repetitions)\n",
    "        remainder = num_bits % pattern_len\n",
    "        signal = np.concatenate((signal, pattern[:remainder]))\n",
    "    return signal"
   ]
  },
  {
   "cell_type": "code",
   "execution_count": 22,
   "id": "294f8ea3",
   "metadata": {},
   "outputs": [
    {
     "name": "stdout",
     "output_type": "stream",
     "text": [
      "Random Pattern: [1 0 1 0]\n",
      "Custom Pattern: [0. 1. 0. 1.]\n"
     ]
    }
   ],
   "source": [
    "# Example usage:\n",
    "num_bits = 4\n",
    "\n",
    "# Generate a signal with a random pattern\n",
    "random_binary_signal = gen_binary_signal(num_bits)\n",
    "print(\"Random Pattern:\", random_binary_signal)\n",
    "\n",
    "# Generate a signal with a specified pattern\n",
    "custom_pattern = [0, 1]\n",
    "custom_binary_signal = gen_binary_signal(num_bits, pattern=custom_pattern)\n",
    "print(\"Custom Pattern:\", custom_binary_signal)"
   ]
  },
  {
   "cell_type": "code",
   "execution_count": 23,
   "id": "b8df938b",
   "metadata": {},
   "outputs": [],
   "source": [
    "def gen_raw_signal(num_symbs, pattern=None, mod_typ=BPSK):\n",
    "    _valid_check(mod_typ)\n",
    "    bit_num_per_symbol = symbol_rate (mod_typ)\n",
    "    num_bits = num_symbs * bit_num_per_symbol\n",
    "    bin_signal = gen_binary_signal(num_bits, pattern)\n",
    "    symbols = bits_to_symbols_1(bin_signal, mod_typ)\n",
    "#     print(symbols)\n",
    "    \n",
    "    return symbols\n",
    "    "
   ]
  },
  {
   "cell_type": "code",
   "execution_count": 24,
   "id": "d0d22fd8",
   "metadata": {},
   "outputs": [
    {
     "name": "stdout",
     "output_type": "stream",
     "text": [
      "len(symbol_bits)= 3\n",
      "len(symbol_bits)= 3\n",
      "len(symbol_bits)= 3\n",
      "len(symbol_bits)= 3\n",
      "Random Pattern: [(-0.7071067811865475+0.7071067811865476j), (1+0j), (-1+1.2246467991473532e-16j), (6.123233995736766e-17+1j)]\n",
      "symbol length = 4\n",
      "\n",
      "len(symbol_bits)= 3\n",
      "len(symbol_bits)= 3\n",
      "len(symbol_bits)= 3\n",
      "len(symbol_bits)= 3\n",
      "Custom Pattern: [(6.123233995736766e-17+1j), (-0.7071067811865477-0.7071067811865475j), (6.123233995736766e-17+1j), (-0.7071067811865477-0.7071067811865475j)]\n",
      "symbol length = 4\n"
     ]
    }
   ],
   "source": [
    "# Example usage:\n",
    "num_symbls = 4\n",
    "\n",
    "# Generate a signal with a random pattern\n",
    "random_symbol_signal = gen_raw_signal(num_symbls, None, EPSK)\n",
    "print(\"Random Pattern:\", random_symbol_signal)\n",
    "print(f\"symbol length = {len(random_symbol_signal)}\\n\")\n",
    "\n",
    "# Generate a signal with a specified pattern\n",
    "custom_pattern = [0, 1]\n",
    "custom_binary_signal = gen_raw_signal(num_symbls, custom_pattern, EPSK)\n",
    "print(\"Custom Pattern:\", custom_binary_signal)\n",
    "print(f\"symbol length = {len(custom_binary_signal)}\")"
   ]
  },
  {
   "cell_type": "code",
   "execution_count": 25,
   "id": "80ee8386",
   "metadata": {},
   "outputs": [],
   "source": [
    "def upsample_signal(signal, upsample_factor=4):\n",
    "    \n",
    "    upsampled_signal = np.repeat(signal, upsample_factor)\n",
    "    \n",
    "    print(upsampled_signal)\n",
    "    \n",
    "#     # Replace all values with the constant_value\n",
    "#     upsampled_signal = np.where(upsampled_signal == 0, constant_value, upsampled_signal)\n",
    "#     print(upsampled_signal)\n",
    "    \n",
    "    return upsampled_signal"
   ]
  },
  {
   "cell_type": "code",
   "execution_count": 37,
   "id": "97ca0377",
   "metadata": {},
   "outputs": [
    {
     "name": "stdout",
     "output_type": "stream",
     "text": [
      "len(symbol_bits)= 3\n",
      "len(symbol_bits)= 3\n",
      "len(symbol_bits)= 3\n",
      "len(symbol_bits)= 3\n",
      "len(symbol_bits)= 3\n",
      "len(symbol_bits)= 3\n",
      "len(symbol_bits)= 3\n",
      "len(symbol_bits)= 3\n",
      "len(symbol_bits)= 3\n",
      "len(symbol_bits)= 3\n",
      "random_symbol_signal: [(-0.7071067811865475+0.7071067811865476j), (-1+1.2246467991473532e-16j), (0.7071067811865474-0.7071067811865477j), (0.7071067811865476+0.7071067811865475j), (6.123233995736766e-17+1j), (-1.8369701987210297e-16-1j), (-1+1.2246467991473532e-16j), (0.7071067811865474-0.7071067811865477j), (-1.8369701987210297e-16-1j), (-1.8369701987210297e-16-1j)]\n",
      "[-7.07106781e-01+7.07106781e-01j -7.07106781e-01+7.07106781e-01j\n",
      " -7.07106781e-01+7.07106781e-01j -7.07106781e-01+7.07106781e-01j\n",
      " -7.07106781e-01+7.07106781e-01j -7.07106781e-01+7.07106781e-01j\n",
      " -7.07106781e-01+7.07106781e-01j -7.07106781e-01+7.07106781e-01j\n",
      " -1.00000000e+00+1.22464680e-16j -1.00000000e+00+1.22464680e-16j\n",
      " -1.00000000e+00+1.22464680e-16j -1.00000000e+00+1.22464680e-16j\n",
      " -1.00000000e+00+1.22464680e-16j -1.00000000e+00+1.22464680e-16j\n",
      " -1.00000000e+00+1.22464680e-16j -1.00000000e+00+1.22464680e-16j\n",
      "  7.07106781e-01-7.07106781e-01j  7.07106781e-01-7.07106781e-01j\n",
      "  7.07106781e-01-7.07106781e-01j  7.07106781e-01-7.07106781e-01j\n",
      "  7.07106781e-01-7.07106781e-01j  7.07106781e-01-7.07106781e-01j\n",
      "  7.07106781e-01-7.07106781e-01j  7.07106781e-01-7.07106781e-01j\n",
      "  7.07106781e-01+7.07106781e-01j  7.07106781e-01+7.07106781e-01j\n",
      "  7.07106781e-01+7.07106781e-01j  7.07106781e-01+7.07106781e-01j\n",
      "  7.07106781e-01+7.07106781e-01j  7.07106781e-01+7.07106781e-01j\n",
      "  7.07106781e-01+7.07106781e-01j  7.07106781e-01+7.07106781e-01j\n",
      "  6.12323400e-17+1.00000000e+00j  6.12323400e-17+1.00000000e+00j\n",
      "  6.12323400e-17+1.00000000e+00j  6.12323400e-17+1.00000000e+00j\n",
      "  6.12323400e-17+1.00000000e+00j  6.12323400e-17+1.00000000e+00j\n",
      "  6.12323400e-17+1.00000000e+00j  6.12323400e-17+1.00000000e+00j\n",
      " -1.83697020e-16-1.00000000e+00j -1.83697020e-16-1.00000000e+00j\n",
      " -1.83697020e-16-1.00000000e+00j -1.83697020e-16-1.00000000e+00j\n",
      " -1.83697020e-16-1.00000000e+00j -1.83697020e-16-1.00000000e+00j\n",
      " -1.83697020e-16-1.00000000e+00j -1.83697020e-16-1.00000000e+00j\n",
      " -1.00000000e+00+1.22464680e-16j -1.00000000e+00+1.22464680e-16j\n",
      " -1.00000000e+00+1.22464680e-16j -1.00000000e+00+1.22464680e-16j\n",
      " -1.00000000e+00+1.22464680e-16j -1.00000000e+00+1.22464680e-16j\n",
      " -1.00000000e+00+1.22464680e-16j -1.00000000e+00+1.22464680e-16j\n",
      "  7.07106781e-01-7.07106781e-01j  7.07106781e-01-7.07106781e-01j\n",
      "  7.07106781e-01-7.07106781e-01j  7.07106781e-01-7.07106781e-01j\n",
      "  7.07106781e-01-7.07106781e-01j  7.07106781e-01-7.07106781e-01j\n",
      "  7.07106781e-01-7.07106781e-01j  7.07106781e-01-7.07106781e-01j\n",
      " -1.83697020e-16-1.00000000e+00j -1.83697020e-16-1.00000000e+00j\n",
      " -1.83697020e-16-1.00000000e+00j -1.83697020e-16-1.00000000e+00j\n",
      " -1.83697020e-16-1.00000000e+00j -1.83697020e-16-1.00000000e+00j\n",
      " -1.83697020e-16-1.00000000e+00j -1.83697020e-16-1.00000000e+00j\n",
      " -1.83697020e-16-1.00000000e+00j -1.83697020e-16-1.00000000e+00j\n",
      " -1.83697020e-16-1.00000000e+00j -1.83697020e-16-1.00000000e+00j\n",
      " -1.83697020e-16-1.00000000e+00j -1.83697020e-16-1.00000000e+00j\n",
      " -1.83697020e-16-1.00000000e+00j -1.83697020e-16-1.00000000e+00j]\n",
      "upsampled_random_symbol_signal: [-7.07106781e-01+7.07106781e-01j -7.07106781e-01+7.07106781e-01j\n",
      " -7.07106781e-01+7.07106781e-01j -7.07106781e-01+7.07106781e-01j\n",
      " -7.07106781e-01+7.07106781e-01j -7.07106781e-01+7.07106781e-01j\n",
      " -7.07106781e-01+7.07106781e-01j -7.07106781e-01+7.07106781e-01j\n",
      " -1.00000000e+00+1.22464680e-16j -1.00000000e+00+1.22464680e-16j\n",
      " -1.00000000e+00+1.22464680e-16j -1.00000000e+00+1.22464680e-16j\n",
      " -1.00000000e+00+1.22464680e-16j -1.00000000e+00+1.22464680e-16j\n",
      " -1.00000000e+00+1.22464680e-16j -1.00000000e+00+1.22464680e-16j\n",
      "  7.07106781e-01-7.07106781e-01j  7.07106781e-01-7.07106781e-01j\n",
      "  7.07106781e-01-7.07106781e-01j  7.07106781e-01-7.07106781e-01j\n",
      "  7.07106781e-01-7.07106781e-01j  7.07106781e-01-7.07106781e-01j\n",
      "  7.07106781e-01-7.07106781e-01j  7.07106781e-01-7.07106781e-01j\n",
      "  7.07106781e-01+7.07106781e-01j  7.07106781e-01+7.07106781e-01j\n",
      "  7.07106781e-01+7.07106781e-01j  7.07106781e-01+7.07106781e-01j\n",
      "  7.07106781e-01+7.07106781e-01j  7.07106781e-01+7.07106781e-01j\n",
      "  7.07106781e-01+7.07106781e-01j  7.07106781e-01+7.07106781e-01j\n",
      "  6.12323400e-17+1.00000000e+00j  6.12323400e-17+1.00000000e+00j\n",
      "  6.12323400e-17+1.00000000e+00j  6.12323400e-17+1.00000000e+00j\n",
      "  6.12323400e-17+1.00000000e+00j  6.12323400e-17+1.00000000e+00j\n",
      "  6.12323400e-17+1.00000000e+00j  6.12323400e-17+1.00000000e+00j\n",
      " -1.83697020e-16-1.00000000e+00j -1.83697020e-16-1.00000000e+00j\n",
      " -1.83697020e-16-1.00000000e+00j -1.83697020e-16-1.00000000e+00j\n",
      " -1.83697020e-16-1.00000000e+00j -1.83697020e-16-1.00000000e+00j\n",
      " -1.83697020e-16-1.00000000e+00j -1.83697020e-16-1.00000000e+00j\n",
      " -1.00000000e+00+1.22464680e-16j -1.00000000e+00+1.22464680e-16j\n",
      " -1.00000000e+00+1.22464680e-16j -1.00000000e+00+1.22464680e-16j\n",
      " -1.00000000e+00+1.22464680e-16j -1.00000000e+00+1.22464680e-16j\n",
      " -1.00000000e+00+1.22464680e-16j -1.00000000e+00+1.22464680e-16j\n",
      "  7.07106781e-01-7.07106781e-01j  7.07106781e-01-7.07106781e-01j\n",
      "  7.07106781e-01-7.07106781e-01j  7.07106781e-01-7.07106781e-01j\n",
      "  7.07106781e-01-7.07106781e-01j  7.07106781e-01-7.07106781e-01j\n",
      "  7.07106781e-01-7.07106781e-01j  7.07106781e-01-7.07106781e-01j\n",
      " -1.83697020e-16-1.00000000e+00j -1.83697020e-16-1.00000000e+00j\n",
      " -1.83697020e-16-1.00000000e+00j -1.83697020e-16-1.00000000e+00j\n",
      " -1.83697020e-16-1.00000000e+00j -1.83697020e-16-1.00000000e+00j\n",
      " -1.83697020e-16-1.00000000e+00j -1.83697020e-16-1.00000000e+00j\n",
      " -1.83697020e-16-1.00000000e+00j -1.83697020e-16-1.00000000e+00j\n",
      " -1.83697020e-16-1.00000000e+00j -1.83697020e-16-1.00000000e+00j\n",
      " -1.83697020e-16-1.00000000e+00j -1.83697020e-16-1.00000000e+00j\n",
      " -1.83697020e-16-1.00000000e+00j -1.83697020e-16-1.00000000e+00j]\n",
      "len(symbol_bits)= 3\n",
      "len(symbol_bits)= 3\n",
      "len(symbol_bits)= 3\n",
      "len(symbol_bits)= 3\n",
      "len(symbol_bits)= 3\n",
      "len(symbol_bits)= 3\n",
      "len(symbol_bits)= 3\n",
      "len(symbol_bits)= 3\n",
      "len(symbol_bits)= 3\n",
      "len(symbol_bits)= 3\n",
      "custom_binary_signal: [(6.123233995736766e-17+1j), (-0.7071067811865477-0.7071067811865475j), (6.123233995736766e-17+1j), (-0.7071067811865477-0.7071067811865475j)]\n",
      "[ 6.12323400e-17+1.j          6.12323400e-17+1.j\n",
      " -7.07106781e-01-0.70710678j -7.07106781e-01-0.70710678j\n",
      "  6.12323400e-17+1.j          6.12323400e-17+1.j\n",
      " -7.07106781e-01-0.70710678j -7.07106781e-01-0.70710678j\n",
      "  6.12323400e-17+1.j          6.12323400e-17+1.j\n",
      " -7.07106781e-01-0.70710678j -7.07106781e-01-0.70710678j\n",
      "  6.12323400e-17+1.j          6.12323400e-17+1.j\n",
      " -7.07106781e-01-0.70710678j -7.07106781e-01-0.70710678j\n",
      "  6.12323400e-17+1.j          6.12323400e-17+1.j\n",
      " -7.07106781e-01-0.70710678j -7.07106781e-01-0.70710678j]\n",
      "upsampled_custom_symbol_signal: [ 6.12323400e-17+1.j          6.12323400e-17+1.j\n",
      " -7.07106781e-01-0.70710678j -7.07106781e-01-0.70710678j\n",
      "  6.12323400e-17+1.j          6.12323400e-17+1.j\n",
      " -7.07106781e-01-0.70710678j -7.07106781e-01-0.70710678j\n",
      "  6.12323400e-17+1.j          6.12323400e-17+1.j\n",
      " -7.07106781e-01-0.70710678j -7.07106781e-01-0.70710678j\n",
      "  6.12323400e-17+1.j          6.12323400e-17+1.j\n",
      " -7.07106781e-01-0.70710678j -7.07106781e-01-0.70710678j\n",
      "  6.12323400e-17+1.j          6.12323400e-17+1.j\n",
      " -7.07106781e-01-0.70710678j -7.07106781e-01-0.70710678j]\n"
     ]
    }
   ],
   "source": [
    "# Example usage:\n",
    "num_symbls = 10\n",
    "upsample_factor = 8\n",
    "\n",
    "# Generate a signal with a random pattern\n",
    "random_symbol_signal = gen_raw_signal(num_symbls, None, '8psk')\n",
    "print(\"random_symbol_signal:\", random_symbol_signal)\n",
    "upsampled_random_symbol_signal = upsample_signal(random_symbol_signal, upsample_factor)\n",
    "print(\"upsampled_random_symbol_signal:\", upsampled_random_symbol_signal)\n",
    "\n",
    "# Generate a signal with a specified pattern\n",
    "custom_pattern = [0, 1]\n",
    "custom_symbol_signal = gen_raw_signal(num_symbls, custom_pattern, '8psk')\n",
    "print(\"custom_binary_signal:\", custom_binary_signal)\n",
    "upsampled_custom_symbol_signal = upsample_signal(custom_symbol_signal, 2)\n",
    "print(\"upsampled_custom_symbol_signal:\", upsampled_custom_symbol_signal)"
   ]
  },
  {
   "cell_type": "code",
   "execution_count": 38,
   "id": "594fefac",
   "metadata": {},
   "outputs": [],
   "source": [
    "# duration = 10  # Signal duration in seconds\n",
    "# symbol_rate = 2  # Symbol rate in symbols per second\n",
    "# random_pattern = False  # Use None for random pattern, or provide a fixed pattern as a list\n",
    "# upsample_factor = 4\n",
    "\n",
    "# # signal = upsample_bpsk_gen(duration, symbol_rate, random_pattern)\n",
    "# signal = bb_gen(duration, random_pattern, 'qpsk')\n",
    "# plot_timing(signal, symbol_rate)"
   ]
  },
  {
   "cell_type": "code",
   "execution_count": 39,
   "id": "b258c5a3",
   "metadata": {},
   "outputs": [],
   "source": [
    "# Create the QPSK symbol map:\n",
    "# https://www.wavewalkerdsp.com/2022/06/08/building-a-psk-and-qam-modulator-in-python/\n",
    "# QPSKMapper =(np.sqrt(2) / 2) * np.array([1+1j, 1-1j, -1+1j, -1-1j])\n",
    "\n",
    "SymbolMapper = gen_pattern('qpsk')"
   ]
  },
  {
   "cell_type": "code",
   "execution_count": 40,
   "id": "af1fcdcc",
   "metadata": {},
   "outputs": [],
   "source": [
    "def generate_rrc_filter(N, alpha):\n",
    "    n = np.arange(-N/2, N/2)\n",
    "    h = np.sinc(n) * np.cos(np.pi * alpha * n) / (1 - (2 * alpha * n)**2)\n",
    "    return h / np.sum(h)"
   ]
  },
  {
   "cell_type": "code",
   "execution_count": 41,
   "id": "6ed3b0cb",
   "metadata": {},
   "outputs": [
    {
     "ename": "SyntaxError",
     "evalue": "invalid syntax (4237541674.py, line 1)",
     "output_type": "error",
     "traceback": [
      "\u001b[0;36m  Cell \u001b[0;32mIn[41], line 1\u001b[0;36m\u001b[0m\n\u001b[0;31m    def filer_gen(type_n: str = 'rrc')\u001b[0m\n\u001b[0m                                      ^\u001b[0m\n\u001b[0;31mSyntaxError\u001b[0m\u001b[0;31m:\u001b[0m invalid syntax\n"
     ]
    }
   ],
   "source": [
    "def filer_gen(type_n: str = 'rrc')\n",
    "    if type_n == 'rrc': pass\n",
    "#     pulseShape"
   ]
  },
  {
   "cell_type": "code",
   "execution_count": 42,
   "id": "93aaa4c8",
   "metadata": {},
   "outputs": [],
   "source": [
    "def bb_gen_bak(symbol_num: int, upsample: int = 4):\n",
    "\n",
    "    # Randomly generate some QPSK symbols:\n",
    "#     ns = 16\n",
    "    mapIndex = np.random.randint(0, len(SymbolMapper), symbol_num) \n",
    "    print(f\"mapIndex={mapIndex}\")\n",
    "    Symbols = SymbolMapper[mapIndex]\n",
    "    print(f\"Symbols={Symbols}\")\n",
    "    # Define the samples per symbol, which is also the pulse shaping filter length:\n",
    "#     upsample = 4\n",
    "    # Upsample the symbols:\n",
    "\n",
    "    SymbolsUpsampled = np.zeros(symbol_num*upsample, dtype = complex)\n",
    "\n",
    "    print(f\"SymbolsUpsampled = {SymbolsUpsampled}\")\n",
    "    SymbolsUpsampled[::upsample] = Symbols\n",
    "    print(f\"SymbolsUpsampled = {SymbolsUpsampled}\")\n",
    "    #Define the pulse shaping filter:\n",
    "\n",
    "#     pulseShape = np.ones(upsample)\n",
    "    \n",
    "#     # Apply the pulse shaping filter:\n",
    "#     Signal = np.convolve(SymbolsUpsampled, pulseShape)\n",
    "    \n",
    "    # Define the raised cosine pulse shaping filter\n",
    "\n",
    "    alpha = 0.35  # Adjust alpha based on your needs\n",
    "    num_symbols = symbol_num * upsample\n",
    "    rrc_filter = generate_rrc_filter(num_symbols, alpha)\n",
    "    print(f'rrc_filter = {rrc_filter}')\n",
    "    Signal = np.convolve(SymbolsUpsampled, rrc_filter, mode='full')[:len(SymbolsUpsampled)]\n",
    "    \n",
    "    return Signal"
   ]
  },
  {
   "cell_type": "code",
   "execution_count": 43,
   "id": "d9faebc7",
   "metadata": {},
   "outputs": [],
   "source": [
    "def bb_gen(symbol_num: int, upsample: int = 4):\n",
    "    \"\"\"\n",
    "    Generate a Baseband digital modulated signal.\n",
    "\n",
    "    Parameters:\n",
    "        duration (float): Duration of the signal in seconds.\n",
    "        symbol_rate (float): Symbol rate in symbols per second.\n",
    "        random_pattern (True or False): If True, generate a list of 0s and 1s randomly, otherwise by [0,1].\n",
    "\n",
    "    Returns:\n",
    "        np.array: BPSK signal values.\n",
    "    \"\"\"\n",
    "    # Randomly generate some QPSK symbols:\n",
    "#     ns = 16\n",
    "    mapIndex = np.random.randint(0, len(SymbolMapper), symbol_num) \n",
    "    print(f\"mapIndex={mapIndex}\")\n",
    "    Symbols = SymbolMapper[mapIndex]\n",
    "    print(f\"Symbols={Symbols}\")\n",
    "    # Define the samples per symbol, which is also the pulse shaping filter length:\n",
    "#     upsample = 4\n",
    "    # Upsample the symbols:\n",
    "\n",
    "    SymbolsUpsampled = np.zeros(symbol_num*upsample, dtype = complex)\n",
    "\n",
    "    print(f\"SymbolsUpsampled = {SymbolsUpsampled}\")\n",
    "    SymbolsUpsampled[::upsample] = Symbols\n",
    "    print(f\"SymbolsUpsampled = {SymbolsUpsampled}\")\n",
    "    #Define the pulse shaping filter:\n",
    "\n",
    "#     pulseShape = np.ones(upsample)\n",
    "    \n",
    "#     # Apply the pulse shaping filter:\n",
    "#     Signal = np.convolve(SymbolsUpsampled, pulseShape)\n",
    "    \n",
    "    # Define the raised cosine pulse shaping filter\n",
    "\n",
    "    alpha = 0.35  # Adjust alpha based on your needs\n",
    "    num_symbols = symbol_num * upsample\n",
    "    rrc_filter = generate_rrc_filter(num_symbols, alpha)\n",
    "    print(f'rrc_filter = {rrc_filter}')\n",
    "    Signal = np.convolve(SymbolsUpsampled, rrc_filter, mode='full')[:len(SymbolsUpsampled)]\n",
    "    \n",
    "    return Signal"
   ]
  },
  {
   "cell_type": "code",
   "execution_count": 44,
   "id": "e46fcee6",
   "metadata": {},
   "outputs": [
    {
     "name": "stdout",
     "output_type": "stream",
     "text": [
      "mapIndex=[1 0 0 3 1 3 0 2]\n",
      "Symbols=[-0.70710678+0.70710678j  0.70710678+0.70710678j  0.70710678+0.70710678j\n",
      "  0.70710678-0.70710678j -0.70710678+0.70710678j  0.70710678-0.70710678j\n",
      "  0.70710678+0.70710678j -0.70710678-0.70710678j]\n",
      "SymbolsUpsampled = [0.+0.j 0.+0.j 0.+0.j 0.+0.j 0.+0.j 0.+0.j 0.+0.j 0.+0.j 0.+0.j 0.+0.j\n",
      " 0.+0.j 0.+0.j 0.+0.j 0.+0.j 0.+0.j 0.+0.j 0.+0.j 0.+0.j 0.+0.j 0.+0.j\n",
      " 0.+0.j 0.+0.j 0.+0.j 0.+0.j 0.+0.j 0.+0.j 0.+0.j 0.+0.j 0.+0.j 0.+0.j\n",
      " 0.+0.j 0.+0.j]\n",
      "SymbolsUpsampled = [-0.70710678+0.70710678j  0.        +0.j          0.        +0.j\n",
      "  0.        +0.j          0.70710678+0.70710678j  0.        +0.j\n",
      "  0.        +0.j          0.        +0.j          0.70710678+0.70710678j\n",
      "  0.        +0.j          0.        +0.j          0.        +0.j\n",
      "  0.70710678-0.70710678j  0.        +0.j          0.        +0.j\n",
      "  0.        +0.j         -0.70710678+0.70710678j  0.        +0.j\n",
      "  0.        +0.j          0.        +0.j          0.70710678-0.70710678j\n",
      "  0.        +0.j          0.        +0.j          0.        +0.j\n",
      "  0.70710678+0.70710678j  0.        +0.j          0.        +0.j\n",
      "  0.        +0.j         -0.70710678-0.70710678j  0.        +0.j\n",
      "  0.        +0.j          0.        +0.j        ]\n",
      "rrc_filter = [ 9.68017794e-20  7.40262446e-19 -3.90086461e-19 -9.17990013e-20\n",
      "  4.53376547e-19 -2.16732906e-18 -3.48095683e-34  8.97724615e-19\n",
      " -1.03876392e-18 -2.65018872e-19  2.22799382e-18 -2.45015443e-18\n",
      " -1.76111307e-18  1.12908471e-17 -2.38675824e-17  3.47006466e-17\n",
      "  1.00000000e+00  3.47006466e-17 -2.38675824e-17  1.12908471e-17\n",
      " -1.76111307e-18 -2.45015443e-18  2.22799382e-18 -2.65018872e-19\n",
      " -1.03876392e-18  8.97724615e-19 -3.48095683e-34 -2.16732906e-18\n",
      "  4.53376547e-19 -9.17990013e-20 -3.90086461e-19  7.40262446e-19]\n"
     ]
    }
   ],
   "source": [
    "complex_signal = bb_gen(8, 4)"
   ]
  },
  {
   "cell_type": "code",
   "execution_count": 45,
   "id": "abdf4eb8",
   "metadata": {},
   "outputs": [
    {
     "data": {
      "text/plain": [
       "array([-6.84491947e-20+6.84491947e-20j, -5.23444595e-19+5.23444595e-19j,\n",
       "        2.75832782e-19-2.75832782e-19j,  6.49116963e-20-6.49116963e-20j,\n",
       "       -2.52136436e-19+3.89034825e-19j,  2.05597767e-18-1.00908848e-18j,\n",
       "       -2.75832782e-19-2.75832782e-19j, -6.99698859e-19+5.69875467e-19j,\n",
       "        1.12355184e-18-3.45482186e-19j, -8.21691838e-19-1.19648512e-18j,\n",
       "       -1.85126232e-18+1.29959676e-18j,  2.30239628e-18-1.16264535e-18j,\n",
       "        8.99812812e-19-1.72767557e-18j, -9.18031969e-18+5.74046025e-18j,\n",
       "        1.81765262e-17-1.50256671e-17j, -2.56997079e-17+2.35042406e-17j,\n",
       "       -7.07106781e-01+7.07106781e-01j, -1.87966023e-17+3.43894781e-17j,\n",
       "        1.85126232e-18-3.24542620e-17j,  1.55204060e-17+3.00886774e-17j,\n",
       "        7.07106781e-01+7.07106781e-01j,  3.61219990e-17+2.89197953e-17j,\n",
       "       -3.40296916e-17-3.34780260e-17j,  3.02760741e-17+3.47657201e-17j,\n",
       "        7.07106781e-01+7.07106781e-01j,  2.93318973e-17+1.73240754e-17j,\n",
       "       -3.40296916e-17+2.87502630e-18j,  3.61684298e-17-2.07053774e-17j,\n",
       "        7.07106781e-01-7.07106781e-01j,  1.32770317e-17-1.95844544e-17j,\n",
       "        3.70252465e-18-1.05926147e-33j, -1.98294242e-17+1.77889625e-17j])"
      ]
     },
     "execution_count": 45,
     "metadata": {},
     "output_type": "execute_result"
    }
   ],
   "source": [
    "complex_signal"
   ]
  },
  {
   "cell_type": "code",
   "execution_count": 46,
   "id": "46ca01f0",
   "metadata": {},
   "outputs": [],
   "source": [
    "def plot_complex(complex_signal):\n",
    "    # Separate the real and imaginary parts\n",
    "    real_part = np.real(complex_signal)\n",
    "    imaginary_part = np.imag(complex_signal)\n",
    "\n",
    "    # Create timing bins (assuming 16 bins for your data)\n",
    "    timing_bins = range(len(complex_signal))\n",
    "\n",
    "    # Create two subplots\n",
    "    fig, (ax1, ax2) = plt.subplots(2, 1, figsize=(10, 8))\n",
    "\n",
    "    # Plot the real part with \"*\" markers\n",
    "    ax1.plot(timing_bins, real_part, label='Real Part', color='blue', marker='*')\n",
    "    ax1.set_ylabel('Real Part')\n",
    "    ax1.legend()\n",
    "    ax1.grid(True)\n",
    "    ax1.set_title('Real Part vs. Timing Bin')\n",
    "\n",
    "    # Plot the imaginary part with \"*\" markers\n",
    "    ax2.plot(timing_bins, imaginary_part, label='Imaginary Part', color='orange', marker='*')\n",
    "    ax2.set_xlabel('Timing Bin')\n",
    "    ax2.set_ylabel('Imaginary Part')\n",
    "    ax2.legend()\n",
    "    ax2.grid(True)\n",
    "    ax2.set_title('Imaginary Part vs. Timing Bin')\n",
    "\n",
    "    plt.tight_layout()\n",
    "    plt.show()"
   ]
  },
  {
   "cell_type": "code",
   "execution_count": 47,
   "id": "9c93130b",
   "metadata": {},
   "outputs": [],
   "source": [
    "def plot_const(complex_signal):\n",
    "    # Separate the real and imaginary parts\n",
    "    real_part = np.real(complex_signal)\n",
    "    imaginary_part = np.imag(complex_signal)\n",
    "    print(f\"number of signal bin: {len(real_part)}\")\n",
    "    \n",
    "    # Create a constellation plot\n",
    "    plt.figure(figsize=(6, 6))\n",
    "    plt.scatter(real_part, imaginary_part, marker='o', color='r')\n",
    "    plt.xlabel('Real Part')\n",
    "    plt.ylabel('Imaginary Part')\n",
    "    plt.title('Constellation Diagram')\n",
    "    plt.grid(True)\n",
    "    plt.show()"
   ]
  },
  {
   "cell_type": "code",
   "execution_count": 48,
   "id": "94f8d44b",
   "metadata": {},
   "outputs": [
    {
     "data": {
      "image/png": "[encoded data removed]",
      "text/plain": [
       "<Figure size 1000x800 with 2 Axes>"
      ]
     },
     "metadata": {},
     "output_type": "display_data"
    }
   ],
   "source": [
    "plot_complex(upsampled_random_symbol_signal)"
   ]
  },
  {
   "cell_type": "code",
   "execution_count": 49,
   "id": "f17d9490",
   "metadata": {},
   "outputs": [
    {
     "data": {
      "text/plain": [
       "array([-7.07106781e-01+7.07106781e-01j, -7.07106781e-01+7.07106781e-01j,\n",
       "       -7.07106781e-01+7.07106781e-01j, -7.07106781e-01+7.07106781e-01j,\n",
       "       -7.07106781e-01+7.07106781e-01j, -7.07106781e-01+7.07106781e-01j,\n",
       "       -7.07106781e-01+7.07106781e-01j, -7.07106781e-01+7.07106781e-01j,\n",
       "       -1.00000000e+00+1.22464680e-16j, -1.00000000e+00+1.22464680e-16j,\n",
       "       -1.00000000e+00+1.22464680e-16j, -1.00000000e+00+1.22464680e-16j,\n",
       "       -1.00000000e+00+1.22464680e-16j, -1.00000000e+00+1.22464680e-16j,\n",
       "       -1.00000000e+00+1.22464680e-16j, -1.00000000e+00+1.22464680e-16j,\n",
       "        7.07106781e-01-7.07106781e-01j,  7.07106781e-01-7.07106781e-01j,\n",
       "        7.07106781e-01-7.07106781e-01j,  7.07106781e-01-7.07106781e-01j,\n",
       "        7.07106781e-01-7.07106781e-01j,  7.07106781e-01-7.07106781e-01j,\n",
       "        7.07106781e-01-7.07106781e-01j,  7.07106781e-01-7.07106781e-01j,\n",
       "        7.07106781e-01+7.07106781e-01j,  7.07106781e-01+7.07106781e-01j,\n",
       "        7.07106781e-01+7.07106781e-01j,  7.07106781e-01+7.07106781e-01j,\n",
       "        7.07106781e-01+7.07106781e-01j,  7.07106781e-01+7.07106781e-01j,\n",
       "        7.07106781e-01+7.07106781e-01j,  7.07106781e-01+7.07106781e-01j,\n",
       "        6.12323400e-17+1.00000000e+00j,  6.12323400e-17+1.00000000e+00j,\n",
       "        6.12323400e-17+1.00000000e+00j,  6.12323400e-17+1.00000000e+00j,\n",
       "        6.12323400e-17+1.00000000e+00j,  6.12323400e-17+1.00000000e+00j,\n",
       "        6.12323400e-17+1.00000000e+00j,  6.12323400e-17+1.00000000e+00j,\n",
       "       -1.83697020e-16-1.00000000e+00j, -1.83697020e-16-1.00000000e+00j,\n",
       "       -1.83697020e-16-1.00000000e+00j, -1.83697020e-16-1.00000000e+00j,\n",
       "       -1.83697020e-16-1.00000000e+00j, -1.83697020e-16-1.00000000e+00j,\n",
       "       -1.83697020e-16-1.00000000e+00j, -1.83697020e-16-1.00000000e+00j,\n",
       "       -1.00000000e+00+1.22464680e-16j, -1.00000000e+00+1.22464680e-16j,\n",
       "       -1.00000000e+00+1.22464680e-16j, -1.00000000e+00+1.22464680e-16j,\n",
       "       -1.00000000e+00+1.22464680e-16j, -1.00000000e+00+1.22464680e-16j,\n",
       "       -1.00000000e+00+1.22464680e-16j, -1.00000000e+00+1.22464680e-16j,\n",
       "        7.07106781e-01-7.07106781e-01j,  7.07106781e-01-7.07106781e-01j,\n",
       "        7.07106781e-01-7.07106781e-01j,  7.07106781e-01-7.07106781e-01j,\n",
       "        7.07106781e-01-7.07106781e-01j,  7.07106781e-01-7.07106781e-01j,\n",
       "        7.07106781e-01-7.07106781e-01j,  7.07106781e-01-7.07106781e-01j,\n",
       "       -1.83697020e-16-1.00000000e+00j, -1.83697020e-16-1.00000000e+00j,\n",
       "       -1.83697020e-16-1.00000000e+00j, -1.83697020e-16-1.00000000e+00j,\n",
       "       -1.83697020e-16-1.00000000e+00j, -1.83697020e-16-1.00000000e+00j,\n",
       "       -1.83697020e-16-1.00000000e+00j, -1.83697020e-16-1.00000000e+00j,\n",
       "       -1.83697020e-16-1.00000000e+00j, -1.83697020e-16-1.00000000e+00j,\n",
       "       -1.83697020e-16-1.00000000e+00j, -1.83697020e-16-1.00000000e+00j,\n",
       "       -1.83697020e-16-1.00000000e+00j, -1.83697020e-16-1.00000000e+00j,\n",
       "       -1.83697020e-16-1.00000000e+00j, -1.83697020e-16-1.00000000e+00j])"
      ]
     },
     "execution_count": 49,
     "metadata": {},
     "output_type": "execute_result"
    }
   ],
   "source": [
    "upsampled_random_symbol_signal"
   ]
  },
  {
   "cell_type": "code",
   "execution_count": 50,
   "id": "0d209f3a",
   "metadata": {},
   "outputs": [
    {
     "name": "stdout",
     "output_type": "stream",
     "text": [
      "number of signal bin: 80\n"
     ]
    },
    {
     "data": {
      "image/png": "[encoded data removed]",
      "text/plain": [
       "<Figure size 600x600 with 1 Axes>"
      ]
     },
     "metadata": {},
     "output_type": "display_data"
    }
   ],
   "source": [
    "plot_const(upsampled_random_symbol_signal)"
   ]
  },
  {
   "cell_type": "code",
   "execution_count": null,
   "id": "919d497a",
   "metadata": {},
   "outputs": [],
   "source": []
  }
 ],
 "metadata": {
  "kernelspec": {
   "display_name": "Python 3 (ipykernel)",
   "language": "python",
   "name": "python3"
  },
  "language_info": {
   "codemirror_mode": {
    "name": "ipython",
    "version": 3
   },
   "file_extension": ".py",
   "mimetype": "text/x-python",
   "name": "python",
   "nbconvert_exporter": "python",
   "pygments_lexer": "ipython3",
   "version": "3.9.0"
  }
 },
 "nbformat": 4,
 "nbformat_minor": 5
}
