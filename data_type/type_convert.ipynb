{
 "cells": [
  {
   "cell_type": "markdown",
   "id": "a0d5e605",
   "metadata": {},
   "source": [
    "# 1. 整数以及常见进制表达\n",
    "https://note.nkmk.me/en/python-bin-oct-hex-int-format/"
   ]
  },
  {
   "cell_type": "code",
   "execution_count": null,
   "id": "14b7823b",
   "metadata": {},
   "outputs": [],
   "source": [
    "# By adding the prefixes 0b, 0o, and 0x, integer type int numbers can be written in \n",
    "# binary, octal, and hexadecimal, respectively.\n",
    "dec_num = 15\n",
    "bin_num = 0b1111\n",
    "oct_num = 0o10\n",
    "hex_num = 0x10\n",
    "Bin_num = 0B1\n",
    "Oct_num = 0O10\n",
    "Hex_num = 0X0f\n",
    "\n",
    "print(f\"{dec_num} ,  type : {type(dec_num)}\")\n",
    "print(f\"{bin_num} {Bin_num},  type : {type(bin_num)}\")\n",
    "print(f\"{oct_num} {Oct_num},  type : {type(Oct_num)}\")\n",
    "print(f\"{hex_num} {Hex_num},  type : {type(Hex_num)}\")\n",
    "\n",
    "# they can be compared directly\n",
    "print(f\"Does 0X0f == 15 ? {dec_num == Hex_num}\")\n",
    "print(f\"Does 0X0f == 0b1111 ? {bin_num == Hex_num}\")"
   ]
  },
  {
   "cell_type": "markdown",
   "id": "aa65bbd5",
   "metadata": {},
   "source": [
    "After Python3.6 and later, you can insert underscores _ in numbers.Repeating the underscore _ raises an error, but you can insert as many as you like if it is not repeated.\n",
    "\n",
    "The underscore _ can be used as a delimiter when there are many digits. For example, it is easier to read if you enter _ every four digits."
   ]
  },
  {
   "cell_type": "code",
   "execution_count": null,
   "id": "a48a958e",
   "metadata": {},
   "outputs": [],
   "source": [
    "print(0b111111111111 == 0b1_1_1_1_1_1_1_1_1_1_1_1)\n",
    "# True\n",
    "\n",
    "bin_num = 0b1111_1111_1111\n",
    "print(bin_num)\n",
    "# 4095"
   ]
  },
  {
   "cell_type": "markdown",
   "id": "a7e2e039",
   "metadata": {},
   "source": [
    "# 2. 整数转化为各种进制的字符串形式表达"
   ]
  },
  {
   "cell_type": "markdown",
   "id": "d1865a63",
   "metadata": {},
   "source": [
    "following functions convert a int number to a binary, octal, or hexadecimal string.\n",
    "convert a decimal to string, simply using str"
   ]
  },
  {
   "cell_type": "code",
   "execution_count": null,
   "id": "7bfa32ae",
   "metadata": {},
   "outputs": [],
   "source": [
    "print(f\"{bin(dec_num)}, remove prefix {bin(dec_num)[2:]}, type {type(bin(dec_num))}\")\n",
    "print(f\"{oct(dec_num)}, remove prefix {oct(dec_num)[2:]}, type {type(oct(dec_num))}\")\n",
    "print(f\"{hex(dec_num)}, remove prefix {hex(dec_num)[2:]}, type {type(hex(dec_num))}\")\n",
    "print(f\"{str(dec_num)}, type {type(str(dec_num))}\")\n",
    "\n",
    "\n",
    "print(f\"Does hex(0X0f) == bin(0b1111) ? {bin(bin_num) == hex(Hex_num)}\")"
   ]
  },
  {
   "cell_type": "markdown",
   "id": "519366f7",
   "metadata": {},
   "source": [
    "The built-in function format(), the string method str.format(), and f-strings can also be used to convert a number to a binary, octal, and hexadecimal string."
   ]
  },
  {
   "cell_type": "code",
   "execution_count": null,
   "id": "72f6a9b8",
   "metadata": {},
   "outputs": [],
   "source": [
    "i = 255"
   ]
  },
  {
   "cell_type": "code",
   "execution_count": null,
   "id": "59c9ee0e",
   "metadata": {},
   "outputs": [],
   "source": [
    "print(\"general format usage\")\n",
    "print(format(i, 'b'))\n",
    "print(format(i, 'o'))\n",
    "print(format(i, 'x'))\n",
    "\n",
    "print(\"format usage # add prefix\")\n",
    "print(format(i, '#b'))\n",
    "print(format(i, '#o'))\n",
    "print(format(i, '#x'))\n",
    "\n",
    "# pad zero (0) with any number of digits. \n",
    "# Note that the number of characters for the prefix (two characters) must also be taken into account when filling in zero with a prefix.\n",
    "print(\"format usage pad zero\")\n",
    "print(format(i, '09b'))\n",
    "print(format(i, '08o'))\n",
    "print(format(i, '08x'))\n",
    "\n",
    "print(format(i, '#011b'))\n",
    "print(format(i, '#010o'))\n",
    "print(format(i, '#010x'))\n",
    "\n",
    "# The string method str.format() can be used for the same conversion.\n",
    "print(\"format(i) usage\")\n",
    "print('{:08b}'.format(i))\n",
    "print('{:08o}'.format(i))\n",
    "print('{:08x}'.format(i))\n",
    "\n",
    "# add prefix:\n",
    "print('0b{:08b}'.format(i))\n",
    "print('0o{:08o}'.format(i))\n",
    "print('0x{:08x}'.format(i))\n",
    "\n",
    "# In Python 3.6 or later, you can also use f-strings to write more concisely.\n",
    "# 用f‘‘包括在内，使用{}界定的变量，变量后面带:表示格式\n",
    "print(\"using f-string\")\n",
    "print(f'{i:08b}')\n",
    "print(f'{i:08o}')\n",
    "print(f'{i:08x}')\n",
    "print(f'0b{i:08b}')\n",
    "print(f'0o{i:08o}')\n",
    "print(f'0x{i:08x}')"
   ]
  },
  {
   "cell_type": "markdown",
   "id": "ec8b24fe",
   "metadata": {},
   "source": [
    "# 3. 各种进制的字符串形式转化成整数"
   ]
  },
  {
   "cell_type": "markdown",
   "id": "992c6781",
   "metadata": {},
   "source": [
    "- 使用int (str, radix)，str可以没有prefix 0x 0b 0o, 此时radix 起作用。\n",
    "- radix = 0, 需要prefix 0x 0b 0o， 没有prefix，按照10进制处理。\n",
    "- 用户需要确认改字符串符合编码规则。"
   ]
  },
  {
   "cell_type": "code",
   "execution_count": null,
   "id": "e8317cea",
   "metadata": {},
   "outputs": [],
   "source": [
    "bin_str1 = '0b101'\n",
    "bin_str2 = '101'\n",
    "hex_str1 = '0x1f'\n",
    "hex_str2 = '1f'\n",
    "\n",
    "print(f\"bin1:{int(bin_str1, 2)} | bin2:{int(bin_str2, 2)} | hex1:{int(hex_str1, 16)} | hex1:{int(hex_str2, 16)}\")\n",
    "# 以下最右语句会报错，因为hex_str2 = '1f' 不能被识别为一个合法的十进制字符串\n",
    "print(f\"bin1:{int(bin_str1, 0)} | bin2:{int(bin_str2, 0)} | hex1:{int(hex_str1, 0)}  | hex1:{int(hex_str2, 0)}\")"
   ]
  },
  {
   "cell_type": "code",
   "execution_count": null,
   "id": "b20966a6",
   "metadata": {},
   "outputs": [],
   "source": [
    "# 例如’0b102’是一个合法的字符串，但是如果使用int来转换该字符串将报错\n",
    "bin_str = '0b102'\n",
    "print(f\"bin_invalid:{int(bin_str, 2)} \")"
   ]
  },
  {
   "cell_type": "markdown",
   "id": "cdaa1ad6",
   "metadata": {},
   "source": [
    "# 4. 各种进制的字符串形式相互转化\n",
    "\n",
    "各种进制的字符串形式，需要先转化成int，然后才能转化。因为字符串之间不存在进制关系！"
   ]
  },
  {
   "cell_type": "code",
   "execution_count": null,
   "id": "097136d3",
   "metadata": {},
   "outputs": [],
   "source": [
    "a = '0b1001'\n",
    "\n",
    "print(format(int(a, 0), '#010x'))\n",
    "\n",
    "print(format(int(a, 0), '#010o'))\n"
   ]
  },
  {
   "cell_type": "code",
   "execution_count": null,
   "id": "093beed9",
   "metadata": {},
   "outputs": [],
   "source": [
    "M_hex_str = \"656e6372797074696f6e207374616e64617264\"\n",
    "M = '0x'+ M_hex_str\n",
    "M_hex = int(M, 16)\n",
    "# 可以看到以下表达是等效的\n",
    "hex(M_hex)[2:] == M_hex_str"
   ]
  },
  {
   "cell_type": "markdown",
   "id": "106688b7",
   "metadata": {},
   "source": [
    "# 5. bit操作\n",
    "Bitwise operations :\n",
    "- Bitwise AND: &\n",
    "- Bitwise OR: |\n",
    "- Bitwise XOR: ^\n",
    "- Bitwise operations with negative integers\n",
    "- Bitwise NOT, invert: ~\n",
    "- Bit shifts: <<, >>"
   ]
  },
  {
   "cell_type": "code",
   "execution_count": null,
   "id": "5b19534b",
   "metadata": {},
   "outputs": [],
   "source": [
    "x = 9   # 0b1001\n",
    "y = 10  # 0b1010\n",
    "\n",
    "z = x & y\n",
    "print(f\"x & y = {z}  | binary {bin(z)}\")\n",
    "z = x | y\n",
    "print(f\"x | y = {z} | binary {bin(z)}\")\n",
    "z = x ^ y\n",
    "print(f\"x ^ y = {z} | binary {bin(z)}\")\n"
   ]
  },
  {
   "cell_type": "code",
   "execution_count": null,
   "id": "eab92cb5",
   "metadata": {},
   "outputs": [],
   "source": [
    "# The ~ operator yields the bitwise inversion. The bitwise inversion of x is defined as -(x+1).\n",
    "# therefore convert by using ~x to a string does not result in a string with the bits of the original value inverted.\n",
    "z = ~x\n",
    "print(f\"~x = {z}  | binary {bin(z)}\")\n",
    "# By performing the AND operation to make a string of two's complement representation, you can obtain a string with the bits inverted.\n",
    "print(format(~x & 0b1111, '04b'))"
   ]
  },
  {
   "cell_type": "code",
   "execution_count": null,
   "id": "fb4418aa",
   "metadata": {},
   "outputs": [],
   "source": [
    "# Bit shift\n",
    "x = 9  # 0b1001\n",
    "\n",
    "print(x << 1)\n",
    "print(bin(x << 1))\n",
    "# 18\n",
    "# 0b10010\n",
    "\n",
    "print(x >> 1)\n",
    "print(bin(x >> 1))\n",
    "\n",
    "# 4\n",
    "# 0b100"
   ]
  },
  {
   "cell_type": "markdown",
   "id": "df8c7219",
   "metadata": {},
   "source": [
    "For negative values, the sign bit is expanded and shifted, and the positive and negative signs do not change. Negative values are considered to have infinite 1 on the left side."
   ]
  },
  {
   "cell_type": "code",
   "execution_count": null,
   "id": "4367a0d7",
   "metadata": {},
   "outputs": [],
   "source": [
    "x = -9\n",
    "print(bin(x))\n",
    "print(bin(x & 0xff))\n",
    "# -0b1001\n",
    "# 0b11110111\n",
    "\n",
    "print(x << 1)\n",
    "print(bin(x << 1))\n",
    "print(bin((x << 1) & 0xff))\n",
    "# -18\n",
    "# -0b10010\n",
    "# 0b11101110\n",
    "\n",
    "print(x >> 1)\n",
    "print(bin(x >> 1))\n",
    "print(bin((x >> 1) & 0xff))\n",
    "# -5\n",
    "# -0b101\n",
    "# 0b11111011"
   ]
  },
  {
   "cell_type": "markdown",
   "id": "bdb0c43a",
   "metadata": {},
   "source": [
    "# Bytes: “模拟”计算机内部的存储内容\n",
    "使用byte的好处：可以快速实现类似C的指针的作用，一个对象的byte表达，就是其在内存中存储的hex值\n",
    "\n",
    "byte() function converts an object to an immutable byte-represented object of given size and data.\n",
    "\n",
    "Syntax : bytes(src, enc, err)\n",
    "\n",
    "Parameters : \n",
    "\n",
    "- src : The source object which has to be converted\n",
    "- enc : The encoding required in case object is a string\n",
    "- err : Way to handle error in case the string conversion fails.\n",
    "\n",
    "Returns :  Byte immutable object consisting of unicode 0-256 characters according to src type. \n",
    "\n",
    "- integer : Returns array of size initialized to null\n",
    "- iterable : Returns array of iterable size with elements equal to iterable elements( 0-256 )\n",
    "- string : Returns the encoded string acc. to enc and if encoding fails, performs action according to err specified.\n",
    "\n",
    "no arguments : Returns array of size 0.\n",
    "\n",
    "bytearray() method returns a bytearray object which is an array of given bytes. It gives a mutable sequence of integers in the range 0 <= x < 256."
   ]
  },
  {
   "cell_type": "code",
   "execution_count": null,
   "id": "f5ac65a2",
   "metadata": {},
   "outputs": [],
   "source": [
    "# ascii string to bytes:\n",
    "str_E = \"Today is a good day;-!）\"\n",
    "str_C = \"今天是个好日子!\"\n",
    "str_N = \"666\"\n",
    " \n",
    "byte_E = bytes(str_E, 'utf-8')\n",
    "byte_C = bytes(str_C, 'utf-8')\n",
    "byte_N = bytes(str_N, 'utf-8')\n",
    "\n",
    "print(f\"{str_E}, type:{type(str_E)}, bytesize: {len(str_E)}, byte表达： {byte_E}\\n\")\n",
    "print(f\"{str_C}, bytesize: {len(str_C)}, 的byte表达： {byte_C}\\n\")\n",
    "print(f\"{str_N}, bytesize: {len(str_N)}, 的byte表达： {byte_N}\\n\")\n",
    "# 能够表达成键盘字符的，直接显示，例如字母和数字， 控制字符，使用转义字符\\x表示\n"
   ]
  },
  {
   "cell_type": "code",
   "execution_count": null,
   "id": "6da3f763",
   "metadata": {},
   "outputs": [],
   "source": [
    "# bytes对象可以拿来直接拼接！本质上还是str\n",
    "C = str_E + \"翻译为中文是：\" + str_C + str_N"
   ]
  },
  {
   "cell_type": "code",
   "execution_count": null,
   "id": "8f59d4a2",
   "metadata": {},
   "outputs": [],
   "source": [
    "print(f\"拼接之前：str_C：{str_C}，拼接之后：{C}\")"
   ]
  },
  {
   "cell_type": "markdown",
   "id": "949f3268",
   "metadata": {},
   "source": [
    "#  Hex string <-> Bytes string\n",
    "- encode() 从hex str 到 byte string"
   ]
  },
  {
   "cell_type": "code",
   "execution_count": null,
   "id": "856d87d7",
   "metadata": {},
   "outputs": [],
   "source": [
    "M = 'encryption standard' # ascii string\n",
    "# 以下两种转换效果相同\n",
    "M_byte_str1 = M.encode('utf-8')\n",
    "M_byte_str2 = bytes(M, 'utf-8')\n"
   ]
  },
  {
   "cell_type": "code",
   "execution_count": null,
   "id": "8e09beaf",
   "metadata": {},
   "outputs": [],
   "source": [
    "print(f\"M_byte_str1 = {M_byte_str1}, type：{type(M_byte_str1)}\")\n",
    "print(f\"M_byte_str2 = {M_byte_str2}, type：{type(M_byte_str2)}\")\n",
    "M_byte_str1 == M_byte_str2"
   ]
  },
  {
   "cell_type": "markdown",
   "id": "a9bfe173",
   "metadata": {},
   "source": [
    "- hex() 从byte string回到 hex string，但是不是ascii string！！"
   ]
  },
  {
   "cell_type": "code",
   "execution_count": null,
   "id": "1add17c8",
   "metadata": {},
   "outputs": [],
   "source": [
    "M_ = M_byte_str1.hex()\n",
    "print(f\"M_ = {M_}, type：{type(M_)}\")\n",
    "M_[2:] == M"
   ]
  },
  {
   "cell_type": "markdown",
   "id": "2413a837",
   "metadata": {},
   "source": [
    "- hex string 其实是ascii码的直接内存存储的十六进制，显示给人看的形式。"
   ]
  },
  {
   "cell_type": "code",
   "execution_count": null,
   "id": "e922a480",
   "metadata": {},
   "outputs": [],
   "source": [
    "# M_ = \"656e6372797074696f6e207374616e64617264\""
   ]
  },
  {
   "cell_type": "code",
   "execution_count": null,
   "id": "af999f8c",
   "metadata": {},
   "outputs": [],
   "source": [
    "#  Hex string to ASCII\n",
    "# Python2的decode method，在Python3 不工作\n",
    "# M_str.decode(\"hex\")\n",
    "\n",
    "# To decode a string in Python 3, we first need to convert the string to a byte array \n",
    "# and then use the bytearray.decode() method to decode it. \n",
    "# The bytearray.fromhex(string) method can be used to convert the string into a byte array first.\n",
    "\n",
    "M_byte_array = bytearray.fromhex(M_)\n",
    "M_rec = M_byte_array.decode()\n",
    "print(f\"M_rec = {M_rec}, type : {type(M_rec)}\")\n",
    "M_rec == M"
   ]
  },
  {
   "cell_type": "markdown",
   "id": "97a259b0",
   "metadata": {},
   "source": [
    "\n",
    "\n",
    "# .关于负数，以及二进制的补码形式 "
   ]
  },
  {
   "cell_type": "code",
   "execution_count": null,
   "id": "59ee1724",
   "metadata": {},
   "outputs": [],
   "source": []
  },
  {
   "cell_type": "code",
   "execution_count": null,
   "id": "813ac65d",
   "metadata": {},
   "outputs": [],
   "source": []
  },
  {
   "cell_type": "code",
   "execution_count": null,
   "id": "c6a58c2c",
   "metadata": {},
   "outputs": [],
   "source": []
  },
  {
   "cell_type": "code",
   "execution_count": null,
   "id": "9cb7929f",
   "metadata": {},
   "outputs": [],
   "source": []
  },
  {
   "cell_type": "code",
   "execution_count": null,
   "id": "f2bfa541",
   "metadata": {},
   "outputs": [],
   "source": []
  },
  {
   "cell_type": "code",
   "execution_count": null,
   "id": "9e6b2d52",
   "metadata": {},
   "outputs": [],
   "source": []
  },
  {
   "cell_type": "markdown",
   "id": "5dd10b40",
   "metadata": {},
   "source": [
    "# 二进制第三方库的实现"
   ]
  },
  {
   "cell_type": "code",
   "execution_count": null,
   "id": "fa79427f",
   "metadata": {},
   "outputs": [],
   "source": [
    "import bitstring # 3rd party lib for bit operation\n",
    "# https://bitstring.readthedocs.io/en/stable/"
   ]
  }
 ],
 "metadata": {
  "kernelspec": {
   "display_name": "Python 3 (ipykernel)",
   "language": "python",
   "name": "python3"
  },
  "language_info": {
   "codemirror_mode": {
    "name": "ipython",
    "version": 3
   },
   "file_extension": ".py",
   "mimetype": "text/x-python",
   "name": "python",
   "nbconvert_exporter": "python",
   "pygments_lexer": "ipython3",
   "version": "3.9.12"
  }
 },
 "nbformat": 4,
 "nbformat_minor": 5
}
