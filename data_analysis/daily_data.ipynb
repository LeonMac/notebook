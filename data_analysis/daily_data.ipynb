{
 "cells": [
  {
   "cell_type": "code",
   "execution_count": null,
   "id": "866961f4",
   "metadata": {},
   "outputs": [],
   "source": [
    "import pandas as pd\n",
    "import datetime\n",
    "RW = 7 # rolling window"
   ]
  },
  {
   "cell_type": "code",
   "execution_count": null,
   "id": "6fdbb178",
   "metadata": {},
   "outputs": [],
   "source": [
    "# read the zhihu daily data(which was downloaded from zhihu)\n",
    "raw_data = pd.read_csv(\"./zh_daily.csv\")"
   ]
  },
  {
   "cell_type": "code",
   "execution_count": null,
   "id": "f2f66b50",
   "metadata": {},
   "outputs": [],
   "source": [
    "raw_data.describe()"
   ]
  },
  {
   "cell_type": "code",
   "execution_count": null,
   "id": "c6dafb2c",
   "metadata": {},
   "outputs": [],
   "source": [
    "type(raw_data['日期'])"
   ]
  },
  {
   "cell_type": "code",
   "execution_count": null,
   "id": "14fa59bb",
   "metadata": {},
   "outputs": [],
   "source": [
    "date_time = pd.to_datetime(raw_data['日期'], format='%Y-%m-%d')"
   ]
  },
  {
   "cell_type": "code",
   "execution_count": null,
   "id": "8435c6bc",
   "metadata": {},
   "outputs": [],
   "source": [
    "week_num = date_time.dt.isocalendar().week\n",
    "work_day = date_time.dt.isocalendar().day\n",
    "max_week_num = week_num.max()\n",
    "min_week_num = week_num.min()"
   ]
  },
  {
   "cell_type": "code",
   "execution_count": null,
   "id": "b7a492dc",
   "metadata": {},
   "outputs": [],
   "source": [
    "raw_data.insert(loc=1, column='week_num', value=week_num)\n",
    "raw_data.insert(loc=2, column='work_day', value=work_day)"
   ]
  },
  {
   "cell_type": "code",
   "execution_count": null,
   "id": "2b1afe9b",
   "metadata": {},
   "outputs": [],
   "source": [
    "max_week_num"
   ]
  },
  {
   "cell_type": "code",
   "execution_count": null,
   "id": "65669805",
   "metadata": {},
   "outputs": [],
   "source": [
    "raw_data.columns"
   ]
  },
  {
   "cell_type": "code",
   "execution_count": null,
   "id": "756cb6ab",
   "metadata": {},
   "outputs": [],
   "source": [
    "col_ind = raw_data.columns"
   ]
  },
  {
   "cell_type": "code",
   "execution_count": null,
   "id": "3286676d",
   "metadata": {},
   "outputs": [],
   "source": [
    "col_ind[0]"
   ]
  },
  {
   "cell_type": "code",
   "execution_count": null,
   "id": "bd271c6e",
   "metadata": {},
   "outputs": [],
   "source": [
    "n_sample = len(raw_data.index)\n",
    "n_wk = n_sample // RW"
   ]
  },
  {
   "cell_type": "code",
   "execution_count": null,
   "id": "65d9d858",
   "metadata": {},
   "outputs": [],
   "source": [
    "n_wk"
   ]
  },
  {
   "cell_type": "code",
   "execution_count": null,
   "id": "62d4b139",
   "metadata": {},
   "outputs": [],
   "source": [
    "# slower iteration\n",
    "# week_grp = []\n",
    "# for _, row in raw_data.iterrows():\n",
    "#     _week = []\n",
    "    \n",
    "#     if ( row['work_day'] == RW ):\n",
    "#         _week.append(row)\n",
    "        \n",
    "#     if _week != [] : # and len(_week) == RW:    \n",
    "#         week_grp.append(_week)\n",
    "        "
   ]
  },
  {
   "cell_type": "code",
   "execution_count": null,
   "id": "abf61e95",
   "metadata": {},
   "outputs": [],
   "source": []
  },
  {
   "cell_type": "code",
   "execution_count": null,
   "id": "b591a313",
   "metadata": {},
   "outputs": [],
   "source": [
    "# faster iteration\n",
    "week_grp = []\n",
    "week_num_ind = max_week_num\n",
    "for row in raw_data.itertuples():\n",
    "    \n",
    "    _week = []\n",
    "\n",
    "    if ( row.week_num == week_num_ind ):\n",
    "        _week.append(row)\n",
    "        \n",
    "    if _week != [] and len(_week) == RW:    \n",
    "        week_grp.append(_week)"
   ]
  },
  {
   "cell_type": "code",
   "execution_count": null,
   "id": "cc149981",
   "metadata": {},
   "outputs": [],
   "source": [
    "week_grp"
   ]
  },
  {
   "cell_type": "code",
   "execution_count": null,
   "id": "44f0f2f3",
   "metadata": {},
   "outputs": [],
   "source": []
  },
  {
   "cell_type": "code",
   "execution_count": null,
   "id": "0616a579",
   "metadata": {},
   "outputs": [],
   "source": []
  },
  {
   "cell_type": "code",
   "execution_count": null,
   "id": "3bebaf40",
   "metadata": {},
   "outputs": [],
   "source": [
    "for window in raw_data.rolling(window = RW):\n",
    "    print(window)"
   ]
  },
  {
   "cell_type": "code",
   "execution_count": null,
   "id": "a78a5e15",
   "metadata": {},
   "outputs": [],
   "source": [
    "import time\n",
    "df = pd.DataFrame([x for x in range(100*100)], columns=['B'])\n"
   ]
  },
  {
   "cell_type": "code",
   "execution_count": null,
   "id": "7878ed2d",
   "metadata": {},
   "outputs": [],
   "source": [
    "df"
   ]
  },
  {
   "cell_type": "code",
   "execution_count": null,
   "id": "85310dde",
   "metadata": {},
   "outputs": [],
   "source": [
    "st=time.time()\n",
    "for index, row in df.iterrows():\n",
    "    row.B\n",
    "print(time.time()-st)\n",
    "\n",
    "\n",
    "st=time.time()\n",
    "for row in df.itertuples():\n",
    "    row.B\n",
    "print(time.time() - st)\n"
   ]
  },
  {
   "cell_type": "code",
   "execution_count": null,
   "id": "aec5c1a5",
   "metadata": {},
   "outputs": [],
   "source": []
  },
  {
   "cell_type": "code",
   "execution_count": null,
   "id": "4a39d77c",
   "metadata": {},
   "outputs": [],
   "source": []
  },
  {
   "cell_type": "code",
   "execution_count": null,
   "id": "c1026bab",
   "metadata": {},
   "outputs": [],
   "source": []
  }
 ],
 "metadata": {
  "kernelspec": {
   "display_name": "Python 3 (ipykernel)",
   "language": "python",
   "name": "python3"
  },
  "language_info": {
   "codemirror_mode": {
    "name": "ipython",
    "version": 3
   },
   "file_extension": ".py",
   "mimetype": "text/x-python",
   "name": "python",
   "nbconvert_exporter": "python",
   "pygments_lexer": "ipython3",
   "version": "3.9.12"
  }
 },
 "nbformat": 4,
 "nbformat_minor": 5
}
