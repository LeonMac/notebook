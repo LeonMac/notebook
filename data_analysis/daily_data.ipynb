{
 "cells": [
  {
   "cell_type": "code",
   "execution_count": 1,
   "id": "866961f4",
   "metadata": {},
   "outputs": [],
   "source": [
    "import pandas as pd\n",
    "import datetime\n",
    "RW = 7 # rolling window"
   ]
  },
  {
   "cell_type": "code",
   "execution_count": 2,
   "id": "6fdbb178",
   "metadata": {},
   "outputs": [],
   "source": [
    "# read the zhihu daily data(which was downloaded from zhihu)\n",
    "raw_data = pd.read_csv(\"./zh_daily.csv\")"
   ]
  },
  {
   "cell_type": "code",
   "execution_count": 3,
   "id": "f2f66b50",
   "metadata": {},
   "outputs": [
    {
     "data": {
      "text/html": [
       "<div>\n",
       "<style scoped>\n",
       "    .dataframe tbody tr th:only-of-type {\n",
       "        vertical-align: middle;\n",
       "    }\n",
       "\n",
       "    .dataframe tbody tr th {\n",
       "        vertical-align: top;\n",
       "    }\n",
       "\n",
       "    .dataframe thead th {\n",
       "        text-align: right;\n",
       "    }\n",
       "</style>\n",
       "<table border=\"1\" class=\"dataframe\">\n",
       "  <thead>\n",
       "    <tr style=\"text-align: right;\">\n",
       "      <th></th>\n",
       "      <th>阅读</th>\n",
       "      <th>播放</th>\n",
       "      <th>点赞</th>\n",
       "      <th>喜欢</th>\n",
       "      <th>评论</th>\n",
       "      <th>收藏</th>\n",
       "      <th>分享</th>\n",
       "    </tr>\n",
       "  </thead>\n",
       "  <tbody>\n",
       "    <tr>\n",
       "      <th>count</th>\n",
       "      <td>180.000000</td>\n",
       "      <td>180.000000</td>\n",
       "      <td>180.000000</td>\n",
       "      <td>180.000000</td>\n",
       "      <td>180.000000</td>\n",
       "      <td>180.000000</td>\n",
       "      <td>180.000000</td>\n",
       "    </tr>\n",
       "    <tr>\n",
       "      <th>mean</th>\n",
       "      <td>732.922222</td>\n",
       "      <td>0.055556</td>\n",
       "      <td>1.372222</td>\n",
       "      <td>0.516667</td>\n",
       "      <td>0.350000</td>\n",
       "      <td>2.750000</td>\n",
       "      <td>0.572222</td>\n",
       "    </tr>\n",
       "    <tr>\n",
       "      <th>std</th>\n",
       "      <td>253.724468</td>\n",
       "      <td>0.274060</td>\n",
       "      <td>1.449448</td>\n",
       "      <td>0.899876</td>\n",
       "      <td>0.988622</td>\n",
       "      <td>1.994055</td>\n",
       "      <td>1.008514</td>\n",
       "    </tr>\n",
       "    <tr>\n",
       "      <th>min</th>\n",
       "      <td>302.000000</td>\n",
       "      <td>0.000000</td>\n",
       "      <td>-1.000000</td>\n",
       "      <td>0.000000</td>\n",
       "      <td>0.000000</td>\n",
       "      <td>0.000000</td>\n",
       "      <td>0.000000</td>\n",
       "    </tr>\n",
       "    <tr>\n",
       "      <th>25%</th>\n",
       "      <td>542.000000</td>\n",
       "      <td>0.000000</td>\n",
       "      <td>0.000000</td>\n",
       "      <td>0.000000</td>\n",
       "      <td>0.000000</td>\n",
       "      <td>1.000000</td>\n",
       "      <td>0.000000</td>\n",
       "    </tr>\n",
       "    <tr>\n",
       "      <th>50%</th>\n",
       "      <td>709.500000</td>\n",
       "      <td>0.000000</td>\n",
       "      <td>1.000000</td>\n",
       "      <td>0.000000</td>\n",
       "      <td>0.000000</td>\n",
       "      <td>2.500000</td>\n",
       "      <td>0.000000</td>\n",
       "    </tr>\n",
       "    <tr>\n",
       "      <th>75%</th>\n",
       "      <td>894.250000</td>\n",
       "      <td>0.000000</td>\n",
       "      <td>2.000000</td>\n",
       "      <td>1.000000</td>\n",
       "      <td>0.000000</td>\n",
       "      <td>4.000000</td>\n",
       "      <td>1.000000</td>\n",
       "    </tr>\n",
       "    <tr>\n",
       "      <th>max</th>\n",
       "      <td>1958.000000</td>\n",
       "      <td>2.000000</td>\n",
       "      <td>9.000000</td>\n",
       "      <td>7.000000</td>\n",
       "      <td>8.000000</td>\n",
       "      <td>12.000000</td>\n",
       "      <td>5.000000</td>\n",
       "    </tr>\n",
       "  </tbody>\n",
       "</table>\n",
       "</div>"
      ],
      "text/plain": [
       "                阅读          播放          点赞          喜欢          评论  \\\n",
       "count   180.000000  180.000000  180.000000  180.000000  180.000000   \n",
       "mean    732.922222    0.055556    1.372222    0.516667    0.350000   \n",
       "std     253.724468    0.274060    1.449448    0.899876    0.988622   \n",
       "min     302.000000    0.000000   -1.000000    0.000000    0.000000   \n",
       "25%     542.000000    0.000000    0.000000    0.000000    0.000000   \n",
       "50%     709.500000    0.000000    1.000000    0.000000    0.000000   \n",
       "75%     894.250000    0.000000    2.000000    1.000000    0.000000   \n",
       "max    1958.000000    2.000000    9.000000    7.000000    8.000000   \n",
       "\n",
       "               收藏          分享  \n",
       "count  180.000000  180.000000  \n",
       "mean     2.750000    0.572222  \n",
       "std      1.994055    1.008514  \n",
       "min      0.000000    0.000000  \n",
       "25%      1.000000    0.000000  \n",
       "50%      2.500000    0.000000  \n",
       "75%      4.000000    1.000000  \n",
       "max     12.000000    5.000000  "
      ]
     },
     "execution_count": 3,
     "metadata": {},
     "output_type": "execute_result"
    }
   ],
   "source": [
    "raw_data.describe()"
   ]
  },
  {
   "cell_type": "code",
   "execution_count": 4,
   "id": "c6dafb2c",
   "metadata": {},
   "outputs": [
    {
     "data": {
      "text/plain": [
       "pandas.core.series.Series"
      ]
     },
     "execution_count": 4,
     "metadata": {},
     "output_type": "execute_result"
    }
   ],
   "source": [
    "type(raw_data['日期'])"
   ]
  },
  {
   "cell_type": "code",
   "execution_count": 5,
   "id": "14fa59bb",
   "metadata": {},
   "outputs": [],
   "source": [
    "date_time = pd.to_datetime(raw_data['日期'], format='%Y-%m-%d')"
   ]
  },
  {
   "cell_type": "code",
   "execution_count": 6,
   "id": "8435c6bc",
   "metadata": {},
   "outputs": [],
   "source": [
    "week_num = date_time.dt.isocalendar().week\n",
    "work_day = date_time.dt.isocalendar().day\n",
    "max_week_num = week_num.max()\n",
    "min_week_num = week_num.min()"
   ]
  },
  {
   "cell_type": "code",
   "execution_count": 7,
   "id": "b7a492dc",
   "metadata": {},
   "outputs": [],
   "source": [
    "raw_data.insert(loc=1, column='week_num', value=week_num)\n",
    "raw_data.insert(loc=2, column='work_day', value=work_day)"
   ]
  },
  {
   "cell_type": "code",
   "execution_count": 8,
   "id": "2b1afe9b",
   "metadata": {},
   "outputs": [
    {
     "data": {
      "text/plain": [
       "50"
      ]
     },
     "execution_count": 8,
     "metadata": {},
     "output_type": "execute_result"
    }
   ],
   "source": [
    "max_week_num"
   ]
  },
  {
   "cell_type": "code",
   "execution_count": 9,
   "id": "65669805",
   "metadata": {},
   "outputs": [
    {
     "data": {
      "text/plain": [
       "Index(['日期', 'week_num', 'work_day', '阅读', '播放', '点赞', '喜欢', '评论', '收藏', '分享'], dtype='object')"
      ]
     },
     "execution_count": 9,
     "metadata": {},
     "output_type": "execute_result"
    }
   ],
   "source": [
    "raw_data.columns"
   ]
  },
  {
   "cell_type": "code",
   "execution_count": 10,
   "id": "756cb6ab",
   "metadata": {},
   "outputs": [],
   "source": [
    "col_ind = raw_data.columns"
   ]
  },
  {
   "cell_type": "code",
   "execution_count": 11,
   "id": "3286676d",
   "metadata": {},
   "outputs": [
    {
     "data": {
      "text/plain": [
       "'日期'"
      ]
     },
     "execution_count": 11,
     "metadata": {},
     "output_type": "execute_result"
    }
   ],
   "source": [
    "col_ind[0]"
   ]
  },
  {
   "cell_type": "code",
   "execution_count": 12,
   "id": "bd271c6e",
   "metadata": {},
   "outputs": [],
   "source": [
    "n_sample = len(raw_data.index)\n",
    "n_wk = n_sample // RW"
   ]
  },
  {
   "cell_type": "code",
   "execution_count": 13,
   "id": "65d9d858",
   "metadata": {},
   "outputs": [
    {
     "data": {
      "text/plain": [
       "25"
      ]
     },
     "execution_count": 13,
     "metadata": {},
     "output_type": "execute_result"
    }
   ],
   "source": [
    "n_wk"
   ]
  },
  {
   "cell_type": "code",
   "execution_count": 14,
   "id": "62d4b139",
   "metadata": {},
   "outputs": [],
   "source": [
    "# slower iteration\n",
    "# week_grp = []\n",
    "# for _, row in raw_data.iterrows():\n",
    "#     _week = []\n",
    "    \n",
    "#     if ( row['work_day'] == RW ):\n",
    "#         _week.append(row)\n",
    "        \n",
    "#     if _week != [] : # and len(_week) == RW:    \n",
    "#         week_grp.append(_week)\n",
    "        "
   ]
  },
  {
   "cell_type": "code",
   "execution_count": null,
   "id": "abf61e95",
   "metadata": {},
   "outputs": [],
   "source": []
  },
  {
   "cell_type": "code",
   "execution_count": 15,
   "id": "b591a313",
   "metadata": {},
   "outputs": [],
   "source": [
    "# faster iteration\n",
    "week_grp = []\n",
    "week_num_ind = max_week_num\n",
    "for row in raw_data.itertuples():\n",
    "    \n",
    "    _week = []\n",
    "\n",
    "    if ( row.week_num == week_num_ind ):\n",
    "        _week.append(row)\n",
    "        \n",
    "    if _week != [] and len(_week) == RW:    \n",
    "        week_grp.append(_week)"
   ]
  },
  {
   "cell_type": "code",
   "execution_count": 16,
   "id": "cc149981",
   "metadata": {},
   "outputs": [
    {
     "data": {
      "text/plain": [
       "[[Pandas(Index=2, 日期='2022/12/11', week_num=49, work_day=7, 阅读=481, 播放=0, 点赞=0, 喜欢=0, 评论=0, 收藏=1, 分享=0)],\n",
       " [Pandas(Index=9, 日期='2022/12/4', week_num=48, work_day=7, 阅读=700, 播放=0, 点赞=3, 喜欢=0, 评论=4, 收藏=2, 分享=0)],\n",
       " [Pandas(Index=16, 日期='2022/11/27', week_num=47, work_day=7, 阅读=467, 播放=0, 点赞=0, 喜欢=0, 评论=0, 收藏=0, 分享=0)],\n",
       " [Pandas(Index=23, 日期='2022/11/20', week_num=46, work_day=7, 阅读=566, 播放=0, 点赞=3, 喜欢=2, 评论=0, 收藏=4, 分享=1)],\n",
       " [Pandas(Index=30, 日期='2022/11/13', week_num=45, work_day=7, 阅读=453, 播放=0, 点赞=0, 喜欢=0, 评论=0, 收藏=1, 分享=0)],\n",
       " [Pandas(Index=37, 日期='2022/11/6', week_num=44, work_day=7, 阅读=542, 播放=0, 点赞=0, 喜欢=0, 评论=0, 收藏=2, 分享=0)],\n",
       " [Pandas(Index=44, 日期='2022/10/30', week_num=43, work_day=7, 阅读=388, 播放=0, 点赞=1, 喜欢=1, 评论=1, 收藏=2, 分享=0)],\n",
       " [Pandas(Index=51, 日期='2022/10/23', week_num=42, work_day=7, 阅读=438, 播放=0, 点赞=0, 喜欢=0, 评论=0, 收藏=0, 分享=0)],\n",
       " [Pandas(Index=58, 日期='2022/10/16', week_num=41, work_day=7, 阅读=545, 播放=0, 点赞=1, 喜欢=0, 评论=0, 收藏=1, 分享=0)],\n",
       " [Pandas(Index=65, 日期='2022/10/9', week_num=40, work_day=7, 阅读=713, 播放=0, 点赞=0, 喜欢=0, 评论=2, 收藏=0, 分享=1)],\n",
       " [Pandas(Index=72, 日期='2022/10/2', week_num=39, work_day=7, 阅读=340, 播放=0, 点赞=1, 喜欢=2, 评论=0, 收藏=3, 分享=0)],\n",
       " [Pandas(Index=79, 日期='2022/9/25', week_num=38, work_day=7, 阅读=542, 播放=0, 点赞=0, 喜欢=1, 评论=0, 收藏=3, 分享=0)],\n",
       " [Pandas(Index=86, 日期='2022/9/18', week_num=37, work_day=7, 阅读=515, 播放=0, 点赞=0, 喜欢=0, 评论=2, 收藏=3, 分享=0)],\n",
       " [Pandas(Index=93, 日期='2022/9/11', week_num=36, work_day=7, 阅读=449, 播放=0, 点赞=0, 喜欢=1, 评论=0, 收藏=0, 分享=0)],\n",
       " [Pandas(Index=100, 日期='2022/9/4', week_num=35, work_day=7, 阅读=756, 播放=0, 点赞=2, 喜欢=2, 评论=0, 收藏=2, 分享=2)],\n",
       " [Pandas(Index=107, 日期='2022/8/28', week_num=34, work_day=7, 阅读=427, 播放=0, 点赞=2, 喜欢=0, 评论=0, 收藏=1, 分享=0)],\n",
       " [Pandas(Index=114, 日期='2022/8/21', week_num=33, work_day=7, 阅读=444, 播放=0, 点赞=0, 喜欢=0, 评论=0, 收藏=0, 分享=0)],\n",
       " [Pandas(Index=121, 日期='2022/8/14', week_num=32, work_day=7, 阅读=430, 播放=0, 点赞=2, 喜欢=0, 评论=0, 收藏=4, 分享=0)],\n",
       " [Pandas(Index=128, 日期='2022/8/7', week_num=31, work_day=7, 阅读=461, 播放=0, 点赞=1, 喜欢=0, 评论=0, 收藏=3, 分享=0)],\n",
       " [Pandas(Index=135, 日期='2022/7/31', week_num=30, work_day=7, 阅读=1315, 播放=0, 点赞=0, 喜欢=2, 评论=3, 收藏=1, 分享=0)],\n",
       " [Pandas(Index=142, 日期='2022/7/24', week_num=29, work_day=7, 阅读=966, 播放=0, 点赞=1, 喜欢=0, 评论=0, 收藏=1, 分享=0)],\n",
       " [Pandas(Index=149, 日期='2022/7/17', week_num=28, work_day=7, 阅读=302, 播放=0, 点赞=0, 喜欢=0, 评论=0, 收藏=1, 分享=0)],\n",
       " [Pandas(Index=156, 日期='2022/7/10', week_num=27, work_day=7, 阅读=492, 播放=1, 点赞=0, 喜欢=0, 评论=0, 收藏=3, 分享=0)],\n",
       " [Pandas(Index=163, 日期='2022/7/3', week_num=26, work_day=7, 阅读=441, 播放=0, 点赞=3, 喜欢=0, 评论=0, 收藏=2, 分享=0)],\n",
       " [Pandas(Index=170, 日期='2022/6/26', week_num=25, work_day=7, 阅读=326, 播放=0, 点赞=1, 喜欢=1, 评论=0, 收藏=1, 分享=0)],\n",
       " [Pandas(Index=177, 日期='2022/6/19', week_num=24, work_day=7, 阅读=366, 播放=0, 点赞=1, 喜欢=0, 评论=0, 收藏=0, 分享=2)]]"
      ]
     },
     "execution_count": 16,
     "metadata": {},
     "output_type": "execute_result"
    }
   ],
   "source": [
    "week_grp"
   ]
  },
  {
   "cell_type": "code",
   "execution_count": null,
   "id": "44f0f2f3",
   "metadata": {},
   "outputs": [],
   "source": []
  },
  {
   "cell_type": "code",
   "execution_count": null,
   "id": "0616a579",
   "metadata": {},
   "outputs": [],
   "source": []
  },
  {
   "cell_type": "code",
   "execution_count": null,
   "id": "3bebaf40",
   "metadata": {},
   "outputs": [],
   "source": [
    "for window in raw_data.rolling(window = RW):\n",
    "    print(window)"
   ]
  },
  {
   "cell_type": "code",
   "execution_count": null,
   "id": "a78a5e15",
   "metadata": {},
   "outputs": [],
   "source": [
    "import time\n",
    "df = pd.DataFrame([x for x in range(100*100)], columns=['B'])\n"
   ]
  },
  {
   "cell_type": "code",
   "execution_count": null,
   "id": "7878ed2d",
   "metadata": {},
   "outputs": [],
   "source": [
    "df"
   ]
  },
  {
   "cell_type": "code",
   "execution_count": null,
   "id": "85310dde",
   "metadata": {},
   "outputs": [],
   "source": [
    "st=time.time()\n",
    "for index, row in df.iterrows():\n",
    "    row.B\n",
    "print(time.time()-st)\n",
    "\n",
    "\n",
    "st=time.time()\n",
    "for row in df.itertuples():\n",
    "    row.B\n",
    "print(time.time() - st)\n"
   ]
  },
  {
   "cell_type": "code",
   "execution_count": null,
   "id": "aec5c1a5",
   "metadata": {},
   "outputs": [],
   "source": []
  },
  {
   "cell_type": "code",
   "execution_count": null,
   "id": "4a39d77c",
   "metadata": {},
   "outputs": [],
   "source": []
  },
  {
   "cell_type": "code",
   "execution_count": null,
   "id": "c1026bab",
   "metadata": {},
   "outputs": [],
   "source": []
  }
 ],
 "metadata": {
  "kernelspec": {
   "display_name": "Python 3",
   "language": "python",
   "name": "python3"
  },
  "language_info": {
   "codemirror_mode": {
    "name": "ipython",
    "version": 3
   },
   "file_extension": ".py",
   "mimetype": "text/x-python",
   "name": "python",
   "nbconvert_exporter": "python",
   "pygments_lexer": "ipython3",
   "version": "3.6.9"
  }
 },
 "nbformat": 4,
 "nbformat_minor": 5
}
