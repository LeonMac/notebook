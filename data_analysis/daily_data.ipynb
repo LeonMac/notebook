{
 "cells": [
  {
   "cell_type": "code",
   "execution_count": null,
   "id": "866961f4",
   "metadata": {},
   "outputs": [],
   "source": [
    "import pandas as pd\n",
    "import datetime"
   ]
  },
  {
   "cell_type": "code",
   "execution_count": null,
   "id": "6fdbb178",
   "metadata": {},
   "outputs": [],
   "source": [
    "# read the zhihu daily data(which was downloaded from zhihu)\n",
    "raw_data = pd.read_csv(\"./zh_daily.csv\")"
   ]
  },
  {
   "cell_type": "code",
   "execution_count": null,
   "id": "71bcc397",
   "metadata": {},
   "outputs": [],
   "source": [
    "raw_data"
   ]
  },
  {
   "cell_type": "code",
   "execution_count": null,
   "id": "f2f66b50",
   "metadata": {},
   "outputs": [],
   "source": [
    "raw_data.describe()"
   ]
  },
  {
   "cell_type": "code",
   "execution_count": null,
   "id": "c6dafb2c",
   "metadata": {},
   "outputs": [],
   "source": [
    "type(raw_data['日期'])"
   ]
  },
  {
   "cell_type": "code",
   "execution_count": null,
   "id": "14fa59bb",
   "metadata": {},
   "outputs": [],
   "source": [
    "date_time = pd.to_datetime(raw_data['日期'], format='%Y-%m-%d')"
   ]
  },
  {
   "cell_type": "code",
   "execution_count": null,
   "id": "8435c6bc",
   "metadata": {},
   "outputs": [],
   "source": [
    "wk_num = date_time.dt.isocalendar().week"
   ]
  },
  {
   "cell_type": "code",
   "execution_count": null,
   "id": "24eb6276",
   "metadata": {},
   "outputs": [],
   "source": [
    "wk_num"
   ]
  },
  {
   "cell_type": "code",
   "execution_count": null,
   "id": "b7a80d80",
   "metadata": {},
   "outputs": [],
   "source": [
    "wk_day = date_time.dt.isocalendar().day"
   ]
  },
  {
   "cell_type": "code",
   "execution_count": null,
   "id": "d22460e2",
   "metadata": {},
   "outputs": [],
   "source": [
    "wk_day"
   ]
  },
  {
   "cell_type": "code",
   "execution_count": null,
   "id": "b7a492dc",
   "metadata": {},
   "outputs": [],
   "source": [
    "raw_data.insert(loc=1, column='wk_day', value=wk_day)"
   ]
  },
  {
   "cell_type": "code",
   "execution_count": null,
   "id": "2b1afe9b",
   "metadata": {},
   "outputs": [],
   "source": [
    "raw_data"
   ]
  },
  {
   "cell_type": "code",
   "execution_count": null,
   "id": "65669805",
   "metadata": {},
   "outputs": [],
   "source": [
    "raw_data.columns"
   ]
  },
  {
   "cell_type": "code",
   "execution_count": null,
   "id": "756cb6ab",
   "metadata": {},
   "outputs": [],
   "source": [
    "col_ind = raw_data.columns"
   ]
  },
  {
   "cell_type": "code",
   "execution_count": null,
   "id": "3286676d",
   "metadata": {},
   "outputs": [],
   "source": [
    "col_ind[0]"
   ]
  },
  {
   "cell_type": "code",
   "execution_count": null,
   "id": "3bebaf40",
   "metadata": {},
   "outputs": [],
   "source": [
    "for window in raw_data.rolling(window=7):\n",
    "    print(window)"
   ]
  },
  {
   "cell_type": "code",
   "execution_count": null,
   "id": "a78a5e15",
   "metadata": {},
   "outputs": [],
   "source": [
    "# windows operation exp.\n",
    "s = pd.Series(range(5))"
   ]
  },
  {
   "cell_type": "code",
   "execution_count": null,
   "id": "85310dde",
   "metadata": {},
   "outputs": [],
   "source": [
    "for window in s.rolling(window=3):\n",
    "    print(window)"
   ]
  },
  {
   "cell_type": "code",
   "execution_count": null,
   "id": "aec5c1a5",
   "metadata": {},
   "outputs": [],
   "source": []
  },
  {
   "cell_type": "code",
   "execution_count": null,
   "id": "4a39d77c",
   "metadata": {},
   "outputs": [],
   "source": []
  },
  {
   "cell_type": "code",
   "execution_count": null,
   "id": "c1026bab",
   "metadata": {},
   "outputs": [],
   "source": []
  }
 ],
 "metadata": {
  "kernelspec": {
   "display_name": "Python 3",
   "language": "python",
   "name": "python3"
  },
  "language_info": {
   "codemirror_mode": {
    "name": "ipython",
    "version": 3
   },
   "file_extension": ".py",
   "mimetype": "text/x-python",
   "name": "python",
   "nbconvert_exporter": "python",
   "pygments_lexer": "ipython3",
   "version": "3.6.9"
  }
 },
 "nbformat": 4,
 "nbformat_minor": 5
}
