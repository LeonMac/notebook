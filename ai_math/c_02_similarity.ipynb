{
 "cells": [
  {
   "cell_type": "code",
   "execution_count": 1,
   "metadata": {
    "execution": {
     "iopub.execute_input": "2024-12-07T05:42:37.005248Z",
     "iopub.status.busy": "2024-12-07T05:42:37.004467Z",
     "iopub.status.idle": "2024-12-07T05:42:37.659156Z",
     "shell.execute_reply": "2024-12-07T05:42:37.657603Z"
    },
    "jupyter": {
     "outputs_hidden": false
    }
   },
   "outputs": [],
   "source": [
    "import numpy as np\n",
    "import pandas as pd"
   ]
  },
  {
   "cell_type": "code",
   "execution_count": 2,
   "metadata": {
    "execution": {
     "iopub.execute_input": "2024-12-07T05:42:37.664774Z",
     "iopub.status.busy": "2024-12-07T05:42:37.664116Z",
     "iopub.status.idle": "2024-12-07T05:42:37.671238Z",
     "shell.execute_reply": "2024-12-07T05:42:37.670008Z"
    },
    "jupyter": {
     "outputs_hidden": false
    }
   },
   "outputs": [
    {
     "name": "stdout",
     "output_type": "stream",
     "text": [
      "['u1', 'u2', 'u3', 'u4', 'u5', 'u6']\n"
     ]
    }
   ],
   "source": [
    "users = ['u1','u2','u3','u4','u5','u6']\n",
    "print(users)"
   ]
  },
  {
   "cell_type": "code",
   "execution_count": 3,
   "metadata": {
    "execution": {
     "iopub.execute_input": "2024-12-07T05:42:37.676596Z",
     "iopub.status.busy": "2024-12-07T05:42:37.675819Z",
     "iopub.status.idle": "2024-12-07T05:42:37.683309Z",
     "shell.execute_reply": "2024-12-07T05:42:37.681831Z"
    },
    "jupyter": {
     "outputs_hidden": false
    }
   },
   "outputs": [],
   "source": [
    "rating_matrix = np.array(\n",
    "    [[4,3,0,0,5,0],\n",
    "     [5,0,4,0,4,0],\n",
    "     [4,0,5,3,4,0],\n",
    "     [0,3,0,0,0,5],\n",
    "     [0,4,0,0,0,4],\n",
    "     [0,0,2,4,0,5]\n",
    "    ]\n",
    ")"
   ]
  },
  {
   "cell_type": "code",
   "execution_count": 4,
   "metadata": {
    "execution": {
     "iopub.execute_input": "2024-12-07T05:42:37.688737Z",
     "iopub.status.busy": "2024-12-07T05:42:37.688300Z",
     "iopub.status.idle": "2024-12-07T05:42:37.700553Z",
     "shell.execute_reply": "2024-12-07T05:42:37.699302Z"
    },
    "jupyter": {
     "outputs_hidden": false
    }
   },
   "outputs": [
    {
     "data": {
      "text/plain": [
       "(6, 6)"
      ]
     },
     "execution_count": 4,
     "metadata": {},
     "output_type": "execute_result"
    }
   ],
   "source": [
    "rating_matrix.shape"
   ]
  },
  {
   "cell_type": "code",
   "execution_count": 5,
   "metadata": {
    "execution": {
     "iopub.execute_input": "2024-12-07T05:42:37.706512Z",
     "iopub.status.busy": "2024-12-07T05:42:37.705371Z",
     "iopub.status.idle": "2024-12-07T05:42:37.713478Z",
     "shell.execute_reply": "2024-12-07T05:42:37.712056Z"
    },
    "jupyter": {
     "outputs_hidden": false
    }
   },
   "outputs": [
    {
     "data": {
      "text/plain": [
       "dtype('int64')"
      ]
     },
     "execution_count": 5,
     "metadata": {},
     "output_type": "execute_result"
    }
   ],
   "source": [
    "rating_matrix.dtype"
   ]
  },
  {
   "cell_type": "code",
   "execution_count": 6,
   "metadata": {
    "execution": {
     "iopub.execute_input": "2024-12-07T05:42:37.718841Z",
     "iopub.status.busy": "2024-12-07T05:42:37.718353Z",
     "iopub.status.idle": "2024-12-07T05:42:37.726621Z",
     "shell.execute_reply": "2024-12-07T05:42:37.725274Z"
    },
    "jupyter": {
     "outputs_hidden": false
    }
   },
   "outputs": [
    {
     "data": {
      "text/plain": [
       "array([4, 3, 0, 0, 5, 0])"
      ]
     },
     "execution_count": 6,
     "metadata": {},
     "output_type": "execute_result"
    }
   ],
   "source": [
    "# [0, :]: 在这个上下文中，0是表示行索引，:表示选择该行的所有列。因此，rating_matrix[0, :]选择了矩阵的第一行的所有元素。\n",
    "rating_matrix[0,:]"
   ]
  },
  {
   "cell_type": "code",
   "execution_count": 7,
   "metadata": {
    "execution": {
     "iopub.execute_input": "2024-12-07T05:42:37.732536Z",
     "iopub.status.busy": "2024-12-07T05:42:37.731732Z",
     "iopub.status.idle": "2024-12-07T05:42:37.740168Z",
     "shell.execute_reply": "2024-12-07T05:42:37.738800Z"
    },
    "jupyter": {
     "outputs_hidden": false
    }
   },
   "outputs": [
    {
     "data": {
      "text/plain": [
       "array([4, 5, 4, 0, 0, 0])"
      ]
     },
     "execution_count": 7,
     "metadata": {},
     "output_type": "execute_result"
    }
   ],
   "source": [
    "# rating_matrix[:，0]选择了矩阵的第一列的所有元素。\n",
    "rating_matrix[:,0]"
   ]
  },
  {
   "cell_type": "code",
   "execution_count": 8,
   "metadata": {
    "execution": {
     "iopub.execute_input": "2024-12-07T05:42:37.745575Z",
     "iopub.status.busy": "2024-12-07T05:42:37.745136Z",
     "iopub.status.idle": "2024-12-07T05:42:37.753533Z",
     "shell.execute_reply": "2024-12-07T05:42:37.752166Z"
    },
    "jupyter": {
     "outputs_hidden": false
    }
   },
   "outputs": [
    {
     "data": {
      "text/plain": [
       "array([[4, 3],\n",
       "       [5, 0],\n",
       "       [4, 0],\n",
       "       [0, 3],\n",
       "       [0, 4],\n",
       "       [0, 0]])"
      ]
     },
     "execution_count": 8,
     "metadata": {},
     "output_type": "execute_result"
    }
   ],
   "source": [
    "# [:, 0:2]: 在这个上下文中，:表示选择所有行，而0:2表示选择列索引为0到1（不包括2）的所有列。因此，rating_matrix[:, 0:2]选择了矩阵的所有行和第一列到第二列的所有元素。\n",
    "rating_matrix[:,0:2]"
   ]
  },
  {
   "cell_type": "code",
   "execution_count": 9,
   "metadata": {
    "execution": {
     "iopub.execute_input": "2024-12-07T05:42:37.758975Z",
     "iopub.status.busy": "2024-12-07T05:42:37.758380Z",
     "iopub.status.idle": "2024-12-07T05:42:37.766553Z",
     "shell.execute_reply": "2024-12-07T05:42:37.765280Z"
    },
    "jupyter": {
     "outputs_hidden": false
    }
   },
   "outputs": [
    {
     "data": {
      "text/plain": [
       "5"
      ]
     },
     "execution_count": 9,
     "metadata": {},
     "output_type": "execute_result"
    }
   ],
   "source": [
    "rating_matrix[2,2]"
   ]
  },
  {
   "cell_type": "markdown",
   "metadata": {},
   "source": [
    "# 基于欧氏距离计算两个向量之间的距离"
   ]
  },
  {
   "cell_type": "code",
   "execution_count": 10,
   "metadata": {
    "execution": {
     "iopub.execute_input": "2024-12-07T05:42:37.772271Z",
     "iopub.status.busy": "2024-12-07T05:42:37.771833Z",
     "iopub.status.idle": "2024-12-07T05:42:37.778450Z",
     "shell.execute_reply": "2024-12-07T05:42:37.777235Z"
    }
   },
   "outputs": [],
   "source": [
    "# rating_matrix[0, :]: 这是矩阵的第一行。\n",
    "# rating_matrix[1, :]: 这是矩阵的第二行。\n",
    "# rating_matrix[0, :] - rating_matrix[1, :]: 这是两行元素对应相减，得到一个新的行向量。\n",
    "# np.square(...): 这是对新行向量中的每个元素进行平方操作。\n",
    "# np.sum(...): 这是对平方后的元素进行求和操作。\n",
    "# np.sqrt(...): 最后，对求和后的结果取平方根，得到欧氏距离。\n",
    "# 简而言之，这行代码计算了矩阵的第一行与第二行之间的欧氏距离，并将结果存储在变量dist中。\n",
    "\n",
    "dist = np.sqrt(np.sum(np.square(rating_matrix[0,:]-rating_matrix[1,:])))"
   ]
  },
  {
   "cell_type": "code",
   "execution_count": 11,
   "metadata": {
    "execution": {
     "iopub.execute_input": "2024-12-07T05:42:37.783731Z",
     "iopub.status.busy": "2024-12-07T05:42:37.783243Z",
     "iopub.status.idle": "2024-12-07T05:42:37.791365Z",
     "shell.execute_reply": "2024-12-07T05:42:37.789805Z"
    },
    "jupyter": {
     "outputs_hidden": false
    }
   },
   "outputs": [
    {
     "data": {
      "text/plain": [
       "5.196152422706632"
      ]
     },
     "execution_count": 11,
     "metadata": {},
     "output_type": "execute_result"
    }
   ],
   "source": [
    "dist"
   ]
  },
  {
   "cell_type": "code",
   "execution_count": 12,
   "metadata": {
    "execution": {
     "iopub.execute_input": "2024-12-07T05:42:37.798265Z",
     "iopub.status.busy": "2024-12-07T05:42:37.797664Z",
     "iopub.status.idle": "2024-12-07T05:42:37.808653Z",
     "shell.execute_reply": "2024-12-07T05:42:37.806824Z"
    },
    "jupyter": {
     "outputs_hidden": false
    }
   },
   "outputs": [
    {
     "data": {
      "text/plain": [
       "array([-1,  3, -4,  0,  1,  0])"
      ]
     },
     "execution_count": 12,
     "metadata": {},
     "output_type": "execute_result"
    }
   ],
   "source": [
    "rating_matrix[0,:]- rating_matrix[1,:]"
   ]
  },
  {
   "cell_type": "code",
   "execution_count": 13,
   "metadata": {
    "execution": {
     "iopub.execute_input": "2024-12-07T05:42:37.815809Z",
     "iopub.status.busy": "2024-12-07T05:42:37.815119Z",
     "iopub.status.idle": "2024-12-07T05:42:37.827146Z",
     "shell.execute_reply": "2024-12-07T05:42:37.825373Z"
    },
    "jupyter": {
     "outputs_hidden": false
    }
   },
   "outputs": [
    {
     "data": {
      "text/plain": [
       "array([ 1,  9, 16,  0,  1,  0])"
      ]
     },
     "execution_count": 13,
     "metadata": {},
     "output_type": "execute_result"
    }
   ],
   "source": [
    "np.square(rating_matrix[0,:]-rating_matrix[1,:])"
   ]
  },
  {
   "cell_type": "code",
   "execution_count": 14,
   "metadata": {
    "execution": {
     "iopub.execute_input": "2024-12-07T05:42:37.834424Z",
     "iopub.status.busy": "2024-12-07T05:42:37.833729Z",
     "iopub.status.idle": "2024-12-07T05:42:37.844868Z",
     "shell.execute_reply": "2024-12-07T05:42:37.843023Z"
    },
    "jupyter": {
     "outputs_hidden": false
    }
   },
   "outputs": [
    {
     "data": {
      "text/plain": [
       "27"
      ]
     },
     "execution_count": 14,
     "metadata": {},
     "output_type": "execute_result"
    }
   ],
   "source": [
    "np.sum(np.square(rating_matrix[0,:]-rating_matrix[1,:]))"
   ]
  },
  {
   "cell_type": "code",
   "execution_count": 15,
   "metadata": {
    "execution": {
     "iopub.execute_input": "2024-12-07T05:42:37.852737Z",
     "iopub.status.busy": "2024-12-07T05:42:37.852057Z",
     "iopub.status.idle": "2024-12-07T05:42:37.864063Z",
     "shell.execute_reply": "2024-12-07T05:42:37.862097Z"
    },
    "jupyter": {
     "outputs_hidden": false
    }
   },
   "outputs": [
    {
     "data": {
      "text/plain": [
       "5.196152422706632"
      ]
     },
     "execution_count": 15,
     "metadata": {},
     "output_type": "execute_result"
    }
   ],
   "source": [
    "np.sqrt(np.sum(np.square(rating_matrix[0,:]-rating_matrix[1,:])))"
   ]
  },
  {
   "cell_type": "code",
   "execution_count": 16,
   "metadata": {
    "execution": {
     "iopub.execute_input": "2024-12-07T05:42:37.872554Z",
     "iopub.status.busy": "2024-12-07T05:42:37.870590Z",
     "iopub.status.idle": "2024-12-07T05:42:37.882508Z",
     "shell.execute_reply": "2024-12-07T05:42:37.880524Z"
    },
    "jupyter": {
     "outputs_hidden": false
    }
   },
   "outputs": [],
   "source": [
    "dist = np.zeros_like(rating_matrix)\n",
    "\n",
    "for i in range(rating_matrix.shape[0]):\n",
    "    for j in range(rating_matrix.shape[0]):\n",
    "        dist[i,j] = np.sqrt(np.sum(np.square(rating_matrix[i,:]-rating_matrix[j,:])))"
   ]
  },
  {
   "cell_type": "code",
   "execution_count": 17,
   "metadata": {
    "execution": {
     "iopub.execute_input": "2024-12-07T05:42:37.890898Z",
     "iopub.status.busy": "2024-12-07T05:42:37.890130Z",
     "iopub.status.idle": "2024-12-07T05:42:37.902453Z",
     "shell.execute_reply": "2024-12-07T05:42:37.900413Z"
    },
    "jupyter": {
     "outputs_hidden": false
    }
   },
   "outputs": [
    {
     "data": {
      "text/plain": [
       "array([[ 0,  5,  6,  8,  7,  9],\n",
       "       [ 5,  0,  3,  9,  9,  9],\n",
       "       [ 6,  3,  0, 10,  9,  8],\n",
       "       [ 8,  9, 10,  0,  1,  5],\n",
       "       [ 7,  9,  9,  1,  0,  6],\n",
       "       [ 9,  9,  8,  5,  6,  0]])"
      ]
     },
     "execution_count": 17,
     "metadata": {},
     "output_type": "execute_result"
    }
   ],
   "source": [
    "dist"
   ]
  },
  {
   "cell_type": "code",
   "execution_count": 18,
   "metadata": {
    "execution": {
     "iopub.execute_input": "2024-12-07T05:42:37.910676Z",
     "iopub.status.busy": "2024-12-07T05:42:37.909798Z",
     "iopub.status.idle": "2024-12-07T05:42:38.803229Z",
     "shell.execute_reply": "2024-12-07T05:42:38.801770Z"
    }
   },
   "outputs": [],
   "source": [
    "from sklearn.metrics.pairwise import euclidean_distances"
   ]
  },
  {
   "cell_type": "code",
   "execution_count": 19,
   "metadata": {
    "execution": {
     "iopub.execute_input": "2024-12-07T05:42:38.809354Z",
     "iopub.status.busy": "2024-12-07T05:42:38.808678Z",
     "iopub.status.idle": "2024-12-07T05:42:38.827601Z",
     "shell.execute_reply": "2024-12-07T05:42:38.826181Z"
    }
   },
   "outputs": [],
   "source": [
    "dist = euclidean_distances(rating_matrix)"
   ]
  },
  {
   "cell_type": "code",
   "execution_count": 20,
   "metadata": {
    "execution": {
     "iopub.execute_input": "2024-12-07T05:42:38.833751Z",
     "iopub.status.busy": "2024-12-07T05:42:38.833136Z",
     "iopub.status.idle": "2024-12-07T05:42:38.842052Z",
     "shell.execute_reply": "2024-12-07T05:42:38.840765Z"
    },
    "jupyter": {
     "outputs_hidden": false
    }
   },
   "outputs": [
    {
     "data": {
      "text/plain": [
       "array([[ 0.        ,  5.19615242,  6.63324958,  8.1240384 ,  7.61577311,\n",
       "         9.74679434],\n",
       "       [ 5.19615242,  0.        ,  3.31662479,  9.53939201,  9.43398113,\n",
       "         9.2736185 ],\n",
       "       [ 6.63324958,  3.31662479,  0.        , 10.        ,  9.89949494,\n",
       "         8.18535277],\n",
       "       [ 8.1240384 ,  9.53939201, 10.        ,  0.        ,  1.41421356,\n",
       "         5.38516481],\n",
       "       [ 7.61577311,  9.43398113,  9.89949494,  1.41421356,  0.        ,\n",
       "         6.08276253],\n",
       "       [ 9.74679434,  9.2736185 ,  8.18535277,  5.38516481,  6.08276253,\n",
       "         0.        ]])"
      ]
     },
     "execution_count": 20,
     "metadata": {},
     "output_type": "execute_result"
    }
   ],
   "source": [
    "dist"
   ]
  },
  {
   "cell_type": "markdown",
   "metadata": {},
   "source": [
    "# 使用点积（余弦相似度）计算向量之间的相似度"
   ]
  },
  {
   "cell_type": "code",
   "execution_count": 21,
   "metadata": {
    "execution": {
     "iopub.execute_input": "2024-12-07T05:42:38.847483Z",
     "iopub.status.busy": "2024-12-07T05:42:38.846995Z",
     "iopub.status.idle": "2024-12-07T05:42:38.852661Z",
     "shell.execute_reply": "2024-12-07T05:42:38.851577Z"
    },
    "jupyter": {
     "outputs_hidden": true
    }
   },
   "outputs": [],
   "source": [
    "def mod(vec):\n",
    "    return np.sum(vec ** 2) ** 0.5"
   ]
  },
  {
   "cell_type": "code",
   "execution_count": 22,
   "metadata": {
    "execution": {
     "iopub.execute_input": "2024-12-07T05:42:38.857765Z",
     "iopub.status.busy": "2024-12-07T05:42:38.857328Z",
     "iopub.status.idle": "2024-12-07T05:42:38.865862Z",
     "shell.execute_reply": "2024-12-07T05:42:38.864453Z"
    },
    "jupyter": {
     "outputs_hidden": false
    }
   },
   "outputs": [
    {
     "data": {
      "text/plain": [
       "array([4, 3, 0, 0, 5, 0])"
      ]
     },
     "execution_count": 22,
     "metadata": {},
     "output_type": "execute_result"
    }
   ],
   "source": [
    "rating_matrix[0]"
   ]
  },
  {
   "cell_type": "code",
   "execution_count": 23,
   "metadata": {
    "execution": {
     "iopub.execute_input": "2024-12-07T05:42:38.871254Z",
     "iopub.status.busy": "2024-12-07T05:42:38.870761Z",
     "iopub.status.idle": "2024-12-07T05:42:38.878983Z",
     "shell.execute_reply": "2024-12-07T05:42:38.877735Z"
    },
    "jupyter": {
     "outputs_hidden": false
    }
   },
   "outputs": [
    {
     "data": {
      "text/plain": [
       "array([ 64,  27,   0,   0, 125,   0])"
      ]
     },
     "execution_count": 23,
     "metadata": {},
     "output_type": "execute_result"
    }
   ],
   "source": [
    "rating_matrix[0] ** 3"
   ]
  },
  {
   "cell_type": "code",
   "execution_count": 24,
   "metadata": {
    "execution": {
     "iopub.execute_input": "2024-12-07T05:42:38.884314Z",
     "iopub.status.busy": "2024-12-07T05:42:38.883880Z",
     "iopub.status.idle": "2024-12-07T05:42:38.889853Z",
     "shell.execute_reply": "2024-12-07T05:42:38.888614Z"
    },
    "jupyter": {
     "outputs_hidden": true
    }
   },
   "outputs": [],
   "source": [
    "def sim(vec1,vec2):\n",
    "    return np.dot(vec1,vec2) / mod(vec1) / mod(vec2)"
   ]
  },
  {
   "cell_type": "code",
   "execution_count": 25,
   "metadata": {
    "execution": {
     "iopub.execute_input": "2024-12-07T05:42:38.895378Z",
     "iopub.status.busy": "2024-12-07T05:42:38.894894Z",
     "iopub.status.idle": "2024-12-07T05:42:38.902607Z",
     "shell.execute_reply": "2024-12-07T05:42:38.901308Z"
    },
    "jupyter": {
     "outputs_hidden": false
    }
   },
   "outputs": [
    {
     "data": {
      "text/plain": [
       "0.7492686492653551"
      ]
     },
     "execution_count": 25,
     "metadata": {},
     "output_type": "execute_result"
    }
   ],
   "source": [
    "sim(rating_matrix[0],rating_matrix[1])"
   ]
  },
  {
   "cell_type": "code",
   "execution_count": 26,
   "metadata": {
    "execution": {
     "iopub.execute_input": "2024-12-07T05:42:38.908066Z",
     "iopub.status.busy": "2024-12-07T05:42:38.907574Z",
     "iopub.status.idle": "2024-12-07T05:42:38.917222Z",
     "shell.execute_reply": "2024-12-07T05:42:38.915907Z"
    },
    "jupyter": {
     "outputs_hidden": false
    }
   },
   "outputs": [
    {
     "data": {
      "text/plain": [
       "array([[1.        , 0.74926865, 0.62667956, 0.21828206, 0.3       ,\n",
       "        0.        ],\n",
       "       [0.74926865, 1.        , 0.91301651, 0.        , 0.        ,\n",
       "        0.1579597 ],\n",
       "       [0.62667956, 0.91301651, 1.        , 0.        , 0.        ,\n",
       "        0.40368671],\n",
       "       [0.21828206, 0.        , 0.        , 1.        , 0.9701425 ,\n",
       "        0.63913749],\n",
       "       [0.3       , 0.        , 0.        , 0.9701425 , 1.        ,\n",
       "        0.52704628],\n",
       "       [0.        , 0.1579597 , 0.40368671, 0.63913749, 0.52704628,\n",
       "        1.        ]])"
      ]
     },
     "execution_count": 26,
     "metadata": {},
     "output_type": "execute_result"
    }
   ],
   "source": [
    "from sklearn.metrics.pairwise import cosine_similarity\n",
    "sim = cosine_similarity(rating_matrix)\n",
    "sim"
   ]
  },
  {
   "cell_type": "code",
   "execution_count": 27,
   "metadata": {
    "execution": {
     "iopub.execute_input": "2024-12-07T05:42:38.922272Z",
     "iopub.status.busy": "2024-12-07T05:42:38.921833Z",
     "iopub.status.idle": "2024-12-07T05:42:38.930217Z",
     "shell.execute_reply": "2024-12-07T05:42:38.928718Z"
    }
   },
   "outputs": [
    {
     "data": {
      "text/plain": [
       "array([[4, 3, 0, 0, 5, 0],\n",
       "       [5, 0, 4, 0, 4, 0],\n",
       "       [4, 0, 5, 3, 4, 0],\n",
       "       [0, 3, 0, 0, 0, 5],\n",
       "       [0, 4, 0, 0, 0, 4],\n",
       "       [0, 0, 2, 4, 0, 5]])"
      ]
     },
     "execution_count": 27,
     "metadata": {},
     "output_type": "execute_result"
    }
   ],
   "source": [
    "rating_matrix"
   ]
  },
  {
   "cell_type": "markdown",
   "metadata": {
    "collapsed": true,
    "jupyter": {
     "outputs_hidden": true
    }
   },
   "source": [
    "# 讨论\n",
    "数据科学领域有一个很基础、很重要的模型﹣﹣向量空间模型（ Vector Space Model , VSM )。该模型把要研究的对象想象成空间中的一个向量或者一个点，然后通过分析点和点之间的距离或相似性来挖掘出数据内隐藏的信息。\n",
    "\n",
    "以图2-4所示的用户行为评分矩阵为例，它其实是个二维表格（矩阵从形态上看就是二维表格，相当于数据库中的一张表）。其中的每一行叫作一个样本，每一列叫作样本的一个特征，所以在这份数据集中每个人就是一个样本，每个人有6个特征，特征可以理解为：某个人对于某个物品的喜好度。\n",
    "array([[4, 3, 0, 0, 5, 0],\n",
    "       [5, 0, 4, 0, 4, 0],\n",
    "       [4, 0, 5, 3, 4, 0],\n",
    "       [0, 3, 0, 0, 0, 5],\n",
    "       [0, 4, 0, 0, 0, 4],\n",
    "       [0, 0, 2, 4, 0, 5]])\n",
    "于是，我们可以想象有一个六维的空间，每个特征（每本书）就是空间的一个维度，然后每个人就是这个六维空间中的一个点，每个点有6个维度（6个特征）。点和点之间的距离是它们”相似度“的一种表现。距离为0就是100%相同（即自身的复制）。\n",
    "\n",
    "数据科学中的几大类问题都可以用向量空间模型解释。"
   ]
  },
  {
   "cell_type": "markdown",
   "metadata": {},
   "source": [
    "- 所谓二分类问题就是在空间中找到一个”超平面“把两类数据点完美分开，一旦找到这样的超平面，就可以用进行预测﹣﹣看数据点落在平面的哪一侧来判断它属于哪一个类别。\n",
    "- 而回归问题则是在空间中找到一个”超平面“，使其”尽可能“地穿过所有的点。这个平面既可以用一个方程表达，也可以用于未来的预测。\n",
    "- 聚类问题是根据样本之间的相似程度，把样本分成几组，让每组内部的样本尽可能相似，而组和组之间的样本则尽可能不相似。一旦完成这样的分组，就可以进行分析，找出组和组之间的区别以指导企业运营。\n",
    "聚类典型的应用场景有用户价值分析和精细化运营。比如，早期的中国移动的电话卡分成神州行、动感地带、全球通3个品牌。这3个品牌针对不同的用户群体，提供不同的增值服务。这种用户群体的区分，通常就是用聚类完成的。"
   ]
  },
  {
   "cell_type": "code",
   "execution_count": null,
   "metadata": {},
   "outputs": [],
   "source": []
  }
 ],
 "metadata": {
  "anaconda-cloud": {},
  "kernelspec": {
   "display_name": "Python 3 (ipykernel)",
   "language": "python",
   "name": "python3"
  },
  "language_info": {
   "codemirror_mode": {
    "name": "ipython",
    "version": 3
   },
   "file_extension": ".py",
   "mimetype": "text/x-python",
   "name": "python",
   "nbconvert_exporter": "python",
   "pygments_lexer": "ipython3",
   "version": "3.12.2"
  }
 },
 "nbformat": 4,
 "nbformat_minor": 4
}
