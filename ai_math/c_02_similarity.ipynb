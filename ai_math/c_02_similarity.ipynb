{
 "cells": [
  {
   "cell_type": "code",
   "execution_count": null,
   "metadata": {
    "jupyter": {
     "outputs_hidden": false
    }
   },
   "outputs": [],
   "source": [
    "import numpy as np\n",
    "import pandas as pd"
   ]
  },
  {
   "cell_type": "code",
   "execution_count": null,
   "metadata": {
    "jupyter": {
     "outputs_hidden": false
    }
   },
   "outputs": [],
   "source": [
    "users = ['u1','u2','u3','u4','u5','u6']\n",
    "print(users)"
   ]
  },
  {
   "cell_type": "code",
   "execution_count": null,
   "metadata": {
    "jupyter": {
     "outputs_hidden": false
    }
   },
   "outputs": [],
   "source": [
    "rating_matrix = np.array(\n",
    "    [[4,3,0,0,5,0],\n",
    "     [5,0,4,0,4,0],\n",
    "     [4,0,5,3,4,0],\n",
    "     [0,3,0,0,0,5],\n",
    "     [0,4,0,0,0,4],\n",
    "     [0,0,2,4,0,5]\n",
    "    ]\n",
    ")"
   ]
  },
  {
   "cell_type": "code",
   "execution_count": null,
   "metadata": {
    "jupyter": {
     "outputs_hidden": false
    }
   },
   "outputs": [],
   "source": [
    "rating_matrix.shape"
   ]
  },
  {
   "cell_type": "code",
   "execution_count": null,
   "metadata": {
    "jupyter": {
     "outputs_hidden": false
    }
   },
   "outputs": [],
   "source": [
    "rating_matrix.dtype"
   ]
  },
  {
   "cell_type": "code",
   "execution_count": null,
   "metadata": {
    "jupyter": {
     "outputs_hidden": false
    }
   },
   "outputs": [],
   "source": [
    "# [0, :]: 在这个上下文中，0是表示行索引，:表示选择该行的所有列。因此，rating_matrix[0, :]选择了矩阵的第一行的所有元素。\n",
    "rating_matrix[0,:]"
   ]
  },
  {
   "cell_type": "code",
   "execution_count": null,
   "metadata": {
    "jupyter": {
     "outputs_hidden": false
    }
   },
   "outputs": [],
   "source": [
    "# rating_matrix[:，0]选择了矩阵的第一列的所有元素。\n",
    "rating_matrix[:,0]"
   ]
  },
  {
   "cell_type": "code",
   "execution_count": null,
   "metadata": {
    "jupyter": {
     "outputs_hidden": false
    }
   },
   "outputs": [],
   "source": [
    "# [:, 0:2]: 在这个上下文中，:表示选择所有行，而0:2表示选择列索引为0到1（不包括2）的所有列。因此，rating_matrix[:, 0:2]选择了矩阵的所有行和第一列到第二列的所有元素。\n",
    "rating_matrix[:,0:2]"
   ]
  },
  {
   "cell_type": "code",
   "execution_count": null,
   "metadata": {
    "jupyter": {
     "outputs_hidden": false
    }
   },
   "outputs": [],
   "source": [
    "rating_matrix[2,2]"
   ]
  },
  {
   "cell_type": "markdown",
   "metadata": {},
   "source": [
    "# 基于欧氏距离计算两个向量之间的距离"
   ]
  },
  {
   "cell_type": "code",
   "execution_count": null,
   "metadata": {},
   "outputs": [],
   "source": [
    "# rating_matrix[0, :]: 这是矩阵的第一行。\n",
    "# rating_matrix[1, :]: 这是矩阵的第二行。\n",
    "# rating_matrix[0, :] - rating_matrix[1, :]: 这是两行元素对应相减，得到一个新的行向量。\n",
    "# np.square(...): 这是对新行向量中的每个元素进行平方操作。\n",
    "# np.sum(...): 这是对平方后的元素进行求和操作。\n",
    "# np.sqrt(...): 最后，对求和后的结果取平方根，得到欧氏距离。\n",
    "# 简而言之，这行代码计算了矩阵的第一行与第二行之间的欧氏距离，并将结果存储在变量dist中。\n",
    "\n",
    "dist = np.sqrt(np.sum(np.square(rating_matrix[0,:]-rating_matrix[1,:])))"
   ]
  },
  {
   "cell_type": "code",
   "execution_count": null,
   "metadata": {
    "jupyter": {
     "outputs_hidden": false
    }
   },
   "outputs": [],
   "source": [
    "dist"
   ]
  },
  {
   "cell_type": "code",
   "execution_count": null,
   "metadata": {
    "jupyter": {
     "outputs_hidden": false
    }
   },
   "outputs": [],
   "source": [
    "rating_matrix[0,:]- rating_matrix[1,:]"
   ]
  },
  {
   "cell_type": "code",
   "execution_count": null,
   "metadata": {
    "jupyter": {
     "outputs_hidden": false
    }
   },
   "outputs": [],
   "source": [
    "np.square(rating_matrix[0,:]-rating_matrix[1,:])"
   ]
  },
  {
   "cell_type": "code",
   "execution_count": null,
   "metadata": {
    "jupyter": {
     "outputs_hidden": false
    }
   },
   "outputs": [],
   "source": [
    "np.sum(np.square(rating_matrix[0,:]-rating_matrix[1,:]))"
   ]
  },
  {
   "cell_type": "code",
   "execution_count": null,
   "metadata": {
    "jupyter": {
     "outputs_hidden": false
    }
   },
   "outputs": [],
   "source": [
    "np.sqrt(np.sum(np.square(rating_matrix[0,:]-rating_matrix[1,:])))"
   ]
  },
  {
   "cell_type": "code",
   "execution_count": null,
   "metadata": {
    "jupyter": {
     "outputs_hidden": false
    }
   },
   "outputs": [],
   "source": [
    "dist = np.zeros_like(rating_matrix)\n",
    "\n",
    "for i in range(rating_matrix.shape[0]):\n",
    "    for j in range(rating_matrix.shape[0]):\n",
    "        dist[i,j] = np.sqrt(np.sum(np.square(rating_matrix[i,:]-rating_matrix[j,:])))"
   ]
  },
  {
   "cell_type": "code",
   "execution_count": null,
   "metadata": {
    "jupyter": {
     "outputs_hidden": false
    }
   },
   "outputs": [],
   "source": [
    "dist"
   ]
  },
  {
   "cell_type": "code",
   "execution_count": null,
   "metadata": {},
   "outputs": [],
   "source": [
    "from sklearn.metrics.pairwise import euclidean_distances"
   ]
  },
  {
   "cell_type": "code",
   "execution_count": null,
   "metadata": {},
   "outputs": [],
   "source": [
    "dist = euclidean_distances(rating_matrix)"
   ]
  },
  {
   "cell_type": "code",
   "execution_count": null,
   "metadata": {
    "jupyter": {
     "outputs_hidden": false
    }
   },
   "outputs": [],
   "source": [
    "dist"
   ]
  },
  {
   "cell_type": "markdown",
   "metadata": {},
   "source": [
    "# 使用点积（余弦相似度）计算向量之间的相似度"
   ]
  },
  {
   "cell_type": "code",
   "execution_count": null,
   "metadata": {
    "jupyter": {
     "outputs_hidden": true
    }
   },
   "outputs": [],
   "source": [
    "def mod(vec):\n",
    "    return np.sum(vec ** 2) ** 0.5"
   ]
  },
  {
   "cell_type": "code",
   "execution_count": null,
   "metadata": {
    "jupyter": {
     "outputs_hidden": false
    }
   },
   "outputs": [],
   "source": [
    "rating_matrix[0]"
   ]
  },
  {
   "cell_type": "code",
   "execution_count": null,
   "metadata": {
    "jupyter": {
     "outputs_hidden": false
    }
   },
   "outputs": [],
   "source": [
    "rating_matrix[0] ** 3"
   ]
  },
  {
   "cell_type": "code",
   "execution_count": null,
   "metadata": {
    "jupyter": {
     "outputs_hidden": true
    }
   },
   "outputs": [],
   "source": [
    "def sim(vec1,vec2):\n",
    "    return np.dot(vec1,vec2) / mod(vec1) / mod(vec2)"
   ]
  },
  {
   "cell_type": "code",
   "execution_count": null,
   "metadata": {
    "jupyter": {
     "outputs_hidden": false
    }
   },
   "outputs": [],
   "source": [
    "sim(rating_matrix[0],rating_matrix[1])"
   ]
  },
  {
   "cell_type": "code",
   "execution_count": null,
   "metadata": {
    "jupyter": {
     "outputs_hidden": false
    }
   },
   "outputs": [],
   "source": [
    "from sklearn.metrics.pairwise import cosine_similarity\n",
    "sim = cosine_similarity(rating_matrix)\n",
    "sim"
   ]
  },
  {
   "cell_type": "code",
   "execution_count": null,
   "metadata": {},
   "outputs": [],
   "source": [
    "rating_matrix"
   ]
  },
  {
   "cell_type": "markdown",
   "metadata": {
    "collapsed": true,
    "jupyter": {
     "outputs_hidden": true
    }
   },
   "source": [
    "# 讨论\n",
    "数据科学领域有一个很基础、很重要的模型﹣﹣向量空间模型（ Vector Space Model , VSM )。该模型把要研究的对象想象成空间中的一个向量或者一个点，然后通过分析点和点之间的距离或相似性来挖掘出数据内隐藏的信息。\n",
    "\n",
    "以图2-4所示的用户行为评分矩阵为例，它其实是个二维表格（矩阵从形态上看就是二维表格，相当于数据库中的一张表）。其中的每一行叫作一个样本，每一列叫作样本的一个特征，所以在这份数据集中每个人就是一个样本，每个人有6个特征，特征可以理解为：某个人对于某个物品的喜好度。\n",
    "array([[4, 3, 0, 0, 5, 0],\n",
    "       [5, 0, 4, 0, 4, 0],\n",
    "       [4, 0, 5, 3, 4, 0],\n",
    "       [0, 3, 0, 0, 0, 5],\n",
    "       [0, 4, 0, 0, 0, 4],\n",
    "       [0, 0, 2, 4, 0, 5]])\n",
    "于是，我们可以想象有一个六维的空间，每个特征（每本书）就是空间的一个维度，然后每个人就是这个六维空间中的一个点，每个点有6个维度（6个特征）。点和点之间的距离是它们”相似度“的一种表现。距离为0就是100%相同（即自身的复制）。\n",
    "\n",
    "数据科学中的几大类问题都可以用向量空间模型解释。"
   ]
  },
  {
   "cell_type": "markdown",
   "metadata": {},
   "source": [
    "- 所谓二分类问题就是在空间中找到一个”超平面“把两类数据点完美分开，一旦找到这样的超平面，就可以用进行预测﹣﹣看数据点落在平面的哪一侧来判断它属于哪一个类别。\n",
    "- 而回归问题则是在空间中找到一个”超平面“，使其”尽可能“地穿过所有的点。这个平面既可以用一个方程表达，也可以用于未来的预测。\n",
    "- 聚类问题是根据样本之间的相似程度，把样本分成几组，让每组内部的样本尽可能相似，而组和组之间的样本则尽可能不相似。一旦完成这样的分组，就可以进行分析，找出组和组之间的区别以指导企业运营。\n",
    "聚类典型的应用场景有用户价值分析和精细化运营。比如，早期的中国移动的电话卡分成神州行、动感地带、全球通3个品牌。这3个品牌针对不同的用户群体，提供不同的增值服务。这种用户群体的区分，通常就是用聚类完成的。"
   ]
  },
  {
   "cell_type": "code",
   "execution_count": null,
   "metadata": {},
   "outputs": [],
   "source": []
  }
 ],
 "metadata": {
  "anaconda-cloud": {},
  "kernelspec": {
   "display_name": "Python 3 (ipykernel)",
   "language": "python",
   "name": "python3"
  },
  "language_info": {
   "codemirror_mode": {
    "name": "ipython",
    "version": 3
   },
   "file_extension": ".py",
   "mimetype": "text/x-python",
   "name": "python",
   "nbconvert_exporter": "python",
   "pygments_lexer": "ipython3",
   "version": "3.10.0"
  }
 },
 "nbformat": 4,
 "nbformat_minor": 4
}
