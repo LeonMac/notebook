{
 "cells": [
  {
   "cell_type": "code",
   "execution_count": null,
   "metadata": {},
   "outputs": [],
   "source": [
    "import numpy as np"
   ]
  },
  {
   "cell_type": "code",
   "execution_count": null,
   "metadata": {},
   "outputs": [],
   "source": [
    "from sklearn.datasets import make_regression\n",
    "X,y =make_regression(n_samples=100, n_features=3)\n",
    "print(X.shape ,y.shape)\n",
    "y=y.reshape((-1,1))"
   ]
  },
  {
   "cell_type": "code",
   "execution_count": null,
   "metadata": {},
   "outputs": [],
   "source": [
    "import matplotlib.pyplot as plt\n",
    "%matplotlib inline\n",
    "plt.figure(figsize=(9,4))\n",
    "plt.plot(y,alpha=0.5,linewidth=3)"
   ]
  },
  {
   "cell_type": "code",
   "execution_count": null,
   "metadata": {},
   "outputs": [],
   "source": [
    "from sklearn.linear_model import LinearRegression\n",
    "model = LinearRegression()\n",
    "model.fit(X,y)\n",
    "y_pred_sk = model.predict(X)\n",
    "plt.figure(figsize=(9,4))\n",
    "plt.plot(y ,color='R')\n",
    "plt.plot(y_pred_sk,color='G')\n",
    "plt.legend()"
   ]
  },
  {
   "cell_type": "code",
   "execution_count": null,
   "metadata": {},
   "outputs": [],
   "source": [
    "def gd(X, y, theta, l_rate, iterations): \n",
    "    cost_history = [0] * iterations\n",
    "    m = X.shape[0]\n",
    "    for epoch in range(iterations):\n",
    "        y_hat = X.dot(theta)\n",
    "        loss = y_hat - y\n",
    "        gradient = X.T.dot(loss)/m\n",
    "        theta = theta - l_rate * gradient\n",
    "        cost = np.dot(loss.T,loss)\n",
    "        cost_history[epoch] = cost[0,0]\n",
    "    return theta, cost_history"
   ]
  },
  {
   "cell_type": "code",
   "execution_count": null,
   "metadata": {},
   "outputs": [],
   "source": [
    "def sgd(X,y,theta, l_rate,iterations):\n",
    "    cost_history =[0] * iterations\n",
    "    for epoch in range(iterations):\n",
    "        for i,row in enumerate(X):\n",
    "            yhat = np.dot(row,theta)\n",
    "            loss = yhat[0] - y[i]          \n",
    "            theta = theta - l_rate  * loss * row.reshape((-1,1))\n",
    "            cost_history[epoch] += loss ** 2\n",
    "    return theta,cost_history"
   ]
  },
  {
   "cell_type": "code",
   "execution_count": null,
   "metadata": {},
   "outputs": [],
   "source": [
    "def predict(X,theta):\n",
    "    return np.dot(X,theta)"
   ]
  },
  {
   "cell_type": "code",
   "execution_count": null,
   "metadata": {},
   "outputs": [],
   "source": [
    "theta = np.random.rand(X.shape[1],1)\n",
    " \n",
    "iterations = 100\n",
    "l_rate =0.1\n",
    "\n",
    "theta,cost_history = gd(X,y,theta,l_rate,iterations)\n",
    "theta.T"
   ]
  },
  {
   "cell_type": "code",
   "execution_count": null,
   "metadata": {},
   "outputs": [],
   "source": [
    "y_predict = predict(X,theta) "
   ]
  },
  {
   "cell_type": "code",
   "execution_count": null,
   "metadata": {},
   "outputs": [],
   "source": [
    "import seaborn as sns\n",
    "y_predict = predict(X,theta)\n",
    "plt.figure(figsize=(9,4))\n",
    "plt.plot(y,color='R')\n",
    "plt.plot(y_predict,color='G')"
   ]
  },
  {
   "cell_type": "code",
   "execution_count": null,
   "metadata": {},
   "outputs": [],
   "source": [
    "model.coef_"
   ]
  },
  {
   "cell_type": "code",
   "execution_count": null,
   "metadata": {},
   "outputs": [],
   "source": []
  }
 ],
 "metadata": {
  "kernelspec": {
   "display_name": "Python [default]",
   "language": "python",
   "name": "python3"
  },
  "language_info": {
   "codemirror_mode": {
    "name": "ipython",
    "version": 3
   },
   "file_extension": ".py",
   "mimetype": "text/x-python",
   "name": "python",
   "nbconvert_exporter": "python",
   "pygments_lexer": "ipython3",
   "version": "3.5.2"
  }
 },
 "nbformat": 4,
 "nbformat_minor": 2
}
