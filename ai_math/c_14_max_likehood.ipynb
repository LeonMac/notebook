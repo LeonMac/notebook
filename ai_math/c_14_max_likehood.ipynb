{
 "cells": [
  {
   "cell_type": "code",
   "execution_count": null,
   "metadata": {},
   "outputs": [],
   "source": [
    "import numpy as np\n",
    "import matplotlib.pyplot as plt\n",
    "import seaborn as sns\n",
    "import math\n",
    "%matplotlib inline\n",
    "\n",
    "from scipy.stats import norm"
   ]
  },
  {
   "cell_type": "markdown",
   "metadata": {},
   "source": [
    "## 两种描述连续随机变量的概率分布的函数：\n",
    "概率密度函数PDF（Probability Density Function）：描述某个确定的取值点附近的**可能性**的函数\n",
    "累积分布函数CDF (Cumulative Distribution Functions): 是PDF的（从负无穷-oo到当前值的）积分\n",
    "\n",
    "概率密度函数是概率分布函数的导函数。\n",
    "通过对PDF求积分，就可以得到CDF，实际上就是求概率密度函数曲线，从负无穷-oo到当前值对应的取样点的线下面积。\n",
    "那么通过计算某个取样点的左右两个非常临近的点的CDF的差，就能“计算”在该取样点的实际概率。"
   ]
  },
  {
   "cell_type": "code",
   "execution_count": null,
   "metadata": {},
   "outputs": [],
   "source": [
    "X_step = 0.0002\n",
    "def norm_prob(x, mu, sigma):\n",
    "    p = norm(mu,sigma).cdf(x+X_step/2) - norm(mu,sigma).cdf(x-X_step/2)\n",
    "    return p\n",
    "\n",
    "def loglikelihood(data, mu, sigma):\n",
    "    l = 0.0\n",
    "    for x in data:\n",
    "        l -= np.log(norm_prob(x, mu, sigma))\n",
    "    return l"
   ]
  },
  {
   "cell_type": "markdown",
   "metadata": {},
   "source": [
    "生成随机数列"
   ]
  },
  {
   "cell_type": "code",
   "execution_count": null,
   "metadata": {},
   "outputs": [],
   "source": [
    "N=1000\n",
    "mu, sigma = 1.6, 0.2\n",
    "\n",
    "data = norm.rvs(loc=mu, scale=sigma, size = N)"
   ]
  },
  {
   "cell_type": "code",
   "execution_count": null,
   "metadata": {},
   "outputs": [],
   "source": [
    "# Create the bins and histogram\n",
    "count, bins, ignored = plt.hist(data, 20)\n",
    "\n",
    "# Plot the distribution curve\n",
    "plt.plot(bins, 1/(sigma * np.sqrt(2 * np.pi)) *\n",
    "    np.exp( - (bins - mu)**2 / (2 * sigma**2) ), linewidth=3, color='y')\n",
    "plt.show()\n",
    "\n"
   ]
  },
  {
   "cell_type": "code",
   "execution_count": null,
   "metadata": {},
   "outputs": [],
   "source": [
    "def hist_dist(pd):\n",
    "    f, ax_hist = plt.subplots(1, sharex=True)\n",
    "    _, FD_bins = np.histogram(pd, bins=\"fd\")\n",
    "    bin_nr = min(len(FD_bins)-1, 50)\n",
    "    sns.histplot(data=pd, ax=ax_hist, bins=bin_nr, stat=\"density\", alpha=0.4, kde=True, kde_kws={\"cut\": 3})"
   ]
  },
  {
   "cell_type": "code",
   "execution_count": null,
   "metadata": {},
   "outputs": [],
   "source": [
    "hist_dist(data)"
   ]
  },
  {
   "cell_type": "code",
   "execution_count": null,
   "metadata": {},
   "outputs": [],
   "source": [
    "min_v, max_v = min(data), max(data)\n",
    "step = (max_v - min_v)/N"
   ]
  },
  {
   "cell_type": "code",
   "execution_count": null,
   "metadata": {},
   "outputs": [],
   "source": []
  },
  {
   "cell_type": "code",
   "execution_count": null,
   "metadata": {},
   "outputs": [],
   "source": [
    "# pdf用于计算概率密度，这个值可能是大于1的。\n",
    "h=1.8 # 某个具体样本值\n",
    "norm.pdf(x=h, loc=mu, scale=sigma)"
   ]
  },
  {
   "cell_type": "code",
   "execution_count": null,
   "metadata": {},
   "outputs": [],
   "source": [
    "AUC = 0\n",
    "for n in range (N):\n",
    "    x = min_v + step*n\n",
    "    y = norm_prob(x, mu, sigma)\n",
    "    print(f\"x= {x}, y = {y}\")\n",
    "    AUC += y\n",
    "\n",
    "print(AUC)\n"
   ]
  },
  {
   "cell_type": "code",
   "execution_count": null,
   "metadata": {},
   "outputs": [],
   "source": [
    "norm_prob(h, mu, sigma)"
   ]
  },
  {
   "cell_type": "code",
   "execution_count": null,
   "metadata": {},
   "outputs": [],
   "source": [
    "loglikelihood(data, mu, sigma)"
   ]
  },
  {
   "cell_type": "code",
   "execution_count": null,
   "metadata": {},
   "outputs": [],
   "source": [
    "plt.hist(data)"
   ]
  },
  {
   "cell_type": "code",
   "execution_count": null,
   "metadata": {},
   "outputs": [],
   "source": [
    "mus = [1.4,1.5,1.6,1.7,1.8,1.9,2.0]\n",
    "sigma =0.1\n",
    "mus"
   ]
  },
  {
   "cell_type": "code",
   "execution_count": null,
   "metadata": {},
   "outputs": [],
   "source": [
    "l = [loglikelihood(data,mu2,sigma) for mu2 in mus]\n",
    "l"
   ]
  },
  {
   "cell_type": "code",
   "execution_count": null,
   "metadata": {},
   "outputs": [],
   "source": [
    "import pandas as pd\n",
    "df = pd.DataFrame()\n",
    "df['mu'] = mus\n",
    "df['-logl'] =l\n",
    "df                                     "
   ]
  },
  {
   "cell_type": "code",
   "execution_count": null,
   "metadata": {},
   "outputs": [],
   "source": [
    "plt.figure(figsize=(6,4))\n",
    "\n",
    "sns.pointplot(df['mu'],df['-logl'], alpha=0.8)"
   ]
  },
  {
   "cell_type": "code",
   "execution_count": null,
   "metadata": {},
   "outputs": [],
   "source": []
  }
 ],
 "metadata": {
  "kernelspec": {
   "display_name": "Python 3 (ipykernel)",
   "language": "python",
   "name": "python3"
  },
  "language_info": {
   "codemirror_mode": {
    "name": "ipython",
    "version": 3
   },
   "file_extension": ".py",
   "mimetype": "text/x-python",
   "name": "python",
   "nbconvert_exporter": "python",
   "pygments_lexer": "ipython3",
   "version": "3.10.0"
  }
 },
 "nbformat": 4,
 "nbformat_minor": 4
}
