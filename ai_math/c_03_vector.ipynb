{
 "cells": [
  {
   "cell_type": "code",
   "execution_count": 1,
   "metadata": {
    "execution": {
     "iopub.execute_input": "2024-12-07T05:42:34.701629Z",
     "iopub.status.busy": "2024-12-07T05:42:34.700703Z",
     "iopub.status.idle": "2024-12-07T05:42:34.890808Z",
     "shell.execute_reply": "2024-12-07T05:42:34.889358Z"
    }
   },
   "outputs": [],
   "source": [
    "import numpy as np"
   ]
  },
  {
   "cell_type": "code",
   "execution_count": 2,
   "metadata": {
    "execution": {
     "iopub.execute_input": "2024-12-07T05:42:34.896701Z",
     "iopub.status.busy": "2024-12-07T05:42:34.896139Z",
     "iopub.status.idle": "2024-12-07T05:42:34.902450Z",
     "shell.execute_reply": "2024-12-07T05:42:34.901419Z"
    }
   },
   "outputs": [],
   "source": [
    "a = np.array([1,2,3,4,5])\n",
    "b = np.array([2,3,3,1,2])"
   ]
  },
  {
   "cell_type": "code",
   "execution_count": 3,
   "metadata": {
    "execution": {
     "iopub.execute_input": "2024-12-07T05:42:34.908278Z",
     "iopub.status.busy": "2024-12-07T05:42:34.907305Z",
     "iopub.status.idle": "2024-12-07T05:42:34.920045Z",
     "shell.execute_reply": "2024-12-07T05:42:34.918709Z"
    },
    "jupyter": {
     "outputs_hidden": false
    }
   },
   "outputs": [
    {
     "data": {
      "text/plain": [
       "7.416198487095663"
      ]
     },
     "execution_count": 3,
     "metadata": {},
     "output_type": "execute_result"
    }
   ],
   "source": [
    "# 向量的二范数\n",
    "np.linalg.norm(a)"
   ]
  },
  {
   "cell_type": "code",
   "execution_count": 4,
   "metadata": {
    "execution": {
     "iopub.execute_input": "2024-12-07T05:42:34.925451Z",
     "iopub.status.busy": "2024-12-07T05:42:34.924960Z",
     "iopub.status.idle": "2024-12-07T05:42:34.933378Z",
     "shell.execute_reply": "2024-12-07T05:42:34.932083Z"
    },
    "jupyter": {
     "outputs_hidden": false
    }
   },
   "outputs": [
    {
     "data": {
      "text/plain": [
       "5.196152422706632"
      ]
     },
     "execution_count": 4,
     "metadata": {},
     "output_type": "execute_result"
    }
   ],
   "source": [
    "np.linalg.norm(b)"
   ]
  },
  {
   "cell_type": "code",
   "execution_count": 5,
   "metadata": {
    "execution": {
     "iopub.execute_input": "2024-12-07T05:42:34.938528Z",
     "iopub.status.busy": "2024-12-07T05:42:34.938104Z",
     "iopub.status.idle": "2024-12-07T05:42:34.945778Z",
     "shell.execute_reply": "2024-12-07T05:42:34.944728Z"
    },
    "jupyter": {
     "outputs_hidden": false
    }
   },
   "outputs": [
    {
     "data": {
      "text/plain": [
       "array([False, False,  True, False, False])"
      ]
     },
     "execution_count": 5,
     "metadata": {},
     "output_type": "execute_result"
    }
   ],
   "source": [
    "# 比较两个相量是否相同\n",
    "a == b"
   ]
  },
  {
   "cell_type": "code",
   "execution_count": 6,
   "metadata": {
    "execution": {
     "iopub.execute_input": "2024-12-07T05:42:34.951027Z",
     "iopub.status.busy": "2024-12-07T05:42:34.950595Z",
     "iopub.status.idle": "2024-12-07T05:42:34.957371Z",
     "shell.execute_reply": "2024-12-07T05:42:34.956316Z"
    },
    "jupyter": {
     "outputs_hidden": false
    }
   },
   "outputs": [
    {
     "name": "stdout",
     "output_type": "stream",
     "text": [
      "不同\n"
     ]
    }
   ],
   "source": [
    "if np.all(a == b):\n",
    "    print(\"两个向量相同\")\n",
    "else :\n",
    "    print(\"不同\")"
   ]
  },
  {
   "cell_type": "code",
   "execution_count": 7,
   "metadata": {
    "execution": {
     "iopub.execute_input": "2024-12-07T05:42:34.963115Z",
     "iopub.status.busy": "2024-12-07T05:42:34.962279Z",
     "iopub.status.idle": "2024-12-07T05:42:34.970173Z",
     "shell.execute_reply": "2024-12-07T05:42:34.968867Z"
    },
    "jupyter": {
     "outputs_hidden": false
    }
   },
   "outputs": [
    {
     "data": {
      "text/plain": [
       "True"
      ]
     },
     "execution_count": 7,
     "metadata": {},
     "output_type": "execute_result"
    }
   ],
   "source": [
    "np.any(a==b)"
   ]
  },
  {
   "cell_type": "code",
   "execution_count": 8,
   "metadata": {
    "execution": {
     "iopub.execute_input": "2024-12-07T05:42:34.975914Z",
     "iopub.status.busy": "2024-12-07T05:42:34.975206Z",
     "iopub.status.idle": "2024-12-07T05:42:34.982928Z",
     "shell.execute_reply": "2024-12-07T05:42:34.981930Z"
    },
    "jupyter": {
     "outputs_hidden": false
    }
   },
   "outputs": [
    {
     "data": {
      "text/plain": [
       "False"
      ]
     },
     "execution_count": 8,
     "metadata": {},
     "output_type": "execute_result"
    }
   ],
   "source": [
    "np.all(a==b)"
   ]
  },
  {
   "cell_type": "code",
   "execution_count": 9,
   "metadata": {
    "execution": {
     "iopub.execute_input": "2024-12-07T05:42:34.988652Z",
     "iopub.status.busy": "2024-12-07T05:42:34.988096Z",
     "iopub.status.idle": "2024-12-07T05:42:34.995361Z",
     "shell.execute_reply": "2024-12-07T05:42:34.994385Z"
    },
    "jupyter": {
     "outputs_hidden": false
    }
   },
   "outputs": [
    {
     "data": {
      "text/plain": [
       "array([3, 5, 6, 5, 7])"
      ]
     },
     "execution_count": 9,
     "metadata": {},
     "output_type": "execute_result"
    }
   ],
   "source": [
    "# 向量加减法\n",
    "a + b"
   ]
  },
  {
   "cell_type": "code",
   "execution_count": 10,
   "metadata": {
    "execution": {
     "iopub.execute_input": "2024-12-07T05:42:35.000527Z",
     "iopub.status.busy": "2024-12-07T05:42:35.000099Z",
     "iopub.status.idle": "2024-12-07T05:42:35.007545Z",
     "shell.execute_reply": "2024-12-07T05:42:35.006418Z"
    },
    "jupyter": {
     "outputs_hidden": false
    }
   },
   "outputs": [
    {
     "data": {
      "text/plain": [
       "array([-1, -1,  0,  3,  3])"
      ]
     },
     "execution_count": 10,
     "metadata": {},
     "output_type": "execute_result"
    }
   ],
   "source": [
    "a - b"
   ]
  },
  {
   "cell_type": "code",
   "execution_count": 11,
   "metadata": {
    "execution": {
     "iopub.execute_input": "2024-12-07T05:42:35.012620Z",
     "iopub.status.busy": "2024-12-07T05:42:35.012197Z",
     "iopub.status.idle": "2024-12-07T05:42:35.019496Z",
     "shell.execute_reply": "2024-12-07T05:42:35.018507Z"
    },
    "jupyter": {
     "outputs_hidden": false
    }
   },
   "outputs": [
    {
     "data": {
      "text/plain": [
       "array([3, 4, 5, 6, 7])"
      ]
     },
     "execution_count": 11,
     "metadata": {},
     "output_type": "execute_result"
    }
   ],
   "source": [
    "a + 2"
   ]
  },
  {
   "cell_type": "code",
   "execution_count": 12,
   "metadata": {
    "execution": {
     "iopub.execute_input": "2024-12-07T05:42:35.024700Z",
     "iopub.status.busy": "2024-12-07T05:42:35.024238Z",
     "iopub.status.idle": "2024-12-07T05:42:35.032181Z",
     "shell.execute_reply": "2024-12-07T05:42:35.030887Z"
    },
    "jupyter": {
     "outputs_hidden": false
    }
   },
   "outputs": [
    {
     "data": {
      "text/plain": [
       "array([ 2,  4,  6,  8, 10])"
      ]
     },
     "execution_count": 12,
     "metadata": {},
     "output_type": "execute_result"
    }
   ],
   "source": [
    "# 向量数乘\n",
    "a * 2"
   ]
  },
  {
   "cell_type": "code",
   "execution_count": 13,
   "metadata": {
    "execution": {
     "iopub.execute_input": "2024-12-07T05:42:35.037711Z",
     "iopub.status.busy": "2024-12-07T05:42:35.036768Z",
     "iopub.status.idle": "2024-12-07T05:42:35.044827Z",
     "shell.execute_reply": "2024-12-07T05:42:35.043496Z"
    },
    "jupyter": {
     "outputs_hidden": false
    }
   },
   "outputs": [
    {
     "data": {
      "text/plain": [
       "array([3, 5, 6, 5, 7])"
      ]
     },
     "execution_count": 13,
     "metadata": {},
     "output_type": "execute_result"
    }
   ],
   "source": [
    "a + b"
   ]
  },
  {
   "cell_type": "code",
   "execution_count": 14,
   "metadata": {
    "execution": {
     "iopub.execute_input": "2024-12-07T05:42:35.050294Z",
     "iopub.status.busy": "2024-12-07T05:42:35.049788Z",
     "iopub.status.idle": "2024-12-07T05:42:35.057234Z",
     "shell.execute_reply": "2024-12-07T05:42:35.056193Z"
    },
    "jupyter": {
     "outputs_hidden": false
    }
   },
   "outputs": [
    {
     "data": {
      "text/plain": [
       "array([10, 16, 18, 12, 18])"
      ]
     },
     "execution_count": 14,
     "metadata": {},
     "output_type": "execute_result"
    }
   ],
   "source": [
    "# 向量线性组合\n",
    "a * 2 + b * 4"
   ]
  },
  {
   "cell_type": "code",
   "execution_count": 15,
   "metadata": {
    "execution": {
     "iopub.execute_input": "2024-12-07T05:42:35.062801Z",
     "iopub.status.busy": "2024-12-07T05:42:35.062255Z",
     "iopub.status.idle": "2024-12-07T05:42:35.069384Z",
     "shell.execute_reply": "2024-12-07T05:42:35.068455Z"
    },
    "jupyter": {
     "outputs_hidden": false
    }
   },
   "outputs": [
    {
     "data": {
      "text/plain": [
       "array([ 2,  6,  9,  4, 10])"
      ]
     },
     "execution_count": 15,
     "metadata": {},
     "output_type": "execute_result"
    }
   ],
   "source": [
    "# 向量元素相乘\n",
    "a * b  #element-wise compute"
   ]
  },
  {
   "cell_type": "code",
   "execution_count": 16,
   "metadata": {
    "execution": {
     "iopub.execute_input": "2024-12-07T05:42:35.075014Z",
     "iopub.status.busy": "2024-12-07T05:42:35.074566Z",
     "iopub.status.idle": "2024-12-07T05:42:35.082472Z",
     "shell.execute_reply": "2024-12-07T05:42:35.081441Z"
    },
    "jupyter": {
     "outputs_hidden": false
    }
   },
   "outputs": [
    {
     "data": {
      "text/plain": [
       "31"
      ]
     },
     "execution_count": 16,
     "metadata": {},
     "output_type": "execute_result"
    }
   ],
   "source": [
    "# 向量点积 （内积）\n",
    "np.dot(a,b)"
   ]
  },
  {
   "cell_type": "code",
   "execution_count": null,
   "metadata": {
    "jupyter": {
     "outputs_hidden": true
    }
   },
   "outputs": [],
   "source": []
  }
 ],
 "metadata": {
  "kernelspec": {
   "display_name": "Python 3 (ipykernel)",
   "language": "python",
   "name": "python3"
  },
  "language_info": {
   "codemirror_mode": {
    "name": "ipython",
    "version": 3
   },
   "file_extension": ".py",
   "mimetype": "text/x-python",
   "name": "python",
   "nbconvert_exporter": "python",
   "pygments_lexer": "ipython3",
   "version": "3.12.2"
  }
 },
 "nbformat": 4,
 "nbformat_minor": 4
}
