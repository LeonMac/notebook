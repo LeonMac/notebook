{
 "cells": [
  {
   "cell_type": "code",
   "execution_count": null,
   "metadata": {},
   "outputs": [],
   "source": [
    "from sklearn.feature_extraction.text import  CountVectorizer\n",
    "from sklearn.preprocessing import Normalizer\n",
    "from sklearn.decomposition import TruncatedSVD\n",
    "\n",
    "import numpy\n",
    "import pandas as pd"
   ]
  },
  {
   "cell_type": "code",
   "execution_count": null,
   "metadata": {},
   "outputs": [],
   "source": [
    "corpus = [\"Python is popular in machine learning\",\n",
    "         \"Distributed system is important in big data analysis\",\n",
    "        \"Machine learning is theoretical foundation of data mining\",\n",
    "        \"Learning Python is fun\",\n",
    "        \"Playing soccer is fun\",\n",
    "        \"Many data scientists like playing soccer\",\n",
    "        \"Chinese men's soccer team failed again\",\n",
    "        \"Thirty two soccer teams enter World Cup finals\"]\n",
    "\n",
    "vectorizer = CountVectorizer(min_df=1, stop_words=\"english\")\n",
    "data = vectorizer.fit_transform(corpus)\n",
    "vectorizer.get_feature_names()\n",
    "\n",
    "pd.DataFrame(data.toarray(), index=corpus, columns=vectorizer.get_feature_names()).head(10)"
   ]
  },
  {
   "cell_type": "code",
   "execution_count": null,
   "metadata": {},
   "outputs": [],
   "source": [
    "\"\"\"Singular value decomposition and LSA\"\"\"\n",
    "model = TruncatedSVD(2)\n",
    "data_n = model.fit_transform(data)\n",
    "data_n = Normalizer(copy=False).fit_transform(data_n)\n",
    "data_n"
   ]
  },
  {
   "cell_type": "code",
   "execution_count": null,
   "metadata": {},
   "outputs": [],
   "source": [
    "pd.DataFrame(data_n, index = corpus, columns = [\"component_1\", \"component_2\"])"
   ]
  },
  {
   "cell_type": "code",
   "execution_count": null,
   "metadata": {},
   "outputs": [],
   "source": [
    "xs = data_n[:,0]\n",
    "ys = data_n[:,1]\n",
    "import matplotlib.pyplot as plt\n",
    "import seaborn as sns\n",
    "%matplotlib inline\n",
    "\n",
    "plt.figure(figsize=(4,4))\n",
    "ax = plt.gca()\n",
    "ax.set_xlim([-1, 2])\n",
    "ax.set_ylim([-1, 2])\n",
    "plt.scatter(xs, ys)\n",
    "plt.xlabel('First principal component')\n",
    "plt.ylabel('Second principal component')\n",
    "plt.title('Plot of points agains LSA principal components')\n",
    "plt.show()\n"
   ]
  },
  {
   "cell_type": "code",
   "execution_count": null,
   "metadata": {},
   "outputs": [],
   "source": [
    "similarity = numpy.asarray(numpy.asmatrix(data_n) * numpy.asmatrix(data_n).T)\n",
    "pd.DataFrame(similarity, index = corpus, columns = corpus).head(10)"
   ]
  },
  {
   "cell_type": "code",
   "execution_count": null,
   "metadata": {},
   "outputs": [],
   "source": [
    "sns.heatmap(similarity,cmap='Reds')"
   ]
  },
  {
   "cell_type": "code",
   "execution_count": null,
   "metadata": {},
   "outputs": [],
   "source": [
    "pd.DataFrame(model.components_,index=['component_1','component_2'],columns=vectorizer.get_feature_names()).T"
   ]
  },
  {
   "cell_type": "code",
   "execution_count": null,
   "metadata": {},
   "outputs": [],
   "source": []
  }
 ],
 "metadata": {
  "anaconda-cloud": {},
  "kernelspec": {
   "display_name": "Python [default]",
   "language": "python",
   "name": "python3"
  },
  "language_info": {
   "codemirror_mode": {
    "name": "ipython",
    "version": 3
   },
   "file_extension": ".py",
   "mimetype": "text/x-python",
   "name": "python",
   "nbconvert_exporter": "python",
   "pygments_lexer": "ipython3",
   "version": "3.5.2"
  }
 },
 "nbformat": 4,
 "nbformat_minor": 1
}
