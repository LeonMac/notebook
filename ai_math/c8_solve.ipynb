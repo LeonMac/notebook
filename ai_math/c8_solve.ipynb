{
 "cells": [
  {
   "cell_type": "markdown",
   "id": "7f461111",
   "metadata": {},
   "source": [
    "既然工程中遇到的方程都是没有解析解的，而且我们已经接受了这个现实，那只要能找到一个尽可能不错解就行了。\n",
    "下面通过具体的代码来看如何在 Python 中解方程组。我们先看一个有解析解方程组，再看一个没有解析解的方程组。\n",
    "## 解线性方程组\n",
    "NumPy 中有个 linalg 子模块， linalg 子模块提供了 solve 方法来解方程组。比如下面这个方程组：\n",
    "\n",
    "\n",
    "x -2y+ z =0\n",
    "\n",
    "2y-8z=8\n",
    "\n",
    "-4x+5y+9z=-9\n"
   ]
  },
  {
   "cell_type": "code",
   "execution_count": null,
   "id": "92c595ce",
   "metadata": {},
   "outputs": [],
   "source": [
    "import numpy as np\n",
    "# 方程左边系数用矩阵表示\n",
    "A = np.mat(\"1 -2 1; 0 2 -8;-4 5 9\")\n",
    "# 把方程组右边的结果用向量表示 \n",
    "b = np.array([0,8,-9])\n",
    "# 直接调用 linalg 中的 solve 函数求解\n",
    "x= np.linalg.solve(A,b )\n",
    "\n",
    "print (\" Solution \", x)\n",
    "\n",
    "# 给出的答案是： Solution [29.16.3.]"
   ]
  },
  {
   "cell_type": "markdown",
   "id": "d809af8c",
   "metadata": {},
   "source": [
    "可以验证一下： Ax=b"
   ]
  },
  {
   "cell_type": "code",
   "execution_count": null,
   "id": "cd68da9d",
   "metadata": {},
   "outputs": [],
   "source": [
    "np.dot (A,x)"
   ]
  },
  {
   "cell_type": "markdown",
   "id": "a5992de7",
   "metadata": {},
   "source": [
    "可见，用 solve 方法的确找到了方程组的解。"
   ]
  },
  {
   "cell_type": "markdown",
   "id": "027bd4c7",
   "metadata": {},
   "source": [
    "## 用最小二乘法解方程组\n",
    "\n",
    "再来看下面这个方程组。这个精心设计的方程组其实是没有解析解的，读者不试着动手解一下。 \n",
    "\n",
    "x -2y+ z =0\n",
    "\n",
    "2y- z =8\n",
    "\n",
    "-4x+5y-2.5z=-9\n",
    "\n",
    "如果还是用上面的 solve 方法求解，看看会是什么结果。"
   ]
  },
  {
   "cell_type": "code",
   "execution_count": null,
   "id": "533fa78d",
   "metadata": {},
   "outputs": [],
   "source": [
    "import numpy as np\n",
    "# 方程左边系数用矩阵表示\n",
    "A = np.mat(\"1 -2 1; 0 2 -1;-4 5 -2.5\")\n",
    "# 把方程组右边的结果用向量表示 \n",
    "b = np.array([0,8,-9])\n",
    "# 直接调用 linalg 中的 solve 函数求解\n",
    "x= np.linalg.solve(A,b)\n",
    "\n",
    "print (\" Solution \", x)\n",
    "\n",
    "# 给出的答案是： Solution [29.16.3.]"
   ]
  },
  {
   "cell_type": "markdown",
   "id": "04ab0d2c",
   "metadata": {},
   "source": [
    "LinAlgError: Singular matrix\n",
    "这个错误表名，系数矩阵A是个奇异矩阵，是不可逆的矩阵。\n",
    "\n",
    "其实这里也提示了 NumPy 的 solve 是怎么工作的。\n",
    "既然不能找到解析解，那该怎么去找最优解呢？读者可以试试下面的代码。\n"
   ]
  },
  {
   "cell_type": "code",
   "execution_count": null,
   "id": "6eadf4ab",
   "metadata": {},
   "outputs": [],
   "source": []
  },
  {
   "cell_type": "code",
   "execution_count": null,
   "id": "47018053",
   "metadata": {},
   "outputs": [],
   "source": [
    "# 求最小二乘解\n",
    "# 伪逆是在矩阵不是满秩的情况下，仍然允许进行逆运算的一种推广。对于满秩的矩阵，伪逆就是矩阵的逆。\n",
    "# 伪逆在处理线性方程组和最小二乘问题等情况下很有用。例如，如果矩阵 A 不是满秩的，可能没有精确的解，但可以使用伪逆来找到最接近的解。\n",
    "pi_A = np.linalg.pinv( A )\n",
    "pi_A"
   ]
  },
  {
   "cell_type": "markdown",
   "id": "6bd4ee6d",
   "metadata": {},
   "source": [
    "pi_A 是最优解，而不是解析解。"
   ]
  },
  {
   "cell_type": "code",
   "execution_count": null,
   "id": "6737e4ae",
   "metadata": {},
   "outputs": [],
   "source": [
    "# 然后用伪逆求解 x\n",
    "x = np.dot(pi_A,b)\n",
    "x"
   ]
  },
  {
   "cell_type": "markdown",
   "id": "46d14baf",
   "metadata": {},
   "source": [
    "这次没有发生错误，并得到如下结果。\n",
    " matrix ([[7.14285714,3.10649351,-1.55324675]])\n",
    "这就是所谓的最优解，不妨验证一下。"
   ]
  },
  {
   "cell_type": "code",
   "execution_count": null,
   "id": "7ed28662",
   "metadata": {},
   "outputs": [],
   "source": [
    "np.dot( A, x.T )\n"
   ]
  },
  {
   "cell_type": "markdown",
   "id": "194d8f2c",
   "metadata": {},
   "source": [
    "得到结果 matrix ([[-0.62337662],[7.76623377],[-9.15584416]])\n",
    "所以，所谓的最优解，其实是下面这个变形后的方程组的解析解。这个解也叫作最小二乘解。\n",
    "\n",
    " x -2y + z =-0.62337662\n",
    "    2y - z = 7.76623377\n",
    "-4x+5y-2.5z=-9.15584416\n",
    "\n"
   ]
  }
 ],
 "metadata": {
  "kernelspec": {
   "display_name": "Python 3 (ipykernel)",
   "language": "python",
   "name": "python3"
  },
  "language_info": {
   "codemirror_mode": {
    "name": "ipython",
    "version": 3
   },
   "file_extension": ".py",
   "mimetype": "text/x-python",
   "name": "python",
   "nbconvert_exporter": "python",
   "pygments_lexer": "ipython3",
   "version": "3.9.12"
  }
 },
 "nbformat": 4,
 "nbformat_minor": 5
}
