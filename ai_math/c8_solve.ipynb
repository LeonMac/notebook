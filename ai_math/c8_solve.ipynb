{
 "cells": [
  {
   "cell_type": "markdown",
   "id": "7f461111",
   "metadata": {},
   "source": [
    "既然工程中遇到的方程都是没有解析解的，而且我们已经接受了这个现实，那只要能找到一个尽可能不错解就行了。\n",
    "下面通过具体的代码来看如何在 Python 中解方程组。我们先看一个有解析解方程组，再看一个没有解析解的方程组。\n",
    "## 解线性方程组\n",
    "NumPy 中有个 linalg 子模块， linalg 子模块提供了 solve 方法来解方程组。比如下面这个方程组：\n",
    "\n",
    "\n",
    "x -2y+ z =0\n",
    "\n",
    "2y-8z=8\n",
    "\n",
    "-4x+5y+9z=-9\n"
   ]
  },
  {
   "cell_type": "code",
   "execution_count": 1,
   "id": "92c595ce",
   "metadata": {
    "execution": {
     "iopub.execute_input": "2024-12-07T05:42:40.939367Z",
     "iopub.status.busy": "2024-12-07T05:42:40.938781Z",
     "iopub.status.idle": "2024-12-07T05:42:41.123047Z",
     "shell.execute_reply": "2024-12-07T05:42:41.121698Z"
    }
   },
   "outputs": [
    {
     "name": "stdout",
     "output_type": "stream",
     "text": [
      " Solution  [29. 16.  3.]\n"
     ]
    }
   ],
   "source": [
    "import numpy as np\n",
    "# 方程左边系数用矩阵表示\n",
    "A = np.mat(\"1 -2 1; 0 2 -8;-4 5 9\")\n",
    "# 把方程组右边的结果用向量表示 \n",
    "b = np.array([0,8,-9])\n",
    "# 直接调用 linalg 中的 solve 函数求解\n",
    "x= np.linalg.solve(A,b )\n",
    "\n",
    "print (\" Solution \", x)\n",
    "\n",
    "# 给出的答案是： Solution [29.16.3.]"
   ]
  },
  {
   "cell_type": "markdown",
   "id": "d809af8c",
   "metadata": {},
   "source": [
    "可以验证一下： Ax=b"
   ]
  },
  {
   "cell_type": "code",
   "execution_count": 2,
   "id": "cd68da9d",
   "metadata": {
    "execution": {
     "iopub.execute_input": "2024-12-07T05:42:41.129069Z",
     "iopub.status.busy": "2024-12-07T05:42:41.128509Z",
     "iopub.status.idle": "2024-12-07T05:42:41.142058Z",
     "shell.execute_reply": "2024-12-07T05:42:41.140691Z"
    }
   },
   "outputs": [
    {
     "data": {
      "text/plain": [
       "matrix([[ 0.,  8., -9.]])"
      ]
     },
     "execution_count": 2,
     "metadata": {},
     "output_type": "execute_result"
    }
   ],
   "source": [
    "np.dot (A,x)"
   ]
  },
  {
   "cell_type": "markdown",
   "id": "a5992de7",
   "metadata": {},
   "source": [
    "可见，用 solve 方法的确找到了方程组的解。"
   ]
  },
  {
   "cell_type": "markdown",
   "id": "027bd4c7",
   "metadata": {},
   "source": [
    "## 用最小二乘法解方程组\n",
    "\n",
    "再来看下面这个方程组。这个精心设计的方程组其实是没有解析解的，读者不试着动手解一下。 \n",
    "\n",
    "x -2y+ z =0\n",
    "\n",
    "2y- z =8\n",
    "\n",
    "-4x+5y-2.5z=-9\n",
    "\n",
    "如果还是用上面的 solve 方法求解，看看会是什么结果。"
   ]
  },
  {
   "cell_type": "code",
   "execution_count": 3,
   "id": "533fa78d",
   "metadata": {
    "execution": {
     "iopub.execute_input": "2024-12-07T05:42:41.148318Z",
     "iopub.status.busy": "2024-12-07T05:42:41.147872Z",
     "iopub.status.idle": "2024-12-07T05:42:42.306712Z",
     "shell.execute_reply": "2024-12-07T05:42:42.304931Z"
    }
   },
   "outputs": [
    {
     "ename": "LinAlgError",
     "evalue": "Singular matrix",
     "output_type": "error",
     "traceback": [
      "\u001b[0;31m---------------------------------------------------------------------------\u001b[0m",
      "\u001b[0;31mLinAlgError\u001b[0m                               Traceback (most recent call last)",
      "Cell \u001b[0;32mIn[3], line 7\u001b[0m\n\u001b[1;32m      5\u001b[0m b \u001b[38;5;241m=\u001b[39m np\u001b[38;5;241m.\u001b[39marray([\u001b[38;5;241m0\u001b[39m,\u001b[38;5;241m8\u001b[39m,\u001b[38;5;241m-\u001b[39m\u001b[38;5;241m9\u001b[39m])\n\u001b[1;32m      6\u001b[0m \u001b[38;5;66;03m# 直接调用 linalg 中的 solve 函数求解\u001b[39;00m\n\u001b[0;32m----> 7\u001b[0m x\u001b[38;5;241m=\u001b[39m np\u001b[38;5;241m.\u001b[39mlinalg\u001b[38;5;241m.\u001b[39msolve(A,b)\n\u001b[1;32m      9\u001b[0m \u001b[38;5;28mprint\u001b[39m (\u001b[38;5;124m\"\u001b[39m\u001b[38;5;124m Solution \u001b[39m\u001b[38;5;124m\"\u001b[39m, x)\n",
      "File \u001b[0;32m~/miniconda3/envs/web/lib/python3.12/site-packages/numpy/linalg/linalg.py:409\u001b[0m, in \u001b[0;36msolve\u001b[0;34m(a, b)\u001b[0m\n\u001b[1;32m    407\u001b[0m signature \u001b[38;5;241m=\u001b[39m \u001b[38;5;124m'\u001b[39m\u001b[38;5;124mDD->D\u001b[39m\u001b[38;5;124m'\u001b[39m \u001b[38;5;28;01mif\u001b[39;00m isComplexType(t) \u001b[38;5;28;01melse\u001b[39;00m \u001b[38;5;124m'\u001b[39m\u001b[38;5;124mdd->d\u001b[39m\u001b[38;5;124m'\u001b[39m\n\u001b[1;32m    408\u001b[0m extobj \u001b[38;5;241m=\u001b[39m get_linalg_error_extobj(_raise_linalgerror_singular)\n\u001b[0;32m--> 409\u001b[0m r \u001b[38;5;241m=\u001b[39m gufunc(a, b, signature\u001b[38;5;241m=\u001b[39msignature, extobj\u001b[38;5;241m=\u001b[39mextobj)\n\u001b[1;32m    411\u001b[0m \u001b[38;5;28;01mreturn\u001b[39;00m wrap(r\u001b[38;5;241m.\u001b[39mastype(result_t, copy\u001b[38;5;241m=\u001b[39m\u001b[38;5;28;01mFalse\u001b[39;00m))\n",
      "File \u001b[0;32m~/miniconda3/envs/web/lib/python3.12/site-packages/numpy/linalg/linalg.py:112\u001b[0m, in \u001b[0;36m_raise_linalgerror_singular\u001b[0;34m(err, flag)\u001b[0m\n\u001b[1;32m    111\u001b[0m \u001b[38;5;28;01mdef\u001b[39;00m \u001b[38;5;21m_raise_linalgerror_singular\u001b[39m(err, flag):\n\u001b[0;32m--> 112\u001b[0m     \u001b[38;5;28;01mraise\u001b[39;00m LinAlgError(\u001b[38;5;124m\"\u001b[39m\u001b[38;5;124mSingular matrix\u001b[39m\u001b[38;5;124m\"\u001b[39m)\n",
      "\u001b[0;31mLinAlgError\u001b[0m: Singular matrix"
     ]
    }
   ],
   "source": [
    "import numpy as np\n",
    "# 方程左边系数用矩阵表示\n",
    "A = np.mat(\"1 -2 1; 0 2 -1;-4 5 -2.5\")\n",
    "# 把方程组右边的结果用向量表示 \n",
    "b = np.array([0,8,-9])\n",
    "# 直接调用 linalg 中的 solve 函数求解\n",
    "x= np.linalg.solve(A,b)\n",
    "\n",
    "print (\" Solution \", x)\n",
    "\n",
    "# 给出的答案是： Solution [29.16.3.]"
   ]
  },
  {
   "cell_type": "markdown",
   "id": "04ab0d2c",
   "metadata": {},
   "source": [
    "LinAlgError: Singular matrix\n",
    "这个错误表名，系数矩阵A是个奇异矩阵，是不可逆的矩阵。\n",
    "\n",
    "其实这里也提示了 NumPy 的 solve 是怎么工作的。\n",
    "既然不能找到解析解，那该怎么去找最优解呢？读者可以试试下面的代码。\n"
   ]
  },
  {
   "cell_type": "code",
   "execution_count": null,
   "id": "6eadf4ab",
   "metadata": {},
   "outputs": [],
   "source": []
  },
  {
   "cell_type": "code",
   "execution_count": null,
   "id": "47018053",
   "metadata": {},
   "outputs": [],
   "source": [
    "# 求最小二乘解\n",
    "# 伪逆是在矩阵不是满秩的情况下，仍然允许进行逆运算的一种推广。对于满秩的矩阵，伪逆就是矩阵的逆。\n",
    "# 伪逆在处理线性方程组和最小二乘问题等情况下很有用。例如，如果矩阵 A 不是满秩的，可能没有精确的解，但可以使用伪逆来找到最接近的解。\n",
    "pi_A = np.linalg.pinv( A )\n",
    "pi_A"
   ]
  },
  {
   "cell_type": "markdown",
   "id": "6bd4ee6d",
   "metadata": {},
   "source": [
    "pi_A 是最优解，而不是解析解。"
   ]
  },
  {
   "cell_type": "code",
   "execution_count": null,
   "id": "6737e4ae",
   "metadata": {},
   "outputs": [],
   "source": [
    "# 然后用伪逆求解 x\n",
    "x = np.dot(pi_A,b)\n",
    "x"
   ]
  },
  {
   "cell_type": "markdown",
   "id": "46d14baf",
   "metadata": {},
   "source": [
    "这次没有发生错误，并得到如下结果。\n",
    " matrix ([[7.14285714,3.10649351,-1.55324675]])\n",
    "这就是所谓的最优解，不妨验证一下。"
   ]
  },
  {
   "cell_type": "code",
   "execution_count": null,
   "id": "7ed28662",
   "metadata": {},
   "outputs": [],
   "source": [
    "np.dot( A, x.T )\n"
   ]
  },
  {
   "cell_type": "markdown",
   "id": "194d8f2c",
   "metadata": {},
   "source": [
    "得到结果 matrix ([[-0.62337662],[7.76623377],[-9.15584416]])\n",
    "所以，所谓的最优解，其实是下面这个变形后的方程组的解析解。这个解也叫作最小二乘解。\n",
    "\n",
    " x -2y + z =-0.62337662\n",
    "    2y - z = 7.76623377\n",
    "-4x+5y-2.5z=-9.15584416\n",
    "\n"
   ]
  }
 ],
 "metadata": {
  "kernelspec": {
   "display_name": "Python 3 (ipykernel)",
   "language": "python",
   "name": "python3"
  },
  "language_info": {
   "codemirror_mode": {
    "name": "ipython",
    "version": 3
   },
   "file_extension": ".py",
   "mimetype": "text/x-python",
   "name": "python",
   "nbconvert_exporter": "python",
   "pygments_lexer": "ipython3",
   "version": "3.12.2"
  }
 },
 "nbformat": 4,
 "nbformat_minor": 5
}
