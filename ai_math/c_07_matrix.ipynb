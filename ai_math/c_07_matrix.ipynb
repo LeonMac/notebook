{
 "cells": [
  {
   "cell_type": "markdown",
   "metadata": {},
   "source": [
    "array 是Python标准库中的一部分，属于 array 模块。\n",
    "array 提供了一维数组的支持，但不支持多维数组。\n",
    "它提供了基本的数组操作，但功能相对有限。"
   ]
  },
  {
   "cell_type": "code",
   "execution_count": 1,
   "metadata": {
    "execution": {
     "iopub.execute_input": "2024-12-07T05:42:44.495393Z",
     "iopub.status.busy": "2024-12-07T05:42:44.494810Z",
     "iopub.status.idle": "2024-12-07T05:42:44.517877Z",
     "shell.execute_reply": "2024-12-07T05:42:44.515926Z"
    }
   },
   "outputs": [
    {
     "data": {
      "text/plain": [
       "array('i', [1, 2, 3, 4, 5])"
      ]
     },
     "execution_count": 1,
     "metadata": {},
     "output_type": "execute_result"
    }
   ],
   "source": [
    "from array import array\n",
    "# 'i' 表示整数类型。可以省略--系统自行推断，可能导致不确定因素\n",
    "arr = array('i', [1, 2, 3, 4, 5])\n",
    "arr"
   ]
  },
  {
   "cell_type": "code",
   "execution_count": 2,
   "metadata": {
    "execution": {
     "iopub.execute_input": "2024-12-07T05:42:44.525686Z",
     "iopub.status.busy": "2024-12-07T05:42:44.524553Z",
     "iopub.status.idle": "2024-12-07T05:42:44.536465Z",
     "shell.execute_reply": "2024-12-07T05:42:44.534432Z"
    }
   },
   "outputs": [
    {
     "data": {
      "text/plain": [
       "1"
      ]
     },
     "execution_count": 2,
     "metadata": {},
     "output_type": "execute_result"
    }
   ],
   "source": [
    "arr[0]"
   ]
  },
  {
   "cell_type": "markdown",
   "metadata": {},
   "source": [
    "NumPy 中有两种数据结构都可以用于矩阵： ndarray 和 matrix 。 \n",
    "ndarray (N dimension array) 是个广义的数组，既可以表示向量，也可以表示矩阵，甚至可以表示更高维度的张量。\n",
    "\n",
    "不同于 array 模块，NumPy的 ndarray 允许混合存储不同数据类型的元素。NumPy 的 ndarray 具有更灵活的数据类型支持，这使得它适用于处理多种数据类型的数组。"
   ]
  },
  {
   "cell_type": "code",
   "execution_count": 3,
   "metadata": {
    "execution": {
     "iopub.execute_input": "2024-12-07T05:42:44.544294Z",
     "iopub.status.busy": "2024-12-07T05:42:44.543565Z",
     "iopub.status.idle": "2024-12-07T05:42:44.748203Z",
     "shell.execute_reply": "2024-12-07T05:42:44.746977Z"
    }
   },
   "outputs": [
    {
     "data": {
      "text/plain": [
       "array([[0.71896944, 0.23824813, 0.56550448, 0.09349141],\n",
       "       [0.87109237, 0.49673846, 0.78732409, 0.4365423 ],\n",
       "       [0.85492838, 0.22747272, 0.11887675, 0.14414124],\n",
       "       [0.63502209, 0.72784778, 0.59847569, 0.72977424]])"
      ]
     },
     "execution_count": 3,
     "metadata": {},
     "output_type": "execute_result"
    }
   ],
   "source": [
    "import numpy as np\n",
    "A=np.random.rand(4,4)\n",
    "A"
   ]
  },
  {
   "cell_type": "markdown",
   "metadata": {},
   "source": [
    "matrix是专门针对矩阵的数据结构，是个二维数组。虽然ndarray/matrix两种数据结构都能支持矩阵运算，不过在细节上会有些差异。"
   ]
  },
  {
   "cell_type": "code",
   "execution_count": 4,
   "metadata": {
    "execution": {
     "iopub.execute_input": "2024-12-07T05:42:44.755090Z",
     "iopub.status.busy": "2024-12-07T05:42:44.754577Z",
     "iopub.status.idle": "2024-12-07T05:42:44.760543Z",
     "shell.execute_reply": "2024-12-07T05:42:44.759190Z"
    }
   },
   "outputs": [],
   "source": [
    "# 从ndarray构建matrix\n",
    "B = np.mat(A)"
   ]
  },
  {
   "cell_type": "code",
   "execution_count": 5,
   "metadata": {
    "execution": {
     "iopub.execute_input": "2024-12-07T05:42:44.767083Z",
     "iopub.status.busy": "2024-12-07T05:42:44.766588Z",
     "iopub.status.idle": "2024-12-07T05:42:44.774654Z",
     "shell.execute_reply": "2024-12-07T05:42:44.773491Z"
    }
   },
   "outputs": [
    {
     "data": {
      "text/plain": [
       "matrix([[0.71896944, 0.23824813, 0.56550448, 0.09349141],\n",
       "        [0.87109237, 0.49673846, 0.78732409, 0.4365423 ],\n",
       "        [0.85492838, 0.22747272, 0.11887675, 0.14414124],\n",
       "        [0.63502209, 0.72784778, 0.59847569, 0.72977424]])"
      ]
     },
     "execution_count": 5,
     "metadata": {},
     "output_type": "execute_result"
    }
   ],
   "source": [
    "B"
   ]
  },
  {
   "cell_type": "code",
   "execution_count": 6,
   "metadata": {
    "execution": {
     "iopub.execute_input": "2024-12-07T05:42:44.781082Z",
     "iopub.status.busy": "2024-12-07T05:42:44.780640Z",
     "iopub.status.idle": "2024-12-07T05:42:44.789598Z",
     "shell.execute_reply": "2024-12-07T05:42:44.788226Z"
    }
   },
   "outputs": [
    {
     "data": {
      "text/plain": [
       "matrix([[0.90109116, 0.7996038 , 0.84580933, 0.30618248],\n",
       "        [0.4578155 , 0.38159568, 0.14460544, 0.90785895],\n",
       "        [0.16418719, 0.39579152, 0.5936203 , 0.58816644],\n",
       "        [0.00102427, 0.38380115, 0.60439107, 0.5316763 ]])"
      ]
     },
     "execution_count": 6,
     "metadata": {},
     "output_type": "execute_result"
    }
   ],
   "source": [
    "B = np.mat(np.random.rand(4,4))\n",
    "B"
   ]
  },
  {
   "cell_type": "code",
   "execution_count": 7,
   "metadata": {
    "execution": {
     "iopub.execute_input": "2024-12-07T05:42:44.795421Z",
     "iopub.status.busy": "2024-12-07T05:42:44.794842Z",
     "iopub.status.idle": "2024-12-07T05:42:44.801577Z",
     "shell.execute_reply": "2024-12-07T05:42:44.800137Z"
    }
   },
   "outputs": [],
   "source": [
    "B=np.mat('1 2 3; 4 5 6; 7 8 9')"
   ]
  },
  {
   "cell_type": "code",
   "execution_count": 8,
   "metadata": {
    "execution": {
     "iopub.execute_input": "2024-12-07T05:42:44.806975Z",
     "iopub.status.busy": "2024-12-07T05:42:44.806510Z",
     "iopub.status.idle": "2024-12-07T05:42:44.814843Z",
     "shell.execute_reply": "2024-12-07T05:42:44.813746Z"
    }
   },
   "outputs": [
    {
     "data": {
      "text/plain": [
       "matrix([[1, 2, 3],\n",
       "        [4, 5, 6],\n",
       "        [7, 8, 9]])"
      ]
     },
     "execution_count": 8,
     "metadata": {},
     "output_type": "execute_result"
    }
   ],
   "source": [
    "B"
   ]
  },
  {
   "cell_type": "markdown",
   "metadata": {},
   "source": [
    "建一个大小为 5x5 的单位矩阵"
   ]
  },
  {
   "cell_type": "code",
   "execution_count": 9,
   "metadata": {
    "execution": {
     "iopub.execute_input": "2024-12-07T05:42:44.820674Z",
     "iopub.status.busy": "2024-12-07T05:42:44.820201Z",
     "iopub.status.idle": "2024-12-07T05:42:44.828233Z",
     "shell.execute_reply": "2024-12-07T05:42:44.827241Z"
    }
   },
   "outputs": [
    {
     "data": {
      "text/plain": [
       "array([[1., 0., 0., 0., 0.],\n",
       "       [0., 1., 0., 0., 0.],\n",
       "       [0., 0., 1., 0., 0.],\n",
       "       [0., 0., 0., 1., 0.],\n",
       "       [0., 0., 0., 0., 1.]])"
      ]
     },
     "execution_count": 9,
     "metadata": {},
     "output_type": "execute_result"
    }
   ],
   "source": [
    "np.eye(5)"
   ]
  },
  {
   "cell_type": "code",
   "execution_count": 10,
   "metadata": {
    "execution": {
     "iopub.execute_input": "2024-12-07T05:42:44.833683Z",
     "iopub.status.busy": "2024-12-07T05:42:44.833165Z",
     "iopub.status.idle": "2024-12-07T05:42:44.841563Z",
     "shell.execute_reply": "2024-12-07T05:42:44.840366Z"
    }
   },
   "outputs": [
    {
     "data": {
      "text/plain": [
       "array([[1, 0, 0, 0, 0],\n",
       "       [0, 2, 0, 0, 0],\n",
       "       [0, 0, 3, 0, 0],\n",
       "       [0, 0, 0, 0, 0],\n",
       "       [0, 0, 0, 0, 5]])"
      ]
     },
     "execution_count": 10,
     "metadata": {},
     "output_type": "execute_result"
    }
   ],
   "source": [
    "np.diag([1,2,3,0,5])"
   ]
  },
  {
   "cell_type": "markdown",
   "metadata": {},
   "source": [
    "### 用AA^T创建对称阵"
   ]
  },
  {
   "cell_type": "code",
   "execution_count": 11,
   "metadata": {
    "execution": {
     "iopub.execute_input": "2024-12-07T05:42:44.847652Z",
     "iopub.status.busy": "2024-12-07T05:42:44.847174Z",
     "iopub.status.idle": "2024-12-07T05:42:44.856782Z",
     "shell.execute_reply": "2024-12-07T05:42:44.855126Z"
    }
   },
   "outputs": [
    {
     "data": {
      "text/plain": [
       "matrix([[ 14,  32,  50],\n",
       "        [ 32,  77, 122],\n",
       "        [ 50, 122, 194]])"
      ]
     },
     "execution_count": 11,
     "metadata": {},
     "output_type": "execute_result"
    }
   ],
   "source": [
    "A = np.mat('1 2 3; 4 5 6; 7 8 9')\n",
    "A * A.T"
   ]
  },
  {
   "cell_type": "code",
   "execution_count": null,
   "metadata": {},
   "outputs": [],
   "source": []
  },
  {
   "cell_type": "markdown",
   "metadata": {},
   "source": [
    "### 矩阵基本运算"
   ]
  },
  {
   "cell_type": "code",
   "execution_count": 12,
   "metadata": {
    "execution": {
     "iopub.execute_input": "2024-12-07T05:42:44.866139Z",
     "iopub.status.busy": "2024-12-07T05:42:44.864999Z",
     "iopub.status.idle": "2024-12-07T05:42:44.875117Z",
     "shell.execute_reply": "2024-12-07T05:42:44.873396Z"
    }
   },
   "outputs": [],
   "source": [
    "A = np.mat('1 2 3; 4 5 6; 7 8 9')\n",
    "B = np.mat(' 4 5 6; 7 8 9; 10 11 12')"
   ]
  },
  {
   "cell_type": "code",
   "execution_count": 13,
   "metadata": {
    "execution": {
     "iopub.execute_input": "2024-12-07T05:42:44.882241Z",
     "iopub.status.busy": "2024-12-07T05:42:44.881648Z",
     "iopub.status.idle": "2024-12-07T05:42:44.890830Z",
     "shell.execute_reply": "2024-12-07T05:42:44.889012Z"
    }
   },
   "outputs": [
    {
     "name": "stdout",
     "output_type": "stream",
     "text": [
      "[[1 2 3]\n",
      " [4 5 6]\n",
      " [7 8 9]]\n",
      "[[ 4  5  6]\n",
      " [ 7  8  9]\n",
      " [10 11 12]]\n"
     ]
    }
   ],
   "source": [
    "print(A)\n",
    "print(B)"
   ]
  },
  {
   "cell_type": "code",
   "execution_count": 14,
   "metadata": {
    "execution": {
     "iopub.execute_input": "2024-12-07T05:42:44.898172Z",
     "iopub.status.busy": "2024-12-07T05:42:44.897577Z",
     "iopub.status.idle": "2024-12-07T05:42:44.908392Z",
     "shell.execute_reply": "2024-12-07T05:42:44.906555Z"
    }
   },
   "outputs": [
    {
     "data": {
      "text/plain": [
       "matrix([[ 5,  7,  9],\n",
       "        [11, 13, 15],\n",
       "        [17, 19, 21]])"
      ]
     },
     "execution_count": 14,
     "metadata": {},
     "output_type": "execute_result"
    }
   ],
   "source": [
    "A+B"
   ]
  },
  {
   "cell_type": "code",
   "execution_count": 15,
   "metadata": {
    "execution": {
     "iopub.execute_input": "2024-12-07T05:42:44.915494Z",
     "iopub.status.busy": "2024-12-07T05:42:44.914899Z",
     "iopub.status.idle": "2024-12-07T05:42:44.926604Z",
     "shell.execute_reply": "2024-12-07T05:42:44.924852Z"
    }
   },
   "outputs": [
    {
     "data": {
      "text/plain": [
       "matrix([[ 4,  4,  5,  6],\n",
       "        [ 4,  7,  8,  9],\n",
       "        [ 4, 10, 11, 12]])"
      ]
     },
     "execution_count": 15,
     "metadata": {},
     "output_type": "execute_result"
    }
   ],
   "source": [
    "B = np.mat('4 4 5 6;4 7 8 9;4 10 11 12')\n",
    "B"
   ]
  },
  {
   "cell_type": "code",
   "execution_count": 16,
   "metadata": {
    "execution": {
     "iopub.execute_input": "2024-12-07T05:42:44.935139Z",
     "iopub.status.busy": "2024-12-07T05:42:44.934511Z",
     "iopub.status.idle": "2024-12-07T05:42:45.807503Z",
     "shell.execute_reply": "2024-12-07T05:42:45.805871Z"
    }
   },
   "outputs": [
    {
     "ename": "ValueError",
     "evalue": "operands could not be broadcast together with shapes (3,3) (3,4) ",
     "output_type": "error",
     "traceback": [
      "\u001b[0;31m---------------------------------------------------------------------------\u001b[0m",
      "\u001b[0;31mValueError\u001b[0m                                Traceback (most recent call last)",
      "Cell \u001b[0;32mIn[16], line 2\u001b[0m\n\u001b[1;32m      1\u001b[0m \u001b[38;5;66;03m# 维度不同的矩阵相加会出错\u001b[39;00m\n\u001b[0;32m----> 2\u001b[0m A\u001b[38;5;241m+\u001b[39mB\n",
      "\u001b[0;31mValueError\u001b[0m: operands could not be broadcast together with shapes (3,3) (3,4) "
     ]
    }
   ],
   "source": [
    "# 维度不同的矩阵相加会出错\n",
    "A+B"
   ]
  },
  {
   "cell_type": "code",
   "execution_count": null,
   "metadata": {},
   "outputs": [],
   "source": [
    "A * B"
   ]
  },
  {
   "cell_type": "code",
   "execution_count": null,
   "metadata": {},
   "outputs": [],
   "source": [
    "B * A"
   ]
  },
  {
   "cell_type": "code",
   "execution_count": null,
   "metadata": {},
   "outputs": [],
   "source": [
    "A * 10"
   ]
  },
  {
   "cell_type": "markdown",
   "metadata": {},
   "source": [
    "矩阵求逆"
   ]
  },
  {
   "cell_type": "code",
   "execution_count": null,
   "metadata": {},
   "outputs": [],
   "source": [
    "c = np.mat(np.random.rand(4,4))"
   ]
  },
  {
   "cell_type": "code",
   "execution_count": null,
   "metadata": {},
   "outputs": [],
   "source": [
    "d = c.I"
   ]
  },
  {
   "cell_type": "code",
   "execution_count": null,
   "metadata": {},
   "outputs": [],
   "source": [
    "c*d"
   ]
  },
  {
   "cell_type": "code",
   "execution_count": null,
   "metadata": {},
   "outputs": [],
   "source": [
    "d * c"
   ]
  },
  {
   "cell_type": "code",
   "execution_count": null,
   "metadata": {},
   "outputs": [],
   "source": [
    "c*d == d*c"
   ]
  },
  {
   "cell_type": "code",
   "execution_count": null,
   "metadata": {},
   "outputs": [],
   "source": [
    "A"
   ]
  },
  {
   "cell_type": "code",
   "execution_count": null,
   "metadata": {},
   "outputs": [],
   "source": [
    "# np.linalg: 这是 NumPy 中专门用于线性代数操作的子模块。\n",
    "# matrix_rank(): 这是 np.linalg 模块中的函数，用于计算矩阵的秩。\n",
    "np.linalg.matrix_rank(A)"
   ]
  },
  {
   "cell_type": "code",
   "execution_count": null,
   "metadata": {},
   "outputs": [],
   "source": [
    "# det(): 这是 np.linalg 模块中的函数，用于计算矩阵的行列式。\n",
    "np.linalg.det(A)"
   ]
  },
  {
   "cell_type": "code",
   "execution_count": null,
   "metadata": {},
   "outputs": [],
   "source": [
    "# matrix_rank(): 这是 np.linalg 模块中的函数，用于计算矩阵的秩。\n",
    "# 对于一个矩阵而言，如果它不是满秩的（秩不等于矩阵的行数或列数），那么它是奇异的，且没有逆矩阵。\n",
    "# 数学上，一个矩阵是满秩的，当且仅当它的行秩和列秩等于其阶（行数和列数的最小值）。如果一个矩阵不是满秩的，它就是奇异的。奇异矩阵的行列式为零，因为行列式的值表示的是矩阵的缩放因子，而奇异矩阵的缩放因子为零。\n",
    "# A.I 得到 0 矩阵\n",
    "A.I"
   ]
  },
  {
   "cell_type": "code",
   "execution_count": null,
   "metadata": {},
   "outputs": [],
   "source": [
    "d = A.I"
   ]
  },
  {
   "cell_type": "code",
   "execution_count": null,
   "metadata": {},
   "outputs": [],
   "source": [
    "A*d"
   ]
  },
  {
   "cell_type": "code",
   "execution_count": null,
   "metadata": {},
   "outputs": [],
   "source": [
    "d * A"
   ]
  },
  {
   "cell_type": "code",
   "execution_count": null,
   "metadata": {},
   "outputs": [],
   "source": []
  }
 ],
 "metadata": {
  "anaconda-cloud": {},
  "kernelspec": {
   "display_name": "Python 3 (ipykernel)",
   "language": "python",
   "name": "python3"
  },
  "language_info": {
   "codemirror_mode": {
    "name": "ipython",
    "version": 3
   },
   "file_extension": ".py",
   "mimetype": "text/x-python",
   "name": "python",
   "nbconvert_exporter": "python",
   "pygments_lexer": "ipython3",
   "version": "3.12.2"
  }
 },
 "nbformat": 4,
 "nbformat_minor": 1
}
