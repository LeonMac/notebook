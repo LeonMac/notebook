{
 "cells": [
  {
   "cell_type": "code",
   "execution_count": null,
   "metadata": {},
   "outputs": [],
   "source": [
    "import numpy as np\n",
    "import pandas as pd"
   ]
  },
  {
   "cell_type": "code",
   "execution_count": null,
   "metadata": {},
   "outputs": [],
   "source": [
    "# 每行是用户的评价，每列是用户对某本书的评价\n",
    "rating_matrix = np.array(\n",
    "    [[4,3,0,0,5,0],\n",
    "     [5,0,4,0,4,0],\n",
    "     [4,0,5,3,4,0],\n",
    "     [0,3,0,0,0,5],\n",
    "     [0,4,0,0,0,4],\n",
    "     [0,0,2,4,0,5]\n",
    "    ]\n",
    ")"
   ]
  },
  {
   "cell_type": "code",
   "execution_count": null,
   "metadata": {
    "jupyter": {
     "outputs_hidden": false
    }
   },
   "outputs": [],
   "source": [
    "from sklearn.metrics.pairwise import cosine_similarity\n",
    "user_sim = cosine_similarity(rating_matrix)\n",
    "user_sim"
   ]
  },
  {
   "cell_type": "code",
   "execution_count": null,
   "metadata": {
    "jupyter": {
     "outputs_hidden": false
    }
   },
   "outputs": [],
   "source": [
    "book_sim = cosine_similarity(rating_matrix.T)\n",
    "book_sim"
   ]
  },
  {
   "cell_type": "code",
   "execution_count": null,
   "metadata": {
    "jupyter": {
     "outputs_hidden": false
    }
   },
   "outputs": [],
   "source": [
    "# 用户1对所有6本书的评分\n",
    "print(rating_matrix[0])\n",
    "\n",
    "# 用户对第3本书和其它6本书的相似度, 可以看到它和第2本书毫无相似之处，而和第1本书相似度最高。\n",
    "print(book_sim[2])\n"
   ]
  },
  {
   "cell_type": "code",
   "execution_count": null,
   "metadata": {
    "jupyter": {
     "outputs_hidden": false
    }
   },
   "outputs": [],
   "source": [
    "#用户1，对第3本书的评分\n",
    "s_3 = np.dot(rating_matrix[0] ,book_sim[2]) /(book_sim[2][0]+book_sim[2][4])\n",
    "s_3"
   ]
  },
  {
   "cell_type": "code",
   "execution_count": null,
   "metadata": {
    "jupyter": {
     "outputs_hidden": false
    }
   },
   "outputs": [],
   "source": [
    "#用户1，对第4本书的评分\n",
    "\n",
    "print(book_sim[3])\n",
    "s_4 = np.dot(rating_matrix[0] ,book_sim[3]) /(book_sim[3][0]+book_sim[3][4])\n",
    "s_4"
   ]
  },
  {
   "cell_type": "code",
   "execution_count": null,
   "metadata": {
    "jupyter": {
     "outputs_hidden": false
    }
   },
   "outputs": [],
   "source": [
    "#用户1，对第6本书的评分\n",
    "\n",
    "print(book_sim[5])\n",
    "s_4 = np.dot(rating_matrix[0] ,book_sim[5]) /(book_sim[5][1])\n",
    "s_4"
   ]
  },
  {
   "cell_type": "code",
   "execution_count": null,
   "metadata": {},
   "outputs": [],
   "source": [
    "# 总结： sklearn.metrics.pairwise.cosine_similarity 其实是计算一个矩阵内的列向量之间的点积，从几何角度看，就是计算两个向量的点积。\n"
   ]
  }
 ],
 "metadata": {
  "anaconda-cloud": {},
  "kernelspec": {
   "display_name": "Python 3 (ipykernel)",
   "language": "python",
   "name": "python3"
  },
  "language_info": {
   "codemirror_mode": {
    "name": "ipython",
    "version": 3
   },
   "file_extension": ".py",
   "mimetype": "text/x-python",
   "name": "python",
   "nbconvert_exporter": "python",
   "pygments_lexer": "ipython3",
   "version": "3.10.0"
  }
 },
 "nbformat": 4,
 "nbformat_minor": 4
}
