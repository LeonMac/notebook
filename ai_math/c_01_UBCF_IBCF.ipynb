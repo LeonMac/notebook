{
 "cells": [
  {
   "cell_type": "code",
   "execution_count": 1,
   "metadata": {
    "execution": {
     "iopub.execute_input": "2024-12-07T05:42:12.790774Z",
     "iopub.status.busy": "2024-12-07T05:42:12.789967Z",
     "iopub.status.idle": "2024-12-07T05:42:13.507794Z",
     "shell.execute_reply": "2024-12-07T05:42:13.506484Z"
    }
   },
   "outputs": [],
   "source": [
    "import numpy as np\n",
    "import pandas as pd"
   ]
  },
  {
   "cell_type": "code",
   "execution_count": 2,
   "metadata": {
    "execution": {
     "iopub.execute_input": "2024-12-07T05:42:13.515061Z",
     "iopub.status.busy": "2024-12-07T05:42:13.513376Z",
     "iopub.status.idle": "2024-12-07T05:42:13.520801Z",
     "shell.execute_reply": "2024-12-07T05:42:13.519598Z"
    }
   },
   "outputs": [],
   "source": [
    "# 每行是用户的评价，每列是用户对某本书的评价\n",
    "rating_matrix = np.array(\n",
    "    [[4,3,0,0,5,0],\n",
    "     [5,0,4,0,4,0],\n",
    "     [4,0,5,3,4,0],\n",
    "     [0,3,0,0,0,5],\n",
    "     [0,4,0,0,0,4],\n",
    "     [0,0,2,4,0,5]\n",
    "    ]\n",
    ")"
   ]
  },
  {
   "cell_type": "code",
   "execution_count": 3,
   "metadata": {
    "execution": {
     "iopub.execute_input": "2024-12-07T05:42:13.526269Z",
     "iopub.status.busy": "2024-12-07T05:42:13.525842Z",
     "iopub.status.idle": "2024-12-07T05:42:14.444771Z",
     "shell.execute_reply": "2024-12-07T05:42:14.443386Z"
    },
    "jupyter": {
     "outputs_hidden": false
    }
   },
   "outputs": [
    {
     "data": {
      "text/plain": [
       "array([[1.        , 0.74926865, 0.62667956, 0.21828206, 0.3       ,\n",
       "        0.        ],\n",
       "       [0.74926865, 1.        , 0.91301651, 0.        , 0.        ,\n",
       "        0.1579597 ],\n",
       "       [0.62667956, 0.91301651, 1.        , 0.        , 0.        ,\n",
       "        0.40368671],\n",
       "       [0.21828206, 0.        , 0.        , 1.        , 0.9701425 ,\n",
       "        0.63913749],\n",
       "       [0.3       , 0.        , 0.        , 0.9701425 , 1.        ,\n",
       "        0.52704628],\n",
       "       [0.        , 0.1579597 , 0.40368671, 0.63913749, 0.52704628,\n",
       "        1.        ]])"
      ]
     },
     "execution_count": 3,
     "metadata": {},
     "output_type": "execute_result"
    }
   ],
   "source": [
    "from sklearn.metrics.pairwise import cosine_similarity\n",
    "user_sim = cosine_similarity(rating_matrix)\n",
    "user_sim"
   ]
  },
  {
   "cell_type": "code",
   "execution_count": 4,
   "metadata": {
    "execution": {
     "iopub.execute_input": "2024-12-07T05:42:14.450903Z",
     "iopub.status.busy": "2024-12-07T05:42:14.450265Z",
     "iopub.status.idle": "2024-12-07T05:42:14.460376Z",
     "shell.execute_reply": "2024-12-07T05:42:14.458943Z"
    },
    "jupyter": {
     "outputs_hidden": false
    }
   },
   "outputs": [
    {
     "data": {
      "text/plain": [
       "array([[1.        , 0.27258651, 0.7897985 , 0.31788777, 0.98245614,\n",
       "        0.        ],\n",
       "       [0.27258651, 1.        , 0.        , 0.        , 0.34073314,\n",
       "        0.65441051],\n",
       "       [0.7897985 , 0.        , 1.        , 0.68572751, 0.71081865,\n",
       "        0.18349396],\n",
       "       [0.31788777, 0.        , 0.68572751, 1.        , 0.31788777,\n",
       "        0.49236596],\n",
       "       [0.98245614, 0.34073314, 0.71081865, 0.31788777, 1.        ,\n",
       "        0.        ],\n",
       "       [0.        , 0.65441051, 0.18349396, 0.49236596, 0.        ,\n",
       "        1.        ]])"
      ]
     },
     "execution_count": 4,
     "metadata": {},
     "output_type": "execute_result"
    }
   ],
   "source": [
    "book_sim = cosine_similarity(rating_matrix.T)\n",
    "book_sim"
   ]
  },
  {
   "cell_type": "code",
   "execution_count": 5,
   "metadata": {
    "execution": {
     "iopub.execute_input": "2024-12-07T05:42:14.466127Z",
     "iopub.status.busy": "2024-12-07T05:42:14.465641Z",
     "iopub.status.idle": "2024-12-07T05:42:14.473062Z",
     "shell.execute_reply": "2024-12-07T05:42:14.471801Z"
    },
    "jupyter": {
     "outputs_hidden": false
    }
   },
   "outputs": [
    {
     "name": "stdout",
     "output_type": "stream",
     "text": [
      "[4 3 0 0 5 0]\n",
      "[0.7897985  0.         1.         0.68572751 0.71081865 0.18349396]\n"
     ]
    }
   ],
   "source": [
    "# 用户1对所有6本书的评分\n",
    "print(rating_matrix[0])\n",
    "\n",
    "# 用户对第3本书和其它6本书的相似度, 可以看到它和第2本书毫无相似之处，而和第1本书相似度最高。\n",
    "print(book_sim[2])\n"
   ]
  },
  {
   "cell_type": "code",
   "execution_count": 6,
   "metadata": {
    "execution": {
     "iopub.execute_input": "2024-12-07T05:42:14.478806Z",
     "iopub.status.busy": "2024-12-07T05:42:14.477722Z",
     "iopub.status.idle": "2024-12-07T05:42:14.486747Z",
     "shell.execute_reply": "2024-12-07T05:42:14.485391Z"
    },
    "jupyter": {
     "outputs_hidden": false
    }
   },
   "outputs": [
    {
     "data": {
      "text/plain": [
       "4.473684210526316"
      ]
     },
     "execution_count": 6,
     "metadata": {},
     "output_type": "execute_result"
    }
   ],
   "source": [
    "#用户1，对第3本书的评分\n",
    "s_3 = np.dot(rating_matrix[0] ,book_sim[2]) /(book_sim[2][0]+book_sim[2][4])\n",
    "s_3"
   ]
  },
  {
   "cell_type": "code",
   "execution_count": 7,
   "metadata": {
    "execution": {
     "iopub.execute_input": "2024-12-07T05:42:14.493618Z",
     "iopub.status.busy": "2024-12-07T05:42:14.492876Z",
     "iopub.status.idle": "2024-12-07T05:42:14.510974Z",
     "shell.execute_reply": "2024-12-07T05:42:14.508318Z"
    },
    "jupyter": {
     "outputs_hidden": false
    }
   },
   "outputs": [
    {
     "name": "stdout",
     "output_type": "stream",
     "text": [
      "[0.31788777 0.         0.68572751 1.         0.31788777 0.49236596]\n"
     ]
    },
    {
     "data": {
      "text/plain": [
       "4.5"
      ]
     },
     "execution_count": 7,
     "metadata": {},
     "output_type": "execute_result"
    }
   ],
   "source": [
    "#用户1，对第4本书的评分\n",
    "\n",
    "print(book_sim[3])\n",
    "s_4 = np.dot(rating_matrix[0] ,book_sim[3]) /(book_sim[3][0]+book_sim[3][4])\n",
    "s_4"
   ]
  },
  {
   "cell_type": "code",
   "execution_count": 8,
   "metadata": {
    "execution": {
     "iopub.execute_input": "2024-12-07T05:42:14.518738Z",
     "iopub.status.busy": "2024-12-07T05:42:14.518026Z",
     "iopub.status.idle": "2024-12-07T05:42:14.532414Z",
     "shell.execute_reply": "2024-12-07T05:42:14.530471Z"
    },
    "jupyter": {
     "outputs_hidden": false
    }
   },
   "outputs": [
    {
     "name": "stdout",
     "output_type": "stream",
     "text": [
      "[0.         0.65441051 0.18349396 0.49236596 0.         1.        ]\n"
     ]
    },
    {
     "data": {
      "text/plain": [
       "3.0"
      ]
     },
     "execution_count": 8,
     "metadata": {},
     "output_type": "execute_result"
    }
   ],
   "source": [
    "#用户1，对第6本书的评分\n",
    "\n",
    "print(book_sim[5])\n",
    "s_4 = np.dot(rating_matrix[0] ,book_sim[5]) /(book_sim[5][1])\n",
    "s_4"
   ]
  },
  {
   "cell_type": "code",
   "execution_count": 9,
   "metadata": {
    "execution": {
     "iopub.execute_input": "2024-12-07T05:42:14.542068Z",
     "iopub.status.busy": "2024-12-07T05:42:14.541444Z",
     "iopub.status.idle": "2024-12-07T05:42:14.549511Z",
     "shell.execute_reply": "2024-12-07T05:42:14.547568Z"
    }
   },
   "outputs": [],
   "source": [
    "# 总结： sklearn.metrics.pairwise.cosine_similarity 其实是计算一个矩阵内的列向量之间的点积，从几何角度看，就是计算两个向量的点积。\n"
   ]
  }
 ],
 "metadata": {
  "anaconda-cloud": {},
  "kernelspec": {
   "display_name": "Python 3 (ipykernel)",
   "language": "python",
   "name": "python3"
  },
  "language_info": {
   "codemirror_mode": {
    "name": "ipython",
    "version": 3
   },
   "file_extension": ".py",
   "mimetype": "text/x-python",
   "name": "python",
   "nbconvert_exporter": "python",
   "pygments_lexer": "ipython3",
   "version": "3.12.2"
  }
 },
 "nbformat": 4,
 "nbformat_minor": 4
}
