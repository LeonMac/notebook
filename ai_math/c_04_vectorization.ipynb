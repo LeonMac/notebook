{
 "cells": [
  {
   "cell_type": "markdown",
   "metadata": {},
   "source": [
    "# 文本向量化"
   ]
  },
  {
   "cell_type": "code",
   "execution_count": 1,
   "metadata": {
    "execution": {
     "iopub.execute_input": "2024-12-07T05:43:12.277799Z",
     "iopub.status.busy": "2024-12-07T05:43:12.276533Z",
     "iopub.status.idle": "2024-12-07T05:43:13.785903Z",
     "shell.execute_reply": "2024-12-07T05:43:13.784473Z"
    },
    "jupyter": {
     "outputs_hidden": false
    }
   },
   "outputs": [],
   "source": [
    "from sklearn.feature_extraction.text import TfidfVectorizer, CountVectorizer\n",
    "import pandas as pd\n",
    "\n",
    "text =[\"小贝来到北京清华大学\", \n",
    "        \"小花来到了网易杭研大厦\",   \n",
    "        \"小明硕士毕业于中国科学院\",\n",
    "        \"小明爱北京小明爱北京天安门\"\n",
    "]\n",
    "\n",
    "# 本文不管如何检测和断句，                \n",
    "corpus=[\"小贝 来到 北京 清华大学\", \n",
    "        \"小花 来到 了 网易 杭研 大厦\",   \n",
    "        \"小明 硕士 毕业 于 中国 科学院\",\n",
    "        \"小明 爱 北京 小明 爱 北京 天安门\"\n",
    "]"
   ]
  },
  {
   "cell_type": "markdown",
   "metadata": {},
   "source": [
    "## 二值化、词频"
   ]
  },
  {
   "cell_type": "markdown",
   "metadata": {},
   "source": [
    "### 二值化编码"
   ]
  },
  {
   "cell_type": "code",
   "execution_count": 2,
   "metadata": {
    "execution": {
     "iopub.execute_input": "2024-12-07T05:43:13.793430Z",
     "iopub.status.busy": "2024-12-07T05:43:13.792326Z",
     "iopub.status.idle": "2024-12-07T05:43:13.798894Z",
     "shell.execute_reply": "2024-12-07T05:43:13.797618Z"
    },
    "jupyter": {
     "outputs_hidden": false
    }
   },
   "outputs": [],
   "source": [
    "\n",
    "# CountVectorizer是scikit-learn库中的一个文本特征提取方法，它将文本数据转换成词频矩阵。\n",
    "# min_df=1表示忽略那些在所有文档中出现次数小于等于1的词语，即考虑所有出现过的词语。\n",
    "# binary=True表示将词频矩阵中的非零值设置为1，即只考虑是否出现而不考虑出现(不管出现多少次)的次数。\n",
    "vectorizer = CountVectorizer(min_df=1,binary=True) #Transformer\n"
   ]
  },
  {
   "cell_type": "markdown",
   "metadata": {},
   "source": [
    "### 词频"
   ]
  },
  {
   "cell_type": "code",
   "execution_count": 3,
   "metadata": {
    "execution": {
     "iopub.execute_input": "2024-12-07T05:43:13.805078Z",
     "iopub.status.busy": "2024-12-07T05:43:13.804558Z",
     "iopub.status.idle": "2024-12-07T05:43:13.818970Z",
     "shell.execute_reply": "2024-12-07T05:43:13.817612Z"
    }
   },
   "outputs": [
    {
     "name": "stdout",
     "output_type": "stream",
     "text": [
      "中国\n",
      "北京\n",
      "大厦\n",
      "天安门\n",
      "小明\n",
      "小花\n",
      "小贝\n",
      "来到\n",
      "杭研\n",
      "毕业\n",
      "清华大学\n",
      "硕士\n",
      "科学院\n",
      "网易\n",
      "total 14 features！\n"
     ]
    }
   ],
   "source": [
    "\n",
    "# fit_transform方法将输入的文本数据corpus转换成词频矩阵。corpus是一个包含文档的列表或数组，每个文档可以是一段文本。\n",
    "# fit_transform方法会学习词典（词汇表）并返回文本数据的词频矩阵。\n",
    "data = vectorizer.fit_transform(corpus)\n",
    "\n",
    "# get_feature_names_out方法用于获取生成的词汇表中的特征名（词语）。这里将获取的特征名存储在features变量中。\n",
    "features = vectorizer.get_feature_names_out()\n",
    "\n",
    "for word in features:\n",
    "    print(word)\n",
    "print(f\"total {len(features)} features！\")"
   ]
  },
  {
   "cell_type": "code",
   "execution_count": 4,
   "metadata": {
    "execution": {
     "iopub.execute_input": "2024-12-07T05:43:13.825481Z",
     "iopub.status.busy": "2024-12-07T05:43:13.824224Z",
     "iopub.status.idle": "2024-12-07T05:43:13.839476Z",
     "shell.execute_reply": "2024-12-07T05:43:13.838002Z"
    }
   },
   "outputs": [
    {
     "data": {
      "text/plain": [
       "<4x14 sparse matrix of type '<class 'numpy.int64'>'\n",
       "\twith 17 stored elements in Compressed Sparse Row format>"
      ]
     },
     "execution_count": 4,
     "metadata": {},
     "output_type": "execute_result"
    }
   ],
   "source": [
    "data"
   ]
  },
  {
   "cell_type": "code",
   "execution_count": 5,
   "metadata": {
    "execution": {
     "iopub.execute_input": "2024-12-07T05:43:13.845121Z",
     "iopub.status.busy": "2024-12-07T05:43:13.844587Z",
     "iopub.status.idle": "2024-12-07T05:43:13.853834Z",
     "shell.execute_reply": "2024-12-07T05:43:13.852567Z"
    },
    "jupyter": {
     "outputs_hidden": false
    }
   },
   "outputs": [
    {
     "data": {
      "text/plain": [
       "matrix([[0, 1, 0, 0, 0, 0, 1, 1, 0, 0, 1, 0, 0, 0],\n",
       "        [0, 0, 1, 0, 0, 1, 0, 1, 1, 0, 0, 0, 0, 1],\n",
       "        [1, 0, 0, 0, 1, 0, 0, 0, 0, 1, 0, 1, 1, 0],\n",
       "        [0, 1, 0, 1, 1, 0, 0, 0, 0, 0, 0, 0, 0, 0]])"
      ]
     },
     "execution_count": 5,
     "metadata": {},
     "output_type": "execute_result"
    }
   ],
   "source": [
    "data.todense()"
   ]
  },
  {
   "cell_type": "code",
   "execution_count": 6,
   "metadata": {
    "execution": {
     "iopub.execute_input": "2024-12-07T05:43:13.859452Z",
     "iopub.status.busy": "2024-12-07T05:43:13.858915Z",
     "iopub.status.idle": "2024-12-07T05:43:13.867095Z",
     "shell.execute_reply": "2024-12-07T05:43:13.865919Z"
    },
    "jupyter": {
     "outputs_hidden": false
    }
   },
   "outputs": [],
   "source": [
    "# 将CountVectorizer生成的词频矩阵（存储在data中）转换成一个DataFrame对象，并设置行索引和列名：\n",
    "# pd.DataFrame是Pandas库中用于创建数据框（DataFrame）的类。\n",
    "# data.toarray()将CountVectorizer生成的稀疏矩阵（在上一段代码中生成的data）转换成密集矩阵，即将文本数据的词频矩阵转换为二维数组。\n",
    "# index=text设置数据框的行索引为text。\n",
    "# columns=vectorizer.get_feature_names_out()设置数据框的列名为词汇表中的词语。get_feature_names_out()是CountVectorizer的方法，用于获取生成的词汇表中的特征名（词语）。\n",
    "\n",
    "doc_df = pd.DataFrame(data.toarray(), index=text, columns=vectorizer.get_feature_names_out()).head(10)"
   ]
  },
  {
   "cell_type": "code",
   "execution_count": 7,
   "metadata": {
    "execution": {
     "iopub.execute_input": "2024-12-07T05:43:13.872464Z",
     "iopub.status.busy": "2024-12-07T05:43:13.872018Z",
     "iopub.status.idle": "2024-12-07T05:43:13.899730Z",
     "shell.execute_reply": "2024-12-07T05:43:13.897911Z"
    },
    "jupyter": {
     "outputs_hidden": false
    }
   },
   "outputs": [
    {
     "data": {
      "text/html": [
       "<div>\n",
       "<style scoped>\n",
       "    .dataframe tbody tr th:only-of-type {\n",
       "        vertical-align: middle;\n",
       "    }\n",
       "\n",
       "    .dataframe tbody tr th {\n",
       "        vertical-align: top;\n",
       "    }\n",
       "\n",
       "    .dataframe thead th {\n",
       "        text-align: right;\n",
       "    }\n",
       "</style>\n",
       "<table border=\"1\" class=\"dataframe\">\n",
       "  <thead>\n",
       "    <tr style=\"text-align: right;\">\n",
       "      <th></th>\n",
       "      <th>中国</th>\n",
       "      <th>北京</th>\n",
       "      <th>大厦</th>\n",
       "      <th>天安门</th>\n",
       "      <th>小明</th>\n",
       "      <th>小花</th>\n",
       "      <th>小贝</th>\n",
       "      <th>来到</th>\n",
       "      <th>杭研</th>\n",
       "      <th>毕业</th>\n",
       "      <th>清华大学</th>\n",
       "      <th>硕士</th>\n",
       "      <th>科学院</th>\n",
       "      <th>网易</th>\n",
       "    </tr>\n",
       "  </thead>\n",
       "  <tbody>\n",
       "    <tr>\n",
       "      <th>小贝来到北京清华大学</th>\n",
       "      <td>0</td>\n",
       "      <td>1</td>\n",
       "      <td>0</td>\n",
       "      <td>0</td>\n",
       "      <td>0</td>\n",
       "      <td>0</td>\n",
       "      <td>1</td>\n",
       "      <td>1</td>\n",
       "      <td>0</td>\n",
       "      <td>0</td>\n",
       "      <td>1</td>\n",
       "      <td>0</td>\n",
       "      <td>0</td>\n",
       "      <td>0</td>\n",
       "    </tr>\n",
       "    <tr>\n",
       "      <th>小花来到了网易杭研大厦</th>\n",
       "      <td>0</td>\n",
       "      <td>0</td>\n",
       "      <td>1</td>\n",
       "      <td>0</td>\n",
       "      <td>0</td>\n",
       "      <td>1</td>\n",
       "      <td>0</td>\n",
       "      <td>1</td>\n",
       "      <td>1</td>\n",
       "      <td>0</td>\n",
       "      <td>0</td>\n",
       "      <td>0</td>\n",
       "      <td>0</td>\n",
       "      <td>1</td>\n",
       "    </tr>\n",
       "    <tr>\n",
       "      <th>小明硕士毕业于中国科学院</th>\n",
       "      <td>1</td>\n",
       "      <td>0</td>\n",
       "      <td>0</td>\n",
       "      <td>0</td>\n",
       "      <td>1</td>\n",
       "      <td>0</td>\n",
       "      <td>0</td>\n",
       "      <td>0</td>\n",
       "      <td>0</td>\n",
       "      <td>1</td>\n",
       "      <td>0</td>\n",
       "      <td>1</td>\n",
       "      <td>1</td>\n",
       "      <td>0</td>\n",
       "    </tr>\n",
       "    <tr>\n",
       "      <th>小明爱北京小明爱北京天安门</th>\n",
       "      <td>0</td>\n",
       "      <td>1</td>\n",
       "      <td>0</td>\n",
       "      <td>1</td>\n",
       "      <td>1</td>\n",
       "      <td>0</td>\n",
       "      <td>0</td>\n",
       "      <td>0</td>\n",
       "      <td>0</td>\n",
       "      <td>0</td>\n",
       "      <td>0</td>\n",
       "      <td>0</td>\n",
       "      <td>0</td>\n",
       "      <td>0</td>\n",
       "    </tr>\n",
       "  </tbody>\n",
       "</table>\n",
       "</div>"
      ],
      "text/plain": [
       "               中国  北京  大厦  天安门  小明  小花  小贝  来到  杭研  毕业  清华大学  硕士  科学院  网易\n",
       "小贝来到北京清华大学      0   1   0    0   0   0   1   1   0   0     1   0    0   0\n",
       "小花来到了网易杭研大厦     0   0   1    0   0   1   0   1   1   0     0   0    0   1\n",
       "小明硕士毕业于中国科学院    1   0   0    0   1   0   0   0   0   1     0   1    1   0\n",
       "小明爱北京小明爱北京天安门   0   1   0    1   1   0   0   0   0   0     0   0    0   0"
      ]
     },
     "execution_count": 7,
     "metadata": {},
     "output_type": "execute_result"
    }
   ],
   "source": [
    "doc_df"
   ]
  },
  {
   "cell_type": "code",
   "execution_count": 8,
   "metadata": {
    "execution": {
     "iopub.execute_input": "2024-12-07T05:43:13.907909Z",
     "iopub.status.busy": "2024-12-07T05:43:13.907032Z",
     "iopub.status.idle": "2024-12-07T05:43:13.994600Z",
     "shell.execute_reply": "2024-12-07T05:43:13.992739Z"
    },
    "jupyter": {
     "outputs_hidden": false
    }
   },
   "outputs": [],
   "source": [
    "from sklearn.metrics.pairwise import cosine_similarity\n",
    "cos_sims = cosine_similarity(doc_df)"
   ]
  },
  {
   "cell_type": "code",
   "execution_count": 9,
   "metadata": {
    "execution": {
     "iopub.execute_input": "2024-12-07T05:43:14.001796Z",
     "iopub.status.busy": "2024-12-07T05:43:14.001040Z",
     "iopub.status.idle": "2024-12-07T05:43:14.012487Z",
     "shell.execute_reply": "2024-12-07T05:43:14.010733Z"
    },
    "jupyter": {
     "outputs_hidden": false
    }
   },
   "outputs": [
    {
     "data": {
      "text/plain": [
       "array([[1.        , 0.2236068 , 0.        , 0.28867513],\n",
       "       [0.2236068 , 1.        , 0.        , 0.        ],\n",
       "       [0.        , 0.        , 1.        , 0.25819889],\n",
       "       [0.28867513, 0.        , 0.25819889, 1.        ]])"
      ]
     },
     "execution_count": 9,
     "metadata": {},
     "output_type": "execute_result"
    }
   ],
   "source": [
    "cos_sims"
   ]
  },
  {
   "cell_type": "code",
   "execution_count": 10,
   "metadata": {
    "execution": {
     "iopub.execute_input": "2024-12-07T05:43:14.019531Z",
     "iopub.status.busy": "2024-12-07T05:43:14.018844Z",
     "iopub.status.idle": "2024-12-07T05:43:14.027390Z",
     "shell.execute_reply": "2024-12-07T05:43:14.025616Z"
    },
    "jupyter": {
     "outputs_hidden": true
    }
   },
   "outputs": [],
   "source": [
    "sims_df = pd.DataFrame(cos_sims, index = text, columns = text)"
   ]
  },
  {
   "cell_type": "code",
   "execution_count": 11,
   "metadata": {
    "execution": {
     "iopub.execute_input": "2024-12-07T05:43:14.034938Z",
     "iopub.status.busy": "2024-12-07T05:43:14.034192Z",
     "iopub.status.idle": "2024-12-07T05:43:14.056589Z",
     "shell.execute_reply": "2024-12-07T05:43:14.054787Z"
    },
    "jupyter": {
     "outputs_hidden": false
    }
   },
   "outputs": [
    {
     "data": {
      "text/html": [
       "<div>\n",
       "<style scoped>\n",
       "    .dataframe tbody tr th:only-of-type {\n",
       "        vertical-align: middle;\n",
       "    }\n",
       "\n",
       "    .dataframe tbody tr th {\n",
       "        vertical-align: top;\n",
       "    }\n",
       "\n",
       "    .dataframe thead th {\n",
       "        text-align: right;\n",
       "    }\n",
       "</style>\n",
       "<table border=\"1\" class=\"dataframe\">\n",
       "  <thead>\n",
       "    <tr style=\"text-align: right;\">\n",
       "      <th></th>\n",
       "      <th>小贝来到北京清华大学</th>\n",
       "      <th>小花来到了网易杭研大厦</th>\n",
       "      <th>小明硕士毕业于中国科学院</th>\n",
       "      <th>小明爱北京小明爱北京天安门</th>\n",
       "    </tr>\n",
       "  </thead>\n",
       "  <tbody>\n",
       "    <tr>\n",
       "      <th>小贝来到北京清华大学</th>\n",
       "      <td>1.000000</td>\n",
       "      <td>0.223607</td>\n",
       "      <td>0.000000</td>\n",
       "      <td>0.288675</td>\n",
       "    </tr>\n",
       "    <tr>\n",
       "      <th>小花来到了网易杭研大厦</th>\n",
       "      <td>0.223607</td>\n",
       "      <td>1.000000</td>\n",
       "      <td>0.000000</td>\n",
       "      <td>0.000000</td>\n",
       "    </tr>\n",
       "    <tr>\n",
       "      <th>小明硕士毕业于中国科学院</th>\n",
       "      <td>0.000000</td>\n",
       "      <td>0.000000</td>\n",
       "      <td>1.000000</td>\n",
       "      <td>0.258199</td>\n",
       "    </tr>\n",
       "    <tr>\n",
       "      <th>小明爱北京小明爱北京天安门</th>\n",
       "      <td>0.288675</td>\n",
       "      <td>0.000000</td>\n",
       "      <td>0.258199</td>\n",
       "      <td>1.000000</td>\n",
       "    </tr>\n",
       "  </tbody>\n",
       "</table>\n",
       "</div>"
      ],
      "text/plain": [
       "               小贝来到北京清华大学  小花来到了网易杭研大厦  小明硕士毕业于中国科学院  小明爱北京小明爱北京天安门\n",
       "小贝来到北京清华大学       1.000000     0.223607      0.000000       0.288675\n",
       "小花来到了网易杭研大厦      0.223607     1.000000      0.000000       0.000000\n",
       "小明硕士毕业于中国科学院     0.000000     0.000000      1.000000       0.258199\n",
       "小明爱北京小明爱北京天安门    0.288675     0.000000      0.258199       1.000000"
      ]
     },
     "execution_count": 11,
     "metadata": {},
     "output_type": "execute_result"
    }
   ],
   "source": [
    "sims_df"
   ]
  },
  {
   "cell_type": "markdown",
   "metadata": {},
   "source": [
    "## tf-idf\n",
    "TF - IDF 法在词频法的基础上进行了改进。它对每个单词出现的次数做了修正，对于那些常见词，比如\"你\"\"我\"\"他\"\"是\"这样一些毫无区分度、在所有文章中都会大量出现的单词降低了它的频次，从而减少这个维度的重要性。\n",
    "而对于一些非常罕见、有非常强的区分能力的单词， TF - IDF 会调高它的频次。比如\"信息熵\"，这是个非常冷门的计算机术语，只会出现在一些专业论文里，不出现则已，一出现则锋芒毕现。像这样的词，要提升它的重要性。\n",
    "上面4句话经过 TF - IDF 编码后，得到的结果："
   ]
  },
  {
   "cell_type": "code",
   "execution_count": 12,
   "metadata": {
    "execution": {
     "iopub.execute_input": "2024-12-07T05:43:14.065062Z",
     "iopub.status.busy": "2024-12-07T05:43:14.064274Z",
     "iopub.status.idle": "2024-12-07T05:43:14.084509Z",
     "shell.execute_reply": "2024-12-07T05:43:14.082887Z"
    },
    "jupyter": {
     "outputs_hidden": false
    }
   },
   "outputs": [
    {
     "name": "stdout",
     "output_type": "stream",
     "text": [
      "中国\n",
      "北京\n",
      "大厦\n",
      "天安门\n",
      "小明\n",
      "小花\n",
      "小贝\n",
      "来到\n",
      "杭研\n",
      "毕业\n",
      "清华大学\n",
      "硕士\n",
      "科学院\n",
      "网易\n"
     ]
    }
   ],
   "source": [
    "vectorizer = TfidfVectorizer(min_df=1)\n",
    "data = vectorizer.fit_transform(corpus)\n",
    "features = vectorizer.get_feature_names_out()\n",
    "for word in features:\n",
    "    print(word)"
   ]
  },
  {
   "cell_type": "code",
   "execution_count": 13,
   "metadata": {
    "execution": {
     "iopub.execute_input": "2024-12-07T05:43:14.092334Z",
     "iopub.status.busy": "2024-12-07T05:43:14.091585Z",
     "iopub.status.idle": "2024-12-07T05:43:14.131027Z",
     "shell.execute_reply": "2024-12-07T05:43:14.129278Z"
    },
    "jupyter": {
     "outputs_hidden": false
    }
   },
   "outputs": [
    {
     "data": {
      "text/html": [
       "<div>\n",
       "<style scoped>\n",
       "    .dataframe tbody tr th:only-of-type {\n",
       "        vertical-align: middle;\n",
       "    }\n",
       "\n",
       "    .dataframe tbody tr th {\n",
       "        vertical-align: top;\n",
       "    }\n",
       "\n",
       "    .dataframe thead th {\n",
       "        text-align: right;\n",
       "    }\n",
       "</style>\n",
       "<table border=\"1\" class=\"dataframe\">\n",
       "  <thead>\n",
       "    <tr style=\"text-align: right;\">\n",
       "      <th></th>\n",
       "      <th>中国</th>\n",
       "      <th>北京</th>\n",
       "      <th>大厦</th>\n",
       "      <th>天安门</th>\n",
       "      <th>小明</th>\n",
       "      <th>小花</th>\n",
       "      <th>小贝</th>\n",
       "      <th>来到</th>\n",
       "      <th>杭研</th>\n",
       "      <th>毕业</th>\n",
       "      <th>清华大学</th>\n",
       "      <th>硕士</th>\n",
       "      <th>科学院</th>\n",
       "      <th>网易</th>\n",
       "    </tr>\n",
       "  </thead>\n",
       "  <tbody>\n",
       "    <tr>\n",
       "      <th>小贝来到北京清华大学</th>\n",
       "      <td>0.00</td>\n",
       "      <td>0.44</td>\n",
       "      <td>0.00</td>\n",
       "      <td>0.00</td>\n",
       "      <td>0.00</td>\n",
       "      <td>0.00</td>\n",
       "      <td>0.56</td>\n",
       "      <td>0.44</td>\n",
       "      <td>0.00</td>\n",
       "      <td>0.00</td>\n",
       "      <td>0.56</td>\n",
       "      <td>0.00</td>\n",
       "      <td>0.00</td>\n",
       "      <td>0.00</td>\n",
       "    </tr>\n",
       "    <tr>\n",
       "      <th>小花来到了网易杭研大厦</th>\n",
       "      <td>0.00</td>\n",
       "      <td>0.00</td>\n",
       "      <td>0.47</td>\n",
       "      <td>0.00</td>\n",
       "      <td>0.00</td>\n",
       "      <td>0.47</td>\n",
       "      <td>0.00</td>\n",
       "      <td>0.37</td>\n",
       "      <td>0.47</td>\n",
       "      <td>0.00</td>\n",
       "      <td>0.00</td>\n",
       "      <td>0.00</td>\n",
       "      <td>0.00</td>\n",
       "      <td>0.47</td>\n",
       "    </tr>\n",
       "    <tr>\n",
       "      <th>小明硕士毕业于中国科学院</th>\n",
       "      <td>0.47</td>\n",
       "      <td>0.00</td>\n",
       "      <td>0.00</td>\n",
       "      <td>0.00</td>\n",
       "      <td>0.37</td>\n",
       "      <td>0.00</td>\n",
       "      <td>0.00</td>\n",
       "      <td>0.00</td>\n",
       "      <td>0.00</td>\n",
       "      <td>0.47</td>\n",
       "      <td>0.00</td>\n",
       "      <td>0.47</td>\n",
       "      <td>0.47</td>\n",
       "      <td>0.00</td>\n",
       "    </tr>\n",
       "    <tr>\n",
       "      <th>小明爱北京小明爱北京天安门</th>\n",
       "      <td>0.00</td>\n",
       "      <td>0.65</td>\n",
       "      <td>0.00</td>\n",
       "      <td>0.41</td>\n",
       "      <td>0.65</td>\n",
       "      <td>0.00</td>\n",
       "      <td>0.00</td>\n",
       "      <td>0.00</td>\n",
       "      <td>0.00</td>\n",
       "      <td>0.00</td>\n",
       "      <td>0.00</td>\n",
       "      <td>0.00</td>\n",
       "      <td>0.00</td>\n",
       "      <td>0.00</td>\n",
       "    </tr>\n",
       "  </tbody>\n",
       "</table>\n",
       "</div>"
      ],
      "text/plain": [
       "                 中国    北京    大厦   天安门    小明    小花    小贝    来到    杭研    毕业  \\\n",
       "小贝来到北京清华大学     0.00  0.44  0.00  0.00  0.00  0.00  0.56  0.44  0.00  0.00   \n",
       "小花来到了网易杭研大厦    0.00  0.00  0.47  0.00  0.00  0.47  0.00  0.37  0.47  0.00   \n",
       "小明硕士毕业于中国科学院   0.47  0.00  0.00  0.00  0.37  0.00  0.00  0.00  0.00  0.47   \n",
       "小明爱北京小明爱北京天安门  0.00  0.65  0.00  0.41  0.65  0.00  0.00  0.00  0.00  0.00   \n",
       "\n",
       "               清华大学    硕士   科学院    网易  \n",
       "小贝来到北京清华大学     0.56  0.00  0.00  0.00  \n",
       "小花来到了网易杭研大厦    0.00  0.00  0.00  0.47  \n",
       "小明硕士毕业于中国科学院   0.00  0.47  0.47  0.00  \n",
       "小明爱北京小明爱北京天安门  0.00  0.00  0.00  0.00  "
      ]
     },
     "execution_count": 13,
     "metadata": {},
     "output_type": "execute_result"
    }
   ],
   "source": [
    "pd.set_option('display.precision', 2)\n",
    "doc_df = pd.DataFrame(data.toarray(), index=text, columns=vectorizer.get_feature_names_out()).head(10)\n",
    "doc_df"
   ]
  },
  {
   "cell_type": "code",
   "execution_count": null,
   "metadata": {
    "jupyter": {
     "outputs_hidden": true
    }
   },
   "outputs": [],
   "source": []
  }
 ],
 "metadata": {
  "anaconda-cloud": {},
  "kernelspec": {
   "display_name": "Python 3 (ipykernel)",
   "language": "python",
   "name": "python3"
  },
  "language_info": {
   "codemirror_mode": {
    "name": "ipython",
    "version": 3
   },
   "file_extension": ".py",
   "mimetype": "text/x-python",
   "name": "python",
   "nbconvert_exporter": "python",
   "pygments_lexer": "ipython3",
   "version": "3.12.2"
  }
 },
 "nbformat": 4,
 "nbformat_minor": 4
}
