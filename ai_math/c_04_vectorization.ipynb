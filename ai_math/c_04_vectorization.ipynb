{
 "cells": [
  {
   "cell_type": "markdown",
   "metadata": {},
   "source": [
    "# 文本向量化"
   ]
  },
  {
   "cell_type": "code",
   "execution_count": null,
   "metadata": {
    "jupyter": {
     "outputs_hidden": false
    }
   },
   "outputs": [],
   "source": [
    "from sklearn.feature_extraction.text import TfidfVectorizer, CountVectorizer\n",
    "import pandas as pd\n",
    "\n",
    "text =[\"小贝来到北京清华大学\", \n",
    "        \"小花来到了网易杭研大厦\",   \n",
    "        \"小明硕士毕业于中国科学院\",\n",
    "        \"小明爱北京小明爱北京天安门\"\n",
    "]\n",
    "\n",
    "# 本文不管如何检测和断句，                \n",
    "corpus=[\"小贝 来到 北京 清华大学\", \n",
    "        \"小花 来到 了 网易 杭研 大厦\",   \n",
    "        \"小明 硕士 毕业 于 中国 科学院\",\n",
    "        \"小明 爱 北京 小明 爱 北京 天安门\"\n",
    "]"
   ]
  },
  {
   "cell_type": "markdown",
   "metadata": {},
   "source": [
    "## 二值化、词频"
   ]
  },
  {
   "cell_type": "markdown",
   "metadata": {},
   "source": [
    "### 二值化编码"
   ]
  },
  {
   "cell_type": "code",
   "execution_count": null,
   "metadata": {
    "jupyter": {
     "outputs_hidden": false
    }
   },
   "outputs": [],
   "source": [
    "\n",
    "# CountVectorizer是scikit-learn库中的一个文本特征提取方法，它将文本数据转换成词频矩阵。\n",
    "# min_df=1表示忽略那些在所有文档中出现次数小于等于1的词语，即考虑所有出现过的词语。\n",
    "# binary=True表示将词频矩阵中的非零值设置为1，即只考虑是否出现而不考虑出现(不管出现多少次)的次数。\n",
    "vectorizer = CountVectorizer(min_df=1,binary=True) #Transformer\n"
   ]
  },
  {
   "cell_type": "markdown",
   "metadata": {},
   "source": [
    "### 词频"
   ]
  },
  {
   "cell_type": "code",
   "execution_count": null,
   "metadata": {},
   "outputs": [],
   "source": [
    "\n",
    "# fit_transform方法将输入的文本数据corpus转换成词频矩阵。corpus是一个包含文档的列表或数组，每个文档可以是一段文本。\n",
    "# fit_transform方法会学习词典（词汇表）并返回文本数据的词频矩阵。\n",
    "data = vectorizer.fit_transform(corpus)\n",
    "\n",
    "# get_feature_names_out方法用于获取生成的词汇表中的特征名（词语）。这里将获取的特征名存储在features变量中。\n",
    "features = vectorizer.get_feature_names_out()\n",
    "\n",
    "for word in features:\n",
    "    print(word)\n",
    "print(f\"total {len(features)} features！\")"
   ]
  },
  {
   "cell_type": "code",
   "execution_count": null,
   "metadata": {},
   "outputs": [],
   "source": [
    "data"
   ]
  },
  {
   "cell_type": "code",
   "execution_count": null,
   "metadata": {
    "jupyter": {
     "outputs_hidden": false
    }
   },
   "outputs": [],
   "source": [
    "data.todense()"
   ]
  },
  {
   "cell_type": "code",
   "execution_count": null,
   "metadata": {
    "jupyter": {
     "outputs_hidden": false
    }
   },
   "outputs": [],
   "source": [
    "# 将CountVectorizer生成的词频矩阵（存储在data中）转换成一个DataFrame对象，并设置行索引和列名：\n",
    "# pd.DataFrame是Pandas库中用于创建数据框（DataFrame）的类。\n",
    "# data.toarray()将CountVectorizer生成的稀疏矩阵（在上一段代码中生成的data）转换成密集矩阵，即将文本数据的词频矩阵转换为二维数组。\n",
    "# index=text设置数据框的行索引为text。\n",
    "# columns=vectorizer.get_feature_names_out()设置数据框的列名为词汇表中的词语。get_feature_names_out()是CountVectorizer的方法，用于获取生成的词汇表中的特征名（词语）。\n",
    "\n",
    "doc_df = pd.DataFrame(data.toarray(), index=text, columns=vectorizer.get_feature_names_out()).head(10)"
   ]
  },
  {
   "cell_type": "code",
   "execution_count": null,
   "metadata": {
    "jupyter": {
     "outputs_hidden": false
    }
   },
   "outputs": [],
   "source": [
    "doc_df"
   ]
  },
  {
   "cell_type": "code",
   "execution_count": null,
   "metadata": {
    "jupyter": {
     "outputs_hidden": false
    }
   },
   "outputs": [],
   "source": [
    "from sklearn.metrics.pairwise import cosine_similarity\n",
    "cos_sims = cosine_similarity(doc_df)"
   ]
  },
  {
   "cell_type": "code",
   "execution_count": null,
   "metadata": {
    "jupyter": {
     "outputs_hidden": false
    }
   },
   "outputs": [],
   "source": [
    "cos_sims"
   ]
  },
  {
   "cell_type": "code",
   "execution_count": null,
   "metadata": {
    "jupyter": {
     "outputs_hidden": true
    }
   },
   "outputs": [],
   "source": [
    "sims_df = pd.DataFrame(cos_sims, index = text, columns = text)"
   ]
  },
  {
   "cell_type": "code",
   "execution_count": null,
   "metadata": {
    "jupyter": {
     "outputs_hidden": false
    }
   },
   "outputs": [],
   "source": [
    "sims_df"
   ]
  },
  {
   "cell_type": "markdown",
   "metadata": {},
   "source": [
    "## tf-idf\n",
    "TF - IDF 法在词频法的基础上进行了改进。它对每个单词出现的次数做了修正，对于那些常见词，比如\"你\"\"我\"\"他\"\"是\"这样一些毫无区分度、在所有文章中都会大量出现的单词降低了它的频次，从而减少这个维度的重要性。\n",
    "而对于一些非常罕见、有非常强的区分能力的单词， TF - IDF 会调高它的频次。比如\"信息熵\"，这是个非常冷门的计算机术语，只会出现在一些专业论文里，不出现则已，一出现则锋芒毕现。像这样的词，要提升它的重要性。\n",
    "上面4句话经过 TF - IDF 编码后，得到的结果："
   ]
  },
  {
   "cell_type": "code",
   "execution_count": null,
   "metadata": {
    "jupyter": {
     "outputs_hidden": false
    }
   },
   "outputs": [],
   "source": [
    "vectorizer = TfidfVectorizer(min_df=1)\n",
    "data = vectorizer.fit_transform(corpus)\n",
    "features = vectorizer.get_feature_names_out()\n",
    "for word in features:\n",
    "    print(word)"
   ]
  },
  {
   "cell_type": "code",
   "execution_count": null,
   "metadata": {
    "jupyter": {
     "outputs_hidden": false
    }
   },
   "outputs": [],
   "source": [
    "pd.set_option('display.precision', 2)\n",
    "doc_df = pd.DataFrame(data.toarray(), index=text, columns=vectorizer.get_feature_names_out()).head(10)\n",
    "doc_df"
   ]
  },
  {
   "cell_type": "code",
   "execution_count": null,
   "metadata": {
    "jupyter": {
     "outputs_hidden": true
    }
   },
   "outputs": [],
   "source": []
  }
 ],
 "metadata": {
  "anaconda-cloud": {},
  "kernelspec": {
   "display_name": "Python 3 (ipykernel)",
   "language": "python",
   "name": "python3"
  },
  "language_info": {
   "codemirror_mode": {
    "name": "ipython",
    "version": 3
   },
   "file_extension": ".py",
   "mimetype": "text/x-python",
   "name": "python",
   "nbconvert_exporter": "python",
   "pygments_lexer": "ipython3",
   "version": "3.9.12"
  }
 },
 "nbformat": 4,
 "nbformat_minor": 4
}
