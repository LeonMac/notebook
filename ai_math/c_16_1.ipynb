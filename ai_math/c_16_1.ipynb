{
 "cells": [
  {
   "cell_type": "code",
   "execution_count": 1,
   "metadata": {
    "execution": {
     "iopub.execute_input": "2024-12-07T05:42:47.850302Z",
     "iopub.status.busy": "2024-12-07T05:42:47.849623Z",
     "iopub.status.idle": "2024-12-07T05:42:47.866882Z",
     "shell.execute_reply": "2024-12-07T05:42:47.864935Z"
    }
   },
   "outputs": [],
   "source": [
    "data_path = u'data/c_16/'"
   ]
  },
  {
   "cell_type": "code",
   "execution_count": 2,
   "metadata": {
    "execution": {
     "iopub.execute_input": "2024-12-07T05:42:47.874905Z",
     "iopub.status.busy": "2024-12-07T05:42:47.874028Z",
     "iopub.status.idle": "2024-12-07T05:42:47.883142Z",
     "shell.execute_reply": "2024-12-07T05:42:47.881095Z"
    }
   },
   "outputs": [],
   "source": [
    "neg_data=data_path+u'neg.csv'\n",
    "pos_data=data_path+u'pos.csv'"
   ]
  },
  {
   "cell_type": "code",
   "execution_count": 3,
   "metadata": {
    "execution": {
     "iopub.execute_input": "2024-12-07T05:42:47.890453Z",
     "iopub.status.busy": "2024-12-07T05:42:47.889799Z",
     "iopub.status.idle": "2024-12-07T05:42:48.559675Z",
     "shell.execute_reply": "2024-12-07T05:42:48.558598Z"
    }
   },
   "outputs": [],
   "source": [
    "import pandas as pd"
   ]
  },
  {
   "cell_type": "code",
   "execution_count": 4,
   "metadata": {
    "execution": {
     "iopub.execute_input": "2024-12-07T05:42:48.565694Z",
     "iopub.status.busy": "2024-12-07T05:42:48.565126Z",
     "iopub.status.idle": "2024-12-07T05:42:48.571001Z",
     "shell.execute_reply": "2024-12-07T05:42:48.569624Z"
    }
   },
   "outputs": [],
   "source": [
    "import codecs"
   ]
  },
  {
   "cell_type": "code",
   "execution_count": 5,
   "metadata": {
    "execution": {
     "iopub.execute_input": "2024-12-07T05:42:48.576293Z",
     "iopub.status.busy": "2024-12-07T05:42:48.575868Z",
     "iopub.status.idle": "2024-12-07T05:42:49.429237Z",
     "shell.execute_reply": "2024-12-07T05:42:49.427309Z"
    }
   },
   "outputs": [
    {
     "ename": "ModuleNotFoundError",
     "evalue": "No module named 'jieba'",
     "output_type": "error",
     "traceback": [
      "\u001b[0;31m---------------------------------------------------------------------------\u001b[0m",
      "\u001b[0;31mModuleNotFoundError\u001b[0m                       Traceback (most recent call last)",
      "Cell \u001b[0;32mIn[5], line 3\u001b[0m\n\u001b[1;32m      1\u001b[0m \u001b[38;5;66;03m# pip install jieba\u001b[39;00m\n\u001b[0;32m----> 3\u001b[0m \u001b[38;5;28;01mimport\u001b[39;00m \u001b[38;5;21;01mjieba\u001b[39;00m\n",
      "\u001b[0;31mModuleNotFoundError\u001b[0m: No module named 'jieba'"
     ]
    }
   ],
   "source": [
    "# pip install jieba\n",
    "\n",
    "import jieba"
   ]
  },
  {
   "cell_type": "code",
   "execution_count": null,
   "metadata": {},
   "outputs": [],
   "source": [
    "corpus = []\n",
    "with codecs.open(neg_data,encoding='utf-8') as f:\n",
    "    for line in f:\n",
    "        words = list(jieba.cut(line.replace('|','')))\n",
    "        corpus.append(' '.join(words))\n",
    "\n",
    "neg_df = pd.DataFrame()\n",
    "neg_df['content'] = corpus\n",
    "neg_df['label'] = 0\n",
    "\n",
    "corpus2 = []\n",
    "with codecs.open(pos_data,encoding='utf-8') as f:\n",
    "    for line in f:\n",
    "        words = list(jieba.cut(line.replace('|','')))\n",
    "        corpus2.append(' '.join(words))\n",
    "\n",
    "pos_df = pd.DataFrame()\n",
    "pos_df['content']=corpus2\n",
    "pos_df['label'] = 1   "
   ]
  },
  {
   "cell_type": "code",
   "execution_count": null,
   "metadata": {},
   "outputs": [],
   "source": [
    "neg_df.head(5)"
   ]
  },
  {
   "cell_type": "code",
   "execution_count": null,
   "metadata": {},
   "outputs": [],
   "source": [
    "pos_df.head(5)"
   ]
  },
  {
   "cell_type": "code",
   "execution_count": null,
   "metadata": {},
   "outputs": [],
   "source": [
    "corpus_df = pd.concat((neg_df,pos_df))     "
   ]
  },
  {
   "cell_type": "code",
   "execution_count": null,
   "metadata": {},
   "outputs": [],
   "source": [
    "corpus_df.head(5)"
   ]
  },
  {
   "cell_type": "code",
   "execution_count": null,
   "metadata": {},
   "outputs": [],
   "source": [
    "from sklearn.feature_extraction.text import CountVectorizer"
   ]
  },
  {
   "cell_type": "code",
   "execution_count": null,
   "metadata": {},
   "outputs": [],
   "source": [
    "cv=CountVectorizer()\n",
    "counts = cv.fit_transform(corpus_df['content'].values)"
   ]
  },
  {
   "cell_type": "code",
   "execution_count": null,
   "metadata": {},
   "outputs": [],
   "source": [
    "from sklearn.naive_bayes import MultinomialNB"
   ]
  },
  {
   "cell_type": "code",
   "execution_count": null,
   "metadata": {},
   "outputs": [],
   "source": [
    "classifier = MultinomialNB()\n",
    "targets = corpus_df['label'].values\n",
    "classifier.fit(counts, targets)"
   ]
  },
  {
   "cell_type": "code",
   "execution_count": null,
   "metadata": {},
   "outputs": [],
   "source": [
    "examples = [u'这 本 书 真差', u\"这个 电影 还 可 以\"]\n",
    "example_counts = cv.transform(examples)\n",
    "predictions = classifier.predict(example_counts)"
   ]
  },
  {
   "cell_type": "code",
   "execution_count": null,
   "metadata": {},
   "outputs": [],
   "source": [
    "predictions"
   ]
  },
  {
   "cell_type": "code",
   "execution_count": null,
   "metadata": {},
   "outputs": [],
   "source": []
  }
 ],
 "metadata": {
  "kernelspec": {
   "display_name": "Python 2",
   "language": "python",
   "name": "python2"
  },
  "language_info": {
   "codemirror_mode": {
    "name": "ipython",
    "version": 3
   },
   "file_extension": ".py",
   "mimetype": "text/x-python",
   "name": "python",
   "nbconvert_exporter": "python",
   "pygments_lexer": "ipython3",
   "version": "3.12.2"
  }
 },
 "nbformat": 4,
 "nbformat_minor": 1
}
