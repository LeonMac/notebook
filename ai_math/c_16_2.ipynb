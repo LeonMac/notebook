{
 "cells": [
  {
   "cell_type": "code",
   "execution_count": null,
   "metadata": {},
   "outputs": [],
   "source": [
    "import pandas as pd\n",
    "import numpy as np"
   ]
  },
  {
   "cell_type": "code",
   "execution_count": null,
   "metadata": {},
   "outputs": [],
   "source": [
    "# Create an empty dataframe\n",
    "data = pd.DataFrame()\n",
    "\n",
    "# Create our target variable\n",
    "data['Gender'] = ['male','male','male','male','female','female','female','female']\n",
    "\n",
    "# Create our feature variables\n",
    "data['Height'] = [6,5.92,5.58,5.92,5,5.5,5.42,5.75]\n",
    "data['Weight'] = [180,190,170,165,100,150,130,150]\n",
    "data['Size'] = [12,11,12,10,6,8,7,9]\n",
    "data['Team'] = ['i100','i100','i500','i100','i500','i100','i500','i100']\n",
    "\n",
    "# View the data\n",
    "data"
   ]
  },
  {
   "cell_type": "code",
   "execution_count": null,
   "metadata": {},
   "outputs": [],
   "source": [
    "person = pd.DataFrame()\n",
    "\n",
    "# Create some feature values for this single row\n",
    "person['Height'] = [6]\n",
    "person['Weight'] = [130]\n",
    "person['Size'] = [8]\n",
    "person['Gender'] = ['female']\n",
    "# View the data \n",
    "person"
   ]
  },
  {
   "cell_type": "code",
   "execution_count": null,
   "metadata": {},
   "outputs": [],
   "source": [
    "df1 = data.groupby(['Team','Gender']).size().rename('cnt').reset_index().set_index('Team')\n",
    "df2 = pd.DataFrame(data.groupby(['Team']).size().rename('total'))\n",
    "\n",
    "df3 = df1.merge(df2,left_index=True,right_index=True)\n",
    "df3['p'] = df3['cnt'] * 1.0 /df3['total']\n",
    "df3=df3.reset_index()\n",
    "df3"
   ]
  },
  {
   "cell_type": "code",
   "execution_count": null,
   "metadata": {},
   "outputs": [],
   "source": [
    "def p_x_given_y_1(team,gender):\n",
    "     return df3['p'][df3['Team'] == team][df3['Gender']== gender].values[0]\n",
    "\n",
    "p_x_given_y_1('i100','female')"
   ]
  },
  {
   "cell_type": "code",
   "execution_count": null,
   "metadata": {},
   "outputs": [],
   "source": [
    "#计算先验\n",
    "# Number of i100\n",
    "n_i100 = data['Team'][data['Team'] == 'i100'].count()\n",
    "\n",
    "# Number of i500\n",
    "n_i500 = data['Team'][data['Team'] == 'i500'].count()\n",
    "\n",
    "# Total rows\n",
    "total_ppl = data['Team'].count()\n",
    " "
   ]
  },
  {
   "cell_type": "code",
   "execution_count": null,
   "metadata": {},
   "outputs": [],
   "source": [
    "# Number of males divided by the total rows\n",
    "P_i100 = n_i100*1.0/total_ppl\n",
    "\n",
    "# Number of females divided by the total rows\n",
    "P_i500 = n_i500*1.0/total_ppl\n",
    "\n",
    "print P_i100,P_i500"
   ]
  },
  {
   "cell_type": "code",
   "execution_count": null,
   "metadata": {},
   "outputs": [],
   "source": [
    "# Group the data by gender and calculate the means of each feature\n",
    "data_means = data.groupby('Team').mean()\n",
    "\n",
    "# View the values\n",
    "data_means"
   ]
  },
  {
   "cell_type": "code",
   "execution_count": null,
   "metadata": {},
   "outputs": [],
   "source": [
    "# Group the data by gender and calculate the variance of each feature\n",
    "data_variance = data.groupby('Team').var()\n",
    "\n",
    "# View the values\n",
    "data_variance"
   ]
  },
  {
   "cell_type": "code",
   "execution_count": null,
   "metadata": {},
   "outputs": [],
   "source": [
    "#计算我们需要的均值方差\n",
    "# Means for i100\n",
    "i100_height_mean = data_means['Height'][data_means.index == 'i100'].values[0]\n",
    "i100_weight_mean = data_means['Weight'][data_means.index == 'i100'].values[0]\n",
    "i100_size_mean = data_means['Size'][data_means.index == 'i100'].values[0]\n",
    "\n",
    "# Variance for i100\n",
    "i100_height_variance = data_variance['Height'][data_variance.index == 'i100'].values[0]\n",
    "i100_weight_variance = data_variance['Weight'][data_variance.index == 'i100'].values[0]\n",
    "i100_size_variance = data_variance['Size'][data_variance.index == 'i100'].values[0]\n",
    "\n",
    "# Means for i500\n",
    "i500_height_mean = data_means['Height'][data_means.index == 'i500'].values[0]\n",
    "i500_weight_mean = data_means['Weight'][data_means.index == 'i500'].values[0]\n",
    "i500_size_mean = data_means['Size'][data_means.index == 'i500'].values[0]\n",
    "\n",
    "# Variance for i500\n",
    "i500_height_variance = data_variance['Height'][data_variance.index == 'i500'].values[0]\n",
    "i500_weight_variance = data_variance['Weight'][data_variance.index == 'i500'].values[0]\n",
    "i500_size_variance = data_variance['Size'][data_variance.index == 'i500'].values[0]\n"
   ]
  },
  {
   "cell_type": "code",
   "execution_count": null,
   "metadata": {},
   "outputs": [],
   "source": [
    "#接下来，我们写个公式来计算高斯分布的概率\n",
    "\n",
    "def p_x_given_y_2(x, mean_y, variance_y):\n",
    "\n",
    "    # Input the arguments into a probability density function\n",
    "    p = 1/(np.sqrt(2*np.pi*variance_y)) * np.exp((-(x-mean_y)**2)/(2*variance_y))\n",
    "    \n",
    "    # return p\n",
    "    return p\n",
    "person['Gender'][0]"
   ]
  },
  {
   "cell_type": "code",
   "execution_count": null,
   "metadata": {},
   "outputs": [],
   "source": [
    "P_i100 * p_x_given_y_1('i100',person['Gender'][0]) * \\\n",
    "p_x_given_y_2(person['Height'][0], i100_height_mean, i100_height_variance) * \\\n",
    "p_x_given_y_2(person['Weight'][0], i100_weight_mean, i100_weight_variance) * \\\n",
    "p_x_given_y_2(person['Size'][0], i100_size_mean, i100_size_variance)"
   ]
  },
  {
   "cell_type": "code",
   "execution_count": null,
   "metadata": {},
   "outputs": [],
   "source": [
    "# Numerator of the posterior if the unclassified observation is a female\n",
    "P_i500 * p_x_given_y_1('i500',person['Gender'][0]) *\\\n",
    "p_x_given_y_2(person['Height'][0], i500_height_mean, i500_height_variance) * \\\n",
    "p_x_given_y_2(person['Weight'][0], i500_weight_mean, i500_weight_variance) * \\\n",
    "p_x_given_y_2(person['Size'][0], i500_size_mean, i500_size_variance)"
   ]
  },
  {
   "cell_type": "code",
   "execution_count": null,
   "metadata": {},
   "outputs": [],
   "source": [
    "9.815927236658199e-05 >3.9059158012458166e-05"
   ]
  },
  {
   "cell_type": "code",
   "execution_count": null,
   "metadata": {},
   "outputs": [],
   "source": []
  }
 ],
 "metadata": {
  "kernelspec": {
   "display_name": "Python 2",
   "language": "python",
   "name": "python2"
  },
  "language_info": {
   "codemirror_mode": {
    "name": "ipython",
    "version": 2
   },
   "file_extension": ".py",
   "mimetype": "text/x-python",
   "name": "python",
   "nbconvert_exporter": "python",
   "pygments_lexer": "ipython2",
   "version": "2.7.11"
  }
 },
 "nbformat": 4,
 "nbformat_minor": 0
}
