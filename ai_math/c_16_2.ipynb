{
 "cells": [
  {
   "cell_type": "code",
   "execution_count": 1,
   "metadata": {
    "execution": {
     "iopub.execute_input": "2024-12-07T05:44:20.727970Z",
     "iopub.status.busy": "2024-12-07T05:44:20.727325Z",
     "iopub.status.idle": "2024-12-07T05:44:21.374802Z",
     "shell.execute_reply": "2024-12-07T05:44:21.373468Z"
    }
   },
   "outputs": [],
   "source": [
    "import pandas as pd\n",
    "import numpy as np"
   ]
  },
  {
   "cell_type": "code",
   "execution_count": 2,
   "metadata": {
    "execution": {
     "iopub.execute_input": "2024-12-07T05:44:21.381268Z",
     "iopub.status.busy": "2024-12-07T05:44:21.380495Z",
     "iopub.status.idle": "2024-12-07T05:44:21.425473Z",
     "shell.execute_reply": "2024-12-07T05:44:21.424053Z"
    }
   },
   "outputs": [
    {
     "data": {
      "text/html": [
       "<div>\n",
       "<style scoped>\n",
       "    .dataframe tbody tr th:only-of-type {\n",
       "        vertical-align: middle;\n",
       "    }\n",
       "\n",
       "    .dataframe tbody tr th {\n",
       "        vertical-align: top;\n",
       "    }\n",
       "\n",
       "    .dataframe thead th {\n",
       "        text-align: right;\n",
       "    }\n",
       "</style>\n",
       "<table border=\"1\" class=\"dataframe\">\n",
       "  <thead>\n",
       "    <tr style=\"text-align: right;\">\n",
       "      <th></th>\n",
       "      <th>Gender</th>\n",
       "      <th>Height</th>\n",
       "      <th>Weight</th>\n",
       "      <th>Size</th>\n",
       "      <th>Team</th>\n",
       "    </tr>\n",
       "  </thead>\n",
       "  <tbody>\n",
       "    <tr>\n",
       "      <th>0</th>\n",
       "      <td>male</td>\n",
       "      <td>6.00</td>\n",
       "      <td>180</td>\n",
       "      <td>12</td>\n",
       "      <td>i100</td>\n",
       "    </tr>\n",
       "    <tr>\n",
       "      <th>1</th>\n",
       "      <td>male</td>\n",
       "      <td>5.92</td>\n",
       "      <td>190</td>\n",
       "      <td>11</td>\n",
       "      <td>i100</td>\n",
       "    </tr>\n",
       "    <tr>\n",
       "      <th>2</th>\n",
       "      <td>male</td>\n",
       "      <td>5.58</td>\n",
       "      <td>170</td>\n",
       "      <td>12</td>\n",
       "      <td>i500</td>\n",
       "    </tr>\n",
       "    <tr>\n",
       "      <th>3</th>\n",
       "      <td>male</td>\n",
       "      <td>5.92</td>\n",
       "      <td>165</td>\n",
       "      <td>10</td>\n",
       "      <td>i100</td>\n",
       "    </tr>\n",
       "    <tr>\n",
       "      <th>4</th>\n",
       "      <td>female</td>\n",
       "      <td>5.00</td>\n",
       "      <td>100</td>\n",
       "      <td>6</td>\n",
       "      <td>i500</td>\n",
       "    </tr>\n",
       "    <tr>\n",
       "      <th>5</th>\n",
       "      <td>female</td>\n",
       "      <td>5.50</td>\n",
       "      <td>150</td>\n",
       "      <td>8</td>\n",
       "      <td>i100</td>\n",
       "    </tr>\n",
       "    <tr>\n",
       "      <th>6</th>\n",
       "      <td>female</td>\n",
       "      <td>5.42</td>\n",
       "      <td>130</td>\n",
       "      <td>7</td>\n",
       "      <td>i500</td>\n",
       "    </tr>\n",
       "    <tr>\n",
       "      <th>7</th>\n",
       "      <td>female</td>\n",
       "      <td>5.75</td>\n",
       "      <td>150</td>\n",
       "      <td>9</td>\n",
       "      <td>i100</td>\n",
       "    </tr>\n",
       "  </tbody>\n",
       "</table>\n",
       "</div>"
      ],
      "text/plain": [
       "   Gender  Height  Weight  Size  Team\n",
       "0    male    6.00     180    12  i100\n",
       "1    male    5.92     190    11  i100\n",
       "2    male    5.58     170    12  i500\n",
       "3    male    5.92     165    10  i100\n",
       "4  female    5.00     100     6  i500\n",
       "5  female    5.50     150     8  i100\n",
       "6  female    5.42     130     7  i500\n",
       "7  female    5.75     150     9  i100"
      ]
     },
     "execution_count": 2,
     "metadata": {},
     "output_type": "execute_result"
    }
   ],
   "source": [
    "# Create an empty dataframe\n",
    "data = pd.DataFrame()\n",
    "\n",
    "# Create our target variable\n",
    "data['Gender'] = ['male','male','male','male','female','female','female','female']\n",
    "\n",
    "# Create our feature variables\n",
    "data['Height'] = [6,5.92,5.58,5.92,5,5.5,5.42,5.75]\n",
    "data['Weight'] = [180,190,170,165,100,150,130,150]\n",
    "data['Size'] = [12,11,12,10,6,8,7,9]\n",
    "data['Team'] = ['i100','i100','i500','i100','i500','i100','i500','i100']\n",
    "\n",
    "# View the data\n",
    "data"
   ]
  },
  {
   "cell_type": "code",
   "execution_count": 3,
   "metadata": {
    "execution": {
     "iopub.execute_input": "2024-12-07T05:44:21.430628Z",
     "iopub.status.busy": "2024-12-07T05:44:21.430141Z",
     "iopub.status.idle": "2024-12-07T05:44:21.449056Z",
     "shell.execute_reply": "2024-12-07T05:44:21.447665Z"
    }
   },
   "outputs": [
    {
     "data": {
      "text/html": [
       "<div>\n",
       "<style scoped>\n",
       "    .dataframe tbody tr th:only-of-type {\n",
       "        vertical-align: middle;\n",
       "    }\n",
       "\n",
       "    .dataframe tbody tr th {\n",
       "        vertical-align: top;\n",
       "    }\n",
       "\n",
       "    .dataframe thead th {\n",
       "        text-align: right;\n",
       "    }\n",
       "</style>\n",
       "<table border=\"1\" class=\"dataframe\">\n",
       "  <thead>\n",
       "    <tr style=\"text-align: right;\">\n",
       "      <th></th>\n",
       "      <th>Height</th>\n",
       "      <th>Weight</th>\n",
       "      <th>Size</th>\n",
       "      <th>Gender</th>\n",
       "    </tr>\n",
       "  </thead>\n",
       "  <tbody>\n",
       "    <tr>\n",
       "      <th>0</th>\n",
       "      <td>6</td>\n",
       "      <td>130</td>\n",
       "      <td>8</td>\n",
       "      <td>female</td>\n",
       "    </tr>\n",
       "  </tbody>\n",
       "</table>\n",
       "</div>"
      ],
      "text/plain": [
       "   Height  Weight  Size  Gender\n",
       "0       6     130     8  female"
      ]
     },
     "execution_count": 3,
     "metadata": {},
     "output_type": "execute_result"
    }
   ],
   "source": [
    "person = pd.DataFrame()\n",
    "\n",
    "# Create some feature values for this single row\n",
    "person['Height'] = [6]\n",
    "person['Weight'] = [130]\n",
    "person['Size'] = [8]\n",
    "person['Gender'] = ['female']\n",
    "# View the data \n",
    "person"
   ]
  },
  {
   "cell_type": "code",
   "execution_count": 4,
   "metadata": {
    "execution": {
     "iopub.execute_input": "2024-12-07T05:44:21.455235Z",
     "iopub.status.busy": "2024-12-07T05:44:21.454737Z",
     "iopub.status.idle": "2024-12-07T05:44:21.491528Z",
     "shell.execute_reply": "2024-12-07T05:44:21.490180Z"
    }
   },
   "outputs": [
    {
     "data": {
      "text/html": [
       "<div>\n",
       "<style scoped>\n",
       "    .dataframe tbody tr th:only-of-type {\n",
       "        vertical-align: middle;\n",
       "    }\n",
       "\n",
       "    .dataframe tbody tr th {\n",
       "        vertical-align: top;\n",
       "    }\n",
       "\n",
       "    .dataframe thead th {\n",
       "        text-align: right;\n",
       "    }\n",
       "</style>\n",
       "<table border=\"1\" class=\"dataframe\">\n",
       "  <thead>\n",
       "    <tr style=\"text-align: right;\">\n",
       "      <th></th>\n",
       "      <th>Team</th>\n",
       "      <th>Gender</th>\n",
       "      <th>cnt</th>\n",
       "      <th>total</th>\n",
       "      <th>p</th>\n",
       "    </tr>\n",
       "  </thead>\n",
       "  <tbody>\n",
       "    <tr>\n",
       "      <th>0</th>\n",
       "      <td>i100</td>\n",
       "      <td>female</td>\n",
       "      <td>2</td>\n",
       "      <td>5</td>\n",
       "      <td>0.400000</td>\n",
       "    </tr>\n",
       "    <tr>\n",
       "      <th>1</th>\n",
       "      <td>i100</td>\n",
       "      <td>male</td>\n",
       "      <td>3</td>\n",
       "      <td>5</td>\n",
       "      <td>0.600000</td>\n",
       "    </tr>\n",
       "    <tr>\n",
       "      <th>2</th>\n",
       "      <td>i500</td>\n",
       "      <td>female</td>\n",
       "      <td>2</td>\n",
       "      <td>3</td>\n",
       "      <td>0.666667</td>\n",
       "    </tr>\n",
       "    <tr>\n",
       "      <th>3</th>\n",
       "      <td>i500</td>\n",
       "      <td>male</td>\n",
       "      <td>1</td>\n",
       "      <td>3</td>\n",
       "      <td>0.333333</td>\n",
       "    </tr>\n",
       "  </tbody>\n",
       "</table>\n",
       "</div>"
      ],
      "text/plain": [
       "   Team  Gender  cnt  total         p\n",
       "0  i100  female    2      5  0.400000\n",
       "1  i100    male    3      5  0.600000\n",
       "2  i500  female    2      3  0.666667\n",
       "3  i500    male    1      3  0.333333"
      ]
     },
     "execution_count": 4,
     "metadata": {},
     "output_type": "execute_result"
    }
   ],
   "source": [
    "df1 = data.groupby(['Team','Gender']).size().rename('cnt').reset_index().set_index('Team')\n",
    "df2 = pd.DataFrame(data.groupby(['Team']).size().rename('total'))\n",
    "\n",
    "df3 = df1.merge(df2,left_index=True,right_index=True)\n",
    "df3['p'] = df3['cnt'] * 1.0 /df3['total']\n",
    "df3=df3.reset_index()\n",
    "df3"
   ]
  },
  {
   "cell_type": "code",
   "execution_count": 5,
   "metadata": {
    "execution": {
     "iopub.execute_input": "2024-12-07T05:44:21.497698Z",
     "iopub.status.busy": "2024-12-07T05:44:21.497238Z",
     "iopub.status.idle": "2024-12-07T05:44:21.509204Z",
     "shell.execute_reply": "2024-12-07T05:44:21.507396Z"
    }
   },
   "outputs": [
    {
     "data": {
      "text/plain": [
       "0.4"
      ]
     },
     "execution_count": 5,
     "metadata": {},
     "output_type": "execute_result"
    }
   ],
   "source": [
    "def p_x_given_y_1(team,gender):\n",
    "     return df3['p'][df3['Team'] == team][df3['Gender']== gender].values[0]\n",
    "\n",
    "p_x_given_y_1('i100','female')"
   ]
  },
  {
   "cell_type": "code",
   "execution_count": 6,
   "metadata": {
    "execution": {
     "iopub.execute_input": "2024-12-07T05:44:21.515059Z",
     "iopub.status.busy": "2024-12-07T05:44:21.514490Z",
     "iopub.status.idle": "2024-12-07T05:44:21.523389Z",
     "shell.execute_reply": "2024-12-07T05:44:21.522026Z"
    }
   },
   "outputs": [],
   "source": [
    "#计算先验\n",
    "# Number of i100\n",
    "n_i100 = data['Team'][data['Team'] == 'i100'].count()\n",
    "\n",
    "# Number of i500\n",
    "n_i500 = data['Team'][data['Team'] == 'i500'].count()\n",
    "\n",
    "# Total rows\n",
    "total_ppl = data['Team'].count()\n",
    " "
   ]
  },
  {
   "cell_type": "code",
   "execution_count": 7,
   "metadata": {
    "execution": {
     "iopub.execute_input": "2024-12-07T05:44:21.528787Z",
     "iopub.status.busy": "2024-12-07T05:44:21.528324Z",
     "iopub.status.idle": "2024-12-07T05:44:21.538061Z",
     "shell.execute_reply": "2024-12-07T05:44:21.535814Z"
    }
   },
   "outputs": [
    {
     "ename": "SyntaxError",
     "evalue": "Missing parentheses in call to 'print'. Did you mean print(...)? (861666737.py, line 7)",
     "output_type": "error",
     "traceback": [
      "\u001b[0;36m  Cell \u001b[0;32mIn[7], line 7\u001b[0;36m\u001b[0m\n\u001b[0;31m    print P_i100,P_i500\u001b[0m\n\u001b[0m    ^\u001b[0m\n\u001b[0;31mSyntaxError\u001b[0m\u001b[0;31m:\u001b[0m Missing parentheses in call to 'print'. Did you mean print(...)?\n"
     ]
    }
   ],
   "source": [
    "# Number of males divided by the total rows\n",
    "P_i100 = n_i100*1.0/total_ppl\n",
    "\n",
    "# Number of females divided by the total rows\n",
    "P_i500 = n_i500*1.0/total_ppl\n",
    "\n",
    "print P_i100,P_i500"
   ]
  },
  {
   "cell_type": "code",
   "execution_count": null,
   "metadata": {},
   "outputs": [],
   "source": [
    "# Group the data by gender and calculate the means of each feature\n",
    "data_means = data.groupby('Team').mean()\n",
    "\n",
    "# View the values\n",
    "data_means"
   ]
  },
  {
   "cell_type": "code",
   "execution_count": null,
   "metadata": {},
   "outputs": [],
   "source": [
    "# Group the data by gender and calculate the variance of each feature\n",
    "data_variance = data.groupby('Team').var()\n",
    "\n",
    "# View the values\n",
    "data_variance"
   ]
  },
  {
   "cell_type": "code",
   "execution_count": null,
   "metadata": {},
   "outputs": [],
   "source": [
    "#计算我们需要的均值方差\n",
    "# Means for i100\n",
    "i100_height_mean = data_means['Height'][data_means.index == 'i100'].values[0]\n",
    "i100_weight_mean = data_means['Weight'][data_means.index == 'i100'].values[0]\n",
    "i100_size_mean = data_means['Size'][data_means.index == 'i100'].values[0]\n",
    "\n",
    "# Variance for i100\n",
    "i100_height_variance = data_variance['Height'][data_variance.index == 'i100'].values[0]\n",
    "i100_weight_variance = data_variance['Weight'][data_variance.index == 'i100'].values[0]\n",
    "i100_size_variance = data_variance['Size'][data_variance.index == 'i100'].values[0]\n",
    "\n",
    "# Means for i500\n",
    "i500_height_mean = data_means['Height'][data_means.index == 'i500'].values[0]\n",
    "i500_weight_mean = data_means['Weight'][data_means.index == 'i500'].values[0]\n",
    "i500_size_mean = data_means['Size'][data_means.index == 'i500'].values[0]\n",
    "\n",
    "# Variance for i500\n",
    "i500_height_variance = data_variance['Height'][data_variance.index == 'i500'].values[0]\n",
    "i500_weight_variance = data_variance['Weight'][data_variance.index == 'i500'].values[0]\n",
    "i500_size_variance = data_variance['Size'][data_variance.index == 'i500'].values[0]\n"
   ]
  },
  {
   "cell_type": "code",
   "execution_count": null,
   "metadata": {},
   "outputs": [],
   "source": [
    "#接下来，我们写个公式来计算高斯分布的概率\n",
    "\n",
    "def p_x_given_y_2(x, mean_y, variance_y):\n",
    "\n",
    "    # Input the arguments into a probability density function\n",
    "    p = 1/(np.sqrt(2*np.pi*variance_y)) * np.exp((-(x-mean_y)**2)/(2*variance_y))\n",
    "    \n",
    "    # return p\n",
    "    return p\n",
    "person['Gender'][0]"
   ]
  },
  {
   "cell_type": "code",
   "execution_count": null,
   "metadata": {},
   "outputs": [],
   "source": [
    "P_i100 * p_x_given_y_1('i100',person['Gender'][0]) * \\\n",
    "p_x_given_y_2(person['Height'][0], i100_height_mean, i100_height_variance) * \\\n",
    "p_x_given_y_2(person['Weight'][0], i100_weight_mean, i100_weight_variance) * \\\n",
    "p_x_given_y_2(person['Size'][0], i100_size_mean, i100_size_variance)"
   ]
  },
  {
   "cell_type": "code",
   "execution_count": null,
   "metadata": {},
   "outputs": [],
   "source": [
    "# Numerator of the posterior if the unclassified observation is a female\n",
    "P_i500 * p_x_given_y_1('i500',person['Gender'][0]) *\\\n",
    "p_x_given_y_2(person['Height'][0], i500_height_mean, i500_height_variance) * \\\n",
    "p_x_given_y_2(person['Weight'][0], i500_weight_mean, i500_weight_variance) * \\\n",
    "p_x_given_y_2(person['Size'][0], i500_size_mean, i500_size_variance)"
   ]
  },
  {
   "cell_type": "code",
   "execution_count": null,
   "metadata": {},
   "outputs": [],
   "source": [
    "9.815927236658199e-05 >3.9059158012458166e-05"
   ]
  },
  {
   "cell_type": "code",
   "execution_count": null,
   "metadata": {},
   "outputs": [],
   "source": []
  }
 ],
 "metadata": {
  "kernelspec": {
   "display_name": "Python 2",
   "language": "python",
   "name": "python2"
  },
  "language_info": {
   "codemirror_mode": {
    "name": "ipython",
    "version": 3
   },
   "file_extension": ".py",
   "mimetype": "text/x-python",
   "name": "python",
   "nbconvert_exporter": "python",
   "pygments_lexer": "ipython3",
   "version": "3.12.2"
  }
 },
 "nbformat": 4,
 "nbformat_minor": 0
}
