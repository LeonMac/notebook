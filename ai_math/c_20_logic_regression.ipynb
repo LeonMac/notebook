{
 "cells": [
  {
   "cell_type": "code",
   "execution_count": null,
   "metadata": {},
   "outputs": [],
   "source": [
    "import numpy as np\n",
    "import matplotlib.pyplot as plt\n",
    "import matplotlib\n",
    "import seaborn as sns\n",
    "%matplotlib inline\n",
    "\n",
    "\n",
    "np.random.seed(3)\n",
    "num_pos = 500\n",
    " \n",
    "subset1 = np.random.multivariate_normal([0, 0], [[1, 0.6],[0.6, 1]], num_pos)\n",
    "subset2 = np.random.multivariate_normal([0.5, 4], [[1, 0.6],[0.6, 1]], num_pos)\n",
    " \n",
    "X = np.vstack((subset1, subset2))\n",
    "y = np.hstack((np.zeros(num_pos), np.ones(num_pos)))\n",
    " \n",
    "plt.scatter(X[:, 0], X[:, 1], c=y)\n",
    "plt.show()"
   ]
  },
  {
   "cell_type": "code",
   "execution_count": null,
   "metadata": {},
   "outputs": [],
   "source": [
    "from sklearn import linear_model\n",
    "clf = linear_model.LogisticRegression()\n",
    "clf.fit(X, y)"
   ]
  },
  {
   "cell_type": "code",
   "execution_count": null,
   "metadata": {},
   "outputs": [],
   "source": [
    "y_pred = clf.predict(X)\n",
    "\n",
    "print np.sum(y_pred.reshape(-1,1)==y.reshape(-1,1))*1.0/len(y)"
   ]
  },
  {
   "cell_type": "code",
   "execution_count": null,
   "metadata": {},
   "outputs": [],
   "source": [
    "from sklearn.metrics import confusion_matrix\n",
    "print confusion_matrix(y,y_pred)"
   ]
  },
  {
   "cell_type": "code",
   "execution_count": null,
   "metadata": {},
   "outputs": [],
   "source": [
    "#绘制分类边界\n",
    "\n",
    "def plot_decision_boundary(pred_func, X, y, title):\n",
    "    # Set min and max values and give it some padding\n",
    "    x_min, x_max = X[:, 0].min() - .5, X[:, 0].max() + .5\n",
    "    y_min, y_max = X[:, 1].min() - .5, X[:, 1].max() + .5\n",
    "    h = 0.01\n",
    "    # Generate a grid of points with distance h between them\n",
    "    xx, yy = np.meshgrid(np.arange(x_min, x_max, h), np.arange(y_min, y_max, h))\n",
    "    # Predict the function value for the whole grid (get class for each grid point)\n",
    "    Z = pred_func(np.c_[xx.ravel(), yy.ravel()])\n",
    "    Z = Z.reshape(xx.shape)\n",
    "    # print(Z)\n",
    "    # Plot the contour and training examples\n",
    "    plt.contourf(xx, yy, Z,alpha=0.3)\n",
    "    plt.scatter(X[:, 0], X[:, 1], c=y, s=40, alpha=0.8)\n",
    "    plt.title(title)\n",
    "    plt.show()\n",
    " \n",
    " \n"
   ]
  },
  {
   "cell_type": "code",
   "execution_count": null,
   "metadata": {},
   "outputs": [],
   "source": [
    "plot_decision_boundary(lambda x: clf.predict(x), X, y, \"logistic regression prediction\")"
   ]
  },
  {
   "cell_type": "code",
   "execution_count": null,
   "metadata": {},
   "outputs": [],
   "source": [
    "def sigmoid(z):\n",
    "    return 1 / (1 + np.exp(-z))"
   ]
  },
  {
   "cell_type": "code",
   "execution_count": null,
   "metadata": {},
   "outputs": [],
   "source": [
    "def log_likelihood(X, y, theta):\n",
    "    scores = np.dot(X, theta)\n",
    "    ll = np.sum(  y * scores - np.log(1 + np.exp(scores)) )\n",
    "    return ll"
   ]
  },
  {
   "cell_type": "code",
   "execution_count": null,
   "metadata": {},
   "outputs": [],
   "source": [
    "def logistic_regression(X,y,l_rate,iterations,add_intercept = True):\n",
    "    \n",
    "    if add_intercept:\n",
    "        intercept = np.ones((X.shape[0], 1))\n",
    "        X = np.hstack((intercept, X))\n",
    "        \n",
    "     \n",
    "    theta = np.zeros(X.shape[1]).reshape(-1,1)\n",
    "    y=y.reshape(-1,1)\n",
    "    accu_history = [0] * iterations\n",
    "    ll_history = [0.0] * iterations\n",
    "    for epoch in range(iterations):\n",
    "        x_theta = np.dot(X, theta)\n",
    "        y_hat = sigmoid(x_theta)\n",
    "        error = y  - y_hat \n",
    "        gradient = np.dot(X.T, error)\n",
    "        theta = theta + l_rate*gradient\n",
    "        preds = np.round( y_hat )      \n",
    "        \n",
    "        accu = np.sum(preds==y)*1.0/len(y)\n",
    "        accu_history[epoch]=accu\n",
    "\n",
    "    \n",
    "        if( epoch % 100 == 0):\n",
    "            print(\"After iter {}; accuracy: {}\".format(epoch +1,  accu))\n",
    "    return theta,accu_history"
   ]
  },
  {
   "cell_type": "code",
   "execution_count": null,
   "metadata": {},
   "outputs": [],
   "source": [
    "theta,accu = logistic_regression(X,y,1,2000)"
   ]
  },
  {
   "cell_type": "code",
   "execution_count": null,
   "metadata": {},
   "outputs": [],
   "source": [
    "accu"
   ]
  }
 ],
 "metadata": {
  "kernelspec": {
   "display_name": "Python 2",
   "language": "python",
   "name": "python2"
  },
  "language_info": {
   "codemirror_mode": {
    "name": "ipython",
    "version": 2
   },
   "file_extension": ".py",
   "mimetype": "text/x-python",
   "name": "python",
   "nbconvert_exporter": "python",
   "pygments_lexer": "ipython2",
   "version": "2.7.11"
  }
 },
 "nbformat": 4,
 "nbformat_minor": 2
}
