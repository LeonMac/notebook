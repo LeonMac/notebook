{
 "cells": [
  {
   "cell_type": "code",
   "execution_count": null,
   "metadata": {},
   "outputs": [],
   "source": [
    "from numpy.random import RandomState\n",
    "import numpy as np\n",
    "import matplotlib.pyplot as plt\n",
    "import matplotlib.image as mpimg\n",
    "from sklearn import datasets\n",
    "\n",
    "from sklearn.datasets import fetch_olivetti_faces\n",
    " \n",
    "from sklearn import decomposition \n",
    "n_row, n_col = 2, 5\n",
    "n_components = n_row * n_col\n",
    "image_shape = (64, 64)\n",
    "rng = RandomState(0)"
   ]
  },
  {
   "cell_type": "code",
   "execution_count": null,
   "metadata": {},
   "outputs": [],
   "source": [
    "%matplotlib inline"
   ]
  },
  {
   "cell_type": "code",
   "execution_count": null,
   "metadata": {},
   "outputs": [],
   "source": [
    "faces = fetch_olivetti_faces(data_home='./',shuffle=True, random_state=rng)\n",
    "#faces = datasets.fetch_olivetti_faces()\n",
    "faces.data.shape"
   ]
  },
  {
   "cell_type": "code",
   "execution_count": null,
   "metadata": {},
   "outputs": [],
   "source": [
    "fig = plt.figure(figsize=(10, 10))\n",
    "for i in range(10):\n",
    "    ax = plt.subplot2grid((1, 10), (0, i))    \n",
    "    ax.imshow(faces.data[i * 10].reshape(64, 64), cmap=plt.cm.gray)\n",
    "    ax.axis('off')"
   ]
  },
  {
   "cell_type": "code",
   "execution_count": null,
   "metadata": {},
   "outputs": [],
   "source": [
    "pca = decomposition.PCA()\n",
    "pca.fit(faces.data)\n",
    "\n",
    "print(pca.components_.shape)"
   ]
  },
  {
   "cell_type": "code",
   "execution_count": null,
   "metadata": {},
   "outputs": [],
   "source": [
    "fig = plt.figure(figsize=(10, 10))\n",
    "for i in range(10):\n",
    "    ax = plt.subplot2grid((1, 10), (0, i))\n",
    "    \n",
    "    ax.imshow(pca.components_[i].reshape(64, 64), cmap=plt.cm.gray)\n",
    "    ax.axis('off')"
   ]
  },
  {
   "cell_type": "code",
   "execution_count": null,
   "metadata": {},
   "outputs": [],
   "source": [
    "from skimage.io import imsave\n",
    "face = faces.data[0]  \n",
    "trans = pca.transform(face.reshape(1, -1))  "
   ]
  },
  {
   "cell_type": "code",
   "execution_count": null,
   "metadata": {},
   "outputs": [],
   "source": [
    "trans.shape"
   ]
  },
  {
   "cell_type": "code",
   "execution_count": null,
   "metadata": {},
   "outputs": [],
   "source": [
    "# for k in range(400):\n",
    "#     rank_k_approx = trans[:, :k].dot(pca.components_[:k]) + pca.mean_\n",
    "#     if k % 10 == 0:\n",
    "#         imsave('{:>03}'.format(str(k)) + '.jpg', rank_k_approx.reshape(64, 64))\n",
    "import os\n",
    "\n",
    "from skimage import img_as_ubyte\n",
    "\n",
    "# Create a folder named \"log\" if it doesn't exist\n",
    "log_folder = \"log\"\n",
    "if not os.path.exists(log_folder):\n",
    "    os.makedirs(log_folder)\n",
    "\n",
    "for k in range(400):\n",
    "    rank_k_approx = trans[:, :k].dot(pca.components_[:k]) + pca.mean_\n",
    "    if k % 10 == 0:\n",
    "        # Convert the image data to 'uint8' format\n",
    "        rank_k_approx_uint8 = img_as_ubyte(rank_k_approx.reshape(64, 64))\n",
    "        \n",
    "        # Save the image in the \"log\" folder\n",
    "        filename = os.path.join(log_folder, '{:>03}'.format(str(k)) + '.jpg')\n",
    "        imsave(filename, rank_k_approx_uint8)"
   ]
  },
  {
   "cell_type": "code",
   "execution_count": null,
   "metadata": {},
   "outputs": [],
   "source": [
    "from matplotlib.image import imread\n",
    "# Get a list of all JPEG files in the \"log\" folder and sort them by name\n",
    "jpeg_files = sorted([file for file in os.listdir(log_folder) if file.endswith(\".jpg\")])\n",
    "# Display all the images\n",
    "\n",
    "# Define the number of images per row\n",
    "images_per_row = 10\n",
    "\n",
    "# Calculate the number of rows needed\n",
    "num_rows = len(jpeg_files) // images_per_row + (len(jpeg_files) % images_per_row > 0)\n",
    "\n",
    "# Create subplots\n",
    "fig, axes = plt.subplots(num_rows, images_per_row, figsize=(12, 3*num_rows))\n",
    "\n",
    "# Display all the images\n",
    "for i, jpeg_file in enumerate(jpeg_files):\n",
    "    # Load the image\n",
    "    image_path = os.path.join(log_folder, jpeg_file)\n",
    "    image = imread(image_path)\n",
    "\n",
    "    # Determine the position in the grid\n",
    "    row = i // images_per_row\n",
    "    col = i % images_per_row\n",
    "\n",
    "    # Display the image\n",
    "    axes[row, col].imshow(image, cmap='gray')  # Assuming grayscale images\n",
    "    axes[row, col].set_title(f'Image {i+1}')\n",
    "    axes[row, col].axis('off')\n",
    "\n",
    "# Adjust layout and show the plot\n",
    "plt.tight_layout()\n",
    "plt.show()"
   ]
  },
  {
   "cell_type": "code",
   "execution_count": null,
   "metadata": {},
   "outputs": [],
   "source": []
  }
 ],
 "metadata": {
  "kernelspec": {
   "display_name": "Python 3 (ipykernel)",
   "language": "python",
   "name": "python3"
  },
  "language_info": {
   "codemirror_mode": {
    "name": "ipython",
    "version": 3
   },
   "file_extension": ".py",
   "mimetype": "text/x-python",
   "name": "python",
   "nbconvert_exporter": "python",
   "pygments_lexer": "ipython3",
   "version": "3.9.12"
  }
 },
 "nbformat": 4,
 "nbformat_minor": 4
}
