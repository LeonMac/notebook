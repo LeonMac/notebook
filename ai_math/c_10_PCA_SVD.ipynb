{
 "cells": [
  {
   "cell_type": "code",
   "execution_count": null,
   "metadata": {},
   "outputs": [],
   "source": [
    "from numpy.random import RandomState\n",
    "import numpy as np\n",
    "import matplotlib.pyplot as plt\n",
    "import matplotlib.image as mpimg\n",
    "from sklearn import datasets\n",
    "from sklearn.datasets import fetch_olivetti_faces\n",
    "\n",
    "from sklearn import decomposition \n"
   ]
  },
  {
   "cell_type": "markdown",
   "metadata": {},
   "source": [
    "## 数据配置"
   ]
  },
  {
   "cell_type": "code",
   "execution_count": null,
   "metadata": {},
   "outputs": [],
   "source": [
    "nPerRow = 10  # plot每行图数目\n",
    "\n",
    "nFeature = 20    # 目标特征（PCA降维后）数目， 不得大于样本数目n_sample\n",
    "img_shape_n = 64  # 图像重采样pixel，长=宽\n",
    "image_shape = (img_shape_n, img_shape_n)\n",
    "rng = RandomState(0)  # dataset split随机数，如果想要消除随机化，给固定值。\n",
    "\n",
    "recovery_id = 5  #后续需要恢复的图像id\n",
    "\n",
    "%matplotlib inline"
   ]
  },
  {
   "cell_type": "markdown",
   "metadata": {},
   "source": [
    "## Help function"
   ]
  },
  {
   "cell_type": "code",
   "execution_count": null,
   "metadata": {},
   "outputs": [],
   "source": [
    "from matplotlib.gridspec import GridSpec\n",
    "\n",
    "def single_plot(img_array: np.ndarray):\n",
    "    ''' plot某个图 '''\n",
    "    fig = plt.figure(figsize=(10, 10))\n",
    "    ax = plt.subplot2grid((1, 10), (0, 0))\n",
    "    ax.imshow(img_array.reshape(img_shape_n, img_shape_n), cmap=plt.cm.gray)\n",
    "    ax.axis('off')\n",
    "\n",
    "\n",
    "def sub_plot(img_array: np.ndarray, n_components: int, cols: int):\n",
    "    ''' plot多个子图 '''\n",
    "    fig = plt.figure(figsize=(10, 10))\n",
    "    \n",
    "    # 计算行数并创建GridSpec对象，同时设置较小的间距\n",
    "    rows = n_components // cols if n_components % cols == 0 else n_components // cols + 1\n",
    "    gs = GridSpec(rows, cols, hspace=0.1, wspace=0.1)\n",
    "\n",
    "    for i in range(n_components):\n",
    "        # 计算当前子图在网格布局中的位置\n",
    "        row_index = i // cols\n",
    "        col_index = i % cols\n",
    "        \n",
    "        # 在每cols个子图之后换行\n",
    "        ax = fig.add_subplot(gs[row_index, col_index])\n",
    "        ax.imshow(img_array[i].reshape(img_shape_n, img_shape_n), cmap=plt.cm.gray)\n",
    "        \n",
    "        # 移除所有可能导致额外间距的元素\n",
    "        ax.set_xticks([])\n",
    "        ax.set_yticks([])\n",
    "        ax.tick_params(axis='both', which='both', bottom=False, left=False, labelbottom=False, labelleft=False)\n",
    "        ax.set_frame_on(False)  # 关闭边框\n"
   ]
  },
  {
   "cell_type": "markdown",
   "metadata": {},
   "source": [
    "## 数据准备"
   ]
  },
  {
   "cell_type": "code",
   "execution_count": null,
   "metadata": {},
   "outputs": [],
   "source": [
    "#faces = datasets.fetch_olivetti_faces()  # 有问题，数据集下不来，\n",
    "# 基于web方式下载以后，数据（olivettifaces.mat）放在同级别目录下\n",
    "faces = fetch_olivetti_faces(data_home='./',shuffle=True, random_state=rng)\n",
    "n_sample, size_sample = faces.data.shape[0], faces.data.shape[1]\n",
    "\n",
    "print(f\"样本数量 = {n_sample}, 每个样本大小 = {size_sample}\")\n",
    "assert n_sample >= nFeature, f\"特征数量 {nFeature} 应该小于 样本数量 {n_sample}\"\n"
   ]
  },
  {
   "cell_type": "markdown",
   "metadata": {},
   "source": [
    "### plot 前 10 个 样本看看"
   ]
  },
  {
   "cell_type": "code",
   "execution_count": null,
   "metadata": {},
   "outputs": [],
   "source": [
    "sub_plot(faces.data, 10, nPerRow)"
   ]
  },
  {
   "cell_type": "markdown",
   "metadata": {},
   "source": [
    "## 数据降维，得到一系列特征脸"
   ]
  },
  {
   "cell_type": "code",
   "execution_count": null,
   "metadata": {},
   "outputs": [],
   "source": [
    "# Create a PCA object with the desired number of components\n",
    "# If n_components was not explicitly set during the creation of the PCA object, the transformed data will have the same number of components as the original data's features.\n",
    "pca = decomposition.PCA(n_components=nFeature)  #n_components 实际不应该比nFeature大, \n",
    "\n",
    "# PCA降维\n",
    "pca.fit(faces.data)\n",
    "\n",
    "nFeature_pca, size_feature_pca = pca.components_.shape[0], pca.components_.shape[1]\n",
    "\n",
    "print(f\"PCA降维后特征数量 = {nFeature_pca}，特征向量大小 = {size_feature_pca}\")\n",
    "\n",
    "assert nFeature_pca == nFeature and size_feature_pca==size_sample, f\"PCA降维后特征数量 {nFeature_pca} , 特征向量大小 {size_feature_pca} 异常\""
   ]
  },
  {
   "cell_type": "markdown",
   "metadata": {},
   "source": [
    "## plot所有特征脸来看看"
   ]
  },
  {
   "cell_type": "code",
   "execution_count": null,
   "metadata": {},
   "outputs": [],
   "source": [
    "sub_plot(pca.components_, nFeature, nPerRow)"
   ]
  },
  {
   "cell_type": "markdown",
   "metadata": {},
   "source": [
    "什么是“特征脸”? 就是从已有的所有样本中抽象出来的公共”特征“，这些特征相互之间，应该是几乎没有相似之处的（不相关）\n",
    "下面可以计算这些特征之间的相似度。"
   ]
  },
  {
   "cell_type": "code",
   "execution_count": null,
   "metadata": {},
   "outputs": [],
   "source": [
    "from sklearn.metrics.pairwise import cosine_similarity\n",
    "feature_similarity = cosine_similarity(pca.components_)\n",
    "feature_similarity.shape"
   ]
  },
  {
   "cell_type": "code",
   "execution_count": null,
   "metadata": {},
   "outputs": [],
   "source": [
    "\n",
    "np.set_printoptions(precision=3, suppress=True) # 保留小数点后三位\n",
    "\n",
    "print(feature_similarity)"
   ]
  },
  {
   "cell_type": "markdown",
   "metadata": {},
   "source": [
    "## 拿第一张图片，来做一个特征降维，然后看看这张图片的“特征表达”"
   ]
  },
  {
   "cell_type": "markdown",
   "metadata": {},
   "source": [
    "### 先抓一张图片，看看原始图片“特征”"
   ]
  },
  {
   "cell_type": "code",
   "execution_count": null,
   "metadata": {},
   "outputs": [],
   "source": [
    "face = faces.data[recovery_id]\n",
    "single_plot(face) # 看看原始图像数据打印出来什么样子\n",
    "face_reshaped = face.reshape(1, -1) # 转置为1x4096的向量\n",
    "\n",
    "print(f\"原始数据特征维度 = {face.shape}\")\n",
    "print(f\"reshaped数据特征维度 = {face_reshaped.shape}\")\n",
    "\n",
    "# 可以打印出来 face 和 face_reshaped 看看\n",
    "print(face)\n",
    "print(face_reshaped)\n"
   ]
  },
  {
   "cell_type": "markdown",
   "metadata": {},
   "source": [
    "- face是4096的1D array（等同于64x64的1维平坦化存储表达）,\n",
    "- face_reshaped = face.reshape(1, -1), 是针对face进行矩阵重新排列操作，1 表示操作后只有1行（行维度为1）， -1：指示numpy自行决定操作后的列维度，\n",
    "- 因为face是4096的1D array，face_reshaped实际上是（被转置为）1x4096的向量。\n",
    "- 对于原始图片，可以认为每个pixel都是一个“特征”，因此原始数据我们有4096个特征"
   ]
  },
  {
   "cell_type": "markdown",
   "metadata": {},
   "source": [
    "### 然后看看上述图片的降维后特征表达"
   ]
  },
  {
   "cell_type": "code",
   "execution_count": null,
   "metadata": {},
   "outputs": [],
   "source": [
    "post_pca = pca.transform(face_reshaped) #把 face_reshaped（1x4096）丢到PCA里面去做降维。\n",
    "print(f\"PCA后数据特征维度 = {post_pca.shape}\")\n",
    "print(post_pca)"
   ]
  },
  {
   "cell_type": "markdown",
   "metadata": {},
   "source": [
    "降维后，post_pca是1xnFeature的向量\n",
    "可以这么理解，post_pca的每个值，就是对应于pca.components_相应特征的权重。\n",
    "因此，最终我们在PCA之后，使用“降维特征和特征脸”的线性组合来表达对应的图片信息。就是"
   ]
  },
  {
   "cell_type": "markdown",
   "metadata": {},
   "source": [
    "## 使用特征脸来重建样本"
   ]
  },
  {
   "cell_type": "code",
   "execution_count": null,
   "metadata": {},
   "outputs": [],
   "source": [
    "#观察随着使用逐渐增加的特征向量，恢复出来的图像的渐变状况\n",
    "recovery = []\n",
    "\n",
    "for i in range(nFeature):\n",
    "    recovery_every_i = post_pca[:, :i].dot(pca.components_[:i]) + pca.mean_\n",
    "    recovery.append(recovery_every_i)\n"
   ]
  },
  {
   "cell_type": "code",
   "execution_count": null,
   "metadata": {},
   "outputs": [],
   "source": [
    "# 随着使用更多的特征，恢复出来的图像质量越来越高。\n",
    "sub_plot(recovery, nFeature, nPerRow) "
   ]
  },
  {
   "cell_type": "code",
   "execution_count": null,
   "metadata": {},
   "outputs": [],
   "source": []
  },
  {
   "cell_type": "code",
   "execution_count": null,
   "metadata": {},
   "outputs": [],
   "source": [
    "# 把恢复过程的图像存在本地\n",
    "import os\n",
    "from skimage.io import imsave\n",
    "from skimage import img_as_ubyte\n",
    "\n",
    "# Create a folder named \"log\" if it doesn't exist\n",
    "log_folder = \"log\"\n",
    "N = nFeature // 5\n",
    "if not os.path.exists(log_folder):\n",
    "    os.makedirs(log_folder)\n",
    "\n",
    "for i in range(nFeature):\n",
    "    recovery = post_pca[:, :i].dot(pca.components_[:i]) + pca.mean_\n",
    "    if i % N == 0:  # 并不都存，每N个feature存一次\n",
    "        # Convert the image data to 'uint8' format\n",
    "        recovery_uint8 = img_as_ubyte(recovery.reshape(64, 64))\n",
    "        \n",
    "        # Save the image in the \"log\" folder\n",
    "        filename = os.path.join(log_folder, '{:>03}'.format(str(i)) + '.jpg')\n",
    "        imsave(filename, recovery_uint8)"
   ]
  },
  {
   "cell_type": "code",
   "execution_count": null,
   "metadata": {},
   "outputs": [],
   "source": [
    "# 把存在本地的图像导出看看\n",
    "from matplotlib.image import imread\n",
    "jpeg_files = sorted([file for file in os.listdir(log_folder) if file.endswith(\".jpg\")])\n",
    "\n",
    "# Define the number of images per row\n",
    "images_per_row = 10\n",
    "\n",
    "# Calculate the number of rows needed\n",
    "num_images = len(jpeg_files)\n",
    "num_rows = (num_images + images_per_row - 1) // images_per_row\n",
    "\n",
    "# Create a large subplot\n",
    "fig, ax = plt.subplots(num_rows, images_per_row, figsize=(15, 3*num_rows))\n",
    "\n",
    "# Flatten the axis array to simplify indexing\n",
    "ax = ax.flatten()\n",
    "\n",
    "# Display all the images\n",
    "for i, jpeg_file in enumerate(jpeg_files):\n",
    "    # Load the image\n",
    "    image_path = os.path.join(log_folder, jpeg_file)\n",
    "    image = plt.imread(image_path)\n",
    "\n",
    "    # Display the image\n",
    "    ax[i].imshow(image, cmap='gray')  # Use grayscale colormap\n",
    "    ax[i].set_title(f'Image {i+1}')\n",
    "    ax[i].axis('off')\n",
    "\n",
    "# Hide any empty subplots\n",
    "for j in range(num_images, num_rows * images_per_row):\n",
    "    ax[j].axis('off')\n",
    "\n",
    "# Adjust layout and show the plot\n",
    "plt.tight_layout()\n",
    "plt.show()"
   ]
  },
  {
   "cell_type": "code",
   "execution_count": null,
   "metadata": {},
   "outputs": [],
   "source": []
  }
 ],
 "metadata": {
  "kernelspec": {
   "display_name": "Python 3 (ipykernel)",
   "language": "python",
   "name": "python3"
  },
  "language_info": {
   "codemirror_mode": {
    "name": "ipython",
    "version": 3
   },
   "file_extension": ".py",
   "mimetype": "text/x-python",
   "name": "python",
   "nbconvert_exporter": "python",
   "pygments_lexer": "ipython3",
   "version": "3.10.0"
  }
 },
 "nbformat": 4,
 "nbformat_minor": 4
}
