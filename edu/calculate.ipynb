{
 "cells": [
  {
   "cell_type": "code",
   "execution_count": 16,
   "metadata": {},
   "outputs": [],
   "source": [
    "import random\n",
    "\n",
    "NUM = 100 # 每次生成100道题\n",
    "TYPE_DICT = ['mul', 'div']\n",
    "\n",
    "MUL1_MIN = 10\n",
    "MUL1_MAX = 300\n",
    "MUL2_MIN = 2\n",
    "MUL2_MAX = 9\n",
    "\n",
    "DIV1_MIN = 89\n",
    "DIV1_MAX = 500\n",
    "DIV2_MIN = 2\n",
    "DIV2_MAX = 9\n",
    "\n",
    "PROB_TYPE = ['random','five','squre']"
   ]
  },
  {
   "cell_type": "code",
   "execution_count": 17,
   "metadata": {},
   "outputs": [
    {
     "name": "stdout",
     "output_type": "stream",
     "text": [
      "mul1 = 195, mul2 = 5 mul_res = 975\n",
      "div1 = 170, div2 = 7 div_res = 24 div_rem =2\n"
     ]
    }
   ],
   "source": [
    "type_rnd = random.randint(0, len(TYPE_DICT))\n",
    "mul1 = random.randint(MUL1_MIN, MUL1_MAX)\n",
    "mul2 = random.randint(MUL2_MIN, MUL2_MAX)\n",
    "\n",
    "mul_res = mul1 * mul2\n",
    "\n",
    "div1 = random.randint(DIV1_MIN, DIV1_MAX)\n",
    "div2 = random.randint(DIV2_MIN, DIV2_MAX)\n",
    "\n",
    "div_res = div1//div2\n",
    "\n",
    "div_rem = div1 % div2\n",
    "\n",
    "print(f\"mul1 = {mul1}, mul2 = {mul2} mul_res = {mul_res}\")\n",
    "print(f\"div1 = {div1}, div2 = {div2} div_res = {div_res} div_rem ={div_rem}\")\n"
   ]
  },
  {
   "cell_type": "code",
   "execution_count": 18,
   "metadata": {},
   "outputs": [],
   "source": [
    "# def problem_gen(type_rnd = 'mul'):"
   ]
  },
  {
   "cell_type": "code",
   "execution_count": 19,
   "metadata": {},
   "outputs": [],
   "source": [
    "def mul_problem_gen (index:int, mul1:int, mul2:int, debug: bool = False):\n",
    "    mul_res = mul1 * mul2\n",
    "    format_str = f\"{index:<4} | {mul1:<4} x {mul2:>4} = {'\\0' * 4} |{'\\0' *4} 答案：{mul_res}\"\n",
    "    if debug: print(format_str)\n",
    "    return format_str\n",
    "    "
   ]
  },
  {
   "cell_type": "code",
   "execution_count": 20,
   "metadata": {},
   "outputs": [
    {
     "name": "stdout",
     "output_type": "stream",
     "text": [
      "1    | 18   x    3 = \u0000\u0000\u0000\u0000 |\u0000\u0000\u0000\u0000 答案：54\n",
      "122  | 55   x    5 = \u0000\u0000\u0000\u0000 |\u0000\u0000\u0000\u0000 答案：275\n"
     ]
    },
    {
     "data": {
      "text/plain": [
       "'122  | 55   x    5 = \\x00\\x00\\x00\\x00 |\\x00\\x00\\x00\\x00 答案：275'"
      ]
     },
     "execution_count": 20,
     "metadata": {},
     "output_type": "execute_result"
    }
   ],
   "source": [
    "mul_problem_gen(1,18,3, True)\n",
    "mul_problem_gen(122,55,5, True)"
   ]
  },
  {
   "cell_type": "code",
   "execution_count": 21,
   "metadata": {},
   "outputs": [],
   "source": [
    "def div_problem_gen (index:int, div1:int, div2:int,  debug: bool = False):\n",
    "\n",
    "    div_res = div1//div2\n",
    "\n",
    "    div_rem = div1 % div2\n",
    "    \n",
    "    ans_str = f\"{div_res}\" if div_rem == 0 else f\"{div_res}...{div_rem}\" \n",
    "    \n",
    "    format_str = f\"{index:<4} | {div1:<4} \\u00F7 {div2:>4} = {'\\0' * 4} |{'\\0' * 4} 答案：{ans_str}\"\n",
    "    if debug: print(format_str)\n",
    "    return format_str"
   ]
  },
  {
   "cell_type": "code",
   "execution_count": 22,
   "metadata": {},
   "outputs": [
    {
     "name": "stdout",
     "output_type": "stream",
     "text": [
      "1    | 18   ÷    3 = \u0000\u0000\u0000\u0000 |\u0000\u0000\u0000\u0000 答案：6\n",
      "12   | 55   ÷   15 = \u0000\u0000\u0000\u0000 |\u0000\u0000\u0000\u0000 答案：3...10\n"
     ]
    },
    {
     "data": {
      "text/plain": [
       "'12   | 55   ÷   15 = \\x00\\x00\\x00\\x00 |\\x00\\x00\\x00\\x00 答案：3...10'"
      ]
     },
     "execution_count": 22,
     "metadata": {},
     "output_type": "execute_result"
    }
   ],
   "source": [
    "div_problem_gen(1,18,3, True)\n",
    "div_problem_gen(12,55,15, True)"
   ]
  },
  {
   "cell_type": "code",
   "execution_count": 23,
   "metadata": {},
   "outputs": [],
   "source": [
    "def problem_gen (type_: str, index: int):\n",
    "    problem_str = None\n",
    "    if type_ == 'mul':\n",
    "        mul1 = random.randint(MUL1_MIN, MUL1_MAX)\n",
    "        mul2 = random.randint(MUL2_MIN, MUL2_MAX)\n",
    "        problem_str = mul_problem_gen(index, mul1, mul2)\n",
    "    elif type_ == 'div':\n",
    "        div1 = random.randint(DIV1_MIN, DIV1_MAX)\n",
    "        div2 = random.randint(DIV2_MIN, DIV2_MAX)\n",
    "        problem_str = div_problem_gen(index, div1, div2)\n",
    "    return problem_str\n",
    "        "
   ]
  },
  {
   "cell_type": "code",
   "execution_count": 24,
   "metadata": {},
   "outputs": [],
   "source": [
    "def problem_gen_five (type_: str, index: int):\n",
    "    problem_str = None\n",
    "    mul1 = random.randint(2, 19)*50\n",
    "    mul2 = random.randint(MUL2_MIN, MUL2_MAX)*random.randint(1, 9)*2\n",
    "    product = mul1 * mul2\n",
    "    if type_ == 'mul':\n",
    "        # mul1 = random.randint(2, 19)*50\n",
    "        # mul2 = random.randint(MUL2_MIN, MUL2_MAX)*random.randint(1, 9)*2\n",
    "        problem_str = mul_problem_gen(index, mul1, mul2)\n",
    "    elif type_ == 'div':\n",
    "        # div1 = random.randint(DIV1_MIN, DIV1_MAX)\n",
    "        # div2 = random.randint(DIV2_MIN, DIV2_MAX)\n",
    "        problem_str = div_problem_gen(index, product, mul2)\n",
    "    return problem_str"
   ]
  },
  {
   "cell_type": "code",
   "execution_count": 43,
   "metadata": {},
   "outputs": [],
   "source": [
    "def problem_gen_squre (type_: str, index: int):\n",
    "    problem_str = None\n",
    "    mul = random.randint(8, 20)\n",
    "    product = mul * mul\n",
    "    if type_ == 'mul':\n",
    "        problem_str = mul_problem_gen(index, mul, mul)\n",
    "    elif type_ == 'div':\n",
    "        problem_str = div_problem_gen(index, product, mul)\n",
    "    return problem_str"
   ]
  },
  {
   "cell_type": "code",
   "execution_count": 44,
   "metadata": {},
   "outputs": [],
   "source": [
    "def problem_gen_mix(algo_type_: str, index: int, problem_type:str):\n",
    "    if problem_type == 'random':\n",
    "        print_str = problem_gen(algo_type_, index)\n",
    "    elif problem_type == 'five':\n",
    "        print_str = problem_gen_five(algo_type_, index)\n",
    "    elif problem_type == 'squre':\n",
    "        print_str = problem_gen_squre(algo_type_, index)\n",
    "    elif problem_type == 'mix':\n",
    "        single_problem_type = PROB_TYPE[random.randint(1, len(PROB_TYPE))-1]\n",
    "        print_str = problem_gen_mix(algo_type_, index, single_problem_type)\n",
    "    return print_str\n"
   ]
  },
  {
   "cell_type": "code",
   "execution_count": 45,
   "metadata": {},
   "outputs": [],
   "source": [
    "def print_problem_single(round_:int, special_type:str='random'):\n",
    "    all_out = ''\n",
    "    for i in range (round_):\n",
    "        algo_type_ = TYPE_DICT[random.randint(0, len(TYPE_DICT)-1)]\n",
    "        if special_type == 'random':\n",
    "            print_str = problem_gen(algo_type_, i+1)\n",
    "        elif special_type == 'five':\n",
    "            print_str = problem_gen_five(algo_type_, i+1)\n",
    "        elif special_type == 'squre':\n",
    "            print_str = problem_gen_squre(algo_type_, i+1)\n",
    "        elif special_type == 'mix':\n",
    "            print_str = problem_gen_mix(algo_type_, i+1, special_type)\n",
    "\n",
    "        out = f\"{print_str:<50}\\n\"\n",
    "        \n",
    "        print(out)\n",
    "\n",
    "        all_out += out\n",
    "\n",
    "    return all_out   \n"
   ]
  },
  {
   "cell_type": "code",
   "execution_count": 46,
   "metadata": {},
   "outputs": [],
   "source": [
    "def print_problem_daily(days:int, nums:int, special_type:str='random'):\n",
    "    for d in range(days):\n",
    "        print(\"日期_______， 正确数目_______, 错误数目_______, 得分_______\")\n",
    "        print_problem_single(nums, special_type)\n",
    "        print(\"\\n\"*2)"
   ]
  },
  {
   "cell_type": "code",
   "execution_count": 47,
   "metadata": {
    "scrolled": true
   },
   "outputs": [],
   "source": [
    "#print_problem_daily(10, 35)"
   ]
  },
  {
   "cell_type": "code",
   "execution_count": 48,
   "metadata": {},
   "outputs": [],
   "source": [
    "def gen_problem_per_day(nums:int, special_type:str='random'):\n",
    "    out=''\n",
    "    out+=\"日期_______， 正确数目_______, 错误数目_______, 得分_______\\n\"\n",
    "    out+=print_problem_single(nums, special_type)\n",
    "    out+=\"\\n\"*2\n",
    "    return out"
   ]
  },
  {
   "cell_type": "code",
   "execution_count": 50,
   "metadata": {},
   "outputs": [
    {
     "name": "stdout",
     "output_type": "stream",
     "text": [
      "1    | 400  ÷   20 = \u0000\u0000\u0000\u0000 |\u0000\u0000\u0000\u0000 答案：20             \n",
      "\n",
      "2    | 121  ÷   11 = \u0000\u0000\u0000\u0000 |\u0000\u0000\u0000\u0000 答案：11             \n",
      "\n",
      "3    | 20   x   20 = \u0000\u0000\u0000\u0000 |\u0000\u0000\u0000\u0000 答案：400            \n",
      "\n",
      "4    | 225  ÷   15 = \u0000\u0000\u0000\u0000 |\u0000\u0000\u0000\u0000 答案：15             \n",
      "\n",
      "5    | 289  ÷   17 = \u0000\u0000\u0000\u0000 |\u0000\u0000\u0000\u0000 答案：17             \n",
      "\n",
      "6    | 18   x   18 = \u0000\u0000\u0000\u0000 |\u0000\u0000\u0000\u0000 答案：324            \n",
      "\n",
      "7    | 18   x   18 = \u0000\u0000\u0000\u0000 |\u0000\u0000\u0000\u0000 答案：324            \n",
      "\n",
      "8    | 10   x   10 = \u0000\u0000\u0000\u0000 |\u0000\u0000\u0000\u0000 答案：100            \n",
      "\n",
      "9    | 289  ÷   17 = \u0000\u0000\u0000\u0000 |\u0000\u0000\u0000\u0000 答案：17             \n",
      "\n",
      "10   | 8    x    8 = \u0000\u0000\u0000\u0000 |\u0000\u0000\u0000\u0000 答案：64             \n",
      "\n",
      "11   | 17   x   17 = \u0000\u0000\u0000\u0000 |\u0000\u0000\u0000\u0000 答案：289            \n",
      "\n",
      "12   | 10   x   10 = \u0000\u0000\u0000\u0000 |\u0000\u0000\u0000\u0000 答案：100            \n",
      "\n",
      "13   | 100  ÷   10 = \u0000\u0000\u0000\u0000 |\u0000\u0000\u0000\u0000 答案：10             \n",
      "\n",
      "14   | 361  ÷   19 = \u0000\u0000\u0000\u0000 |\u0000\u0000\u0000\u0000 答案：19             \n",
      "\n",
      "15   | 15   x   15 = \u0000\u0000\u0000\u0000 |\u0000\u0000\u0000\u0000 答案：225            \n",
      "\n",
      "16   | 10   x   10 = \u0000\u0000\u0000\u0000 |\u0000\u0000\u0000\u0000 答案：100            \n",
      "\n",
      "17   | 20   x   20 = \u0000\u0000\u0000\u0000 |\u0000\u0000\u0000\u0000 答案：400            \n",
      "\n",
      "18   | 324  ÷   18 = \u0000\u0000\u0000\u0000 |\u0000\u0000\u0000\u0000 答案：18             \n",
      "\n",
      "19   | 12   x   12 = \u0000\u0000\u0000\u0000 |\u0000\u0000\u0000\u0000 答案：144            \n",
      "\n",
      "20   | 14   x   14 = \u0000\u0000\u0000\u0000 |\u0000\u0000\u0000\u0000 答案：196            \n",
      "\n",
      "21   | 121  ÷   11 = \u0000\u0000\u0000\u0000 |\u0000\u0000\u0000\u0000 答案：11             \n",
      "\n",
      "22   | 400  ÷   20 = \u0000\u0000\u0000\u0000 |\u0000\u0000\u0000\u0000 答案：20             \n",
      "\n",
      "23   | 324  ÷   18 = \u0000\u0000\u0000\u0000 |\u0000\u0000\u0000\u0000 答案：18             \n",
      "\n",
      "24   | 13   x   13 = \u0000\u0000\u0000\u0000 |\u0000\u0000\u0000\u0000 答案：169            \n",
      "\n",
      "25   | 13   x   13 = \u0000\u0000\u0000\u0000 |\u0000\u0000\u0000\u0000 答案：169            \n",
      "\n",
      "26   | 20   x   20 = \u0000\u0000\u0000\u0000 |\u0000\u0000\u0000\u0000 答案：400            \n",
      "\n",
      "27   | 13   x   13 = \u0000\u0000\u0000\u0000 |\u0000\u0000\u0000\u0000 答案：169            \n",
      "\n",
      "28   | 64   ÷    8 = \u0000\u0000\u0000\u0000 |\u0000\u0000\u0000\u0000 答案：8              \n",
      "\n",
      "29   | 400  ÷   20 = \u0000\u0000\u0000\u0000 |\u0000\u0000\u0000\u0000 答案：20             \n",
      "\n",
      "30   | 12   x   12 = \u0000\u0000\u0000\u0000 |\u0000\u0000\u0000\u0000 答案：144            \n",
      "\n",
      "31   | 196  ÷   14 = \u0000\u0000\u0000\u0000 |\u0000\u0000\u0000\u0000 答案：14             \n",
      "\n",
      "32   | 14   x   14 = \u0000\u0000\u0000\u0000 |\u0000\u0000\u0000\u0000 答案：196            \n",
      "\n",
      "33   | 144  ÷   12 = \u0000\u0000\u0000\u0000 |\u0000\u0000\u0000\u0000 答案：12             \n",
      "\n",
      "34   | 13   x   13 = \u0000\u0000\u0000\u0000 |\u0000\u0000\u0000\u0000 答案：169            \n",
      "\n",
      "35   | 20   x   20 = \u0000\u0000\u0000\u0000 |\u0000\u0000\u0000\u0000 答案：400            \n",
      "\n",
      "36   | 81   ÷    9 = \u0000\u0000\u0000\u0000 |\u0000\u0000\u0000\u0000 答案：9              \n",
      "\n",
      "37   | 16   x   16 = \u0000\u0000\u0000\u0000 |\u0000\u0000\u0000\u0000 答案：256            \n",
      "\n",
      "38   | 100  ÷   10 = \u0000\u0000\u0000\u0000 |\u0000\u0000\u0000\u0000 答案：10             \n",
      "\n",
      "39   | 19   x   19 = \u0000\u0000\u0000\u0000 |\u0000\u0000\u0000\u0000 答案：361            \n",
      "\n",
      "40   | 20   x   20 = \u0000\u0000\u0000\u0000 |\u0000\u0000\u0000\u0000 答案：400            \n",
      "\n",
      "1    | 64   ÷    8 = \u0000\u0000\u0000\u0000 |\u0000\u0000\u0000\u0000 答案：8              \n",
      "\n",
      "2    | 18   x   18 = \u0000\u0000\u0000\u0000 |\u0000\u0000\u0000\u0000 答案：324            \n",
      "\n",
      "3    | 100  ÷   10 = \u0000\u0000\u0000\u0000 |\u0000\u0000\u0000\u0000 答案：10             \n",
      "\n",
      "4    | 400  ÷   20 = \u0000\u0000\u0000\u0000 |\u0000\u0000\u0000\u0000 答案：20             \n",
      "\n",
      "5    | 64   ÷    8 = \u0000\u0000\u0000\u0000 |\u0000\u0000\u0000\u0000 答案：8              \n",
      "\n",
      "6    | 8    x    8 = \u0000\u0000\u0000\u0000 |\u0000\u0000\u0000\u0000 答案：64             \n",
      "\n",
      "7    | 10   x   10 = \u0000\u0000\u0000\u0000 |\u0000\u0000\u0000\u0000 答案：100            \n",
      "\n",
      "8    | 19   x   19 = \u0000\u0000\u0000\u0000 |\u0000\u0000\u0000\u0000 答案：361            \n",
      "\n",
      "9    | 361  ÷   19 = \u0000\u0000\u0000\u0000 |\u0000\u0000\u0000\u0000 答案：19             \n",
      "\n",
      "10   | 289  ÷   17 = \u0000\u0000\u0000\u0000 |\u0000\u0000\u0000\u0000 答案：17             \n",
      "\n",
      "11   | 11   x   11 = \u0000\u0000\u0000\u0000 |\u0000\u0000\u0000\u0000 答案：121            \n",
      "\n",
      "12   | 18   x   18 = \u0000\u0000\u0000\u0000 |\u0000\u0000\u0000\u0000 答案：324            \n",
      "\n",
      "13   | 169  ÷   13 = \u0000\u0000\u0000\u0000 |\u0000\u0000\u0000\u0000 答案：13             \n",
      "\n",
      "14   | 100  ÷   10 = \u0000\u0000\u0000\u0000 |\u0000\u0000\u0000\u0000 答案：10             \n",
      "\n",
      "15   | 19   x   19 = \u0000\u0000\u0000\u0000 |\u0000\u0000\u0000\u0000 答案：361            \n",
      "\n",
      "16   | 15   x   15 = \u0000\u0000\u0000\u0000 |\u0000\u0000\u0000\u0000 答案：225            \n",
      "\n",
      "17   | 20   x   20 = \u0000\u0000\u0000\u0000 |\u0000\u0000\u0000\u0000 答案：400            \n",
      "\n",
      "18   | 361  ÷   19 = \u0000\u0000\u0000\u0000 |\u0000\u0000\u0000\u0000 答案：19             \n",
      "\n",
      "19   | 144  ÷   12 = \u0000\u0000\u0000\u0000 |\u0000\u0000\u0000\u0000 答案：12             \n",
      "\n",
      "20   | 324  ÷   18 = \u0000\u0000\u0000\u0000 |\u0000\u0000\u0000\u0000 答案：18             \n",
      "\n",
      "21   | 8    x    8 = \u0000\u0000\u0000\u0000 |\u0000\u0000\u0000\u0000 答案：64             \n",
      "\n",
      "22   | 9    x    9 = \u0000\u0000\u0000\u0000 |\u0000\u0000\u0000\u0000 答案：81             \n",
      "\n",
      "23   | 19   x   19 = \u0000\u0000\u0000\u0000 |\u0000\u0000\u0000\u0000 答案：361            \n",
      "\n",
      "24   | 81   ÷    9 = \u0000\u0000\u0000\u0000 |\u0000\u0000\u0000\u0000 答案：9              \n",
      "\n",
      "25   | 361  ÷   19 = \u0000\u0000\u0000\u0000 |\u0000\u0000\u0000\u0000 答案：19             \n",
      "\n",
      "26   | 225  ÷   15 = \u0000\u0000\u0000\u0000 |\u0000\u0000\u0000\u0000 答案：15             \n",
      "\n",
      "27   | 361  ÷   19 = \u0000\u0000\u0000\u0000 |\u0000\u0000\u0000\u0000 答案：19             \n",
      "\n",
      "28   | 8    x    8 = \u0000\u0000\u0000\u0000 |\u0000\u0000\u0000\u0000 答案：64             \n",
      "\n",
      "29   | 20   x   20 = \u0000\u0000\u0000\u0000 |\u0000\u0000\u0000\u0000 答案：400            \n",
      "\n",
      "30   | 8    x    8 = \u0000\u0000\u0000\u0000 |\u0000\u0000\u0000\u0000 答案：64             \n",
      "\n",
      "31   | 16   x   16 = \u0000\u0000\u0000\u0000 |\u0000\u0000\u0000\u0000 答案：256            \n",
      "\n",
      "32   | 11   x   11 = \u0000\u0000\u0000\u0000 |\u0000\u0000\u0000\u0000 答案：121            \n",
      "\n",
      "33   | 144  ÷   12 = \u0000\u0000\u0000\u0000 |\u0000\u0000\u0000\u0000 答案：12             \n",
      "\n",
      "34   | 19   x   19 = \u0000\u0000\u0000\u0000 |\u0000\u0000\u0000\u0000 答案：361            \n",
      "\n",
      "35   | 9    x    9 = \u0000\u0000\u0000\u0000 |\u0000\u0000\u0000\u0000 答案：81             \n",
      "\n",
      "36   | 196  ÷   14 = \u0000\u0000\u0000\u0000 |\u0000\u0000\u0000\u0000 答案：14             \n",
      "\n",
      "37   | 14   x   14 = \u0000\u0000\u0000\u0000 |\u0000\u0000\u0000\u0000 答案：196            \n",
      "\n",
      "38   | 13   x   13 = \u0000\u0000\u0000\u0000 |\u0000\u0000\u0000\u0000 答案：169            \n",
      "\n",
      "39   | 9    x    9 = \u0000\u0000\u0000\u0000 |\u0000\u0000\u0000\u0000 答案：81             \n",
      "\n",
      "40   | 19   x   19 = \u0000\u0000\u0000\u0000 |\u0000\u0000\u0000\u0000 答案：361            \n",
      "\n"
     ]
    }
   ],
   "source": [
    "from reportlab.lib.pagesizes import letter\n",
    "from reportlab.platypus import SimpleDocTemplate, Paragraph, Spacer, PageBreak\n",
    "from reportlab.lib.styles import getSampleStyleSheet, ParagraphStyle\n",
    "from reportlab.pdfbase import pdfmetrics\n",
    "from reportlab.pdfbase.ttfonts import TTFont\n",
    "\n",
    "pdf_name = \"multi_page_problem.pdf\"\n",
    "\n",
    "def print_problem_pdf(days, nums):\n",
    "    pdfmetrics.registerFont(TTFont('SimSun', './SimSun.ttf'))  #注册字体\n",
    "    styles = getSampleStyleSheet()\n",
    "    styles.add(ParagraphStyle(fontName='SimSun', name='Song', leading=15, fontSize=13))  #leading=spacing\n",
    "      \n",
    "    doc = SimpleDocTemplate(pdf_name, pagesize=letter)\n",
    "    \n",
    "    # styles.add(ParagraphStyle(name='Chinese', fontName='AR PL UMing CN',    fontSize=20))\n",
    "    styles.add(ParagraphStyle(name='Address', fontName='Arial'))\n",
    "    flowables = []\n",
    "\n",
    "    for d in range(days):\n",
    "        # 将换行符替换为LineBreak对象\n",
    "        # problem_text = gen_problem_per_day(nums)\n",
    "        problem_text = gen_problem_per_day(nums, 'squre')\n",
    "        lines = problem_text.split('\\n')\n",
    "        for line in lines:\n",
    "            flowables.append(Paragraph(line, styles['Song']))\n",
    "\n",
    "        # 添加额外的间距\n",
    "        flowables.append(Spacer(1, 12))\n",
    "\n",
    "        if d < days - 1:  # 除了最后一页外，其他每页末尾添加分页符\n",
    "            flowables.append(PageBreak())\n",
    "\n",
    "    doc.build(flowables)\n",
    "\n",
    "# 使用函数生成多页PDF\n",
    "days = 2  # \n",
    "nums = 40  # \n",
    "print_problem_pdf(days, nums)"
   ]
  },
  {
   "cell_type": "code",
   "execution_count": null,
   "metadata": {},
   "outputs": [],
   "source": []
  },
  {
   "cell_type": "code",
   "execution_count": null,
   "metadata": {},
   "outputs": [],
   "source": []
  }
 ],
 "metadata": {
  "kernelspec": {
   "display_name": "Python 3 (ipykernel)",
   "language": "python",
   "name": "python3"
  },
  "language_info": {
   "codemirror_mode": {
    "name": "ipython",
    "version": 3
   },
   "file_extension": ".py",
   "mimetype": "text/x-python",
   "name": "python",
   "nbconvert_exporter": "python",
   "pygments_lexer": "ipython3",
   "version": "3.12.2"
  }
 },
 "nbformat": 4,
 "nbformat_minor": 4
}
