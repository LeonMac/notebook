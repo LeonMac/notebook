{
 "cells": [
  {
   "cell_type": "code",
   "execution_count": 1,
   "metadata": {
    "execution": {
     "iopub.execute_input": "2024-12-07T05:39:00.235723Z",
     "iopub.status.busy": "2024-12-07T05:39:00.235243Z",
     "iopub.status.idle": "2024-12-07T05:39:00.244712Z",
     "shell.execute_reply": "2024-12-07T05:39:00.243210Z"
    }
   },
   "outputs": [],
   "source": [
    "import random\n",
    "\n",
    "NUM = 100 # 每次生成100道题\n",
    "TYPE_DICT = ['mul', 'div']\n",
    "\n",
    "MUL1_MIN = 20\n",
    "MUL1_MAX = 300\n",
    "MUL2_MIN = 4\n",
    "MUL2_MAX = 9\n",
    "\n",
    "DIV1_MIN = 100\n",
    "DIV1_MAX = 1199\n",
    "DIV2_MIN = 3\n",
    "DIV2_MAX = 9\n",
    "\n",
    "# md_rnd: 乘除随机的计算\n",
    "# five: 和5、10相关的计算\n",
    "# squre: 平方和平方数计算\n",
    "PROB_TYPE = ['md_rnd','five','squre']\n",
    "\n",
    "NULL_4 = '\\u0000' * 4\n",
    "NULL_8 = '\\u0000' * 8\n"
   ]
  },
  {
   "cell_type": "code",
   "execution_count": 2,
   "metadata": {
    "execution": {
     "iopub.execute_input": "2024-12-07T05:39:00.249895Z",
     "iopub.status.busy": "2024-12-07T05:39:00.249452Z",
     "iopub.status.idle": "2024-12-07T05:39:00.258760Z",
     "shell.execute_reply": "2024-12-07T05:39:00.257385Z"
    }
   },
   "outputs": [
    {
     "name": "stdout",
     "output_type": "stream",
     "text": [
      "mul1 = 128, mul2 = 9 mul_res = 1152\n",
      "div1 = 362, div2 = 3 div_res = 120 div_rem =2\n"
     ]
    }
   ],
   "source": [
    "type_rnd = random.randint(0, len(TYPE_DICT))\n",
    "mul1 = random.randint(MUL1_MIN, MUL1_MAX)\n",
    "mul2 = random.randint(MUL2_MIN, MUL2_MAX)\n",
    "\n",
    "mul_res = mul1 * mul2\n",
    "\n",
    "div1 = random.randint(DIV1_MIN, DIV1_MAX)\n",
    "div2 = random.randint(DIV2_MIN, DIV2_MAX)\n",
    "\n",
    "div_res = div1//div2\n",
    "\n",
    "div_rem = div1 % div2\n",
    "\n",
    "print(f\"mul1 = {mul1}, mul2 = {mul2} mul_res = {mul_res}\")\n",
    "print(f\"div1 = {div1}, div2 = {div2} div_res = {div_res} div_rem ={div_rem}\")\n"
   ]
  },
  {
   "cell_type": "code",
   "execution_count": 3,
   "metadata": {
    "execution": {
     "iopub.execute_input": "2024-12-07T05:39:00.264264Z",
     "iopub.status.busy": "2024-12-07T05:39:00.263829Z",
     "iopub.status.idle": "2024-12-07T05:39:00.270531Z",
     "shell.execute_reply": "2024-12-07T05:39:00.269528Z"
    }
   },
   "outputs": [],
   "source": [
    "def mul_problem_gen (index:int, mul1:int, mul2:int, debug: bool = False):\n",
    "    mul_res = mul1 * mul2\n",
    "    format_str = f\"{index:<4} | {mul1:<4} x {mul2:>4} = {NULL_4} | {NULL_4} 答案：{mul_res}\"\n",
    "    if debug: print(format_str)\n",
    "    return format_str\n",
    "    "
   ]
  },
  {
   "cell_type": "code",
   "execution_count": 4,
   "metadata": {
    "execution": {
     "iopub.execute_input": "2024-12-07T05:39:00.275414Z",
     "iopub.status.busy": "2024-12-07T05:39:00.274988Z",
     "iopub.status.idle": "2024-12-07T05:39:00.287671Z",
     "shell.execute_reply": "2024-12-07T05:39:00.286695Z"
    }
   },
   "outputs": [
    {
     "name": "stdout",
     "output_type": "stream",
     "text": [
      "1    | 18   x    3 = \u0000\u0000\u0000\u0000 | \u0000\u0000\u0000\u0000 答案：54\n",
      "122  | 55   x    5 = \u0000\u0000\u0000\u0000 | \u0000\u0000\u0000\u0000 答案：275\n"
     ]
    },
    {
     "data": {
      "text/plain": [
       "'122  | 55   x    5 = \\x00\\x00\\x00\\x00 | \\x00\\x00\\x00\\x00 答案：275'"
      ]
     },
     "execution_count": 4,
     "metadata": {},
     "output_type": "execute_result"
    }
   ],
   "source": [
    "mul_problem_gen(1,18,3, True)\n",
    "mul_problem_gen(122,55,5, True)"
   ]
  },
  {
   "cell_type": "code",
   "execution_count": 5,
   "metadata": {
    "execution": {
     "iopub.execute_input": "2024-12-07T05:39:00.293176Z",
     "iopub.status.busy": "2024-12-07T05:39:00.292696Z",
     "iopub.status.idle": "2024-12-07T05:39:00.300683Z",
     "shell.execute_reply": "2024-12-07T05:39:00.299476Z"
    }
   },
   "outputs": [],
   "source": [
    "def div_problem_gen (index:int, div1:int, div2:int,  debug: bool = False):\n",
    "\n",
    "    div_res = div1//div2\n",
    "\n",
    "    div_rem = div1 % div2\n",
    "    \n",
    "    ans_str = f\"{div_res}\" if div_rem == 0 else f\"{div_res}...{div_rem}\" \n",
    "    \n",
    "    format_str = f\"{index:<4} | {div1:<4} \\u00F7 {div2:>4} = {NULL_4} | {NULL_4} 答案：{ans_str}\"\n",
    "    if debug: print(format_str)\n",
    "    return format_str"
   ]
  },
  {
   "cell_type": "code",
   "execution_count": 6,
   "metadata": {
    "execution": {
     "iopub.execute_input": "2024-12-07T05:39:00.305745Z",
     "iopub.status.busy": "2024-12-07T05:39:00.305305Z",
     "iopub.status.idle": "2024-12-07T05:39:00.313195Z",
     "shell.execute_reply": "2024-12-07T05:39:00.312239Z"
    }
   },
   "outputs": [
    {
     "name": "stdout",
     "output_type": "stream",
     "text": [
      "1    | 18   ÷    3 = \u0000\u0000\u0000\u0000 | \u0000\u0000\u0000\u0000 答案：6\n",
      "12   | 55   ÷   15 = \u0000\u0000\u0000\u0000 | \u0000\u0000\u0000\u0000 答案：3...10\n"
     ]
    },
    {
     "data": {
      "text/plain": [
       "'12   | 55   ÷   15 = \\x00\\x00\\x00\\x00 | \\x00\\x00\\x00\\x00 答案：3...10'"
      ]
     },
     "execution_count": 6,
     "metadata": {},
     "output_type": "execute_result"
    }
   ],
   "source": [
    "div_problem_gen(1,18,3, True)\n",
    "div_problem_gen(12,55,15, True)"
   ]
  },
  {
   "cell_type": "code",
   "execution_count": 7,
   "metadata": {
    "execution": {
     "iopub.execute_input": "2024-12-07T05:39:00.318461Z",
     "iopub.status.busy": "2024-12-07T05:39:00.318031Z",
     "iopub.status.idle": "2024-12-07T05:39:00.325839Z",
     "shell.execute_reply": "2024-12-07T05:39:00.324556Z"
    }
   },
   "outputs": [],
   "source": [
    "def problem_gen (type_: str, index: int):\n",
    "    problem_str = None\n",
    "    if type_ == 'mul':\n",
    "        mul1 = random.randint(MUL1_MIN, MUL1_MAX)\n",
    "        mul2 = random.randint(MUL2_MIN, MUL2_MAX)\n",
    "        problem_str = mul_problem_gen(index, mul1, mul2)\n",
    "    elif type_ == 'div':\n",
    "        div1 = random.randint(DIV1_MIN, DIV1_MAX)\n",
    "        div2 = random.randint(DIV2_MIN, DIV2_MAX)\n",
    "        problem_str = div_problem_gen(index, div1, div2)\n",
    "    return problem_str\n",
    "        "
   ]
  },
  {
   "cell_type": "code",
   "execution_count": 8,
   "metadata": {
    "execution": {
     "iopub.execute_input": "2024-12-07T05:39:00.331506Z",
     "iopub.status.busy": "2024-12-07T05:39:00.331076Z",
     "iopub.status.idle": "2024-12-07T05:39:00.339701Z",
     "shell.execute_reply": "2024-12-07T05:39:00.338216Z"
    }
   },
   "outputs": [],
   "source": [
    "def problem_gen_five (type_: str, index: int):\n",
    "    problem_str = None\n",
    "    if type_ == 'mul':\n",
    "        mul1 = random.randint(2, 19)*50\n",
    "        mul2 = random.randint(2, 9)*20\n",
    "        problem_str = mul_problem_gen(index, mul1, mul2)\n",
    "    elif type_ == 'div':\n",
    "        mul1 = random.randint(1, 19)\n",
    "        mul2 = random.randint(1, 9)*10\n",
    "        remain = random.randint(0, mul2)\n",
    "        five_scale = random.randint(1, 9)*5\n",
    "        product = (mul1 * mul2 + remain)*five_scale\n",
    "        problem_str = div_problem_gen(index, product, mul2)\n",
    "    return problem_str"
   ]
  },
  {
   "cell_type": "code",
   "execution_count": 9,
   "metadata": {
    "execution": {
     "iopub.execute_input": "2024-12-07T05:39:00.345414Z",
     "iopub.status.busy": "2024-12-07T05:39:00.344930Z",
     "iopub.status.idle": "2024-12-07T05:39:00.351761Z",
     "shell.execute_reply": "2024-12-07T05:39:00.350733Z"
    }
   },
   "outputs": [],
   "source": [
    "def problem_gen_squre (type_: str, index: int):\n",
    "    problem_str = None\n",
    "    mul = random.randint(9, 20)\n",
    "    product = mul * mul\n",
    "    if type_ == 'mul':\n",
    "        problem_str = mul_problem_gen(index, mul, mul)\n",
    "    elif type_ == 'div':\n",
    "        problem_str = div_problem_gen(index, product, mul)\n",
    "    return problem_str"
   ]
  },
  {
   "cell_type": "code",
   "execution_count": 10,
   "metadata": {
    "execution": {
     "iopub.execute_input": "2024-12-07T05:39:00.357000Z",
     "iopub.status.busy": "2024-12-07T05:39:00.356546Z",
     "iopub.status.idle": "2024-12-07T05:39:00.364097Z",
     "shell.execute_reply": "2024-12-07T05:39:00.363018Z"
    }
   },
   "outputs": [],
   "source": [
    "def problem_gen_mix(algo_type_: str, index: int, problem_type:str):\n",
    "    if problem_type == 'md_rnd':\n",
    "        print_str = problem_gen(algo_type_, index)\n",
    "    elif problem_type == 'five':\n",
    "        print_str = problem_gen_five(algo_type_, index)\n",
    "    elif problem_type == 'squre':\n",
    "        print_str = problem_gen_squre(algo_type_, index)\n",
    "    elif problem_type == 'mix':\n",
    "        single_problem_type = PROB_TYPE[random.randint(1, len(PROB_TYPE))-1]\n",
    "        print_str = problem_gen_mix(algo_type_, index, single_problem_type)\n",
    "    return print_str\n"
   ]
  },
  {
   "cell_type": "code",
   "execution_count": 11,
   "metadata": {
    "execution": {
     "iopub.execute_input": "2024-12-07T05:39:00.370688Z",
     "iopub.status.busy": "2024-12-07T05:39:00.370239Z",
     "iopub.status.idle": "2024-12-07T05:39:00.377314Z",
     "shell.execute_reply": "2024-12-07T05:39:00.375973Z"
    }
   },
   "outputs": [],
   "source": [
    "def biased_random(threshold):\n",
    "    '''随机选择是乘法或是除法, 基于阈值决定多少 50随机，0-49 乘法多一些，51-99 除法多一些。'''\n",
    "    # 将阈值范围0-99映射到0.0-1.0的概率范围\n",
    "    probability_of_one = (threshold / 100.0)\n",
    "    # 生成一个0到1之间的随机数\n",
    "    random_number = random.random()\n",
    "    # 如果随机数小于等于阈值对应的1的概率，则输出1，否则输出0\n",
    "    if random_number <= probability_of_one:\n",
    "        return 1\n",
    "    else:\n",
    "        return 0"
   ]
  },
  {
   "cell_type": "code",
   "execution_count": 12,
   "metadata": {
    "execution": {
     "iopub.execute_input": "2024-12-07T05:39:00.383470Z",
     "iopub.status.busy": "2024-12-07T05:39:00.382934Z",
     "iopub.status.idle": "2024-12-07T05:39:00.391583Z",
     "shell.execute_reply": "2024-12-07T05:39:00.390280Z"
    }
   },
   "outputs": [],
   "source": [
    "def print_problem_single(round_:int, special_type:str='md_rnd', threshold = 50):\n",
    "    all_out = ''\n",
    "    for i in range (round_):\n",
    "        # 随机选择是乘法或是除法\n",
    "        # algo_type_ = TYPE_DICT[random.randint(0, len(TYPE_DICT)-1)]\n",
    "        algo_type_ = TYPE_DICT[biased_random(threshold)]\n",
    "        if special_type == 'md_rnd':\n",
    "            print_str = problem_gen(algo_type_, i+1)\n",
    "        elif special_type == 'five':\n",
    "            print_str = problem_gen_five(algo_type_, i+1)\n",
    "        elif special_type == 'squre':\n",
    "            print_str = problem_gen_squre(algo_type_, i+1)\n",
    "        elif special_type == 'mix':\n",
    "            print_str = problem_gen_mix(algo_type_, i+1, special_type)\n",
    "\n",
    "        out = f\"{print_str:<50}\\n\"\n",
    "        \n",
    "        print(out)\n",
    "\n",
    "        all_out += out\n",
    "\n",
    "    return all_out   \n"
   ]
  },
  {
   "cell_type": "code",
   "execution_count": 13,
   "metadata": {
    "execution": {
     "iopub.execute_input": "2024-12-07T05:39:00.397122Z",
     "iopub.status.busy": "2024-12-07T05:39:00.396576Z",
     "iopub.status.idle": "2024-12-07T05:39:00.403398Z",
     "shell.execute_reply": "2024-12-07T05:39:00.402072Z"
    }
   },
   "outputs": [],
   "source": [
    "def gen_problem_per_day(nums:int, special_type:str='md_rnd', bias:int=50):\n",
    "    out=''\n",
    "    out+=f\"日期_____， 正确数目_____, 错误数目_____, 得分______, 类型:{special_type}\\n\"\n",
    "    out+=print_problem_single(nums, special_type, bias)\n",
    "    out+=\"\\n\"*2\n",
    "    return out"
   ]
  },
  {
   "cell_type": "code",
   "execution_count": 14,
   "metadata": {
    "execution": {
     "iopub.execute_input": "2024-12-07T05:39:00.409794Z",
     "iopub.status.busy": "2024-12-07T05:39:00.409081Z",
     "iopub.status.idle": "2024-12-07T05:39:01.859961Z",
     "shell.execute_reply": "2024-12-07T05:39:01.858145Z"
    }
   },
   "outputs": [
    {
     "name": "stdout",
     "output_type": "stream",
     "text": [
      "1    | 3535 ÷   10 = \u0000\u0000\u0000\u0000 | \u0000\u0000\u0000\u0000 答案：353...5       \n",
      "\n",
      "2    | 450  x  180 = \u0000\u0000\u0000\u0000 | \u0000\u0000\u0000\u0000 答案：81000         \n",
      "\n",
      "3    | 900  x  140 = \u0000\u0000\u0000\u0000 | \u0000\u0000\u0000\u0000 答案：126000        \n",
      "\n",
      "4    | 4525 ÷   20 = \u0000\u0000\u0000\u0000 | \u0000\u0000\u0000\u0000 答案：226...5       \n",
      "\n",
      "5    | 6000 ÷   10 = \u0000\u0000\u0000\u0000 | \u0000\u0000\u0000\u0000 答案：600           \n",
      "\n",
      "6    | 13380 ÷   70 = \u0000\u0000\u0000\u0000 | \u0000\u0000\u0000\u0000 答案：191...10     \n",
      "\n",
      "7    | 900  x   40 = \u0000\u0000\u0000\u0000 | \u0000\u0000\u0000\u0000 答案：36000         \n",
      "\n",
      "8    | 17730 ÷   90 = \u0000\u0000\u0000\u0000 | \u0000\u0000\u0000\u0000 答案：197          \n",
      "\n",
      "9    | 250  x   40 = \u0000\u0000\u0000\u0000 | \u0000\u0000\u0000\u0000 答案：10000         \n",
      "\n",
      "10   | 600  x  100 = \u0000\u0000\u0000\u0000 | \u0000\u0000\u0000\u0000 答案：60000         \n",
      "\n",
      "11   | 6230 ÷   10 = \u0000\u0000\u0000\u0000 | \u0000\u0000\u0000\u0000 答案：623           \n",
      "\n",
      "12   | 3725 ÷   50 = \u0000\u0000\u0000\u0000 | \u0000\u0000\u0000\u0000 答案：74...25       \n",
      "\n",
      "13   | 36880 ÷   50 = \u0000\u0000\u0000\u0000 | \u0000\u0000\u0000\u0000 答案：737...30     \n",
      "\n",
      "14   | 4000 ÷   50 = \u0000\u0000\u0000\u0000 | \u0000\u0000\u0000\u0000 答案：80            \n",
      "\n",
      "15   | 2440 ÷   50 = \u0000\u0000\u0000\u0000 | \u0000\u0000\u0000\u0000 答案：48...40       \n",
      "\n",
      "16   | 15580 ÷   40 = \u0000\u0000\u0000\u0000 | \u0000\u0000\u0000\u0000 答案：389...20     \n",
      "\n",
      "17   | 9750 ÷   70 = \u0000\u0000\u0000\u0000 | \u0000\u0000\u0000\u0000 答案：139...20      \n",
      "\n",
      "18   | 11600 ÷   90 = \u0000\u0000\u0000\u0000 | \u0000\u0000\u0000\u0000 答案：128...80     \n",
      "\n",
      "19   | 13550 ÷   80 = \u0000\u0000\u0000\u0000 | \u0000\u0000\u0000\u0000 答案：169...30     \n",
      "\n",
      "20   | 24150 ÷   80 = \u0000\u0000\u0000\u0000 | \u0000\u0000\u0000\u0000 答案：301...70     \n",
      "\n",
      "21   | 50760 ÷   90 = \u0000\u0000\u0000\u0000 | \u0000\u0000\u0000\u0000 答案：564          \n",
      "\n",
      "22   | 1360 ÷   30 = \u0000\u0000\u0000\u0000 | \u0000\u0000\u0000\u0000 答案：45...10       \n",
      "\n",
      "23   | 16875 ÷   20 = \u0000\u0000\u0000\u0000 | \u0000\u0000\u0000\u0000 答案：843...15     \n",
      "\n",
      "24   | 5810 ÷   60 = \u0000\u0000\u0000\u0000 | \u0000\u0000\u0000\u0000 答案：96...50       \n",
      "\n",
      "25   | 250  x  120 = \u0000\u0000\u0000\u0000 | \u0000\u0000\u0000\u0000 答案：30000         \n",
      "\n",
      "26   | 37975 ÷   90 = \u0000\u0000\u0000\u0000 | \u0000\u0000\u0000\u0000 答案：421...85     \n",
      "\n",
      "27   | 6360 ÷   80 = \u0000\u0000\u0000\u0000 | \u0000\u0000\u0000\u0000 答案：79...40       \n",
      "\n",
      "28   | 3040 ÷   50 = \u0000\u0000\u0000\u0000 | \u0000\u0000\u0000\u0000 答案：60...40       \n",
      "\n",
      "29   | 37170 ÷   90 = \u0000\u0000\u0000\u0000 | \u0000\u0000\u0000\u0000 答案：413          \n",
      "\n",
      "30   | 31220 ÷   50 = \u0000\u0000\u0000\u0000 | \u0000\u0000\u0000\u0000 答案：624...20     \n",
      "\n",
      "31   | 4200 ÷   40 = \u0000\u0000\u0000\u0000 | \u0000\u0000\u0000\u0000 答案：105           \n",
      "\n",
      "32   | 11170 ÷   70 = \u0000\u0000\u0000\u0000 | \u0000\u0000\u0000\u0000 答案：159...40     \n",
      "\n",
      "33   | 700  x  100 = \u0000\u0000\u0000\u0000 | \u0000\u0000\u0000\u0000 答案：70000         \n",
      "\n",
      "34   | 400  x  180 = \u0000\u0000\u0000\u0000 | \u0000\u0000\u0000\u0000 答案：72000         \n",
      "\n",
      "35   | 7200 ÷   10 = \u0000\u0000\u0000\u0000 | \u0000\u0000\u0000\u0000 答案：720           \n",
      "\n",
      "36   | 4785 ÷   50 = \u0000\u0000\u0000\u0000 | \u0000\u0000\u0000\u0000 答案：95...35       \n",
      "\n",
      "37   | 2475 ÷   30 = \u0000\u0000\u0000\u0000 | \u0000\u0000\u0000\u0000 答案：82...15       \n",
      "\n",
      "38   | 970  ÷   10 = \u0000\u0000\u0000\u0000 | \u0000\u0000\u0000\u0000 答案：97            \n",
      "\n",
      "39   | 850  x  160 = \u0000\u0000\u0000\u0000 | \u0000\u0000\u0000\u0000 答案：136000        \n",
      "\n",
      "40   | 8425 ÷   20 = \u0000\u0000\u0000\u0000 | \u0000\u0000\u0000\u0000 答案：421...5       \n",
      "\n"
     ]
    },
    {
     "ename": "KeyError",
     "evalue": "\"Style 'Song' not found in stylesheet\"",
     "output_type": "error",
     "traceback": [
      "\u001b[0;31m---------------------------------------------------------------------------\u001b[0m",
      "\u001b[0;31mKeyError\u001b[0m                                  Traceback (most recent call last)",
      "File \u001b[0;32m~/miniconda3/envs/web/lib/python3.12/site-packages/reportlab/lib/styles.py:231\u001b[0m, in \u001b[0;36mStyleSheet1.__getitem__\u001b[0;34m(self, key)\u001b[0m\n\u001b[1;32m    230\u001b[0m \u001b[38;5;28;01mtry\u001b[39;00m:\n\u001b[0;32m--> 231\u001b[0m     \u001b[38;5;28;01mreturn\u001b[39;00m \u001b[38;5;28mself\u001b[39m\u001b[38;5;241m.\u001b[39mbyAlias[key]\n\u001b[1;32m    232\u001b[0m \u001b[38;5;28;01mexcept\u001b[39;00m \u001b[38;5;167;01mKeyError\u001b[39;00m:\n",
      "\u001b[0;31mKeyError\u001b[0m: 'Song'",
      "\nDuring handling of the above exception, another exception occurred:\n",
      "\u001b[0;31mKeyError\u001b[0m                                  Traceback (most recent call last)",
      "File \u001b[0;32m~/miniconda3/envs/web/lib/python3.12/site-packages/reportlab/lib/styles.py:234\u001b[0m, in \u001b[0;36mStyleSheet1.__getitem__\u001b[0;34m(self, key)\u001b[0m\n\u001b[1;32m    233\u001b[0m \u001b[38;5;28;01mtry\u001b[39;00m:\n\u001b[0;32m--> 234\u001b[0m     \u001b[38;5;28;01mreturn\u001b[39;00m \u001b[38;5;28mself\u001b[39m\u001b[38;5;241m.\u001b[39mbyName[key]\n\u001b[1;32m    235\u001b[0m \u001b[38;5;28;01mexcept\u001b[39;00m \u001b[38;5;167;01mKeyError\u001b[39;00m:\n",
      "\u001b[0;31mKeyError\u001b[0m: 'Song'",
      "\nDuring handling of the above exception, another exception occurred:\n",
      "\u001b[0;31mKeyError\u001b[0m                                  Traceback (most recent call last)",
      "Cell \u001b[0;32mIn[14], line 41\u001b[0m\n\u001b[1;32m     39\u001b[0m days \u001b[38;5;241m=\u001b[39m \u001b[38;5;241m4\u001b[39m  \u001b[38;5;66;03m# \u001b[39;00m\n\u001b[1;32m     40\u001b[0m nums \u001b[38;5;241m=\u001b[39m \u001b[38;5;241m40\u001b[39m  \u001b[38;5;66;03m# \u001b[39;00m\n\u001b[0;32m---> 41\u001b[0m print_problem_pdf(days, nums)\n",
      "Cell \u001b[0;32mIn[14], line 28\u001b[0m, in \u001b[0;36mprint_problem_pdf\u001b[0;34m(days, nums)\u001b[0m\n\u001b[1;32m     26\u001b[0m lines \u001b[38;5;241m=\u001b[39m problem_text\u001b[38;5;241m.\u001b[39msplit(\u001b[38;5;124m'\u001b[39m\u001b[38;5;130;01m\\n\u001b[39;00m\u001b[38;5;124m'\u001b[39m)\n\u001b[1;32m     27\u001b[0m \u001b[38;5;28;01mfor\u001b[39;00m line \u001b[38;5;129;01min\u001b[39;00m lines:\n\u001b[0;32m---> 28\u001b[0m     flowables\u001b[38;5;241m.\u001b[39mappend(Paragraph(line, styles[\u001b[38;5;124m'\u001b[39m\u001b[38;5;124mSong\u001b[39m\u001b[38;5;124m'\u001b[39m]))\n\u001b[1;32m     30\u001b[0m \u001b[38;5;66;03m# 添加额外的间距\u001b[39;00m\n\u001b[1;32m     31\u001b[0m flowables\u001b[38;5;241m.\u001b[39mappend(Spacer(\u001b[38;5;241m1\u001b[39m, \u001b[38;5;241m12\u001b[39m))\n",
      "File \u001b[0;32m~/miniconda3/envs/web/lib/python3.12/site-packages/reportlab/lib/styles.py:236\u001b[0m, in \u001b[0;36mStyleSheet1.__getitem__\u001b[0;34m(self, key)\u001b[0m\n\u001b[1;32m    234\u001b[0m     \u001b[38;5;28;01mreturn\u001b[39;00m \u001b[38;5;28mself\u001b[39m\u001b[38;5;241m.\u001b[39mbyName[key]\n\u001b[1;32m    235\u001b[0m \u001b[38;5;28;01mexcept\u001b[39;00m \u001b[38;5;167;01mKeyError\u001b[39;00m:\n\u001b[0;32m--> 236\u001b[0m     \u001b[38;5;28;01mraise\u001b[39;00m \u001b[38;5;167;01mKeyError\u001b[39;00m(\u001b[38;5;124m\"\u001b[39m\u001b[38;5;124mStyle \u001b[39m\u001b[38;5;124m'\u001b[39m\u001b[38;5;132;01m%s\u001b[39;00m\u001b[38;5;124m'\u001b[39m\u001b[38;5;124m not found in stylesheet\u001b[39m\u001b[38;5;124m\"\u001b[39m \u001b[38;5;241m%\u001b[39m key)\n",
      "\u001b[0;31mKeyError\u001b[0m: \"Style 'Song' not found in stylesheet\""
     ]
    }
   ],
   "source": [
    "from reportlab.lib.pagesizes import letter\n",
    "from reportlab.platypus import SimpleDocTemplate, Paragraph, Spacer, PageBreak\n",
    "from reportlab.lib.styles import getSampleStyleSheet, ParagraphStyle\n",
    "from reportlab.pdfbase import pdfmetrics\n",
    "from reportlab.pdfbase.ttfonts import TTFont\n",
    "\n",
    "pdf_name = \"multi_page_problem.pdf\"\n",
    "\n",
    "# have to use SimSun, otherwise can not generate pdf correctly\n",
    "font_name = 'SimSun'\n",
    "font_path = './SimSun.ttf'\n",
    "\n",
    "def print_problem_pdf(days, nums):\n",
    "    pdfmetrics.registerFont(TTFont(font_name, font_path))  #注册字体\n",
    "    styles = getSampleStyleSheet()\n",
    "    styles.add(ParagraphStyle(fontName=font_name, name='Sun', leading=15, fontSize=13))  #leading=spacing\n",
    "      \n",
    "    doc = SimpleDocTemplate(pdf_name, pagesize=letter)\n",
    "    \n",
    "    styles.add(ParagraphStyle(name='Address', fontName='Arial'))\n",
    "    flowables = []\n",
    "\n",
    "    for d in range(days):\n",
    "        # 将换行符替换为LineBreak对象\n",
    "        problem_text = gen_problem_per_day(nums, 'five', 70)\n",
    "        lines = problem_text.split('\\n')\n",
    "        for line in lines:\n",
    "            flowables.append(Paragraph(line, styles['Song']))\n",
    "\n",
    "        # 添加额外的间距\n",
    "        flowables.append(Spacer(1, 12))\n",
    "\n",
    "        if d < days - 1:  # 除了最后一页外，其他每页末尾添加分页符\n",
    "            flowables.append(PageBreak())\n",
    "\n",
    "    doc.build(flowables)\n",
    "\n",
    "# 使用函数生成多页PDF\n",
    "days = 4  # \n",
    "nums = 40  # \n",
    "print_problem_pdf(days, nums)"
   ]
  },
  {
   "cell_type": "code",
   "execution_count": null,
   "metadata": {},
   "outputs": [],
   "source": []
  },
  {
   "cell_type": "code",
   "execution_count": null,
   "metadata": {},
   "outputs": [],
   "source": []
  }
 ],
 "metadata": {
  "kernelspec": {
   "display_name": "Python 3 (ipykernel)",
   "language": "python",
   "name": "python3"
  },
  "language_info": {
   "codemirror_mode": {
    "name": "ipython",
    "version": 3
   },
   "file_extension": ".py",
   "mimetype": "text/x-python",
   "name": "python",
   "nbconvert_exporter": "python",
   "pygments_lexer": "ipython3",
   "version": "3.12.2"
  }
 },
 "nbformat": 4,
 "nbformat_minor": 4
}
