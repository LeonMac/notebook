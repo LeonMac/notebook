{
 "cells": [
  {
   "cell_type": "code",
   "execution_count": null,
   "metadata": {},
   "outputs": [],
   "source": [
    "import random\n",
    "\n",
    "NUM = 100 # 每次生成100道题\n",
    "TYPE_DICT = ['mul', 'div']\n",
    "\n",
    "MUL1_MIN = 20\n",
    "MUL1_MAX = 300\n",
    "MUL2_MIN = 4\n",
    "MUL2_MAX = 9\n",
    "\n",
    "DIV1_MIN = 100\n",
    "DIV1_MAX = 1199\n",
    "DIV2_MIN = 3\n",
    "DIV2_MAX = 9\n",
    "\n",
    "# md_rnd: 乘除随机的计算\n",
    "# five: 和5、10相关的计算\n",
    "# squre: 平方和平方数计算\n",
    "PROB_TYPE = ['md_rnd','five','squre']\n",
    "\n",
    "NULL_4 = '\\u0000' * 4\n",
    "NULL_8 = '\\u0000' * 8\n"
   ]
  },
  {
   "cell_type": "code",
   "execution_count": null,
   "metadata": {},
   "outputs": [],
   "source": [
    "type_rnd = random.randint(0, len(TYPE_DICT))\n",
    "mul1 = random.randint(MUL1_MIN, MUL1_MAX)\n",
    "mul2 = random.randint(MUL2_MIN, MUL2_MAX)\n",
    "\n",
    "mul_res = mul1 * mul2\n",
    "\n",
    "div1 = random.randint(DIV1_MIN, DIV1_MAX)\n",
    "div2 = random.randint(DIV2_MIN, DIV2_MAX)\n",
    "\n",
    "div_res = div1//div2\n",
    "\n",
    "div_rem = div1 % div2\n",
    "\n",
    "print(f\"mul1 = {mul1}, mul2 = {mul2} mul_res = {mul_res}\")\n",
    "print(f\"div1 = {div1}, div2 = {div2} div_res = {div_res} div_rem ={div_rem}\")\n"
   ]
  },
  {
   "cell_type": "code",
   "execution_count": null,
   "metadata": {},
   "outputs": [],
   "source": [
    "def mul_problem_gen (index:int, mul1:int, mul2:int, debug: bool = False):\n",
    "    mul_res = mul1 * mul2\n",
    "    format_str = f\"{index:<4} | {mul1:<4} x {mul2:>4} = {NULL_4} | {NULL_4} 答案：{mul_res}\"\n",
    "    if debug: print(format_str)\n",
    "    return format_str\n",
    "    "
   ]
  },
  {
   "cell_type": "code",
   "execution_count": null,
   "metadata": {},
   "outputs": [],
   "source": [
    "mul_problem_gen(1,18,3, True)\n",
    "mul_problem_gen(122,55,5, True)"
   ]
  },
  {
   "cell_type": "code",
   "execution_count": null,
   "metadata": {},
   "outputs": [],
   "source": [
    "def div_problem_gen (index:int, div1:int, div2:int,  debug: bool = False):\n",
    "\n",
    "    div_res = div1//div2\n",
    "\n",
    "    div_rem = div1 % div2\n",
    "    \n",
    "    ans_str = f\"{div_res}\" if div_rem == 0 else f\"{div_res}...{div_rem}\" \n",
    "    \n",
    "    format_str = f\"{index:<4} | {div1:<4} \\u00F7 {div2:>4} = {NULL_4} | {NULL_4} 答案：{ans_str}\"\n",
    "    if debug: print(format_str)\n",
    "    return format_str"
   ]
  },
  {
   "cell_type": "code",
   "execution_count": null,
   "metadata": {},
   "outputs": [],
   "source": [
    "div_problem_gen(1,18,3, True)\n",
    "div_problem_gen(12,55,15, True)"
   ]
  },
  {
   "cell_type": "code",
   "execution_count": null,
   "metadata": {},
   "outputs": [],
   "source": [
    "def problem_gen (type_: str, index: int):\n",
    "    problem_str = None\n",
    "    if type_ == 'mul':\n",
    "        mul1 = random.randint(MUL1_MIN, MUL1_MAX)\n",
    "        mul2 = random.randint(MUL2_MIN, MUL2_MAX)\n",
    "        problem_str = mul_problem_gen(index, mul1, mul2)\n",
    "    elif type_ == 'div':\n",
    "        div1 = random.randint(DIV1_MIN, DIV1_MAX)\n",
    "        div2 = random.randint(DIV2_MIN, DIV2_MAX)\n",
    "        problem_str = div_problem_gen(index, div1, div2)\n",
    "    return problem_str\n",
    "        "
   ]
  },
  {
   "cell_type": "code",
   "execution_count": null,
   "metadata": {},
   "outputs": [],
   "source": [
    "def problem_gen_five (type_: str, index: int):\n",
    "    problem_str = None\n",
    "    if type_ == 'mul':\n",
    "        mul1 = random.randint(2, 19)*50\n",
    "        mul2 = random.randint(2, 9)*20\n",
    "        problem_str = mul_problem_gen(index, mul1, mul2)\n",
    "    elif type_ == 'div':\n",
    "        mul1 = random.randint(1, 19)\n",
    "        mul2 = random.randint(1, 9)*10\n",
    "        remain = random.randint(0, mul2)\n",
    "        five_scale = random.randint(1, 9)*5\n",
    "        product = (mul1 * mul2 + remain)*five_scale\n",
    "        problem_str = div_problem_gen(index, product, mul2)\n",
    "    return problem_str"
   ]
  },
  {
   "cell_type": "code",
   "execution_count": null,
   "metadata": {},
   "outputs": [],
   "source": [
    "def problem_gen_squre (type_: str, index: int):\n",
    "    problem_str = None\n",
    "    mul = random.randint(9, 20)\n",
    "    product = mul * mul\n",
    "    if type_ == 'mul':\n",
    "        problem_str = mul_problem_gen(index, mul, mul)\n",
    "    elif type_ == 'div':\n",
    "        problem_str = div_problem_gen(index, product, mul)\n",
    "    return problem_str"
   ]
  },
  {
   "cell_type": "code",
   "execution_count": null,
   "metadata": {},
   "outputs": [],
   "source": [
    "def problem_gen_mix(algo_type_: str, index: int, problem_type:str):\n",
    "    if problem_type == 'md_rnd':\n",
    "        print_str = problem_gen(algo_type_, index)\n",
    "    elif problem_type == 'five':\n",
    "        print_str = problem_gen_five(algo_type_, index)\n",
    "    elif problem_type == 'squre':\n",
    "        print_str = problem_gen_squre(algo_type_, index)\n",
    "    elif problem_type == 'mix':\n",
    "        single_problem_type = PROB_TYPE[random.randint(1, len(PROB_TYPE))-1]\n",
    "        print_str = problem_gen_mix(algo_type_, index, single_problem_type)\n",
    "    return print_str\n"
   ]
  },
  {
   "cell_type": "code",
   "execution_count": null,
   "metadata": {},
   "outputs": [],
   "source": [
    "def biased_random(threshold):\n",
    "    '''随机选择是乘法或是除法, 基于阈值决定多少 50随机，0-49 乘法多一些，51-99 除法多一些。'''\n",
    "    # 将阈值范围0-99映射到0.0-1.0的概率范围\n",
    "    probability_of_one = (threshold / 100.0)\n",
    "    # 生成一个0到1之间的随机数\n",
    "    random_number = random.random()\n",
    "    # 如果随机数小于等于阈值对应的1的概率，则输出1，否则输出0\n",
    "    if random_number <= probability_of_one:\n",
    "        return 1\n",
    "    else:\n",
    "        return 0"
   ]
  },
  {
   "cell_type": "code",
   "execution_count": null,
   "metadata": {},
   "outputs": [],
   "source": [
    "def print_problem_single(round_:int, special_type:str='md_rnd', threshold = 50):\n",
    "    all_out = ''\n",
    "    for i in range (round_):\n",
    "        # 随机选择是乘法或是除法\n",
    "        # algo_type_ = TYPE_DICT[random.randint(0, len(TYPE_DICT)-1)]\n",
    "        algo_type_ = TYPE_DICT[biased_random(threshold)]\n",
    "        if special_type == 'md_rnd':\n",
    "            print_str = problem_gen(algo_type_, i+1)\n",
    "        elif special_type == 'five':\n",
    "            print_str = problem_gen_five(algo_type_, i+1)\n",
    "        elif special_type == 'squre':\n",
    "            print_str = problem_gen_squre(algo_type_, i+1)\n",
    "        elif special_type == 'mix':\n",
    "            print_str = problem_gen_mix(algo_type_, i+1, special_type)\n",
    "\n",
    "        out = f\"{print_str:<50}\\n\"\n",
    "        \n",
    "        print(out)\n",
    "\n",
    "        all_out += out\n",
    "\n",
    "    return all_out   \n"
   ]
  },
  {
   "cell_type": "code",
   "execution_count": null,
   "metadata": {},
   "outputs": [],
   "source": [
    "def gen_problem_per_day(nums:int, special_type:str='md_rnd', bias:int=50):\n",
    "    out=''\n",
    "    out+=f\"日期_____， 正确数目_____, 错误数目_____, 得分______, 类型:{special_type}\\n\"\n",
    "    out+=print_problem_single(nums, special_type, bias)\n",
    "    out+=\"\\n\"*2\n",
    "    return out"
   ]
  },
  {
   "cell_type": "code",
   "execution_count": null,
   "metadata": {},
   "outputs": [],
   "source": [
    "from reportlab.lib.pagesizes import letter\n",
    "from reportlab.platypus import SimpleDocTemplate, Paragraph, Spacer, PageBreak\n",
    "from reportlab.lib.styles import getSampleStyleSheet, ParagraphStyle\n",
    "from reportlab.pdfbase import pdfmetrics\n",
    "from reportlab.pdfbase.ttfonts import TTFont\n",
    "\n",
    "pdf_name = \"multi_page_problem.pdf\"\n",
    "\n",
    "# have to use SimSun, otherwise can not generate pdf correctly\n",
    "font_name = 'SimSun'\n",
    "font_path = './SimSun.ttf'\n",
    "\n",
    "def print_problem_pdf(days, nums):\n",
    "    pdfmetrics.registerFont(TTFont(font_name, font_path))  #注册字体\n",
    "    styles = getSampleStyleSheet()\n",
    "    styles.add(ParagraphStyle(fontName=font_name, name='Sun', leading=15, fontSize=13))  #leading=spacing\n",
    "      \n",
    "    doc = SimpleDocTemplate(pdf_name, pagesize=letter)\n",
    "    \n",
    "    styles.add(ParagraphStyle(name='Address', fontName='Arial'))\n",
    "    flowables = []\n",
    "\n",
    "    for d in range(days):\n",
    "        # 将换行符替换为LineBreak对象\n",
    "        problem_text = gen_problem_per_day(nums, 'five', 70)\n",
    "        lines = problem_text.split('\\n')\n",
    "        for line in lines:\n",
    "            flowables.append(Paragraph(line, styles['Song']))\n",
    "\n",
    "        # 添加额外的间距\n",
    "        flowables.append(Spacer(1, 12))\n",
    "\n",
    "        if d < days - 1:  # 除了最后一页外，其他每页末尾添加分页符\n",
    "            flowables.append(PageBreak())\n",
    "\n",
    "    doc.build(flowables)\n",
    "\n",
    "# 使用函数生成多页PDF\n",
    "days = 4  # \n",
    "nums = 40  # \n",
    "print_problem_pdf(days, nums)"
   ]
  },
  {
   "cell_type": "code",
   "execution_count": null,
   "metadata": {},
   "outputs": [],
   "source": []
  },
  {
   "cell_type": "code",
   "execution_count": null,
   "metadata": {},
   "outputs": [],
   "source": []
  }
 ],
 "metadata": {
  "kernelspec": {
   "display_name": "Python 3 (ipykernel)",
   "language": "python",
   "name": "python3"
  },
  "language_info": {
   "codemirror_mode": {
    "name": "ipython",
    "version": 3
   },
   "file_extension": ".py",
   "mimetype": "text/x-python",
   "name": "python",
   "nbconvert_exporter": "python",
   "pygments_lexer": "ipython3",
   "version": "3.9.20"
  }
 },
 "nbformat": 4,
 "nbformat_minor": 4
}
