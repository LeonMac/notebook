{
 "cells": [
  {
   "cell_type": "code",
   "execution_count": null,
   "metadata": {},
   "outputs": [],
   "source": [
    "import random\n",
    "\n",
    "NUM = 100 # 每次生成100道题\n",
    "TYPE_DICT = ['mul', 'div']\n",
    "\n",
    "MUL1_MIN = 10\n",
    "MUL1_MAX = 300\n",
    "MUL2_MIN = 2\n",
    "MUL2_MAX = 9\n",
    "\n",
    "DIV1_MIN = 20\n",
    "DIV1_MAX = 500\n",
    "DIV2_MIN = 2\n",
    "DIV2_MAX = 9"
   ]
  },
  {
   "cell_type": "code",
   "execution_count": null,
   "metadata": {},
   "outputs": [],
   "source": [
    "type_rnd = random.randint(0, len(TYPE_DICT))\n",
    "mul1 = random.randint(MUL1_MIN, MUL1_MAX)\n",
    "mul2 = random.randint(MUL2_MIN, MUL2_MAX)\n",
    "\n",
    "mul_res = mul1 * mul2\n",
    "\n",
    "div1 = random.randint(DIV1_MIN, DIV1_MAX)\n",
    "div2 = random.randint(DIV2_MIN, DIV2_MAX)\n",
    "\n",
    "div_res = div1//div2\n",
    "\n",
    "div_rem = div1 % div2\n",
    "\n",
    "print(TYPE_DICT[type_rnd])\n",
    "print(f\"mul1 = {mul1}, mul2 = {mul2} mul_res = {mul_res}\")\n",
    "print(f\"div1 = {div1}, div2 = {div2} div_res = {div_res} div_rem ={div_rem}\")\n"
   ]
  },
  {
   "cell_type": "code",
   "execution_count": null,
   "metadata": {},
   "outputs": [],
   "source": [
    "def mul_problem_gen (index:int, mul1:int, mul2:int, debug: bool = False):\n",
    "    mul_res = mul1 * mul2\n",
    "    format_str = f\"{index:<4} | {mul1:<4} x {mul2:>4} = {'\\0' * 4} |{'\\0' *4} 答案：{mul_res}\"\n",
    "    if debug: print(format_str)\n",
    "    return format_str\n",
    "    "
   ]
  },
  {
   "cell_type": "code",
   "execution_count": null,
   "metadata": {},
   "outputs": [],
   "source": [
    "mul_problem_gen(1,18,3, True)\n",
    "mul_problem_gen(122,55,5, True)"
   ]
  },
  {
   "cell_type": "code",
   "execution_count": null,
   "metadata": {},
   "outputs": [],
   "source": [
    "def div_problem_gen (index:int, div1:int, div2:int,  debug: bool = False):\n",
    "\n",
    "    div_res = div1//div2\n",
    "\n",
    "    div_rem = div1 % div2\n",
    "    \n",
    "    ans_str = f\"{div_res}\" if div_rem == 0 else f\"{div_res}...{div_rem}\" \n",
    "    \n",
    "    format_str = f\"{index:<4} | {div1:<4} \\u00F7 {div2:>4} = {'\\0' * 4} |{'\\0' * 4} 答案：{ans_str}\"\n",
    "    if debug: print(format_str)\n",
    "    return format_str"
   ]
  },
  {
   "cell_type": "code",
   "execution_count": null,
   "metadata": {},
   "outputs": [],
   "source": [
    "div_problem_gen(1,18,3, True)\n",
    "div_problem_gen(12,55,15, True)"
   ]
  },
  {
   "cell_type": "code",
   "execution_count": null,
   "metadata": {},
   "outputs": [],
   "source": [
    "def problem_gen (type_: str, index: int):\n",
    "    problem_str = None\n",
    "    if type_ == 'mul':\n",
    "        mul1 = random.randint(MUL1_MIN, MUL1_MAX)\n",
    "        mul2 = random.randint(MUL2_MIN, MUL2_MAX)\n",
    "        problem_str = mul_problem_gen(index, mul1, mul2)\n",
    "    elif type_ == 'div':\n",
    "        div1 = random.randint(DIV1_MIN, DIV1_MAX)\n",
    "        div2 = random.randint(DIV2_MIN, DIV2_MAX)\n",
    "        problem_str = div_problem_gen(index, div1, div2)\n",
    "    return problem_str\n",
    "        "
   ]
  },
  {
   "cell_type": "code",
   "execution_count": null,
   "metadata": {},
   "outputs": [],
   "source": [
    "def print_problem_single(round_:int):\n",
    "    all_out = ''\n",
    "    for i in range (round_):\n",
    "#         row = 0\n",
    "        type_ = TYPE_DICT[random.randint(0, len(TYPE_DICT)-1)]\n",
    "        \n",
    "        print_str = problem_gen(type_, i+1)\n",
    "\n",
    "        out = f\"{print_str:<50}\\n\"\n",
    "        \n",
    "        print(out)\n",
    "\n",
    "        all_out += out\n",
    "\n",
    "    return all_out   \n"
   ]
  },
  {
   "cell_type": "code",
   "execution_count": null,
   "metadata": {},
   "outputs": [],
   "source": [
    "def print_problem_double(round_:int):\n",
    "    for i in range (round_):\n",
    "        row = 0\n",
    "        \n",
    "        type_ = TYPE_DICT[random.randint(0, len(TYPE_DICT)-1)]\n",
    "        \n",
    "        print_str = problem_gen(type_, i+1)\n",
    "        \n",
    "        print(f\"{print_str:<50}\", end='|  ')\n",
    "        if i % 2 == 1: #每行两个题目\n",
    "            row += 1\n",
    "\n",
    "            print(\"\\n\")  # 每两个题目换行\n",
    "            print(\"\\n\")  # 每两个题目加一空行\n",
    "            \n",
    "        i += 1"
   ]
  },
  {
   "cell_type": "code",
   "execution_count": null,
   "metadata": {},
   "outputs": [],
   "source": [
    "#print_problem_double(NUM)"
   ]
  },
  {
   "cell_type": "code",
   "execution_count": null,
   "metadata": {},
   "outputs": [],
   "source": [
    "def print_problem_daily(days:int, nums:int):\n",
    "    for d in range(days):\n",
    "        print(\"日期_______， 正确数目_______, 错误数目_______, 得分_______\")\n",
    "        print_problem_single(nums)\n",
    "        print(\"\\n\"*2)"
   ]
  },
  {
   "cell_type": "code",
   "execution_count": null,
   "metadata": {
    "scrolled": true
   },
   "outputs": [],
   "source": [
    "#print_problem_daily(10, 35)"
   ]
  },
  {
   "cell_type": "code",
   "execution_count": null,
   "metadata": {},
   "outputs": [],
   "source": [
    "def gen_problem_per_day(nums:int):\n",
    "    out=''\n",
    "    out+=\"日期_______， 正确数目_______, 错误数目_______, 得分_______\\n\"\n",
    "    out+=print_problem_single(nums)\n",
    "    out+=\"\\n\"*2\n",
    "    return out"
   ]
  },
  {
   "cell_type": "code",
   "execution_count": null,
   "metadata": {},
   "outputs": [],
   "source": [
    "from reportlab.lib.pagesizes import letter\n",
    "from reportlab.platypus import SimpleDocTemplate, Paragraph, Spacer, PageBreak\n",
    "from reportlab.lib.styles import getSampleStyleSheet, ParagraphStyle\n",
    "from reportlab.pdfbase import pdfmetrics\n",
    "from reportlab.pdfbase.ttfonts import TTFont\n",
    "\n",
    "# pdfmetrics.registerFont(TTFont('SimSun', './SimSun.ttf'))\n",
    "# pdfmetrics.registerFont(TTFont('AR PL UMing CN', 'uming.ttc'))\n",
    "# styles = getSampleStyleSheet()\n",
    "\n",
    "pdf_name = \"multi_page_problem.pdf\"\n",
    "\n",
    "def print_problem_pdf(days, nums):\n",
    "    pdfmetrics.registerFont(TTFont('SimSun', './SimSun.ttf'))  #注册字体\n",
    "    styles = getSampleStyleSheet()\n",
    "    styles.add(ParagraphStyle(fontName='SimSun', name='Song', leading=15, fontSize=13))  #leading=spacing\n",
    "      \n",
    "    doc = SimpleDocTemplate(pdf_name, pagesize=letter)\n",
    "    \n",
    "    # styles.add(ParagraphStyle(name='Chinese', fontName='AR PL UMing CN',    fontSize=20))\n",
    "    styles.add(ParagraphStyle(name='Address', fontName='Arial'))\n",
    "    flowables = []\n",
    "\n",
    "    for d in range(days):\n",
    "        # 将换行符替换为LineBreak对象\n",
    "        problem_text = gen_problem_per_day(nums)\n",
    "        lines = problem_text.split('\\n')\n",
    "        for line in lines:\n",
    "            flowables.append(Paragraph(line, styles['Song']))\n",
    "\n",
    "        # 添加额外的间距\n",
    "        flowables.append(Spacer(1, 12))\n",
    "\n",
    "        if d < days - 1:  # 除了最后一页外，其他每页末尾添加分页符\n",
    "            flowables.append(PageBreak())\n",
    "\n",
    "    doc.build(flowables)\n",
    "\n",
    "# 使用函数生成多页PDF\n",
    "days = 10  # \n",
    "nums = 40  # \n",
    "print_problem_pdf(days, nums)"
   ]
  },
  {
   "cell_type": "code",
   "execution_count": null,
   "metadata": {},
   "outputs": [],
   "source": []
  }
 ],
 "metadata": {
  "kernelspec": {
   "display_name": "Python 3 (ipykernel)",
   "language": "python",
   "name": "python3"
  },
  "language_info": {
   "codemirror_mode": {
    "name": "ipython",
    "version": 3
   },
   "file_extension": ".py",
   "mimetype": "text/x-python",
   "name": "python",
   "nbconvert_exporter": "python",
   "pygments_lexer": "ipython3",
   "version": "3.9.16"
  }
 },
 "nbformat": 4,
 "nbformat_minor": 4
}
