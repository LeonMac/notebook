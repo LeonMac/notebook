{
 "cells": [
  {
   "cell_type": "code",
   "execution_count": 15,
   "metadata": {},
   "outputs": [],
   "source": [
    "import random\n",
    "\n",
    "OPERATION = ['+', '-', '*', '/',]\n",
    "\n",
    "priority = ['', 'bracelet']\n"
   ]
  },
  {
   "cell_type": "code",
   "execution_count": 7,
   "metadata": {},
   "outputs": [
    {
     "data": {
      "text/plain": [
       "'-'"
      ]
     },
     "execution_count": 7,
     "metadata": {},
     "output_type": "execute_result"
    }
   ],
   "source": [
    "opt_rnd = random.randint(0, len(OPERATION)-1)\n",
    "OPERATION[opt_rnd]"
   ]
  },
  {
   "cell_type": "code",
   "execution_count": 24,
   "metadata": {},
   "outputs": [],
   "source": [
    "def gen_express(num1, num2, op, use_parentheses):\n",
    "\n",
    "        return f\"({num1} {op} {num2})\" if use_parentheses else f\"{num1} {op} {num2}\"\n",
    "    "
   ]
  },
  {
   "cell_type": "code",
   "execution_count": 31,
   "metadata": {},
   "outputs": [
    {
     "name": "stdout",
     "output_type": "stream",
     "text": [
      "Generated Expression: (35 * 34)\n",
      "Result: 1190\n"
     ]
    }
   ],
   "source": [
    "def generate_expression(neg_ctrl=False, float_ctrl=False):\n",
    "    op = random.choice(OPERATION)\n",
    "    num1 = random.randint(9, 50)\n",
    "    num2 = random.randint(9, 50)\n",
    "    use_parentheses = random.choice([True, False])\n",
    "    \n",
    "    # 根据neg_ctrl和float_ctrl决定是否需要重新生成表达式\n",
    "    while (neg_ctrl and (num1 < 0 or num2 < 0 or op == '-')) or \\\n",
    "          (float_ctrl and op == '/' and num2 != 1):\n",
    "        num1 = random.randint(1, 10)\n",
    "        num2 = random.randint(1, 10)\n",
    "        op = random.choice(OPERATION)\n",
    "    \n",
    "    # 随机决定是否使用括号\n",
    "    expression = gen_express(num1, num2, op, use_parentheses)\n",
    "    # use_parentheses = random.choice([True, False])\n",
    "    # if use_parentheses:\n",
    "    #     expression = f\"({num1} {op} {num2})\"\n",
    "    # else:\n",
    "    #     expression = f\"{num1} {op} {num2}\"\n",
    "    \n",
    "    return expression\n",
    "\n",
    "def calculate_expression(expression):\n",
    "    try:\n",
    "        # 使用eval计算表达式\n",
    "        result = eval(expression)\n",
    "        return result\n",
    "    except Exception as e:\n",
    "        return f\"Error calculating expression: {e}\"\n",
    "\n",
    "# 测试函数\n",
    "expression = generate_expression(neg_ctrl=True, float_ctrl=True)\n",
    "print(f\"Generated Expression: {expression}\")\n",
    "print(f\"Result: {calculate_expression(expression)}\")"
   ]
  },
  {
   "cell_type": "code",
   "execution_count": 33,
   "metadata": {},
   "outputs": [
    {
     "name": "stdout",
     "output_type": "stream",
     "text": [
      "Combined Expression: 18 + 31 + (10 * 22)\n",
      "Result: 269\n"
     ]
    }
   ],
   "source": [
    "expression1 = generate_expression(neg_ctrl=True, float_ctrl=True)\n",
    "expression2 = generate_expression(neg_ctrl=True, float_ctrl=True)\n",
    "\n",
    "combine_express = expression1 + ' + ' + expression2\n",
    "print(f\"Combined Expression: {combine_express}\")\n",
    "print(f\"Result: {calculate_expression(combine_express)}\")"
   ]
  },
  {
   "cell_type": "code",
   "execution_count": 6,
   "metadata": {},
   "outputs": [
    {
     "ename": "NameError",
     "evalue": "name 'TYPE_DICT' is not defined",
     "output_type": "error",
     "traceback": [
      "\u001b[0;31m---------------------------------------------------------------------------\u001b[0m",
      "\u001b[0;31mNameError\u001b[0m                                 Traceback (most recent call last)",
      "Cell \u001b[0;32mIn[6], line 1\u001b[0m\n\u001b[0;32m----> 1\u001b[0m type_rnd \u001b[38;5;241m=\u001b[39m random\u001b[38;5;241m.\u001b[39mrandint(\u001b[38;5;241m0\u001b[39m, \u001b[38;5;28mlen\u001b[39m(\u001b[43mTYPE_DICT\u001b[49m)\u001b[38;5;241m-\u001b[39m\u001b[38;5;241m1\u001b[39m)\n\u001b[1;32m      2\u001b[0m mul1 \u001b[38;5;241m=\u001b[39m random\u001b[38;5;241m.\u001b[39mrandint(MUL1_MIN, MUL1_MAX)\n\u001b[1;32m      3\u001b[0m mul2 \u001b[38;5;241m=\u001b[39m random\u001b[38;5;241m.\u001b[39mrandint(MUL2_MIN, MUL2_MAX)\n",
      "\u001b[0;31mNameError\u001b[0m: name 'TYPE_DICT' is not defined"
     ]
    }
   ],
   "source": [
    "type_rnd = random.randint(0, len(TYPE_DICT)-1)\n",
    "mul1 = random.randint(MUL1_MIN, MUL1_MAX)\n",
    "mul2 = random.randint(MUL2_MIN, MUL2_MAX)\n",
    "\n",
    "mul_res = mul1 * mul2\n",
    "\n",
    "div1 = random.randint(DIV1_MIN, DIV1_MAX)\n",
    "div2 = random.randint(DIV2_MIN, DIV2_MAX)\n",
    "\n",
    "div_res = div1//div2\n",
    "\n",
    "div_rem = div1 % div2\n",
    "\n",
    "print(f\"mul1 = {mul1}, mul2 = {mul2} mul_res = {mul_res}\")\n",
    "print(f\"div1 = {div1}, div2 = {div2} div_res = {div_res} div_rem ={div_rem}\")\n"
   ]
  },
  {
   "cell_type": "code",
   "execution_count": null,
   "metadata": {},
   "outputs": [],
   "source": [
    "def mul_problem_gen (index:int, mul1:int, mul2:int, debug: bool = False):\n",
    "    mul_res = mul1 * mul2\n",
    "    format_str = f\"{index:<4} | {mul1:<4} x {mul2:>4} = {NULL_4} | {NULL_4} 答案：{mul_res}\"\n",
    "    if debug: print(format_str)\n",
    "    return format_str\n",
    "    "
   ]
  },
  {
   "cell_type": "code",
   "execution_count": null,
   "metadata": {},
   "outputs": [],
   "source": [
    "mul_problem_gen(1,18,3, True)\n",
    "mul_problem_gen(122,55,5, True)"
   ]
  },
  {
   "cell_type": "code",
   "execution_count": null,
   "metadata": {},
   "outputs": [],
   "source": [
    "def div_problem_gen (index:int, div1:int, div2:int,  debug: bool = False):\n",
    "\n",
    "    div_res = div1//div2\n",
    "\n",
    "    div_rem = div1 % div2\n",
    "    \n",
    "    ans_str = f\"{div_res}\" if div_rem == 0 else f\"{div_res}...{div_rem}\" \n",
    "    \n",
    "    format_str = f\"{index:<4} | {div1:<4} \\u00F7 {div2:>4} = {NULL_4} | {NULL_4} 答案：{ans_str}\"\n",
    "    if debug: print(format_str)\n",
    "    return format_str"
   ]
  },
  {
   "cell_type": "code",
   "execution_count": null,
   "metadata": {},
   "outputs": [],
   "source": [
    "div_problem_gen(1,18,3, True)\n",
    "div_problem_gen(12,55,15, True)"
   ]
  },
  {
   "cell_type": "code",
   "execution_count": null,
   "metadata": {},
   "outputs": [],
   "source": [
    "def problem_gen (type_: str, index: int):\n",
    "    problem_str = None\n",
    "    if type_ == 'mul':\n",
    "        mul1 = random.randint(MUL1_MIN, MUL1_MAX)\n",
    "        mul2 = random.randint(MUL2_MIN, MUL2_MAX)\n",
    "        problem_str = mul_problem_gen(index, mul1, mul2)\n",
    "    elif type_ == 'div':\n",
    "        div1 = random.randint(DIV1_MIN, DIV1_MAX)\n",
    "        div2 = random.randint(DIV2_MIN, DIV2_MAX)\n",
    "        problem_str = div_problem_gen(index, div1, div2)\n",
    "    return problem_str\n",
    "        "
   ]
  },
  {
   "cell_type": "code",
   "execution_count": null,
   "metadata": {},
   "outputs": [],
   "source": [
    "def problem_gen_five (type_: str, index: int):\n",
    "    problem_str = None\n",
    "    if type_ == 'mul':\n",
    "        mul1 = random.randint(2, 19)*50\n",
    "        mul2 = random.randint(2, 9)*20\n",
    "        problem_str = mul_problem_gen(index, mul1, mul2)\n",
    "    elif type_ == 'div':\n",
    "        mul1 = random.randint(1, 19)\n",
    "        mul2 = random.randint(1, 9)*10\n",
    "        remain = random.randint(0, mul2)\n",
    "        five_scale = random.randint(1, 9)*5\n",
    "        product = (mul1 * mul2 + remain)*five_scale\n",
    "        problem_str = div_problem_gen(index, product, mul2)\n",
    "    return problem_str"
   ]
  },
  {
   "cell_type": "code",
   "execution_count": null,
   "metadata": {},
   "outputs": [],
   "source": [
    "def problem_gen_squre (type_: str, index: int):\n",
    "    problem_str = None\n",
    "    mul = random.randint(9, 20)\n",
    "    product = mul * mul\n",
    "    if type_ == 'mul':\n",
    "        problem_str = mul_problem_gen(index, mul, mul)\n",
    "    elif type_ == 'div':\n",
    "        problem_str = div_problem_gen(index, product, mul)\n",
    "    return problem_str"
   ]
  },
  {
   "cell_type": "code",
   "execution_count": null,
   "metadata": {},
   "outputs": [],
   "source": [
    "def problem_gen_mix(algo_type_: str, index: int, problem_type:str):\n",
    "    if problem_type == 'md_rnd':\n",
    "        print_str = problem_gen(algo_type_, index)\n",
    "    elif problem_type == 'five':\n",
    "        print_str = problem_gen_five(algo_type_, index)\n",
    "    elif problem_type == 'squre':\n",
    "        print_str = problem_gen_squre(algo_type_, index)\n",
    "    elif problem_type == 'mix':\n",
    "        single_problem_type = PROB_TYPE[random.randint(1, len(PROB_TYPE))-1]\n",
    "        print_str = problem_gen_mix(algo_type_, index, single_problem_type)\n",
    "    return print_str\n"
   ]
  },
  {
   "cell_type": "code",
   "execution_count": null,
   "metadata": {},
   "outputs": [],
   "source": [
    "def biased_random(threshold):\n",
    "    '''随机选择是乘法或是除法, 基于阈值决定多少 50随机，0-49 乘法多一些，51-99 除法多一些。'''\n",
    "    # 将阈值范围0-99映射到0.0-1.0的概率范围\n",
    "    probability_of_one = (threshold / 100.0)\n",
    "    # 生成一个0到1之间的随机数\n",
    "    random_number = random.random()\n",
    "    # 如果随机数小于等于阈值对应的1的概率，则输出1，否则输出0\n",
    "    if random_number <= probability_of_one:\n",
    "        return 1\n",
    "    else:\n",
    "        return 0"
   ]
  },
  {
   "cell_type": "code",
   "execution_count": null,
   "metadata": {},
   "outputs": [],
   "source": [
    "def print_problem_single(round_:int, special_type:str='md_rnd', threshold = 50):\n",
    "    all_out = ''\n",
    "    for i in range (round_):\n",
    "        # 随机选择是乘法或是除法\n",
    "        # algo_type_ = TYPE_DICT[random.randint(0, len(TYPE_DICT)-1)]\n",
    "        algo_type_ = TYPE_DICT[biased_random(threshold)]\n",
    "        if special_type == 'md_rnd':\n",
    "            print_str = problem_gen(algo_type_, i+1)\n",
    "        elif special_type == 'five':\n",
    "            print_str = problem_gen_five(algo_type_, i+1)\n",
    "        elif special_type == 'squre':\n",
    "            print_str = problem_gen_squre(algo_type_, i+1)\n",
    "        elif special_type == 'mix':\n",
    "            print_str = problem_gen_mix(algo_type_, i+1, special_type)\n",
    "\n",
    "        out = f\"{print_str:<50}\\n\"\n",
    "        \n",
    "        print(out)\n",
    "\n",
    "        all_out += out\n",
    "\n",
    "    return all_out   \n"
   ]
  },
  {
   "cell_type": "code",
   "execution_count": null,
   "metadata": {},
   "outputs": [],
   "source": [
    "def gen_problem_per_day(nums:int, special_type:str='md_rnd', bias:int=50):\n",
    "    out=''\n",
    "    out+=f\"日期_____， 正确数目_____, 错误数目_____, 得分______, 类型:{special_type}\\n\"\n",
    "    out+=print_problem_single(nums, special_type, bias)\n",
    "    out+=\"\\n\"*2\n",
    "    return out"
   ]
  },
  {
   "cell_type": "code",
   "execution_count": null,
   "metadata": {},
   "outputs": [],
   "source": [
    "from reportlab.lib.pagesizes import letter\n",
    "from reportlab.platypus import SimpleDocTemplate, Paragraph, Spacer, PageBreak\n",
    "from reportlab.lib.styles import getSampleStyleSheet, ParagraphStyle\n",
    "from reportlab.pdfbase import pdfmetrics\n",
    "from reportlab.pdfbase.ttfonts import TTFont\n",
    "\n",
    "pdf_name = \"multi_page_problem.pdf\"\n",
    "\n",
    "# have to use SimSun, otherwise can not generate pdf correctly\n",
    "font_name = 'SimSun'\n",
    "font_path = './SimSun.ttf'\n",
    "\n",
    "def print_problem_pdf(days, nums):\n",
    "    pdfmetrics.registerFont(TTFont(font_name, font_path))  #注册字体\n",
    "    styles = getSampleStyleSheet()\n",
    "    styles.add(ParagraphStyle(fontName=font_name, name='Sun', leading=15, fontSize=13))  #leading=spacing\n",
    "      \n",
    "    doc = SimpleDocTemplate(pdf_name, pagesize=letter)\n",
    "    \n",
    "    styles.add(ParagraphStyle(name='Address', fontName='Arial'))\n",
    "    flowables = []\n",
    "\n",
    "    for d in range(days):\n",
    "        # 将换行符替换为LineBreak对象\n",
    "        problem_text = gen_problem_per_day(nums, 'five', 70)\n",
    "        lines = problem_text.split('\\n')\n",
    "        for line in lines:\n",
    "            flowables.append(Paragraph(line, styles['Song']))\n",
    "\n",
    "        # 添加额外的间距\n",
    "        flowables.append(Spacer(1, 12))\n",
    "\n",
    "        if d < days - 1:  # 除了最后一页外，其他每页末尾添加分页符\n",
    "            flowables.append(PageBreak())\n",
    "\n",
    "    doc.build(flowables)\n",
    "\n",
    "# 使用函数生成多页PDF\n",
    "days = 4  # \n",
    "nums = 40  # \n",
    "print_problem_pdf(days, nums)"
   ]
  },
  {
   "cell_type": "code",
   "execution_count": null,
   "metadata": {},
   "outputs": [],
   "source": []
  },
  {
   "cell_type": "code",
   "execution_count": null,
   "metadata": {},
   "outputs": [],
   "source": []
  }
 ],
 "metadata": {
  "kernelspec": {
   "display_name": "Python 3 (ipykernel)",
   "language": "python",
   "name": "python3"
  },
  "language_info": {
   "codemirror_mode": {
    "name": "ipython",
    "version": 3
   },
   "file_extension": ".py",
   "mimetype": "text/x-python",
   "name": "python",
   "nbconvert_exporter": "python",
   "pygments_lexer": "ipython3",
   "version": "3.9.20"
  }
 },
 "nbformat": 4,
 "nbformat_minor": 4
}
