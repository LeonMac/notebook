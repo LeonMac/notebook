{
 "cells": [
  {
   "cell_type": "markdown",
   "metadata": {},
   "source": [
    "# 巧算题目的构造思路--单级运算 （加减法 only）\n",
    "1. 只考虑整数（允许负数）\n",
    "2. 从整数结果出发，随机选择op，基于op的逆向来随机生成操作数。res = num1 op num2. 例如，随机生成res=200，随机选择 op + 或者 -，随机生成另外一个数num1，然后根据+或者-，计算num2\n",
    "3. \n",
    "4.\n",
    "5. 例如这道题： 123 + 78 - 23 + 122 = (122 +78) + (123-23) = 200 +100 = 300，思路\n",
    "   1). 先随机生成大整数 300, 随机选取得到200，\n",
    "\n"
   ]
  },
  {
   "cell_type": "code",
   "execution_count": null,
   "metadata": {},
   "outputs": [],
   "source": []
  },
  {
   "cell_type": "markdown",
   "metadata": {},
   "source": [
    "# 巧算的题目，多级运算构造思路 （加减法 only）\n",
    "从最终结果出发，按照级别"
   ]
  }
 ],
 "metadata": {
  "kernelspec": {
   "display_name": "Python 3 (ipykernel)",
   "language": "python",
   "name": "python3"
  },
  "language_info": {
   "codemirror_mode": {
    "name": "ipython",
    "version": 3
   },
   "file_extension": ".py",
   "mimetype": "text/x-python",
   "name": "python",
   "nbconvert_exporter": "python",
   "pygments_lexer": "ipython3",
   "version": "3.9.21"
  }
 },
 "nbformat": 4,
 "nbformat_minor": 4
}
